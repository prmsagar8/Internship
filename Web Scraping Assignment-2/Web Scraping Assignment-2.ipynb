{
 "cells": [
  {
   "cell_type": "code",
   "execution_count": 1,
   "metadata": {},
   "outputs": [
    {
     "name": "stdout",
     "output_type": "stream",
     "text": [
      "Collecting selenium\n",
      "  Downloading selenium-3.141.0-py2.py3-none-any.whl (904 kB)\n",
      "Requirement already satisfied: urllib3 in c:\\users\\dell\\anaconda3\\lib\\site-packages (from selenium) (1.25.11)\n",
      "Installing collected packages: selenium\n",
      "Successfully installed selenium-3.141.0\n"
     ]
    }
   ],
   "source": [
    "# Installing Selenium\n",
    "! pip install selenium"
   ]
  },
  {
   "cell_type": "code",
   "execution_count": 2,
   "metadata": {},
   "outputs": [],
   "source": [
    "#importing required libraries\n",
    "import selenium\n",
    "from selenium import webdriver\n",
    "import pandas as pd"
   ]
  },
  {
   "cell_type": "code",
   "execution_count": 103,
   "metadata": {},
   "outputs": [],
   "source": [
    "#Connecting to webdriver\n",
    "driver = webdriver.Chrome(r'C:\\Users\\Dell\\Downloads\\Web Scraping Assignment-2\\chromedriver.exe')"
   ]
  },
  {
   "cell_type": "code",
   "execution_count": null,
   "metadata": {},
   "outputs": [],
   "source": []
  },
  {
   "cell_type": "markdown",
   "metadata": {},
   "source": [
    "### Q1: Write a python program to scrape data for “Data Analyst” Job position in “Bangalore” location. You have to scrape the job-title, job-location, company_name, experience_required. You have to scrape first 10 jobs data.\n",
    "\n",
    "This task will be done in following steps:\n",
    "\n",
    "1. first get the webpage https://www.naukri.com/\n",
    "2. Enter “Data Analyst” in “Skill,Designations,Companies” field and enter “Bangalore” in “enter the location” field.\n",
    "3. Then click the search button.\n",
    "4. Then scrape the data for the first 10 jobs results you get.\n",
    "5. Finally create a dataframe of the scraped data.\n",
    "\n",
    "Note- All of the above steps have to be done in code. No step is to be done manually."
   ]
  },
  {
   "cell_type": "code",
   "execution_count": 4,
   "metadata": {},
   "outputs": [],
   "source": [
    "driver.get('https://www.naukri.com/')"
   ]
  },
  {
   "cell_type": "code",
   "execution_count": 5,
   "metadata": {},
   "outputs": [],
   "source": [
    "# finding elements job search, location\n",
    "\n",
    "#job search bar\n",
    "searchJob = driver.find_element_by_id('qsb-keyword-sugg')\n",
    "searchJob.send_keys('Data Analyst')"
   ]
  },
  {
   "cell_type": "code",
   "execution_count": 6,
   "metadata": {
    "scrolled": true
   },
   "outputs": [],
   "source": [
    "#job location field\n",
    "searchLoc = driver.find_element_by_xpath('//*[@id=\"qsb-location-sugg\"]')\n",
    "searchLoc.send_keys('Bangalore')"
   ]
  },
  {
   "cell_type": "code",
   "execution_count": 7,
   "metadata": {},
   "outputs": [],
   "source": [
    "#Search button field\n",
    "searchButton = driver.find_element_by_xpath('//*[@id=\"root\"]/div[3]/div[2]/section/div/form/div[3]/button')"
   ]
  },
  {
   "cell_type": "code",
   "execution_count": 8,
   "metadata": {},
   "outputs": [],
   "source": [
    "# search button click action using code\n",
    "searchButton.click()"
   ]
  },
  {
   "cell_type": "code",
   "execution_count": null,
   "metadata": {},
   "outputs": [],
   "source": []
  },
  {
   "cell_type": "code",
   "execution_count": 9,
   "metadata": {},
   "outputs": [],
   "source": [
    "# scraped web page url\n",
    "url = 'https://www.naukri.com/data-analyst-jobs-in-bangalore?k=data%20analyst&l=bangalore'"
   ]
  },
  {
   "cell_type": "code",
   "execution_count": 10,
   "metadata": {},
   "outputs": [],
   "source": [
    "# web page open with url\n",
    "driver.get(url)"
   ]
  },
  {
   "cell_type": "code",
   "execution_count": 11,
   "metadata": {},
   "outputs": [],
   "source": [
    "#creating an empty list of required scrating data\n",
    "job_title = []\n",
    "job_locations = []\n",
    "company_name = []\n",
    "experience_required = []"
   ]
  },
  {
   "cell_type": "code",
   "execution_count": 12,
   "metadata": {},
   "outputs": [
    {
     "data": {
      "text/plain": [
       "[<selenium.webdriver.remote.webelement.WebElement (session=\"ab7364aff12b3e4c74c400d176dabf65\", element=\"dfce887c-0edb-4416-ba37-3d65482e0d8a\")>,\n",
       " <selenium.webdriver.remote.webelement.WebElement (session=\"ab7364aff12b3e4c74c400d176dabf65\", element=\"2d810007-2872-4ea3-b1e9-0618b7d91ba8\")>,\n",
       " <selenium.webdriver.remote.webelement.WebElement (session=\"ab7364aff12b3e4c74c400d176dabf65\", element=\"0660ac6c-a53d-43ca-944c-c3f1990a5ebd\")>,\n",
       " <selenium.webdriver.remote.webelement.WebElement (session=\"ab7364aff12b3e4c74c400d176dabf65\", element=\"e488bb96-f827-4007-b445-5b20af5580f2\")>,\n",
       " <selenium.webdriver.remote.webelement.WebElement (session=\"ab7364aff12b3e4c74c400d176dabf65\", element=\"fa9bb00d-de5e-4604-a47e-7bff6ede48e8\")>,\n",
       " <selenium.webdriver.remote.webelement.WebElement (session=\"ab7364aff12b3e4c74c400d176dabf65\", element=\"96ae11ef-663a-4b1c-a9e1-9b97f1c87985\")>,\n",
       " <selenium.webdriver.remote.webelement.WebElement (session=\"ab7364aff12b3e4c74c400d176dabf65\", element=\"cc27ccb8-0d5c-47a3-b772-826536c82cfc\")>,\n",
       " <selenium.webdriver.remote.webelement.WebElement (session=\"ab7364aff12b3e4c74c400d176dabf65\", element=\"c8dfbb97-cb43-49cf-989c-467504da2a0b\")>,\n",
       " <selenium.webdriver.remote.webelement.WebElement (session=\"ab7364aff12b3e4c74c400d176dabf65\", element=\"cbf513fc-1166-476c-92ea-8b04dfa4b61a\")>,\n",
       " <selenium.webdriver.remote.webelement.WebElement (session=\"ab7364aff12b3e4c74c400d176dabf65\", element=\"5919794f-c4b6-4515-a993-ad1343777f05\")>,\n",
       " <selenium.webdriver.remote.webelement.WebElement (session=\"ab7364aff12b3e4c74c400d176dabf65\", element=\"b64236bb-f732-4d7b-a1f8-e1a4c04448c6\")>,\n",
       " <selenium.webdriver.remote.webelement.WebElement (session=\"ab7364aff12b3e4c74c400d176dabf65\", element=\"9b0b3b5a-c7cd-4f25-883a-4942e829b105\")>,\n",
       " <selenium.webdriver.remote.webelement.WebElement (session=\"ab7364aff12b3e4c74c400d176dabf65\", element=\"2fa815c0-fe07-44c1-a67c-e4d44f3d9fb1\")>,\n",
       " <selenium.webdriver.remote.webelement.WebElement (session=\"ab7364aff12b3e4c74c400d176dabf65\", element=\"b10b94ea-a390-4fb0-9301-3c42d9611241\")>,\n",
       " <selenium.webdriver.remote.webelement.WebElement (session=\"ab7364aff12b3e4c74c400d176dabf65\", element=\"ae12c81f-50e3-4b89-8400-68227a4b3da0\")>,\n",
       " <selenium.webdriver.remote.webelement.WebElement (session=\"ab7364aff12b3e4c74c400d176dabf65\", element=\"cb8ae70f-1496-4e53-9164-5241626ed656\")>,\n",
       " <selenium.webdriver.remote.webelement.WebElement (session=\"ab7364aff12b3e4c74c400d176dabf65\", element=\"99bc1d3a-5cc7-432f-a579-f4dbff7f43b1\")>,\n",
       " <selenium.webdriver.remote.webelement.WebElement (session=\"ab7364aff12b3e4c74c400d176dabf65\", element=\"45d2953b-98e7-43e4-9f78-d613fea11395\")>,\n",
       " <selenium.webdriver.remote.webelement.WebElement (session=\"ab7364aff12b3e4c74c400d176dabf65\", element=\"6449f2b2-b5f5-4d8a-8c5f-9f6d10796f2a\")>,\n",
       " <selenium.webdriver.remote.webelement.WebElement (session=\"ab7364aff12b3e4c74c400d176dabf65\", element=\"95d5a373-5f3d-459b-8389-824b2dfb1732\")>]"
      ]
     },
     "execution_count": 12,
     "metadata": {},
     "output_type": "execute_result"
    }
   ],
   "source": [
    "#finding all job titles\n",
    "title_tag = driver.find_elements_by_xpath (\"//a[@class='title fw500 ellipsis']\")\n",
    "title_tag"
   ]
  },
  {
   "cell_type": "code",
   "execution_count": 13,
   "metadata": {
    "scrolled": true
   },
   "outputs": [
    {
     "data": {
      "text/plain": [
       "['Data Analyst / Business Analyst (Demand Planning)',\n",
       " 'Data Analyst',\n",
       " 'Business Cum Data Analyst',\n",
       " 'Senior Data Analyst II',\n",
       " 'Senior Data Analyst',\n",
       " 'Openings For Data Analyst',\n",
       " 'Philips : Data Analyst',\n",
       " 'Consultant - Data Analyst',\n",
       " 'Data Analyst',\n",
       " 'Consultant - Data Analyst',\n",
       " 'Data Analyst',\n",
       " 'Senior Data Analyst',\n",
       " 'Data Analyst',\n",
       " 'Data Analyst | Nike',\n",
       " 'Data Analyst',\n",
       " 'Urgent Openings For Data Analysts.',\n",
       " 'Procurement Data Analyst',\n",
       " 'Business Data Analyst',\n",
       " 'Data Analyst - Python/SQL',\n",
       " 'IT Data Analyst']"
      ]
     },
     "execution_count": 13,
     "metadata": {},
     "output_type": "execute_result"
    }
   ],
   "source": [
    "# extracting the text from title_tag data using for loop\n",
    "for i in title_tag:\n",
    "    title=i.text\n",
    "    job_title.append(title)\n",
    "job_title"
   ]
  },
  {
   "cell_type": "code",
   "execution_count": 14,
   "metadata": {},
   "outputs": [],
   "source": [
    "# finding all job locations\n",
    "location_tag = driver.find_elements_by_xpath (\"//li[@class='fleft grey-text br2 placeHolderLi location']\")"
   ]
  },
  {
   "cell_type": "code",
   "execution_count": 15,
   "metadata": {},
   "outputs": [
    {
     "data": {
      "text/plain": [
       "[<selenium.webdriver.remote.webelement.WebElement (session=\"ab7364aff12b3e4c74c400d176dabf65\", element=\"ebdfc9a5-2779-4aa9-a0a9-0b86e7a9cc51\")>,\n",
       " <selenium.webdriver.remote.webelement.WebElement (session=\"ab7364aff12b3e4c74c400d176dabf65\", element=\"8eaae190-b9bd-421b-b4eb-c4418f958c99\")>,\n",
       " <selenium.webdriver.remote.webelement.WebElement (session=\"ab7364aff12b3e4c74c400d176dabf65\", element=\"d7d3bd5e-77bd-45e0-bf9d-5dc484519875\")>,\n",
       " <selenium.webdriver.remote.webelement.WebElement (session=\"ab7364aff12b3e4c74c400d176dabf65\", element=\"82343ffc-6d5c-4b66-add7-ef32f8416377\")>,\n",
       " <selenium.webdriver.remote.webelement.WebElement (session=\"ab7364aff12b3e4c74c400d176dabf65\", element=\"c276b6fb-37cf-46ff-abf5-82a68833de17\")>,\n",
       " <selenium.webdriver.remote.webelement.WebElement (session=\"ab7364aff12b3e4c74c400d176dabf65\", element=\"c4efda4b-dcb5-4883-8630-d013c7986951\")>,\n",
       " <selenium.webdriver.remote.webelement.WebElement (session=\"ab7364aff12b3e4c74c400d176dabf65\", element=\"1adaeb3f-50a5-4b88-a031-c5cbb70cc00a\")>,\n",
       " <selenium.webdriver.remote.webelement.WebElement (session=\"ab7364aff12b3e4c74c400d176dabf65\", element=\"59fdb2a9-8ef2-4141-8294-94bcd6161dbc\")>,\n",
       " <selenium.webdriver.remote.webelement.WebElement (session=\"ab7364aff12b3e4c74c400d176dabf65\", element=\"0cdeaafb-0e0a-4d07-b070-dd9f3823669a\")>,\n",
       " <selenium.webdriver.remote.webelement.WebElement (session=\"ab7364aff12b3e4c74c400d176dabf65\", element=\"7b1c1630-22c1-416a-94b6-af0c93f1df36\")>,\n",
       " <selenium.webdriver.remote.webelement.WebElement (session=\"ab7364aff12b3e4c74c400d176dabf65\", element=\"d0aaa3b5-849a-4940-a861-fb073bbd11c9\")>,\n",
       " <selenium.webdriver.remote.webelement.WebElement (session=\"ab7364aff12b3e4c74c400d176dabf65\", element=\"289500fd-a6de-4077-92b7-0dbd461b0b4c\")>,\n",
       " <selenium.webdriver.remote.webelement.WebElement (session=\"ab7364aff12b3e4c74c400d176dabf65\", element=\"67480bac-7593-4933-aee2-88f667b47193\")>,\n",
       " <selenium.webdriver.remote.webelement.WebElement (session=\"ab7364aff12b3e4c74c400d176dabf65\", element=\"dff90b1e-765a-4473-b2d6-bb051b52edc2\")>,\n",
       " <selenium.webdriver.remote.webelement.WebElement (session=\"ab7364aff12b3e4c74c400d176dabf65\", element=\"fed18357-bc39-4d70-a3c6-f84afb251122\")>,\n",
       " <selenium.webdriver.remote.webelement.WebElement (session=\"ab7364aff12b3e4c74c400d176dabf65\", element=\"62fb728b-2ddf-474e-afe6-283147e9c38c\")>,\n",
       " <selenium.webdriver.remote.webelement.WebElement (session=\"ab7364aff12b3e4c74c400d176dabf65\", element=\"3c2e2cd9-582f-4e7f-9ea3-12a8c2da4f6e\")>,\n",
       " <selenium.webdriver.remote.webelement.WebElement (session=\"ab7364aff12b3e4c74c400d176dabf65\", element=\"9efcea45-7c9e-4c94-9afe-67708d230387\")>,\n",
       " <selenium.webdriver.remote.webelement.WebElement (session=\"ab7364aff12b3e4c74c400d176dabf65\", element=\"7a516999-7db0-4c1c-88ac-2acdd9c1c5b5\")>,\n",
       " <selenium.webdriver.remote.webelement.WebElement (session=\"ab7364aff12b3e4c74c400d176dabf65\", element=\"ea50a754-0207-48a5-af61-49ffe9d7d207\")>]"
      ]
     },
     "execution_count": 15,
     "metadata": {},
     "output_type": "execute_result"
    }
   ],
   "source": [
    "location_tag"
   ]
  },
  {
   "cell_type": "code",
   "execution_count": 16,
   "metadata": {},
   "outputs": [
    {
     "data": {
      "text/plain": [
       "[['Bangalore/Bengaluru'],\n",
       " ['Bangalore/Bengaluru'],\n",
       " ['Bangalore/Bengaluru'],\n",
       " ['Bangalore/Bengaluru'],\n",
       " ['Bangalore/Bengaluru'],\n",
       " ['Bangalore/Bengaluru'],\n",
       " ['Bangalore/Bengaluru'],\n",
       " ['Bangalore/Bengaluru'],\n",
       " ['Bangalore/Bengaluru'],\n",
       " ['Bangalore/Bengaluru'],\n",
       " ['Bangalore/Bengaluru'],\n",
       " ['Bangalore/Bengaluru'],\n",
       " ['Bangalore/Bengaluru'],\n",
       " ['Bangalore/Bengaluru'],\n",
       " ['Bangalore/Bengaluru'],\n",
       " ['Bangalore/Bengaluru(Devarabeesana Halli) (WFH during Covid)'],\n",
       " ['Bangalore/Bengaluru(Koramangala)'],\n",
       " ['Gurgaon/Gurugram, Bangalore/Bengaluru'],\n",
       " ['Bangalore/Bengaluru'],\n",
       " ['Bangalore/Bengaluru (WFH during Covid)']]"
      ]
     },
     "execution_count": 16,
     "metadata": {},
     "output_type": "execute_result"
    }
   ],
   "source": [
    "# extracting the text from location_tag data using for loop\n",
    "for i in location_tag:\n",
    "    location=i.text.replace('\\n',' ').split('\\n')\n",
    "    job_locations.append(location)\n",
    "job_locations"
   ]
  },
  {
   "cell_type": "code",
   "execution_count": 17,
   "metadata": {},
   "outputs": [
    {
     "data": {
      "text/plain": [
       "[<selenium.webdriver.remote.webelement.WebElement (session=\"ab7364aff12b3e4c74c400d176dabf65\", element=\"0f605737-b829-4b59-8cbd-e137476560f8\")>,\n",
       " <selenium.webdriver.remote.webelement.WebElement (session=\"ab7364aff12b3e4c74c400d176dabf65\", element=\"a837fbad-758c-467a-b6c4-cbb26e37a819\")>,\n",
       " <selenium.webdriver.remote.webelement.WebElement (session=\"ab7364aff12b3e4c74c400d176dabf65\", element=\"f2b6e289-1d0e-42e9-aa4f-6beac0371666\")>,\n",
       " <selenium.webdriver.remote.webelement.WebElement (session=\"ab7364aff12b3e4c74c400d176dabf65\", element=\"e3fbfc13-0a28-416a-9150-3f8ecfa1623e\")>,\n",
       " <selenium.webdriver.remote.webelement.WebElement (session=\"ab7364aff12b3e4c74c400d176dabf65\", element=\"09f0b1cc-7644-4bda-b1e4-4217091302e6\")>,\n",
       " <selenium.webdriver.remote.webelement.WebElement (session=\"ab7364aff12b3e4c74c400d176dabf65\", element=\"2da38c5c-c2aa-44ed-b56e-430ce244fac7\")>,\n",
       " <selenium.webdriver.remote.webelement.WebElement (session=\"ab7364aff12b3e4c74c400d176dabf65\", element=\"627e9547-ba8f-4edd-83e0-5489a5c34aea\")>,\n",
       " <selenium.webdriver.remote.webelement.WebElement (session=\"ab7364aff12b3e4c74c400d176dabf65\", element=\"76afa986-4b20-4cbf-8ae2-521ba72afa8b\")>,\n",
       " <selenium.webdriver.remote.webelement.WebElement (session=\"ab7364aff12b3e4c74c400d176dabf65\", element=\"917bea8b-eb96-47a2-9362-426307eab4c2\")>,\n",
       " <selenium.webdriver.remote.webelement.WebElement (session=\"ab7364aff12b3e4c74c400d176dabf65\", element=\"013d3a8b-7a7e-4e83-8046-ce31b6b3fada\")>,\n",
       " <selenium.webdriver.remote.webelement.WebElement (session=\"ab7364aff12b3e4c74c400d176dabf65\", element=\"9aca7bdf-9408-4316-a4ac-fd4900da21e6\")>,\n",
       " <selenium.webdriver.remote.webelement.WebElement (session=\"ab7364aff12b3e4c74c400d176dabf65\", element=\"ba0511d0-32eb-47b6-b45e-8ed21fbaed9a\")>,\n",
       " <selenium.webdriver.remote.webelement.WebElement (session=\"ab7364aff12b3e4c74c400d176dabf65\", element=\"e9d099c4-e015-4b1f-b784-41e123838f07\")>,\n",
       " <selenium.webdriver.remote.webelement.WebElement (session=\"ab7364aff12b3e4c74c400d176dabf65\", element=\"6f87767e-1782-40bc-ab9d-b4a5048fda46\")>,\n",
       " <selenium.webdriver.remote.webelement.WebElement (session=\"ab7364aff12b3e4c74c400d176dabf65\", element=\"452e5b00-760d-40fc-b173-701db6804a0b\")>,\n",
       " <selenium.webdriver.remote.webelement.WebElement (session=\"ab7364aff12b3e4c74c400d176dabf65\", element=\"5c3ff12b-505a-4af4-b7c0-20889b90923e\")>,\n",
       " <selenium.webdriver.remote.webelement.WebElement (session=\"ab7364aff12b3e4c74c400d176dabf65\", element=\"1050f57d-fc32-4398-a76c-f773cfd206cb\")>,\n",
       " <selenium.webdriver.remote.webelement.WebElement (session=\"ab7364aff12b3e4c74c400d176dabf65\", element=\"484da262-cc10-4558-8bae-05ec2942fdec\")>,\n",
       " <selenium.webdriver.remote.webelement.WebElement (session=\"ab7364aff12b3e4c74c400d176dabf65\", element=\"7fec4aff-17a1-4d57-995f-e0ac03dab9fe\")>,\n",
       " <selenium.webdriver.remote.webelement.WebElement (session=\"ab7364aff12b3e4c74c400d176dabf65\", element=\"fe10018b-9c19-43a1-9149-d684be78b90e\")>]"
      ]
     },
     "execution_count": 17,
     "metadata": {},
     "output_type": "execute_result"
    }
   ],
   "source": [
    "# finding all company_names data\n",
    "company_name_tag = driver.find_elements_by_xpath (\"//a[@class='subTitle ellipsis fleft']\")\n",
    "company_name_tag"
   ]
  },
  {
   "cell_type": "code",
   "execution_count": 18,
   "metadata": {},
   "outputs": [
    {
     "data": {
      "text/plain": [
       "20"
      ]
     },
     "execution_count": 18,
     "metadata": {},
     "output_type": "execute_result"
    }
   ],
   "source": [
    "len(company_name_tag)"
   ]
  },
  {
   "cell_type": "code",
   "execution_count": 19,
   "metadata": {},
   "outputs": [
    {
     "data": {
      "text/plain": [
       "['Flipkart',\n",
       " 'Applied Materials',\n",
       " 'Virtusa Consulting Services Pvt Ltd',\n",
       " 'Flipkart',\n",
       " 'Flipkart',\n",
       " 'Allegis Services India Pvt. Ltd.',\n",
       " 'Philips India Limited',\n",
       " 'Flipkart',\n",
       " 'Flipkart',\n",
       " 'Flipkart',\n",
       " 'Flipkart',\n",
       " 'Kwalee ltd.',\n",
       " 'Talent Zone Consultant',\n",
       " 'TALENT500 TECH (INDIA) PRIVATE LIMITED',\n",
       " 'Kwalee ltd.',\n",
       " 'Flipkart Internet Private Limited',\n",
       " 'Sunstream Global Technologies LLP',\n",
       " 'GreatLearning',\n",
       " 'Affine',\n",
       " 'BDO RISE PRIVATE LIMITED']"
      ]
     },
     "execution_count": 19,
     "metadata": {},
     "output_type": "execute_result"
    }
   ],
   "source": [
    "# extracting the text from company_name_tag data using for loop\n",
    "for i in company_name_tag:\n",
    "    c_name = i.text\n",
    "    company_name.append(c_name)\n",
    "company_name"
   ]
  },
  {
   "cell_type": "code",
   "execution_count": 20,
   "metadata": {},
   "outputs": [
    {
     "data": {
      "text/plain": [
       "[<selenium.webdriver.remote.webelement.WebElement (session=\"ab7364aff12b3e4c74c400d176dabf65\", element=\"994603c3-d197-44ef-bd2b-2ea99c623d96\")>,\n",
       " <selenium.webdriver.remote.webelement.WebElement (session=\"ab7364aff12b3e4c74c400d176dabf65\", element=\"ece888d1-efb1-46a4-8c3a-d4dc03909393\")>,\n",
       " <selenium.webdriver.remote.webelement.WebElement (session=\"ab7364aff12b3e4c74c400d176dabf65\", element=\"3c7a7d0d-12c7-4b45-8610-39efc6e4182f\")>,\n",
       " <selenium.webdriver.remote.webelement.WebElement (session=\"ab7364aff12b3e4c74c400d176dabf65\", element=\"9d2bdded-0866-492e-8ff8-b004e00474e4\")>,\n",
       " <selenium.webdriver.remote.webelement.WebElement (session=\"ab7364aff12b3e4c74c400d176dabf65\", element=\"a08f5380-c2c7-41b3-bcc0-8e9131184fae\")>,\n",
       " <selenium.webdriver.remote.webelement.WebElement (session=\"ab7364aff12b3e4c74c400d176dabf65\", element=\"1f73d8c4-7572-43f0-966a-4f32ab0f8612\")>,\n",
       " <selenium.webdriver.remote.webelement.WebElement (session=\"ab7364aff12b3e4c74c400d176dabf65\", element=\"ebe84974-79f1-43ee-8121-ecb27f216edd\")>,\n",
       " <selenium.webdriver.remote.webelement.WebElement (session=\"ab7364aff12b3e4c74c400d176dabf65\", element=\"219affbc-a717-4f25-adaa-5873a209ec6d\")>,\n",
       " <selenium.webdriver.remote.webelement.WebElement (session=\"ab7364aff12b3e4c74c400d176dabf65\", element=\"369bcb10-ed82-4069-8acf-f3822cc97d08\")>,\n",
       " <selenium.webdriver.remote.webelement.WebElement (session=\"ab7364aff12b3e4c74c400d176dabf65\", element=\"f466613a-3435-4f5a-9844-482373a89b37\")>,\n",
       " <selenium.webdriver.remote.webelement.WebElement (session=\"ab7364aff12b3e4c74c400d176dabf65\", element=\"156732f4-6833-4f01-8225-e1c81f24c116\")>,\n",
       " <selenium.webdriver.remote.webelement.WebElement (session=\"ab7364aff12b3e4c74c400d176dabf65\", element=\"2e3225e2-1892-4107-bd38-67c83d3943e6\")>,\n",
       " <selenium.webdriver.remote.webelement.WebElement (session=\"ab7364aff12b3e4c74c400d176dabf65\", element=\"727d062a-a8e8-4b8d-ae6e-13aee672b53c\")>,\n",
       " <selenium.webdriver.remote.webelement.WebElement (session=\"ab7364aff12b3e4c74c400d176dabf65\", element=\"a880874d-3939-45e2-b595-09c08b7b99d9\")>,\n",
       " <selenium.webdriver.remote.webelement.WebElement (session=\"ab7364aff12b3e4c74c400d176dabf65\", element=\"37304d3f-eab6-4d34-a66e-e381ae68eb24\")>,\n",
       " <selenium.webdriver.remote.webelement.WebElement (session=\"ab7364aff12b3e4c74c400d176dabf65\", element=\"5904a19a-8a6f-4c43-9d30-00886512f37d\")>,\n",
       " <selenium.webdriver.remote.webelement.WebElement (session=\"ab7364aff12b3e4c74c400d176dabf65\", element=\"12fab4fd-bb74-4193-b058-e47e85c6f262\")>,\n",
       " <selenium.webdriver.remote.webelement.WebElement (session=\"ab7364aff12b3e4c74c400d176dabf65\", element=\"e7afde85-5bff-4deb-bffd-b82d98ef9f32\")>,\n",
       " <selenium.webdriver.remote.webelement.WebElement (session=\"ab7364aff12b3e4c74c400d176dabf65\", element=\"42c75cfc-7a9a-48f4-832d-642be17e7a91\")>,\n",
       " <selenium.webdriver.remote.webelement.WebElement (session=\"ab7364aff12b3e4c74c400d176dabf65\", element=\"6af81a33-39c7-4377-a11a-8dfadb1d56c0\")>]"
      ]
     },
     "execution_count": 20,
     "metadata": {},
     "output_type": "execute_result"
    }
   ],
   "source": [
    "# finding all the data for experience required\n",
    "\n",
    "experience_tag = driver.find_elements_by_xpath (\"//li[@class='fleft grey-text br2 placeHolderLi experience']\")\n",
    "experience_tag"
   ]
  },
  {
   "cell_type": "code",
   "execution_count": 21,
   "metadata": {},
   "outputs": [
    {
     "data": {
      "text/plain": [
       "['1-4 Yrs',\n",
       " '0-3 Yrs',\n",
       " '2-4 Yrs',\n",
       " '2-4 Yrs',\n",
       " '3-7 Yrs',\n",
       " '0-3 Yrs',\n",
       " '4-9 Yrs',\n",
       " '1-3 Yrs',\n",
       " '1-2 Yrs',\n",
       " '1-3 Yrs',\n",
       " '1-2 Yrs',\n",
       " '5-10 Yrs',\n",
       " '10-12 Yrs',\n",
       " '3-6 Yrs',\n",
       " '2-7 Yrs',\n",
       " '1-6 Yrs',\n",
       " '0-2 Yrs',\n",
       " '2-3 Yrs',\n",
       " '3-5 Yrs',\n",
       " '2-7 Yrs']"
      ]
     },
     "execution_count": 21,
     "metadata": {},
     "output_type": "execute_result"
    }
   ],
   "source": [
    "# extracting the text from experience_tag data using for loop\n",
    "for i in experience_tag:\n",
    "    exp_tag = i.text\n",
    "    experience_required.append(exp_tag)\n",
    "experience_required"
   ]
  },
  {
   "cell_type": "code",
   "execution_count": 22,
   "metadata": {},
   "outputs": [
    {
     "data": {
      "text/plain": [
       "(20, 20, 20, 20)"
      ]
     },
     "execution_count": 22,
     "metadata": {},
     "output_type": "execute_result"
    }
   ],
   "source": [
    "# checking lenghts of all the collected data\n",
    "len(job_title),len(job_locations),len(company_name), len(experience_required)"
   ]
  },
  {
   "cell_type": "code",
   "execution_count": 23,
   "metadata": {},
   "outputs": [],
   "source": [
    "# creating dataframe\n",
    "naukri_df = pd.DataFrame()\n",
    "naukri_df ['Job_Titles']=  job_title[0:10]\n",
    "naukri_df ['Job_Locations'] =  job_locations[0:10]\n",
    "naukri_df ['Company_Name'] =  company_name[0:10]\n",
    "naukri_df ['Experience_Required'] =  experience_required[0:10]"
   ]
  },
  {
   "cell_type": "code",
   "execution_count": 24,
   "metadata": {},
   "outputs": [
    {
     "data": {
      "text/html": [
       "<div>\n",
       "<style scoped>\n",
       "    .dataframe tbody tr th:only-of-type {\n",
       "        vertical-align: middle;\n",
       "    }\n",
       "\n",
       "    .dataframe tbody tr th {\n",
       "        vertical-align: top;\n",
       "    }\n",
       "\n",
       "    .dataframe thead th {\n",
       "        text-align: right;\n",
       "    }\n",
       "</style>\n",
       "<table border=\"1\" class=\"dataframe\">\n",
       "  <thead>\n",
       "    <tr style=\"text-align: right;\">\n",
       "      <th></th>\n",
       "      <th>Job_Titles</th>\n",
       "      <th>Job_Locations</th>\n",
       "      <th>Company_Name</th>\n",
       "      <th>Experience_Required</th>\n",
       "    </tr>\n",
       "  </thead>\n",
       "  <tbody>\n",
       "    <tr>\n",
       "      <th>0</th>\n",
       "      <td>Data Analyst / Business Analyst (Demand Planning)</td>\n",
       "      <td>[Bangalore/Bengaluru]</td>\n",
       "      <td>Flipkart</td>\n",
       "      <td>1-4 Yrs</td>\n",
       "    </tr>\n",
       "    <tr>\n",
       "      <th>1</th>\n",
       "      <td>Data Analyst</td>\n",
       "      <td>[Bangalore/Bengaluru]</td>\n",
       "      <td>Applied Materials</td>\n",
       "      <td>0-3 Yrs</td>\n",
       "    </tr>\n",
       "    <tr>\n",
       "      <th>2</th>\n",
       "      <td>Business Cum Data Analyst</td>\n",
       "      <td>[Bangalore/Bengaluru]</td>\n",
       "      <td>Virtusa Consulting Services Pvt Ltd</td>\n",
       "      <td>2-4 Yrs</td>\n",
       "    </tr>\n",
       "    <tr>\n",
       "      <th>3</th>\n",
       "      <td>Senior Data Analyst II</td>\n",
       "      <td>[Bangalore/Bengaluru]</td>\n",
       "      <td>Flipkart</td>\n",
       "      <td>2-4 Yrs</td>\n",
       "    </tr>\n",
       "    <tr>\n",
       "      <th>4</th>\n",
       "      <td>Senior Data Analyst</td>\n",
       "      <td>[Bangalore/Bengaluru]</td>\n",
       "      <td>Flipkart</td>\n",
       "      <td>3-7 Yrs</td>\n",
       "    </tr>\n",
       "    <tr>\n",
       "      <th>5</th>\n",
       "      <td>Openings For Data Analyst</td>\n",
       "      <td>[Bangalore/Bengaluru]</td>\n",
       "      <td>Allegis Services India Pvt. Ltd.</td>\n",
       "      <td>0-3 Yrs</td>\n",
       "    </tr>\n",
       "    <tr>\n",
       "      <th>6</th>\n",
       "      <td>Philips : Data Analyst</td>\n",
       "      <td>[Bangalore/Bengaluru]</td>\n",
       "      <td>Philips India Limited</td>\n",
       "      <td>4-9 Yrs</td>\n",
       "    </tr>\n",
       "    <tr>\n",
       "      <th>7</th>\n",
       "      <td>Consultant - Data Analyst</td>\n",
       "      <td>[Bangalore/Bengaluru]</td>\n",
       "      <td>Flipkart</td>\n",
       "      <td>1-3 Yrs</td>\n",
       "    </tr>\n",
       "    <tr>\n",
       "      <th>8</th>\n",
       "      <td>Data Analyst</td>\n",
       "      <td>[Bangalore/Bengaluru]</td>\n",
       "      <td>Flipkart</td>\n",
       "      <td>1-2 Yrs</td>\n",
       "    </tr>\n",
       "    <tr>\n",
       "      <th>9</th>\n",
       "      <td>Consultant - Data Analyst</td>\n",
       "      <td>[Bangalore/Bengaluru]</td>\n",
       "      <td>Flipkart</td>\n",
       "      <td>1-3 Yrs</td>\n",
       "    </tr>\n",
       "  </tbody>\n",
       "</table>\n",
       "</div>"
      ],
      "text/plain": [
       "                                          Job_Titles          Job_Locations  \\\n",
       "0  Data Analyst / Business Analyst (Demand Planning)  [Bangalore/Bengaluru]   \n",
       "1                                       Data Analyst  [Bangalore/Bengaluru]   \n",
       "2                          Business Cum Data Analyst  [Bangalore/Bengaluru]   \n",
       "3                             Senior Data Analyst II  [Bangalore/Bengaluru]   \n",
       "4                                Senior Data Analyst  [Bangalore/Bengaluru]   \n",
       "5                          Openings For Data Analyst  [Bangalore/Bengaluru]   \n",
       "6                             Philips : Data Analyst  [Bangalore/Bengaluru]   \n",
       "7                          Consultant - Data Analyst  [Bangalore/Bengaluru]   \n",
       "8                                       Data Analyst  [Bangalore/Bengaluru]   \n",
       "9                          Consultant - Data Analyst  [Bangalore/Bengaluru]   \n",
       "\n",
       "                          Company_Name Experience_Required  \n",
       "0                             Flipkart             1-4 Yrs  \n",
       "1                    Applied Materials             0-3 Yrs  \n",
       "2  Virtusa Consulting Services Pvt Ltd             2-4 Yrs  \n",
       "3                             Flipkart             2-4 Yrs  \n",
       "4                             Flipkart             3-7 Yrs  \n",
       "5     Allegis Services India Pvt. Ltd.             0-3 Yrs  \n",
       "6                Philips India Limited             4-9 Yrs  \n",
       "7                             Flipkart             1-3 Yrs  \n",
       "8                             Flipkart             1-2 Yrs  \n",
       "9                             Flipkart             1-3 Yrs  "
      ]
     },
     "execution_count": 24,
     "metadata": {},
     "output_type": "execute_result"
    }
   ],
   "source": [
    "naukri_df"
   ]
  },
  {
   "cell_type": "code",
   "execution_count": null,
   "metadata": {},
   "outputs": [],
   "source": []
  },
  {
   "cell_type": "markdown",
   "metadata": {},
   "source": [
    "### Q2: Write a python program to scrape data for “Data Scientist” Job position in “Bangalore” location. You have to scrape the job-title, job-location, company_name, full job-description. You have to scrape first 10 jobs data.\n",
    "\n",
    "This task will be done in following steps:\n",
    "\n",
    "1. first get the webpage https://www.naukri.com/\n",
    "2. Enter “Data Scientist” in “Skill,Designations,Companies” field and enter “Bangalore” in “enter the location” field.\n",
    "3. Then click the search button.\n",
    "4. Then scrape the data for the first 10 jobs results you get.\n",
    "5. Finally create a dataframe of the scraped data.\n",
    "\n",
    "Note- 1. All of the above steps have to be done in code. No step is to be done manually."
   ]
  },
  {
   "cell_type": "code",
   "execution_count": 25,
   "metadata": {},
   "outputs": [],
   "source": [
    "driver.get('https://www.naukri.com/')"
   ]
  },
  {
   "cell_type": "code",
   "execution_count": 26,
   "metadata": {},
   "outputs": [],
   "source": [
    "# finding elements job search, location\n",
    "\n",
    "#job search bar\n",
    "searchJob2 = driver.find_element_by_id('qsb-keyword-sugg')\n",
    "searchJob2.send_keys('Data Scientist')"
   ]
  },
  {
   "cell_type": "code",
   "execution_count": 27,
   "metadata": {
    "scrolled": true
   },
   "outputs": [],
   "source": [
    "#job location field\n",
    "searchLoc2 = driver.find_element_by_xpath('//*[@id=\"qsb-location-sugg\"]')\n",
    "searchLoc2.send_keys('Bangalore')"
   ]
  },
  {
   "cell_type": "code",
   "execution_count": 28,
   "metadata": {},
   "outputs": [],
   "source": [
    "#Search button field\n",
    "searchButton2 = driver.find_element_by_xpath('//*[@id=\"root\"]/div[3]/div[2]/section/div/form/div[3]/button')"
   ]
  },
  {
   "cell_type": "code",
   "execution_count": 29,
   "metadata": {},
   "outputs": [],
   "source": [
    "# search button click action using code\n",
    "searchButton2.click()"
   ]
  },
  {
   "cell_type": "code",
   "execution_count": null,
   "metadata": {},
   "outputs": [],
   "source": []
  },
  {
   "cell_type": "code",
   "execution_count": 36,
   "metadata": {},
   "outputs": [],
   "source": [
    "# scraped web page url\n",
    "Url2 = 'https://www.naukri.com/data-scientist-jobs-in-bangalore?k=data%20scientist&l=bangalore'"
   ]
  },
  {
   "cell_type": "code",
   "execution_count": 37,
   "metadata": {},
   "outputs": [],
   "source": [
    "# web page open with url\n",
    "driver.get(Url2)"
   ]
  },
  {
   "cell_type": "code",
   "execution_count": 38,
   "metadata": {},
   "outputs": [],
   "source": [
    "# creating empty lists for required scratch data fields\n",
    "\n",
    "Job_title2 = []\n",
    "Job_location2 = []\n",
    "Company_name2 = []\n",
    "job_description2 = []"
   ]
  },
  {
   "cell_type": "markdown",
   "metadata": {},
   "source": [
    "Job_title"
   ]
  },
  {
   "cell_type": "code",
   "execution_count": 39,
   "metadata": {},
   "outputs": [
    {
     "data": {
      "text/plain": [
       "[<selenium.webdriver.remote.webelement.WebElement (session=\"ab7364aff12b3e4c74c400d176dabf65\", element=\"1c2f400c-556e-4991-bb8e-c3b02f64d66b\")>,\n",
       " <selenium.webdriver.remote.webelement.WebElement (session=\"ab7364aff12b3e4c74c400d176dabf65\", element=\"b928f2f3-918a-44f6-acad-53945461eb15\")>,\n",
       " <selenium.webdriver.remote.webelement.WebElement (session=\"ab7364aff12b3e4c74c400d176dabf65\", element=\"608206d8-6dca-4ba3-ad1b-12e860eb89a8\")>,\n",
       " <selenium.webdriver.remote.webelement.WebElement (session=\"ab7364aff12b3e4c74c400d176dabf65\", element=\"dadcc640-8033-4d94-91d6-5c117fff7afd\")>,\n",
       " <selenium.webdriver.remote.webelement.WebElement (session=\"ab7364aff12b3e4c74c400d176dabf65\", element=\"6a4e2cc0-b78a-465c-9037-672ad66f4af3\")>,\n",
       " <selenium.webdriver.remote.webelement.WebElement (session=\"ab7364aff12b3e4c74c400d176dabf65\", element=\"b6846fcb-52f3-42fa-9206-924ffd95ccb1\")>,\n",
       " <selenium.webdriver.remote.webelement.WebElement (session=\"ab7364aff12b3e4c74c400d176dabf65\", element=\"ffcbbf93-68d6-403a-98fe-d8b2c8c6d6a1\")>,\n",
       " <selenium.webdriver.remote.webelement.WebElement (session=\"ab7364aff12b3e4c74c400d176dabf65\", element=\"bc5cb10b-9bfb-4020-bf56-a9df4849429f\")>,\n",
       " <selenium.webdriver.remote.webelement.WebElement (session=\"ab7364aff12b3e4c74c400d176dabf65\", element=\"8ec85494-1b54-4991-bbc9-1b3115ff1496\")>,\n",
       " <selenium.webdriver.remote.webelement.WebElement (session=\"ab7364aff12b3e4c74c400d176dabf65\", element=\"1e2758b3-355e-41a5-bbfc-81df20ff62c4\")>,\n",
       " <selenium.webdriver.remote.webelement.WebElement (session=\"ab7364aff12b3e4c74c400d176dabf65\", element=\"56c60217-c126-4c10-9aeb-81168f870700\")>,\n",
       " <selenium.webdriver.remote.webelement.WebElement (session=\"ab7364aff12b3e4c74c400d176dabf65\", element=\"765bb091-ac70-4fa6-bec6-3317540203a9\")>,\n",
       " <selenium.webdriver.remote.webelement.WebElement (session=\"ab7364aff12b3e4c74c400d176dabf65\", element=\"1071211d-cc61-4e7a-a091-cfeab1330d29\")>,\n",
       " <selenium.webdriver.remote.webelement.WebElement (session=\"ab7364aff12b3e4c74c400d176dabf65\", element=\"d9418eee-bbea-4cb4-a467-b63895990590\")>,\n",
       " <selenium.webdriver.remote.webelement.WebElement (session=\"ab7364aff12b3e4c74c400d176dabf65\", element=\"3dfc0cf3-02fb-43f5-9ee8-3638c3f1e2a5\")>,\n",
       " <selenium.webdriver.remote.webelement.WebElement (session=\"ab7364aff12b3e4c74c400d176dabf65\", element=\"4809fab7-5e76-45c2-99fa-e51d083e95ad\")>,\n",
       " <selenium.webdriver.remote.webelement.WebElement (session=\"ab7364aff12b3e4c74c400d176dabf65\", element=\"83e91fe2-419b-4b97-80ec-0c39edd45c3b\")>,\n",
       " <selenium.webdriver.remote.webelement.WebElement (session=\"ab7364aff12b3e4c74c400d176dabf65\", element=\"fa0858d7-8285-4290-a557-89191c775e44\")>,\n",
       " <selenium.webdriver.remote.webelement.WebElement (session=\"ab7364aff12b3e4c74c400d176dabf65\", element=\"96b0fdb7-f8da-4b38-a97e-d6a809b5e852\")>,\n",
       " <selenium.webdriver.remote.webelement.WebElement (session=\"ab7364aff12b3e4c74c400d176dabf65\", element=\"f7ffaf93-4476-4776-9f9b-ef41ed048a18\")>]"
      ]
     },
     "execution_count": 39,
     "metadata": {},
     "output_type": "execute_result"
    }
   ],
   "source": [
    "#finding all job titles\n",
    "title_tag2 = driver.find_elements_by_xpath (\"//a[@class='title fw500 ellipsis']\")\n",
    "title_tag2"
   ]
  },
  {
   "cell_type": "code",
   "execution_count": 40,
   "metadata": {},
   "outputs": [
    {
     "data": {
      "text/plain": [
       "['Senior Data Scientist',\n",
       " 'Data Scientist',\n",
       " 'Data Scientist',\n",
       " 'Senior/Lead Data Scientist',\n",
       " 'Lead Data Scientist',\n",
       " 'Senior Data Scientist',\n",
       " 'Data Scientist',\n",
       " 'Data Scientist',\n",
       " 'Data Scientist',\n",
       " 'Data Scientist',\n",
       " 'Data Scientist',\n",
       " 'Western Digital Data Scientist 3',\n",
       " 'Senior Data Scientist - ML',\n",
       " 'Data Scientist: Artificial Intelligence',\n",
       " 'Data Scientist: Advanced Analytics',\n",
       " 'Digital Enterprise Architect (Data Scientist)',\n",
       " 'Data Scientist',\n",
       " 'Data Scientist: Artificial Intelligence',\n",
       " 'Data Scientist',\n",
       " 'Data Scientist']"
      ]
     },
     "execution_count": 40,
     "metadata": {},
     "output_type": "execute_result"
    }
   ],
   "source": [
    "# extracting the text from title_tag data using for loop\n",
    "for i in title_tag2:\n",
    "    title=i.text\n",
    "    Job_title2.append(title)\n",
    "Job_title2"
   ]
  },
  {
   "cell_type": "markdown",
   "metadata": {},
   "source": [
    "Job_location"
   ]
  },
  {
   "cell_type": "code",
   "execution_count": 41,
   "metadata": {},
   "outputs": [
    {
     "data": {
      "text/plain": [
       "[<selenium.webdriver.remote.webelement.WebElement (session=\"ab7364aff12b3e4c74c400d176dabf65\", element=\"28c87a88-4207-4f4e-a343-c8f3b62bf33a\")>,\n",
       " <selenium.webdriver.remote.webelement.WebElement (session=\"ab7364aff12b3e4c74c400d176dabf65\", element=\"8a215404-74ee-45b5-be17-ea9193478955\")>,\n",
       " <selenium.webdriver.remote.webelement.WebElement (session=\"ab7364aff12b3e4c74c400d176dabf65\", element=\"f1577106-4c54-4a77-8458-ea833645bc51\")>,\n",
       " <selenium.webdriver.remote.webelement.WebElement (session=\"ab7364aff12b3e4c74c400d176dabf65\", element=\"b903dd3d-914b-4928-b2da-c141f38dfc7c\")>,\n",
       " <selenium.webdriver.remote.webelement.WebElement (session=\"ab7364aff12b3e4c74c400d176dabf65\", element=\"6cd92e4b-a15d-4410-be15-d7faa2a6f342\")>,\n",
       " <selenium.webdriver.remote.webelement.WebElement (session=\"ab7364aff12b3e4c74c400d176dabf65\", element=\"9c990792-679b-48dd-8a74-83cd8df95bed\")>,\n",
       " <selenium.webdriver.remote.webelement.WebElement (session=\"ab7364aff12b3e4c74c400d176dabf65\", element=\"8a06818c-9042-4be6-95bb-768d2b19f938\")>,\n",
       " <selenium.webdriver.remote.webelement.WebElement (session=\"ab7364aff12b3e4c74c400d176dabf65\", element=\"50f87ae3-de98-4c11-a50d-6bf8f22cbd5a\")>,\n",
       " <selenium.webdriver.remote.webelement.WebElement (session=\"ab7364aff12b3e4c74c400d176dabf65\", element=\"dd2c4e30-f39f-4710-a364-1b411e172d8f\")>,\n",
       " <selenium.webdriver.remote.webelement.WebElement (session=\"ab7364aff12b3e4c74c400d176dabf65\", element=\"f3575b5f-fc58-4960-97de-d24d9b44d7ba\")>,\n",
       " <selenium.webdriver.remote.webelement.WebElement (session=\"ab7364aff12b3e4c74c400d176dabf65\", element=\"95bf5d02-4334-496a-86df-0c42fb354ddc\")>,\n",
       " <selenium.webdriver.remote.webelement.WebElement (session=\"ab7364aff12b3e4c74c400d176dabf65\", element=\"9300fd90-5216-4a38-b6a6-fdbd85f61369\")>,\n",
       " <selenium.webdriver.remote.webelement.WebElement (session=\"ab7364aff12b3e4c74c400d176dabf65\", element=\"33402686-721d-43df-a767-99d356d88935\")>,\n",
       " <selenium.webdriver.remote.webelement.WebElement (session=\"ab7364aff12b3e4c74c400d176dabf65\", element=\"5a3219d2-fca9-4ab9-8f52-de71ef5fb732\")>,\n",
       " <selenium.webdriver.remote.webelement.WebElement (session=\"ab7364aff12b3e4c74c400d176dabf65\", element=\"a1a114f1-021d-4ffc-9e77-31837c1a6329\")>,\n",
       " <selenium.webdriver.remote.webelement.WebElement (session=\"ab7364aff12b3e4c74c400d176dabf65\", element=\"aa75a053-27c4-4ba0-9411-66d59864ad70\")>,\n",
       " <selenium.webdriver.remote.webelement.WebElement (session=\"ab7364aff12b3e4c74c400d176dabf65\", element=\"bb0876ff-0740-415d-aaa5-1694b81b4250\")>,\n",
       " <selenium.webdriver.remote.webelement.WebElement (session=\"ab7364aff12b3e4c74c400d176dabf65\", element=\"1fca4052-38ec-451c-b52a-51573ddd2370\")>,\n",
       " <selenium.webdriver.remote.webelement.WebElement (session=\"ab7364aff12b3e4c74c400d176dabf65\", element=\"ac59acf9-c00a-40fd-a77d-102e23c8d783\")>,\n",
       " <selenium.webdriver.remote.webelement.WebElement (session=\"ab7364aff12b3e4c74c400d176dabf65\", element=\"6e904cdc-7875-4699-bb41-0ea73809ce9c\")>]"
      ]
     },
     "execution_count": 41,
     "metadata": {},
     "output_type": "execute_result"
    }
   ],
   "source": [
    "#finding all job locations\n",
    "Job_loca_tag2 = driver.find_elements_by_xpath (\"//li[@class='fleft grey-text br2 placeHolderLi location']\")\n",
    "Job_loca_tag2"
   ]
  },
  {
   "cell_type": "code",
   "execution_count": 42,
   "metadata": {
    "scrolled": true
   },
   "outputs": [
    {
     "data": {
      "text/plain": [
       "['Bangalore/Bengaluru',\n",
       " 'Bangalore/Bengaluru\\n(WFH during Covid)',\n",
       " 'Bangalore/Bengaluru\\n(WFH during Covid)',\n",
       " 'Bangalore/Bengaluru',\n",
       " 'Bangalore/Bengaluru\\n(WFH during Covid)',\n",
       " 'Bangalore/Bengaluru',\n",
       " 'Bangalore/Bengaluru',\n",
       " 'Bangalore/Bengaluru',\n",
       " 'Bangalore/Bengaluru',\n",
       " 'Mumbai, Hyderabad/Secunderabad, Pune, Chennai, Gurgaon/Gurugram, Bangalore/Bengaluru, Delhi / NCR',\n",
       " 'Bangalore/Bengaluru',\n",
       " 'Bangalore/Bengaluru',\n",
       " 'Pune, Chennai, Bangalore/Bengaluru',\n",
       " 'Bangalore/Bengaluru',\n",
       " 'Bangalore/Bengaluru',\n",
       " 'Bangalore/Bengaluru',\n",
       " 'Bangalore/Bengaluru',\n",
       " 'Bangalore/Bengaluru',\n",
       " 'Bangalore/Bengaluru',\n",
       " 'Mumbai, Pune, Chennai, Bangalore/Bengaluru']"
      ]
     },
     "execution_count": 42,
     "metadata": {},
     "output_type": "execute_result"
    }
   ],
   "source": [
    "# extracting the text from job Location_tag2 data using for loop\n",
    "for i in Job_loca_tag2:\n",
    "    title=i.text\n",
    "    Job_location2.append(title)\n",
    "Job_location2"
   ]
  },
  {
   "cell_type": "markdown",
   "metadata": {},
   "source": [
    "Company_names"
   ]
  },
  {
   "cell_type": "code",
   "execution_count": 43,
   "metadata": {},
   "outputs": [
    {
     "data": {
      "text/plain": [
       "[<selenium.webdriver.remote.webelement.WebElement (session=\"ab7364aff12b3e4c74c400d176dabf65\", element=\"df46eade-2498-4803-b3f3-1e3aa4fa0db1\")>,\n",
       " <selenium.webdriver.remote.webelement.WebElement (session=\"ab7364aff12b3e4c74c400d176dabf65\", element=\"8122ed10-4653-4703-b77e-9e6d57951a9a\")>,\n",
       " <selenium.webdriver.remote.webelement.WebElement (session=\"ab7364aff12b3e4c74c400d176dabf65\", element=\"db423f22-1414-4929-8996-d03a0bf4c955\")>,\n",
       " <selenium.webdriver.remote.webelement.WebElement (session=\"ab7364aff12b3e4c74c400d176dabf65\", element=\"b56ade65-d6ef-48a5-b218-160b21bcc77c\")>,\n",
       " <selenium.webdriver.remote.webelement.WebElement (session=\"ab7364aff12b3e4c74c400d176dabf65\", element=\"e079243d-8c4a-4c43-8375-e4cd56e2f9aa\")>,\n",
       " <selenium.webdriver.remote.webelement.WebElement (session=\"ab7364aff12b3e4c74c400d176dabf65\", element=\"51641c9c-b9f3-4226-bb85-aae0ba3d6b61\")>,\n",
       " <selenium.webdriver.remote.webelement.WebElement (session=\"ab7364aff12b3e4c74c400d176dabf65\", element=\"7728c417-e1b9-4c91-b41b-2733ce9c7182\")>,\n",
       " <selenium.webdriver.remote.webelement.WebElement (session=\"ab7364aff12b3e4c74c400d176dabf65\", element=\"1011c217-c847-430a-b9ed-fcff90fc7b59\")>,\n",
       " <selenium.webdriver.remote.webelement.WebElement (session=\"ab7364aff12b3e4c74c400d176dabf65\", element=\"ee98ecac-a223-4030-b7a2-37168ac2fdb2\")>,\n",
       " <selenium.webdriver.remote.webelement.WebElement (session=\"ab7364aff12b3e4c74c400d176dabf65\", element=\"2a1a12a8-6ac1-4e27-8630-f2a7bb290ab5\")>,\n",
       " <selenium.webdriver.remote.webelement.WebElement (session=\"ab7364aff12b3e4c74c400d176dabf65\", element=\"46ecc86b-1f52-4f75-b053-e467b8125f57\")>,\n",
       " <selenium.webdriver.remote.webelement.WebElement (session=\"ab7364aff12b3e4c74c400d176dabf65\", element=\"e6843c32-bab2-49e5-901f-54d335f4f0a3\")>,\n",
       " <selenium.webdriver.remote.webelement.WebElement (session=\"ab7364aff12b3e4c74c400d176dabf65\", element=\"f9295fd3-1987-42ff-9fb5-4ff87985691b\")>,\n",
       " <selenium.webdriver.remote.webelement.WebElement (session=\"ab7364aff12b3e4c74c400d176dabf65\", element=\"ff352950-7567-48fb-a580-3547c84a8799\")>,\n",
       " <selenium.webdriver.remote.webelement.WebElement (session=\"ab7364aff12b3e4c74c400d176dabf65\", element=\"22e102b4-fe7a-4b69-ad3c-7c21bfb6b3aa\")>,\n",
       " <selenium.webdriver.remote.webelement.WebElement (session=\"ab7364aff12b3e4c74c400d176dabf65\", element=\"55c23561-8697-46b0-b117-4c683078b29b\")>,\n",
       " <selenium.webdriver.remote.webelement.WebElement (session=\"ab7364aff12b3e4c74c400d176dabf65\", element=\"40df75d2-25b7-41e7-91f9-33b964987b87\")>,\n",
       " <selenium.webdriver.remote.webelement.WebElement (session=\"ab7364aff12b3e4c74c400d176dabf65\", element=\"85a6bf53-fd63-4117-9042-dcef0cadb495\")>,\n",
       " <selenium.webdriver.remote.webelement.WebElement (session=\"ab7364aff12b3e4c74c400d176dabf65\", element=\"943e1c31-ce72-4478-a361-4ac8ae6ea47d\")>,\n",
       " <selenium.webdriver.remote.webelement.WebElement (session=\"ab7364aff12b3e4c74c400d176dabf65\", element=\"aae1c120-a258-405c-918a-6a5d8101e9e3\")>]"
      ]
     },
     "execution_count": 43,
     "metadata": {},
     "output_type": "execute_result"
    }
   ],
   "source": [
    "#finding all company names\n",
    "Com_Name_tag2 = driver.find_elements_by_xpath (\"//a[@class='subTitle ellipsis fleft']\")\n",
    "Com_Name_tag2"
   ]
  },
  {
   "cell_type": "code",
   "execution_count": 44,
   "metadata": {},
   "outputs": [
    {
     "data": {
      "text/plain": [
       "['Kwalee India Pvt Ltd.',\n",
       " 'Allegis Services India Pvt. Ltd.',\n",
       " 'Allegis Services India Pvt. Ltd.',\n",
       " 'Scienaptic Systems',\n",
       " 'Gadgeon Smart Systems Pvt. Ltd',\n",
       " 'Visa Inc.',\n",
       " 'Kwalee India Pvt Ltd.',\n",
       " 'Talent Zone Consultant',\n",
       " 'Brillio',\n",
       " 'Philter HR Soultion',\n",
       " 'Hewlett-Packard',\n",
       " 'Western Digital',\n",
       " 'SP Staffing Services Private Limited',\n",
       " 'IBM India Pvt. Limited',\n",
       " 'IBM India Pvt. Limited',\n",
       " 'Mphasis Limited',\n",
       " 'Intel Technology India Pvt Ltd',\n",
       " 'IBM India Pvt. Limited',\n",
       " 'Applied Materials',\n",
       " 'Philter HR Soultion']"
      ]
     },
     "execution_count": 44,
     "metadata": {},
     "output_type": "execute_result"
    }
   ],
   "source": [
    "# extracting the text from com_name_tag data2 using for loop\n",
    "for i in Com_Name_tag2:\n",
    "    title=i.text\n",
    "    Company_name2.append(title)\n",
    "Company_name2"
   ]
  },
  {
   "cell_type": "markdown",
   "metadata": {},
   "source": [
    "Full_job_description"
   ]
  },
  {
   "cell_type": "code",
   "execution_count": 45,
   "metadata": {},
   "outputs": [],
   "source": [
    "#creating empty list\n",
    "job_opening_urls = []"
   ]
  },
  {
   "cell_type": "code",
   "execution_count": 46,
   "metadata": {},
   "outputs": [],
   "source": [
    "# finding all url data\n",
    "url= driver.find_elements_by_xpath('//a[@class= \"title fw500 ellipsis\"]')"
   ]
  },
  {
   "cell_type": "code",
   "execution_count": 47,
   "metadata": {},
   "outputs": [],
   "source": [
    "# applying loop to find all the href attributes from url\n",
    "for i in url[0:10]:\n",
    "    job_opening_urls.append(i.get_attribute('href'))"
   ]
  },
  {
   "cell_type": "code",
   "execution_count": 48,
   "metadata": {},
   "outputs": [
    {
     "data": {
      "text/plain": [
       "['https://www.naukri.com/job-listings-senior-data-scientist-kwalee-india-pvt-ltd-bangalore-bengaluru-5-to-10-years-260321000780?src=jobsearchDesk&sid=1633668073238813&xp=1&px=1',\n",
       " 'https://www.naukri.com/job-listings-data-scientist-allegis-services-india-pvt-ltd-bangalore-bengaluru-1-to-3-years-071021604773?src=jobsearchDesk&sid=1633668073238813&xp=2&px=1',\n",
       " 'https://www.naukri.com/job-listings-data-scientist-allegis-services-india-pvt-ltd-bangalore-bengaluru-1-to-3-years-071021004771?src=jobsearchDesk&sid=1633668073238813&xp=3&px=1',\n",
       " 'https://www.naukri.com/job-listings-senior-lead-data-scientist-scienaptic-systems-bangalore-bengaluru-10-to-12-years-041021500239?src=jobsearchDesk&sid=1633668073238813&xp=4&px=1',\n",
       " 'https://www.naukri.com/job-listings-lead-data-scientist-gadgeon-smart-systems-pvt-ltd-bangalore-bengaluru-2-to-7-years-071021000402?src=jobsearchDesk&sid=1633668073238813&xp=5&px=1',\n",
       " 'https://www.naukri.com/job-listings-senior-data-scientist-visa-inc-bangalore-bengaluru-4-to-9-years-011021501318?src=jobsearchDesk&sid=1633668073238813&xp=6&px=1',\n",
       " 'https://www.naukri.com/job-listings-data-scientist-kwalee-india-pvt-ltd-bangalore-bengaluru-2-to-7-years-171120001467?src=jobsearchDesk&sid=1633668073238813&xp=7&px=1',\n",
       " 'https://www.naukri.com/job-listings-data-scientist-talent-zone-consultant-bangalore-bengaluru-10-to-12-years-071021501341?src=jobsearchDesk&sid=1633668073238813&xp=8&px=1',\n",
       " 'https://www.naukri.com/job-listings-data-scientist-brillio-technologies-pvt-ltd-bangalore-bengaluru-3-to-6-years-071021500767?src=jobsearchDesk&sid=1633668073238813&xp=9&px=1',\n",
       " 'https://www.naukri.com/job-listings-data-scientist-philter-hr-soultion-mumbai-hyderabad-secunderabad-pune-chennai-gurgaon-gurugram-bangalore-bengaluru-delhi-ncr-2-to-5-years-061021908969?src=jobsearchDesk&sid=1633668073238813&xp=10&px=1']"
      ]
     },
     "execution_count": 48,
     "metadata": {},
     "output_type": "execute_result"
    }
   ],
   "source": [
    "job_opening_urls"
   ]
  },
  {
   "cell_type": "code",
   "execution_count": 50,
   "metadata": {},
   "outputs": [],
   "source": [
    "# finding all urls using loop\n",
    "for i in job_opening_urls:\n",
    "\n",
    "    driver.get(i)\n",
    "\n",
    "    #time.sleep(15)\n",
    "\n",
    "    try:\n",
    "\n",
    "        description = driver.find_element_by_xpath('/html/body/div[1]/main/div[2]/div[2]/section[2]/div[1]')    \n",
    "        job_description2.append(description.text)\n",
    "\n",
    "    except:\n",
    "\n",
    "        job_description2.append('-')"
   ]
  },
  {
   "cell_type": "code",
   "execution_count": 51,
   "metadata": {},
   "outputs": [
    {
     "data": {
      "text/plain": [
       "['Kwalee is one of the world\\'s leading multiplatform game publishers, with well over 600 million downloads worldwide for mobile hits such as Draw It, Teacher Simulator, Lets Be Cops 3D and Makeover Studio 3D. Alongside this, we also have a growing PC and console team of incredible pedigree that is on the hunt for great new titles to join TENS! and Eternal Hope.\\n\\nWith a team of talented people collaborating daily between our studios in Leamington Spa, Bangalore and Beijing, or on a remote basis from Turkey, Brazil, the Philippines and many more, we have a truly global team making games for a global audience. And its paying off: Kwalee games have been downloaded in every country on earth! If you think you\\'re a good fit for one of our remote vacancies, we want to hear from you wherever you are based.\\n\\nFounded in 2011 by David Darling CBE, a key architect of the UK games industry who previously co-founded and led Codemasters for many years, our team also includes legends such as Andrew Graham (creator of Micro Machines series) and Jason Falcus (programmer of classics including NBA Jam) alongside a growing and diverse team of global gaming experts. Everyone contributes creatively to Kwalees success, with all employees eligible to pitch their own game ideas on Creative Wednesdays, and we’re proud to have built our success on this inclusive principle. Could your idea be the next global hit?\\n\\nAs a Senior Data Scientist you will help utilise masses of data generated by Kwalee players all over the world to solve complex problems using cutting edge techniques.\\nYou\\'ll be part of a team that will be based in the new office that we\\'re going to open in Bangalore.\\nWhat you tell your friends you do\\n\"My models optimise the performance of Kwalee games and advertising every day!”\\n\\nWhat you will really be doing\\nBuild data solutions to solve business problems\\nUse statistical testing and predictive modelling to recommend and implement changes to marketing strategy along with in game features and design\\nLeverage the huge amount of data generated by our players and advertising campaigns everyday to build models and iterate existing services to improve and automate decision making across the company\\nWork with the marketing, publishing and development teams to understand the problems they are facing and how to solve them\\n\\nHow you will be doing this\\nYou’ll be part of an agile, multidisciplinary and creative team and work closely with them to ensure the best results.\\nYou\\'ll think creatively and be motivated by challenges and constantly striving for the best.\\nYou’ll work with cutting edge technology, if you need software or hardware to get the job done efficiently, you can get it. We even have a robot!\\n\\nTeam\\nOur talented team is our signature. We have a highly creative atmosphere with more than 150 staff where you’ll have the opportunity to contribute daily to important decisions. You’ll work within an extremely experienced, passionate and diverse team, including David Darling and the creator of the Micro Machines video games.\\n\\nSkills and requirements\\nA degree in a numerically focussed degree discipline such as, Maths, Physics, Economics, Chemistry, Engineering, Biological Sciences\\n5+Years experience using Python for data analysis and visualisation and using libraries such as Tensorflow, Keras and Scikit-Learn\\nA proven track record of solving problems with data\\nKnowledge of NoSQL or SQL databases like Couchbase, Elasticsearch and PostgreSQL\\nAn avid interest in the development, marketing and monetisation of mobile games\\n\\nDesirable\\nExperience with AWS - Redshift, EC2, Lambda\\nExperience managing data projects from prototype to production tools\\n\\nWe offer\\nWe want everyone involved in our games to share our success, that’s why we have a generous team profit sharing scheme from day 1 of employment\\nIn addition to a competitive salary we also offer private medical cover and life assurance\\nCreative Wednesdays! (Design and make your own games every Wednesday)\\n20 days of paid holidays plus bank holidays\\nGreat work-life balance with flexible working hours\\nQuarterly team building days - work hard, play hard!\\nMonthly employee awards\\nFree snacks, fruit and drinks\\n\\nOur philosophy\\nWe firmly believe in creativity and innovation and that a fundamental requirement for a successful and happy company is having the right mix of individuals. With the right people in the right environment anything and everything is possible.',\n",
       " 'Job Description:\\nResponsibilities:\\nOwn and execute end to end delivery of one or more than one analytics project\\nUnderstand requirements from Product Managers/Business Users Translating muddy and fuzzy business needs into clear analytical problems through structured problem-solving Extract data from multiple data sources, develop predictive models using appropriate variables and ML/deep learning techniques and operationalize the models on a BI platform for end users consumption Validate the models developed against statistical robustness and business sense Perform ad-hoc deep dive analysis proactively / based on stated needs Generate insights based on the data patterns and recommend actions to be taken by the business; Communicate the results to technical as well as business stakeholders across different hierarchies Create technical documentation and provide post-production support for a time-bound period\\nPrimary skillset:\\nEnd to end data science project life cycles from use case framing, data collection, data exploration, model building to deployment Good knowledge in statistics and deep understanding on ML algorithms and their usage (Time series, Regression, Classification, Clustering, Anomaly Detection, NLP etc.)\\nSecondary skillset:\\nDeep expertise in analytical tools: At least one of the statistical computing language (R, Python, Tensorflow, Keras etc.) At least one of the query language (T-SQL, PLSQL, Hive, Spark, Impala, Cassandra, MongoDB etc.). Knowledge of big data is essential At least one of the reporting/visualization tools (Tableau, QlikView, SSRS, Power BI, D3, Angular JS etc.) Proven record of successfully building and operationalizing variety of machine learning solutions\\nExperience level: 01yrs-02yrs',\n",
       " '-',\n",
       " 'We are looking for an energetic and experienced person as Sr/Lead Data Scientist. The chosen candidate will be responsible for interacting with clients and developing all aspects of data mining, predictive analytic, solution development to name a few.\\nRequirements\\nLead and take part in end-to-end ML (Machine Learning) projects deployments that require feasibility analysis, design, development, validation, and application of state-of-the art data science solutions.\\nNeed to deliver solutions to production through the software development lifecycle.\\nYou will have to push the state of the art application in terms of data mining, visualization, predictive modelling, statistics, trend analysis, and other data analysis techniques to solve complex business problems including recommender systems, Customer sentiment modelling, customer life-cycle modelling, Spare parts inventory optimization, spare parts pricing, warranty, After market channel effectiveness.\\nWrite production ready code and deploy real time ML models; expose ML outputs through APIs.\\nHypothesis Testing and Design of experiments to analyze and monitor results\\nPartner with Data/ML engineers and vendor partners for input data pipes development and ML models automation.\\nSkills\\n5 10 years of Applied Machine learning experience in the fields of Machine Learning, Recommender Systems, Statistical Modelling, Predictive Modelling.\\nNote: We are looking for candidates who are presently serving their notice or who can join us within 15-20 days.',\n",
       " '-',\n",
       " 'What a Manager, DS Center of Excellence does at Visa:\\nThe person will be part of the Visa Consulting and Analytics (VCA) team will report into Data science lead\\nSpecific responsibilities will include:\\nBuilding & helping our partners to build data science capabilities & analytical solutions to solve their business problems\\nWorking knowledge in retail banking & credit card domain to guide the teams on the solution architecture\\nDrive innovation through using data science techniques\\nAct as data science advocate within our partners, advising and coaching analytical teams and sharing best practices and case studies.\\nContinually look at the environment to challenge our assumptions around new sources of data, potential analytics partners, tools, talent and infrastructure.\\nExplore leading methodologies and best practices to other teams and importing successful methodologies from other international markets\\nWhy this is important to Visa\\nVisas Consulting and Data Science team is a key part of the Global Solutions organization; a high-performing team of data scientists, data analysts and statisticians helping major organizations adapt and evolve to meet the changes taking place in technology, finance, and commerce; with cutting-edge, creative and advanced analytic solutions. The purpose of this team is to help Visas clients to grow their business & solve their problems by providing consulting services through visa data.\\n\\n\\nQualifications\\nWhat you will need:\\nBachelors degree in Statistics, Mathematics, Computer Science, related field\\nExperience in Card or Retail banking analytical domain is necessary\\nExperience in managing multiple stakeholders at client site\\n5+ years of experience in data science, analytics, and statistical modeling or relevant area\\nExperience in SQL and statistical programming languages\\nWork experience scaling data engineering such as APIs or data self-service solutions\\nWhat will also help:\\nKnowledge of Payment industry\\nExperience in working closely with data science community\\nOutstanding problem-solving skills, with demonstrated ability to think creatively and strategically\\nSelf-motivated, results oriented individual with the ability to handle numerous projects\\nTechnology-driven mindset, digitally curious\\nUp-to-date with digital and technology literature, trends.\\nAble to challenge the status quo diplomatically and bring teams along with strategy.',\n",
       " 'Kwalee is one of the world\\'s leading multiplatform game publishers, with well over 600 million downloads worldwide for mobile hits such as Draw It, Teacher Simulator, Lets Be Cops 3D and Makeover Studio 3D. Alongside this, we also have a growing PC and console team of incredible pedigree that is on the hunt for great new titles to join TENS! and Eternal Hope.\\n\\nWith a team of talented people collaborating daily between our studios in Leamington Spa, Bangalore and Beijing, or on a remote basis from Turkey, Brazil, the Philippines and many more, we have a truly global team making games for a global audience. And its paying off: Kwalee games have been downloaded in every country on earth! If you think you\\'re a good fit for one of our remote vacancies, we want to hear from you wherever you are based.\\n\\nFounded in 2011 by David Darling CBE, a key architect of the UK games industry who previously co-founded and led Codemasters for many years, our team also includes legends such as Andrew Graham (creator of Micro Machines series) and Jason Falcus (programmer of classics including NBA Jam) alongside a growing and diverse team of global gaming experts. Everyone contributes creatively to Kwalees success, with all employees eligible to pitch their own game ideas on Creative Wednesdays, and were proud to have built our success on this inclusive principle. Could your idea be the next global hit?\\n\\nAs a Data Scientist you will help utilise masses of data generated by Kwalee players all over the world to solve complex problems using cutting edge techniques.\\n\\nYou\\'ll be part of a team that will be based in the new office that we\\'re going to open in Bangalore.\\nWhat you tell your friends you do\\n\"My models optimise the performance of Kwalee games and advertising every day!”\\n\\nWhat you will really be doing\\nBuild data solutions to solve business problems\\nUse statistical testing and predictive modelling to recommend and implement changes to marketing strategy along with in game features and design\\nLeverage the huge amount of data generated by our players and advertising campaigns everyday to build models and iterate existing services to improve and automate decision making across the company\\nWork with the marketing, publishing and development teams to understand the problems they are facing and how to solve them\\n\\nHow you will be doing this\\nYou’ll be part of an agile, multidisciplinary and creative team and work closely with them to ensure the best results.\\nYou\\'ll think creatively and be motivated by challenges and constantly striving for the best.\\nYou’ll work with cutting edge technology, if you need software or hardware to get the job done efficiently, you can get it. We even have a robot!\\n\\nTeam\\nOur talented team is our signature. We have a highly creative atmosphere with more than 150 staff where you’ll have the opportunity to contribute daily to important decisions. You’ll work within an extremely experienced, passionate and diverse team, including David Darling and the creator of the Micro Machines video games.\\n\\nSkills and requirements\\nA degree in a numerically focussed degree discipline such as, Maths, Physics, Economics, Chemistry, Engineering, Biological Sciences\\n2+Years experience using Python for data analysis and visualisation and using libraries such as Tensorflow, Keras and Scikit-Learn\\nA proven track record of solving problems with data\\nKnowledge of NoSQL or SQL databases like Couchbase, Elasticsearch and PostgreSQL\\nAn avid interest in the development, marketing and monetisation of mobile games\\n\\nDesirable\\nExperience with AWS - Redshift, EC2, Lambda\\nExperience managing data projects from prototype to production tools\\n\\nWe offer\\nWe want everyone involved in our games to share our success, that’s why we have a generous team profit sharing scheme from day 1 of employment\\nIn addition to a competitive salary we also offer private medical cover and life assurance\\nCreative Wednesdays! (Design and make your own games every Wednesday)\\n20 days of paid holidays plus bank holidays\\nGreat work-life balance with flexible working hours\\nQuarterly team building days - work hard, play hard!\\nMonthly employee awards\\nFree snacks, fruit and drinks\\nOur philosophy\\nWe firmly believe in creativity and innovation and that a fundamental requirement for a successful and happy company is having the right mix of individuals. With the right people in the right environment anything and everything is possible',\n",
       " '  Proven experience as a Data Scientist or Data Analyst\\nExperience in data mining\\nUnderstanding of machine-learning and operations research\\nKnowledge of R, SQL and Python; familiarity with Scala, Java or C++ is an asset\\nExperience using business intelligence tools (e.g. Tableau) and data frameworks (e.g. Hadoop)\\nAnalytical mind and business acumen\\nStrong math skills (e.g. statistics, algebra)\\nProblem-solving aptitude\\nExcellent communication and presentation skills\\nBSc/BA in Computer Science, Engineering or relevant field; graduate degree in Data Science or other quantitative field is preferred',\n",
       " '  A day in the Life of Data Scientist at Brillio, you will:\\nPartner closely with project managers to deconstruct business problems of the client, develop data models and algorithms that deliver meaningful insights\\nTake ownership of whole end-to-end predictive modeling projects - from data processing, training, optimization to real-time monitoring and maintenance\\nDevelop solutions to data driven problems, and communicate relevant insights to stakeholders through storyboards/presentations\\nStay abreast with current technical and industry development and constantly strive to devise innovative statistical models for data analysis\\nActively participate in external forums and industry conclaves\\nFor you to be successful, you must:\\nCreate value by meeting needs of stakeholders and delivering high-quality results\\nOpen and flexible to accommodate and implement new ideas, understand business complexities, nurture innovation and challenge the status quo persistently\\nStrive to be subject matter expert in chosen area of specialty through continuous learning\\nHave an eye for detail to ensure accurate conclusions in data analysis and presentations. Disseminate knowledge and share own experiential learning with others\\nYou ll bring this to the table:\\nCritical Thinking: ability to work in ambiguous situations with unstructured problems\\nStrong analytical skills with the ability to collect, organize, review significant amounts of information\\nExperience using statistical computer language Python to manipulate data and draw insights from large data sets.\\nWorking knowledge in basic statistical concepts such as properties of distributions, statistical tests and their proper usage\\nExpertise in some of the advanced machine learning techniques such as Clustering, Regression/Classification, Time Series Analysis, Network Analysis, Popular Deep Learning architectures and theory, simulation, scenario analysis\\nClear, professional written and verbal communication skills, ability to easily communicate complex ideas\\nExperience with any distributed data/computing tools: Map/Reduce, Hadoop, Hive, Spark, etc.\\nExperience with machine learning on Cloud.',\n",
       " 'We are looking for developers at various levels starting at 2 years to 5 years of experience in ML(Machine Learning).\\nProficeint with Python, (Pandas, Numpy, Matplotlib, Scikit-learn, Pytorch).\\nHas end to end MLOPS ideas or projects Self Learner and adapatble.\\nLocation - Remote',\n",
       " 'Kwalee is one of the world\\'s leading multiplatform game publishers, with well over 600 million downloads worldwide for mobile hits such as Draw It, Teacher Simulator, Lets Be Cops 3D and Makeover Studio 3D. Alongside this, we also have a growing PC and console team of incredible pedigree that is on the hunt for great new titles to join TENS! and Eternal Hope.\\n\\nWith a team of talented people collaborating daily between our studios in Leamington Spa, Bangalore and Beijing, or on a remote basis from Turkey, Brazil, the Philippines and many more, we have a truly global team making games for a global audience. And its paying off: Kwalee games have been downloaded in every country on earth! If you think you\\'re a good fit for one of our remote vacancies, we want to hear from you wherever you are based.\\n\\nFounded in 2011 by David Darling CBE, a key architect of the UK games industry who previously co-founded and led Codemasters for many years, our team also includes legends such as Andrew Graham (creator of Micro Machines series) and Jason Falcus (programmer of classics including NBA Jam) alongside a growing and diverse team of global gaming experts. Everyone contributes creatively to Kwalees success, with all employees eligible to pitch their own game ideas on Creative Wednesdays, and we’re proud to have built our success on this inclusive principle. Could your idea be the next global hit?\\n\\nAs a Senior Data Scientist you will help utilise masses of data generated by Kwalee players all over the world to solve complex problems using cutting edge techniques.\\nYou\\'ll be part of a team that will be based in the new office that we\\'re going to open in Bangalore.\\nWhat you tell your friends you do\\n\"My models optimise the performance of Kwalee games and advertising every day!”\\n\\nWhat you will really be doing\\nBuild data solutions to solve business problems\\nUse statistical testing and predictive modelling to recommend and implement changes to marketing strategy along with in game features and design\\nLeverage the huge amount of data generated by our players and advertising campaigns everyday to build models and iterate existing services to improve and automate decision making across the company\\nWork with the marketing, publishing and development teams to understand the problems they are facing and how to solve them\\n\\nHow you will be doing this\\nYou’ll be part of an agile, multidisciplinary and creative team and work closely with them to ensure the best results.\\nYou\\'ll think creatively and be motivated by challenges and constantly striving for the best.\\nYou’ll work with cutting edge technology, if you need software or hardware to get the job done efficiently, you can get it. We even have a robot!\\n\\nTeam\\nOur talented team is our signature. We have a highly creative atmosphere with more than 150 staff where you’ll have the opportunity to contribute daily to important decisions. You’ll work within an extremely experienced, passionate and diverse team, including David Darling and the creator of the Micro Machines video games.\\n\\nSkills and requirements\\nA degree in a numerically focussed degree discipline such as, Maths, Physics, Economics, Chemistry, Engineering, Biological Sciences\\n5+Years experience using Python for data analysis and visualisation and using libraries such as Tensorflow, Keras and Scikit-Learn\\nA proven track record of solving problems with data\\nKnowledge of NoSQL or SQL databases like Couchbase, Elasticsearch and PostgreSQL\\nAn avid interest in the development, marketing and monetisation of mobile games\\n\\nDesirable\\nExperience with AWS - Redshift, EC2, Lambda\\nExperience managing data projects from prototype to production tools\\n\\nWe offer\\nWe want everyone involved in our games to share our success, that’s why we have a generous team profit sharing scheme from day 1 of employment\\nIn addition to a competitive salary we also offer private medical cover and life assurance\\nCreative Wednesdays! (Design and make your own games every Wednesday)\\n20 days of paid holidays plus bank holidays\\nGreat work-life balance with flexible working hours\\nQuarterly team building days - work hard, play hard!\\nMonthly employee awards\\nFree snacks, fruit and drinks\\n\\nOur philosophy\\nWe firmly believe in creativity and innovation and that a fundamental requirement for a successful and happy company is having the right mix of individuals. With the right people in the right environment anything and everything is possible.',\n",
       " 'Job Description:\\nResponsibilities:\\nOwn and execute end to end delivery of one or more than one analytics project\\nUnderstand requirements from Product Managers/Business Users Translating muddy and fuzzy business needs into clear analytical problems through structured problem-solving Extract data from multiple data sources, develop predictive models using appropriate variables and ML/deep learning techniques and operationalize the models on a BI platform for end users consumption Validate the models developed against statistical robustness and business sense Perform ad-hoc deep dive analysis proactively / based on stated needs Generate insights based on the data patterns and recommend actions to be taken by the business; Communicate the results to technical as well as business stakeholders across different hierarchies Create technical documentation and provide post-production support for a time-bound period\\nPrimary skillset:\\nEnd to end data science project life cycles from use case framing, data collection, data exploration, model building to deployment Good knowledge in statistics and deep understanding on ML algorithms and their usage (Time series, Regression, Classification, Clustering, Anomaly Detection, NLP etc.)\\nSecondary skillset:\\nDeep expertise in analytical tools: At least one of the statistical computing language (R, Python, Tensorflow, Keras etc.) At least one of the query language (T-SQL, PLSQL, Hive, Spark, Impala, Cassandra, MongoDB etc.). Knowledge of big data is essential At least one of the reporting/visualization tools (Tableau, QlikView, SSRS, Power BI, D3, Angular JS etc.) Proven record of successfully building and operationalizing variety of machine learning solutions\\nExperience level: 01yrs-02yrs',\n",
       " '-',\n",
       " 'We are looking for an energetic and experienced person as Sr/Lead Data Scientist. The chosen candidate will be responsible for interacting with clients and developing all aspects of data mining, predictive analytic, solution development to name a few.\\nRequirements\\nLead and take part in end-to-end ML (Machine Learning) projects deployments that require feasibility analysis, design, development, validation, and application of state-of-the art data science solutions.\\nNeed to deliver solutions to production through the software development lifecycle.\\nYou will have to push the state of the art application in terms of data mining, visualization, predictive modelling, statistics, trend analysis, and other data analysis techniques to solve complex business problems including recommender systems, Customer sentiment modelling, customer life-cycle modelling, Spare parts inventory optimization, spare parts pricing, warranty, After market channel effectiveness.\\nWrite production ready code and deploy real time ML models; expose ML outputs through APIs.\\nHypothesis Testing and Design of experiments to analyze and monitor results\\nPartner with Data/ML engineers and vendor partners for input data pipes development and ML models automation.\\nSkills\\n5 10 years of Applied Machine learning experience in the fields of Machine Learning, Recommender Systems, Statistical Modelling, Predictive Modelling.\\nNote: We are looking for candidates who are presently serving their notice or who can join us within 15-20 days.',\n",
       " '-',\n",
       " 'What a Manager, DS Center of Excellence does at Visa:\\nThe person will be part of the Visa Consulting and Analytics (VCA) team will report into Data science lead\\nSpecific responsibilities will include:\\nBuilding & helping our partners to build data science capabilities & analytical solutions to solve their business problems\\nWorking knowledge in retail banking & credit card domain to guide the teams on the solution architecture\\nDrive innovation through using data science techniques\\nAct as data science advocate within our partners, advising and coaching analytical teams and sharing best practices and case studies.\\nContinually look at the environment to challenge our assumptions around new sources of data, potential analytics partners, tools, talent and infrastructure.\\nExplore leading methodologies and best practices to other teams and importing successful methodologies from other international markets\\nWhy this is important to Visa\\nVisas Consulting and Data Science team is a key part of the Global Solutions organization; a high-performing team of data scientists, data analysts and statisticians helping major organizations adapt and evolve to meet the changes taking place in technology, finance, and commerce; with cutting-edge, creative and advanced analytic solutions. The purpose of this team is to help Visas clients to grow their business & solve their problems by providing consulting services through visa data.\\n\\n\\nQualifications\\nWhat you will need:\\nBachelors degree in Statistics, Mathematics, Computer Science, related field\\nExperience in Card or Retail banking analytical domain is necessary\\nExperience in managing multiple stakeholders at client site\\n5+ years of experience in data science, analytics, and statistical modeling or relevant area\\nExperience in SQL and statistical programming languages\\nWork experience scaling data engineering such as APIs or data self-service solutions\\nWhat will also help:\\nKnowledge of Payment industry\\nExperience in working closely with data science community\\nOutstanding problem-solving skills, with demonstrated ability to think creatively and strategically\\nSelf-motivated, results oriented individual with the ability to handle numerous projects\\nTechnology-driven mindset, digitally curious\\nUp-to-date with digital and technology literature, trends.\\nAble to challenge the status quo diplomatically and bring teams along with strategy.',\n",
       " 'Kwalee is one of the world\\'s leading multiplatform game publishers, with well over 600 million downloads worldwide for mobile hits such as Draw It, Teacher Simulator, Lets Be Cops 3D and Makeover Studio 3D. Alongside this, we also have a growing PC and console team of incredible pedigree that is on the hunt for great new titles to join TENS! and Eternal Hope.\\n\\nWith a team of talented people collaborating daily between our studios in Leamington Spa, Bangalore and Beijing, or on a remote basis from Turkey, Brazil, the Philippines and many more, we have a truly global team making games for a global audience. And its paying off: Kwalee games have been downloaded in every country on earth! If you think you\\'re a good fit for one of our remote vacancies, we want to hear from you wherever you are based.\\n\\nFounded in 2011 by David Darling CBE, a key architect of the UK games industry who previously co-founded and led Codemasters for many years, our team also includes legends such as Andrew Graham (creator of Micro Machines series) and Jason Falcus (programmer of classics including NBA Jam) alongside a growing and diverse team of global gaming experts. Everyone contributes creatively to Kwalees success, with all employees eligible to pitch their own game ideas on Creative Wednesdays, and were proud to have built our success on this inclusive principle. Could your idea be the next global hit?\\n\\nAs a Data Scientist you will help utilise masses of data generated by Kwalee players all over the world to solve complex problems using cutting edge techniques.\\n\\nYou\\'ll be part of a team that will be based in the new office that we\\'re going to open in Bangalore.\\nWhat you tell your friends you do\\n\"My models optimise the performance of Kwalee games and advertising every day!”\\n\\nWhat you will really be doing\\nBuild data solutions to solve business problems\\nUse statistical testing and predictive modelling to recommend and implement changes to marketing strategy along with in game features and design\\nLeverage the huge amount of data generated by our players and advertising campaigns everyday to build models and iterate existing services to improve and automate decision making across the company\\nWork with the marketing, publishing and development teams to understand the problems they are facing and how to solve them\\n\\nHow you will be doing this\\nYou’ll be part of an agile, multidisciplinary and creative team and work closely with them to ensure the best results.\\nYou\\'ll think creatively and be motivated by challenges and constantly striving for the best.\\nYou’ll work with cutting edge technology, if you need software or hardware to get the job done efficiently, you can get it. We even have a robot!\\n\\nTeam\\nOur talented team is our signature. We have a highly creative atmosphere with more than 150 staff where you’ll have the opportunity to contribute daily to important decisions. You’ll work within an extremely experienced, passionate and diverse team, including David Darling and the creator of the Micro Machines video games.\\n\\nSkills and requirements\\nA degree in a numerically focussed degree discipline such as, Maths, Physics, Economics, Chemistry, Engineering, Biological Sciences\\n2+Years experience using Python for data analysis and visualisation and using libraries such as Tensorflow, Keras and Scikit-Learn\\nA proven track record of solving problems with data\\nKnowledge of NoSQL or SQL databases like Couchbase, Elasticsearch and PostgreSQL\\nAn avid interest in the development, marketing and monetisation of mobile games\\n\\nDesirable\\nExperience with AWS - Redshift, EC2, Lambda\\nExperience managing data projects from prototype to production tools\\n\\nWe offer\\nWe want everyone involved in our games to share our success, that’s why we have a generous team profit sharing scheme from day 1 of employment\\nIn addition to a competitive salary we also offer private medical cover and life assurance\\nCreative Wednesdays! (Design and make your own games every Wednesday)\\n20 days of paid holidays plus bank holidays\\nGreat work-life balance with flexible working hours\\nQuarterly team building days - work hard, play hard!\\nMonthly employee awards\\nFree snacks, fruit and drinks\\nOur philosophy\\nWe firmly believe in creativity and innovation and that a fundamental requirement for a successful and happy company is having the right mix of individuals. With the right people in the right environment anything and everything is possible',\n",
       " '  Proven experience as a Data Scientist or Data Analyst\\nExperience in data mining\\nUnderstanding of machine-learning and operations research\\nKnowledge of R, SQL and Python; familiarity with Scala, Java or C++ is an asset\\nExperience using business intelligence tools (e.g. Tableau) and data frameworks (e.g. Hadoop)\\nAnalytical mind and business acumen\\nStrong math skills (e.g. statistics, algebra)\\nProblem-solving aptitude\\nExcellent communication and presentation skills\\nBSc/BA in Computer Science, Engineering or relevant field; graduate degree in Data Science or other quantitative field is preferred',\n",
       " '  A day in the Life of Data Scientist at Brillio, you will:\\nPartner closely with project managers to deconstruct business problems of the client, develop data models and algorithms that deliver meaningful insights\\nTake ownership of whole end-to-end predictive modeling projects - from data processing, training, optimization to real-time monitoring and maintenance\\nDevelop solutions to data driven problems, and communicate relevant insights to stakeholders through storyboards/presentations\\nStay abreast with current technical and industry development and constantly strive to devise innovative statistical models for data analysis\\nActively participate in external forums and industry conclaves\\nFor you to be successful, you must:\\nCreate value by meeting needs of stakeholders and delivering high-quality results\\nOpen and flexible to accommodate and implement new ideas, understand business complexities, nurture innovation and challenge the status quo persistently\\nStrive to be subject matter expert in chosen area of specialty through continuous learning\\nHave an eye for detail to ensure accurate conclusions in data analysis and presentations. Disseminate knowledge and share own experiential learning with others\\nYou ll bring this to the table:\\nCritical Thinking: ability to work in ambiguous situations with unstructured problems\\nStrong analytical skills with the ability to collect, organize, review significant amounts of information\\nExperience using statistical computer language Python to manipulate data and draw insights from large data sets.\\nWorking knowledge in basic statistical concepts such as properties of distributions, statistical tests and their proper usage\\nExpertise in some of the advanced machine learning techniques such as Clustering, Regression/Classification, Time Series Analysis, Network Analysis, Popular Deep Learning architectures and theory, simulation, scenario analysis\\nClear, professional written and verbal communication skills, ability to easily communicate complex ideas\\nExperience with any distributed data/computing tools: Map/Reduce, Hadoop, Hive, Spark, etc.\\nExperience with machine learning on Cloud.',\n",
       " 'We are looking for developers at various levels starting at 2 years to 5 years of experience in ML(Machine Learning).\\nProficeint with Python, (Pandas, Numpy, Matplotlib, Scikit-learn, Pytorch).\\nHas end to end MLOPS ideas or projects Self Learner and adapatble.\\nLocation - Remote']"
      ]
     },
     "execution_count": 51,
     "metadata": {},
     "output_type": "execute_result"
    }
   ],
   "source": [
    "job_description2"
   ]
  },
  {
   "cell_type": "code",
   "execution_count": 52,
   "metadata": {},
   "outputs": [
    {
     "data": {
      "text/plain": [
       "20"
      ]
     },
     "execution_count": 52,
     "metadata": {},
     "output_type": "execute_result"
    }
   ],
   "source": [
    "len(job_description2)"
   ]
  },
  {
   "cell_type": "code",
   "execution_count": null,
   "metadata": {},
   "outputs": [],
   "source": []
  },
  {
   "cell_type": "code",
   "execution_count": 53,
   "metadata": {},
   "outputs": [
    {
     "data": {
      "text/plain": [
       "(20, 20, 20, 20)"
      ]
     },
     "execution_count": 53,
     "metadata": {},
     "output_type": "execute_result"
    }
   ],
   "source": [
    "# checking lenghts of all the collected data\n",
    "len(Job_title2),len(Job_location2),len(Company_name2), len(job_description2)"
   ]
  },
  {
   "cell_type": "code",
   "execution_count": 54,
   "metadata": {},
   "outputs": [
    {
     "data": {
      "text/html": [
       "<div>\n",
       "<style scoped>\n",
       "    .dataframe tbody tr th:only-of-type {\n",
       "        vertical-align: middle;\n",
       "    }\n",
       "\n",
       "    .dataframe tbody tr th {\n",
       "        vertical-align: top;\n",
       "    }\n",
       "\n",
       "    .dataframe thead th {\n",
       "        text-align: right;\n",
       "    }\n",
       "</style>\n",
       "<table border=\"1\" class=\"dataframe\">\n",
       "  <thead>\n",
       "    <tr style=\"text-align: right;\">\n",
       "      <th></th>\n",
       "      <th>Job title</th>\n",
       "      <th>Job location</th>\n",
       "      <th>Company name</th>\n",
       "      <th>Full job description</th>\n",
       "    </tr>\n",
       "  </thead>\n",
       "  <tbody>\n",
       "    <tr>\n",
       "      <th>0</th>\n",
       "      <td>Senior Data Scientist</td>\n",
       "      <td>Bangalore/Bengaluru</td>\n",
       "      <td>Kwalee India Pvt Ltd.</td>\n",
       "      <td>Kwalee is one of the world's leading multiplat...</td>\n",
       "    </tr>\n",
       "    <tr>\n",
       "      <th>1</th>\n",
       "      <td>Data Scientist</td>\n",
       "      <td>Bangalore/Bengaluru\\n(WFH during Covid)</td>\n",
       "      <td>Allegis Services India Pvt. Ltd.</td>\n",
       "      <td>Job Description:\\nResponsibilities:\\nOwn and e...</td>\n",
       "    </tr>\n",
       "    <tr>\n",
       "      <th>2</th>\n",
       "      <td>Data Scientist</td>\n",
       "      <td>Bangalore/Bengaluru\\n(WFH during Covid)</td>\n",
       "      <td>Allegis Services India Pvt. Ltd.</td>\n",
       "      <td>-</td>\n",
       "    </tr>\n",
       "    <tr>\n",
       "      <th>3</th>\n",
       "      <td>Senior/Lead Data Scientist</td>\n",
       "      <td>Bangalore/Bengaluru</td>\n",
       "      <td>Scienaptic Systems</td>\n",
       "      <td>We are looking for an energetic and experience...</td>\n",
       "    </tr>\n",
       "    <tr>\n",
       "      <th>4</th>\n",
       "      <td>Lead Data Scientist</td>\n",
       "      <td>Bangalore/Bengaluru\\n(WFH during Covid)</td>\n",
       "      <td>Gadgeon Smart Systems Pvt. Ltd</td>\n",
       "      <td>-</td>\n",
       "    </tr>\n",
       "    <tr>\n",
       "      <th>5</th>\n",
       "      <td>Senior Data Scientist</td>\n",
       "      <td>Bangalore/Bengaluru</td>\n",
       "      <td>Visa Inc.</td>\n",
       "      <td>What a Manager, DS Center of Excellence does a...</td>\n",
       "    </tr>\n",
       "    <tr>\n",
       "      <th>6</th>\n",
       "      <td>Data Scientist</td>\n",
       "      <td>Bangalore/Bengaluru</td>\n",
       "      <td>Kwalee India Pvt Ltd.</td>\n",
       "      <td>Kwalee is one of the world's leading multiplat...</td>\n",
       "    </tr>\n",
       "    <tr>\n",
       "      <th>7</th>\n",
       "      <td>Data Scientist</td>\n",
       "      <td>Bangalore/Bengaluru</td>\n",
       "      <td>Talent Zone Consultant</td>\n",
       "      <td>Proven experience as a Data Scientist or Dat...</td>\n",
       "    </tr>\n",
       "    <tr>\n",
       "      <th>8</th>\n",
       "      <td>Data Scientist</td>\n",
       "      <td>Bangalore/Bengaluru</td>\n",
       "      <td>Brillio</td>\n",
       "      <td>A day in the Life of Data Scientist at Brill...</td>\n",
       "    </tr>\n",
       "    <tr>\n",
       "      <th>9</th>\n",
       "      <td>Data Scientist</td>\n",
       "      <td>Mumbai, Hyderabad/Secunderabad, Pune, Chennai,...</td>\n",
       "      <td>Philter HR Soultion</td>\n",
       "      <td>We are looking for developers at various level...</td>\n",
       "    </tr>\n",
       "  </tbody>\n",
       "</table>\n",
       "</div>"
      ],
      "text/plain": [
       "                    Job title  \\\n",
       "0       Senior Data Scientist   \n",
       "1              Data Scientist   \n",
       "2              Data Scientist   \n",
       "3  Senior/Lead Data Scientist   \n",
       "4         Lead Data Scientist   \n",
       "5       Senior Data Scientist   \n",
       "6              Data Scientist   \n",
       "7              Data Scientist   \n",
       "8              Data Scientist   \n",
       "9              Data Scientist   \n",
       "\n",
       "                                        Job location  \\\n",
       "0                                Bangalore/Bengaluru   \n",
       "1            Bangalore/Bengaluru\\n(WFH during Covid)   \n",
       "2            Bangalore/Bengaluru\\n(WFH during Covid)   \n",
       "3                                Bangalore/Bengaluru   \n",
       "4            Bangalore/Bengaluru\\n(WFH during Covid)   \n",
       "5                                Bangalore/Bengaluru   \n",
       "6                                Bangalore/Bengaluru   \n",
       "7                                Bangalore/Bengaluru   \n",
       "8                                Bangalore/Bengaluru   \n",
       "9  Mumbai, Hyderabad/Secunderabad, Pune, Chennai,...   \n",
       "\n",
       "                       Company name  \\\n",
       "0             Kwalee India Pvt Ltd.   \n",
       "1  Allegis Services India Pvt. Ltd.   \n",
       "2  Allegis Services India Pvt. Ltd.   \n",
       "3                Scienaptic Systems   \n",
       "4    Gadgeon Smart Systems Pvt. Ltd   \n",
       "5                         Visa Inc.   \n",
       "6             Kwalee India Pvt Ltd.   \n",
       "7            Talent Zone Consultant   \n",
       "8                           Brillio   \n",
       "9               Philter HR Soultion   \n",
       "\n",
       "                                Full job description  \n",
       "0  Kwalee is one of the world's leading multiplat...  \n",
       "1  Job Description:\\nResponsibilities:\\nOwn and e...  \n",
       "2                                                  -  \n",
       "3  We are looking for an energetic and experience...  \n",
       "4                                                  -  \n",
       "5  What a Manager, DS Center of Excellence does a...  \n",
       "6  Kwalee is one of the world's leading multiplat...  \n",
       "7    Proven experience as a Data Scientist or Dat...  \n",
       "8    A day in the Life of Data Scientist at Brill...  \n",
       "9  We are looking for developers at various level...  "
      ]
     },
     "execution_count": 54,
     "metadata": {},
     "output_type": "execute_result"
    }
   ],
   "source": [
    "#creating dataframe\n",
    "Naukri2 = pd.DataFrame()\n",
    "Naukri2 ['Job title'] = Job_title2[:10]\n",
    "Naukri2 ['Job location'] = Job_location2[:10]\n",
    "Naukri2 ['Company name'] = Company_name2[:10]\n",
    "Naukri2 ['Full job description'] = job_description2[:10]\n",
    "Naukri2"
   ]
  },
  {
   "cell_type": "code",
   "execution_count": null,
   "metadata": {},
   "outputs": [],
   "source": []
  },
  {
   "cell_type": "markdown",
   "metadata": {},
   "source": [
    "### Q3: In this question you have to scrape data using the filters available on the webpage as shown below:\n",
    "\n",
    "You have to use the location and salary filter.\n",
    "\n",
    "You have to scrape data for “Data Scientist” designation for first 10 job results.\n",
    "\n",
    "You have to scrape the job-title, job-location, company_name, experience_required.\n",
    "\n",
    "The location filter to be used is “Delhi/NCR”\n",
    "\n",
    "The salary filter to be used is “3-6” lakhs\n",
    "\n",
    "The task will be done as shown in the below steps:\n",
    "\n",
    "1. first get the webpage https://www.naukri.com/\n",
    "2. Enter “Data Scientist” in “Skill,Designations,Companies” field .\n",
    "3. Then click the search button.\n",
    "4. Then apply the location filter and salary filter by checking the respective boxes\n",
    "4. Then scrape the data for the first 10 jobs results you get.\n",
    "5. Finally create a dataframe of the scraped data.\n",
    "\n",
    "Note- All of the above steps have to be done in code. No step is to be done manually."
   ]
  },
  {
   "cell_type": "code",
   "execution_count": null,
   "metadata": {},
   "outputs": [],
   "source": []
  },
  {
   "cell_type": "code",
   "execution_count": 59,
   "metadata": {},
   "outputs": [],
   "source": [
    "driver.get('https://www.naukri.com/')"
   ]
  },
  {
   "cell_type": "code",
   "execution_count": 60,
   "metadata": {},
   "outputs": [],
   "source": [
    "# finding elements job search, location\n",
    "\n",
    "#job search bar\n",
    "searchJob3 = driver.find_element_by_id('qsb-keyword-sugg')\n",
    "searchJob3.send_keys('Data Scientist')"
   ]
  },
  {
   "cell_type": "code",
   "execution_count": 61,
   "metadata": {},
   "outputs": [],
   "source": [
    "#Search button field\n",
    "searchButton3 = driver.find_element_by_xpath('//*[@id=\"root\"]/div[3]/div[2]/section/div/form/div[3]/button')"
   ]
  },
  {
   "cell_type": "code",
   "execution_count": 62,
   "metadata": {},
   "outputs": [],
   "source": [
    "# search button click action using code\n",
    "searchButton3.click()"
   ]
  },
  {
   "cell_type": "code",
   "execution_count": 67,
   "metadata": {},
   "outputs": [],
   "source": [
    "#selecting filter location Delhi/NCR field\n",
    "filterLoc = driver.find_element_by_xpath(\"//span[text()='Delhi / NCR']\")"
   ]
  },
  {
   "cell_type": "code",
   "execution_count": 68,
   "metadata": {},
   "outputs": [],
   "source": [
    "#applying click on location filter\n",
    "filterLoc.click()"
   ]
  },
  {
   "cell_type": "code",
   "execution_count": 69,
   "metadata": {},
   "outputs": [],
   "source": [
    "#selecting filter Salary to 3-6 lahks field\n",
    "filterSalary = driver.find_element_by_xpath(\"//span[text()='3-6 Lakhs']\")"
   ]
  },
  {
   "cell_type": "code",
   "execution_count": 70,
   "metadata": {},
   "outputs": [],
   "source": [
    "#applying click on Salary\n",
    "filterSalary.click()"
   ]
  },
  {
   "cell_type": "code",
   "execution_count": null,
   "metadata": {},
   "outputs": [],
   "source": []
  },
  {
   "cell_type": "code",
   "execution_count": 71,
   "metadata": {},
   "outputs": [],
   "source": [
    "# scraped web page url\n",
    "url3 = 'https://www.naukri.com/data-scientist-jobs?k=data%20scientist&cityTypeGid=9508&ctcFilter=3to6'"
   ]
  },
  {
   "cell_type": "code",
   "execution_count": 72,
   "metadata": {},
   "outputs": [],
   "source": [
    "# web page open with url\n",
    "driver.get(url3)"
   ]
  },
  {
   "cell_type": "code",
   "execution_count": null,
   "metadata": {},
   "outputs": [],
   "source": []
  },
  {
   "cell_type": "code",
   "execution_count": 73,
   "metadata": {},
   "outputs": [],
   "source": [
    "# Creating empty list for scrap data\n",
    "job_title3 = []\n",
    "job_location3 = []\n",
    "company_name3 = []\n",
    "experience_required3 = []"
   ]
  },
  {
   "cell_type": "code",
   "execution_count": 74,
   "metadata": {},
   "outputs": [
    {
     "data": {
      "text/plain": [
       "[<selenium.webdriver.remote.webelement.WebElement (session=\"ab7364aff12b3e4c74c400d176dabf65\", element=\"4b37aebf-fb3a-48ba-8ca0-b46fbbc5f62f\")>,\n",
       " <selenium.webdriver.remote.webelement.WebElement (session=\"ab7364aff12b3e4c74c400d176dabf65\", element=\"0cb6bd5b-9a4c-4e7e-80a5-5d3946a167d6\")>,\n",
       " <selenium.webdriver.remote.webelement.WebElement (session=\"ab7364aff12b3e4c74c400d176dabf65\", element=\"a9c9b339-6540-48a1-a661-93234c73e625\")>,\n",
       " <selenium.webdriver.remote.webelement.WebElement (session=\"ab7364aff12b3e4c74c400d176dabf65\", element=\"b96f863d-0e80-4d0e-b35d-9dd4833ce3a8\")>,\n",
       " <selenium.webdriver.remote.webelement.WebElement (session=\"ab7364aff12b3e4c74c400d176dabf65\", element=\"3f2dc74e-f55d-4865-912a-b5a9c16d74be\")>,\n",
       " <selenium.webdriver.remote.webelement.WebElement (session=\"ab7364aff12b3e4c74c400d176dabf65\", element=\"e03a8f6c-c506-4029-84d8-42c0ad35be33\")>,\n",
       " <selenium.webdriver.remote.webelement.WebElement (session=\"ab7364aff12b3e4c74c400d176dabf65\", element=\"26d1655f-2198-4679-ab5f-733b68400f66\")>,\n",
       " <selenium.webdriver.remote.webelement.WebElement (session=\"ab7364aff12b3e4c74c400d176dabf65\", element=\"a49c5bfb-16eb-4929-89db-f72b1e303771\")>,\n",
       " <selenium.webdriver.remote.webelement.WebElement (session=\"ab7364aff12b3e4c74c400d176dabf65\", element=\"1711aa4d-5c64-400d-9153-a38cb7e6482d\")>,\n",
       " <selenium.webdriver.remote.webelement.WebElement (session=\"ab7364aff12b3e4c74c400d176dabf65\", element=\"e9c8c207-6eb5-442e-86ef-b738fa04c248\")>,\n",
       " <selenium.webdriver.remote.webelement.WebElement (session=\"ab7364aff12b3e4c74c400d176dabf65\", element=\"29599bcb-611c-4925-9110-28129c293dce\")>,\n",
       " <selenium.webdriver.remote.webelement.WebElement (session=\"ab7364aff12b3e4c74c400d176dabf65\", element=\"1e097f48-8e54-49fc-9fad-a6411b417858\")>,\n",
       " <selenium.webdriver.remote.webelement.WebElement (session=\"ab7364aff12b3e4c74c400d176dabf65\", element=\"c475593e-4ae5-49cb-84ab-6d1aca206f4e\")>,\n",
       " <selenium.webdriver.remote.webelement.WebElement (session=\"ab7364aff12b3e4c74c400d176dabf65\", element=\"782204cb-eba7-4e57-b180-f31da08ed657\")>,\n",
       " <selenium.webdriver.remote.webelement.WebElement (session=\"ab7364aff12b3e4c74c400d176dabf65\", element=\"a0f79bbe-4221-40c3-9d2c-a17f9c152114\")>,\n",
       " <selenium.webdriver.remote.webelement.WebElement (session=\"ab7364aff12b3e4c74c400d176dabf65\", element=\"fdce3070-093d-4193-9c01-5bc9179bc392\")>,\n",
       " <selenium.webdriver.remote.webelement.WebElement (session=\"ab7364aff12b3e4c74c400d176dabf65\", element=\"c6805e34-38a1-437a-bbb3-d71d7ed3ef43\")>,\n",
       " <selenium.webdriver.remote.webelement.WebElement (session=\"ab7364aff12b3e4c74c400d176dabf65\", element=\"bdfc1ff6-bdfa-415e-9a6c-ed9d277a24df\")>,\n",
       " <selenium.webdriver.remote.webelement.WebElement (session=\"ab7364aff12b3e4c74c400d176dabf65\", element=\"3a70646f-c3f8-42af-a33e-ca348895fb33\")>,\n",
       " <selenium.webdriver.remote.webelement.WebElement (session=\"ab7364aff12b3e4c74c400d176dabf65\", element=\"4d911231-0cff-4b32-b974-6f4b541d7d05\")>]"
      ]
     },
     "execution_count": 74,
     "metadata": {},
     "output_type": "execute_result"
    }
   ],
   "source": [
    "#finding all job titles\n",
    "title_tag3 = driver.find_elements_by_xpath (\"//a[@class='title fw500 ellipsis']\")\n",
    "title_tag3"
   ]
  },
  {
   "cell_type": "code",
   "execution_count": 75,
   "metadata": {},
   "outputs": [
    {
     "data": {
      "text/plain": [
       "['Associate Data Scientist',\n",
       " 'Data Scientist I/II/III',\n",
       " 'Job Opportunity || Data Scientist || HCL Technologies',\n",
       " 'Data Scientist',\n",
       " 'Academic Counsellor - Data Scientist',\n",
       " 'Data Scientist',\n",
       " 'Data Scientist I/II/III',\n",
       " 'Data Scientist Internship',\n",
       " 'Data Scientist',\n",
       " 'Data Scientist',\n",
       " 'Data Scientist/ Machine Learning Engineer',\n",
       " 'Data Scientist / Data Analyst / Business Analytics - MNC Jobs Freshers',\n",
       " 'Data Scientist - Insights For Delhi (SQL needed)',\n",
       " 'Senior Data Scientist',\n",
       " 'Only Fresher / Data Scientist / Data Analyst / Analytics - MNC Jobs',\n",
       " 'Data Scientist',\n",
       " 'Data Scientist',\n",
       " 'Data Scientist',\n",
       " 'Data Scientist',\n",
       " 'Data Scientist']"
      ]
     },
     "execution_count": 75,
     "metadata": {},
     "output_type": "execute_result"
    }
   ],
   "source": [
    "# extracting the text from title_tag3 data using for loop\n",
    "for i in title_tag3:\n",
    "    title=i.text\n",
    "    job_title3.append(title)\n",
    "job_title3"
   ]
  },
  {
   "cell_type": "code",
   "execution_count": 76,
   "metadata": {
    "scrolled": true
   },
   "outputs": [
    {
     "data": {
      "text/plain": [
       "[<selenium.webdriver.remote.webelement.WebElement (session=\"ab7364aff12b3e4c74c400d176dabf65\", element=\"69c98301-ae0d-4a2d-9931-fa6354695c3d\")>,\n",
       " <selenium.webdriver.remote.webelement.WebElement (session=\"ab7364aff12b3e4c74c400d176dabf65\", element=\"95c511cd-78f3-4e59-95cb-23d7722c8725\")>,\n",
       " <selenium.webdriver.remote.webelement.WebElement (session=\"ab7364aff12b3e4c74c400d176dabf65\", element=\"b698720e-b9a4-4546-b8ad-f0b407c3e044\")>,\n",
       " <selenium.webdriver.remote.webelement.WebElement (session=\"ab7364aff12b3e4c74c400d176dabf65\", element=\"1266ed7e-19fe-4e8b-80fe-55caa7164a64\")>,\n",
       " <selenium.webdriver.remote.webelement.WebElement (session=\"ab7364aff12b3e4c74c400d176dabf65\", element=\"9a828813-81d9-4843-b984-fd7cb4057cae\")>,\n",
       " <selenium.webdriver.remote.webelement.WebElement (session=\"ab7364aff12b3e4c74c400d176dabf65\", element=\"8ecadf76-2d02-49e3-88bc-6bd50449571c\")>,\n",
       " <selenium.webdriver.remote.webelement.WebElement (session=\"ab7364aff12b3e4c74c400d176dabf65\", element=\"df3f2c1c-5b68-48ea-84db-27b1f2364257\")>,\n",
       " <selenium.webdriver.remote.webelement.WebElement (session=\"ab7364aff12b3e4c74c400d176dabf65\", element=\"4b265a45-ed72-474d-9ddd-f0e32483fe2a\")>,\n",
       " <selenium.webdriver.remote.webelement.WebElement (session=\"ab7364aff12b3e4c74c400d176dabf65\", element=\"6ad640a2-9ba7-4b2c-a20f-c228e60d69ba\")>,\n",
       " <selenium.webdriver.remote.webelement.WebElement (session=\"ab7364aff12b3e4c74c400d176dabf65\", element=\"58805cec-c93a-476b-bef8-0075f02d2078\")>,\n",
       " <selenium.webdriver.remote.webelement.WebElement (session=\"ab7364aff12b3e4c74c400d176dabf65\", element=\"cc85eb04-1c4f-477d-91e6-eb9f1f52c34e\")>,\n",
       " <selenium.webdriver.remote.webelement.WebElement (session=\"ab7364aff12b3e4c74c400d176dabf65\", element=\"d6956bb8-b70b-49bd-bd78-d60fb526d60f\")>,\n",
       " <selenium.webdriver.remote.webelement.WebElement (session=\"ab7364aff12b3e4c74c400d176dabf65\", element=\"0256ed40-4aa6-458e-b3ac-c81bc1965dcd\")>,\n",
       " <selenium.webdriver.remote.webelement.WebElement (session=\"ab7364aff12b3e4c74c400d176dabf65\", element=\"f3b77b22-c7ef-4d83-9b95-6ffb52910f4a\")>,\n",
       " <selenium.webdriver.remote.webelement.WebElement (session=\"ab7364aff12b3e4c74c400d176dabf65\", element=\"b8b1697e-bd49-42d9-96e6-f86748c790d6\")>,\n",
       " <selenium.webdriver.remote.webelement.WebElement (session=\"ab7364aff12b3e4c74c400d176dabf65\", element=\"f656813f-aabf-4f50-8543-a2b7c77a499b\")>,\n",
       " <selenium.webdriver.remote.webelement.WebElement (session=\"ab7364aff12b3e4c74c400d176dabf65\", element=\"195b131b-06df-41f7-b905-3438cc2eec00\")>,\n",
       " <selenium.webdriver.remote.webelement.WebElement (session=\"ab7364aff12b3e4c74c400d176dabf65\", element=\"f9c19393-38f2-47b4-a8c4-da4d43ff2d2d\")>,\n",
       " <selenium.webdriver.remote.webelement.WebElement (session=\"ab7364aff12b3e4c74c400d176dabf65\", element=\"610c42f0-a8d3-4e3f-bae1-ac999aabf2ef\")>,\n",
       " <selenium.webdriver.remote.webelement.WebElement (session=\"ab7364aff12b3e4c74c400d176dabf65\", element=\"84aedc5b-4d28-4970-b6f3-e8175ab32f18\")>]"
      ]
     },
     "execution_count": 76,
     "metadata": {},
     "output_type": "execute_result"
    }
   ],
   "source": [
    "#finding all job location\n",
    "Job_Loc3 = driver.find_elements_by_xpath (\"//li[@class='fleft grey-text br2 placeHolderLi location']\")\n",
    "Job_Loc3"
   ]
  },
  {
   "cell_type": "code",
   "execution_count": 77,
   "metadata": {},
   "outputs": [
    {
     "data": {
      "text/plain": [
       "['Noida',\n",
       " 'Gurgaon/Gurugram',\n",
       " 'Delhi / NCR',\n",
       " 'Gurgaon/Gurugram',\n",
       " 'Gurgaon/Gurugram, Bangalore/Bengaluru',\n",
       " 'Noida, Gurgaon/Gurugram',\n",
       " 'Gurgaon/Gurugram',\n",
       " 'New Delhi',\n",
       " 'Gurgaon/Gurugram',\n",
       " 'Mumbai, Gurgaon/Gurugram, Bangalore/Bengaluru',\n",
       " 'Hyderabad/Secunderabad, Pune, Ahmedabad, Gurgaon/Gurugram, Chennai, Bangalore/Bengaluru',\n",
       " 'Ghaziabad, Faridabad, Delhi / NCR',\n",
       " 'Delhi / NCR(Sarita Vihar)\\n(WFH during Covid)',\n",
       " 'Delhi',\n",
       " 'Noida, Gurgaon/Gurugram, Delhi / NCR',\n",
       " 'Delhi',\n",
       " 'Gurgaon, Bengaluru',\n",
       " 'Bharuch, Jaipur, Bhopal, Mumbai, Jhansi, Nagpur, Ghaziabad, Jaunpur, Kanpur, Delhi, Lucknow, Agra, Gurgaon, Rajkot, Bengaluru',\n",
       " 'Delhi',\n",
       " 'Delhi']"
      ]
     },
     "execution_count": 77,
     "metadata": {},
     "output_type": "execute_result"
    }
   ],
   "source": [
    "# extracting the text from Job location data using for loop\n",
    "for i in Job_Loc3:\n",
    "    title=i.text\n",
    "    job_location3.append(title)\n",
    "job_location3"
   ]
  },
  {
   "cell_type": "code",
   "execution_count": 78,
   "metadata": {
    "scrolled": true
   },
   "outputs": [
    {
     "data": {
      "text/plain": [
       "[<selenium.webdriver.remote.webelement.WebElement (session=\"ab7364aff12b3e4c74c400d176dabf65\", element=\"86e92227-cd86-4255-b378-7154e7b5e414\")>,\n",
       " <selenium.webdriver.remote.webelement.WebElement (session=\"ab7364aff12b3e4c74c400d176dabf65\", element=\"eed4361d-7d1e-4258-ae3b-c945e0d85932\")>,\n",
       " <selenium.webdriver.remote.webelement.WebElement (session=\"ab7364aff12b3e4c74c400d176dabf65\", element=\"5ff29100-bc7c-4f31-a677-736fa8a16684\")>,\n",
       " <selenium.webdriver.remote.webelement.WebElement (session=\"ab7364aff12b3e4c74c400d176dabf65\", element=\"b74f37ab-f495-45be-900b-a588301e8060\")>,\n",
       " <selenium.webdriver.remote.webelement.WebElement (session=\"ab7364aff12b3e4c74c400d176dabf65\", element=\"5d5076db-300d-4ae7-9ddb-fda4a25a055d\")>,\n",
       " <selenium.webdriver.remote.webelement.WebElement (session=\"ab7364aff12b3e4c74c400d176dabf65\", element=\"73e8df5a-5b1b-49ba-9cb1-e8db860baeea\")>,\n",
       " <selenium.webdriver.remote.webelement.WebElement (session=\"ab7364aff12b3e4c74c400d176dabf65\", element=\"8dfe3977-7454-424f-900a-7e11c51b161a\")>,\n",
       " <selenium.webdriver.remote.webelement.WebElement (session=\"ab7364aff12b3e4c74c400d176dabf65\", element=\"65443337-35e4-4e35-b137-3b7a43fe3863\")>,\n",
       " <selenium.webdriver.remote.webelement.WebElement (session=\"ab7364aff12b3e4c74c400d176dabf65\", element=\"afee1036-8b27-4c52-a9bf-9658948bb7a8\")>,\n",
       " <selenium.webdriver.remote.webelement.WebElement (session=\"ab7364aff12b3e4c74c400d176dabf65\", element=\"f3488b4f-00b7-460b-923d-29592e3b2039\")>,\n",
       " <selenium.webdriver.remote.webelement.WebElement (session=\"ab7364aff12b3e4c74c400d176dabf65\", element=\"d669a03f-0e1b-4640-9edc-7fbe637fc8c4\")>,\n",
       " <selenium.webdriver.remote.webelement.WebElement (session=\"ab7364aff12b3e4c74c400d176dabf65\", element=\"5967f926-2aeb-4eca-9281-46fbabf053ae\")>,\n",
       " <selenium.webdriver.remote.webelement.WebElement (session=\"ab7364aff12b3e4c74c400d176dabf65\", element=\"f582d7b1-019d-466a-8e34-5a7cec833171\")>,\n",
       " <selenium.webdriver.remote.webelement.WebElement (session=\"ab7364aff12b3e4c74c400d176dabf65\", element=\"61e17334-ce0f-432a-9791-7f171137b565\")>,\n",
       " <selenium.webdriver.remote.webelement.WebElement (session=\"ab7364aff12b3e4c74c400d176dabf65\", element=\"5eddb120-516a-496d-b297-e7ef66b4bd6e\")>,\n",
       " <selenium.webdriver.remote.webelement.WebElement (session=\"ab7364aff12b3e4c74c400d176dabf65\", element=\"6cfbd785-3b59-4a51-9a1a-259c853d5c41\")>,\n",
       " <selenium.webdriver.remote.webelement.WebElement (session=\"ab7364aff12b3e4c74c400d176dabf65\", element=\"07f3f598-dbfa-4360-a866-c63d3918ca14\")>,\n",
       " <selenium.webdriver.remote.webelement.WebElement (session=\"ab7364aff12b3e4c74c400d176dabf65\", element=\"f6fe850f-4a89-455f-a98a-f4ef5229a3a1\")>,\n",
       " <selenium.webdriver.remote.webelement.WebElement (session=\"ab7364aff12b3e4c74c400d176dabf65\", element=\"686fecd7-da1e-4d5f-88cd-08c47cb942d7\")>,\n",
       " <selenium.webdriver.remote.webelement.WebElement (session=\"ab7364aff12b3e4c74c400d176dabf65\", element=\"a1b2deca-fc2e-49bc-a7e7-5fb79bd56fbd\")>]"
      ]
     },
     "execution_count": 78,
     "metadata": {},
     "output_type": "execute_result"
    }
   ],
   "source": [
    "#finding all company_name\n",
    "Comp_name3 = driver.find_elements_by_xpath (\"//a[@class='subTitle ellipsis fleft']\")\n",
    "Comp_name3"
   ]
  },
  {
   "cell_type": "code",
   "execution_count": 79,
   "metadata": {},
   "outputs": [
    {
     "data": {
      "text/plain": [
       "['Optum Global Solutions (India) Private Limited',\n",
       " 'OLX India Pvt Ltd',\n",
       " 'HCL Technologies',\n",
       " 'Milliman India Pvt Ltd',\n",
       " 'GreatLearning',\n",
       " 'Optum Global Solutions (India) Private Limited',\n",
       " 'OLX, Inc',\n",
       " 'iHackers Inc',\n",
       " 'NatWest Group',\n",
       " 'Fractal Analytics',\n",
       " 'Creative Hands HR Consultancy',\n",
       " 'GABA Consultancy services',\n",
       " 'CAASTLE TECHNOLOGY AND SERVICES INDIA PVT. LTD.',\n",
       " 'iNICU',\n",
       " 'GABA Consultancy services',\n",
       " 'Sentieo',\n",
       " 'BlackBuck',\n",
       " 'Country Veggie',\n",
       " 'Mahajan Imaging',\n",
       " 'Mahajan Imaging']"
      ]
     },
     "execution_count": 79,
     "metadata": {},
     "output_type": "execute_result"
    }
   ],
   "source": [
    "# extracting the text from Job location data using for loop\n",
    "for i in Comp_name3:\n",
    "    title=i.text\n",
    "    company_name3.append(title)\n",
    "company_name3"
   ]
  },
  {
   "cell_type": "code",
   "execution_count": 80,
   "metadata": {
    "scrolled": true
   },
   "outputs": [
    {
     "data": {
      "text/plain": [
       "[<selenium.webdriver.remote.webelement.WebElement (session=\"ab7364aff12b3e4c74c400d176dabf65\", element=\"13728425-68fd-4c95-a80a-fbb15c320c7d\")>,\n",
       " <selenium.webdriver.remote.webelement.WebElement (session=\"ab7364aff12b3e4c74c400d176dabf65\", element=\"45452393-4ff4-4258-b841-3c3773e7f8ce\")>,\n",
       " <selenium.webdriver.remote.webelement.WebElement (session=\"ab7364aff12b3e4c74c400d176dabf65\", element=\"70e5176e-712b-45d5-b63e-b5778a5ad2d3\")>,\n",
       " <selenium.webdriver.remote.webelement.WebElement (session=\"ab7364aff12b3e4c74c400d176dabf65\", element=\"0b123ab8-af48-4d01-9f28-20f879565cd1\")>,\n",
       " <selenium.webdriver.remote.webelement.WebElement (session=\"ab7364aff12b3e4c74c400d176dabf65\", element=\"7df4e5ee-a433-46f8-b34a-3b036994f2f6\")>,\n",
       " <selenium.webdriver.remote.webelement.WebElement (session=\"ab7364aff12b3e4c74c400d176dabf65\", element=\"f2f9d4ea-a3c4-4d8e-9d99-1e84ca6d0444\")>,\n",
       " <selenium.webdriver.remote.webelement.WebElement (session=\"ab7364aff12b3e4c74c400d176dabf65\", element=\"410302bd-da6f-4986-9950-83e6fcb326dd\")>,\n",
       " <selenium.webdriver.remote.webelement.WebElement (session=\"ab7364aff12b3e4c74c400d176dabf65\", element=\"a34d8a35-0152-40e8-a000-62ee7578a9a9\")>,\n",
       " <selenium.webdriver.remote.webelement.WebElement (session=\"ab7364aff12b3e4c74c400d176dabf65\", element=\"19d04b05-8458-4f51-b5c4-cc4e8bcedf04\")>,\n",
       " <selenium.webdriver.remote.webelement.WebElement (session=\"ab7364aff12b3e4c74c400d176dabf65\", element=\"00aaa259-ca3d-4616-8a1a-313e36e4d992\")>,\n",
       " <selenium.webdriver.remote.webelement.WebElement (session=\"ab7364aff12b3e4c74c400d176dabf65\", element=\"2faff9b7-2a76-48f0-b2a8-8c480e5d2efb\")>,\n",
       " <selenium.webdriver.remote.webelement.WebElement (session=\"ab7364aff12b3e4c74c400d176dabf65\", element=\"1a13c482-1c51-4bc6-a1bd-7889731853ec\")>,\n",
       " <selenium.webdriver.remote.webelement.WebElement (session=\"ab7364aff12b3e4c74c400d176dabf65\", element=\"b561e1be-f879-41b9-811a-8ab5fa717df9\")>,\n",
       " <selenium.webdriver.remote.webelement.WebElement (session=\"ab7364aff12b3e4c74c400d176dabf65\", element=\"0e502d0b-c3e6-4a50-8687-a1b6febc1023\")>,\n",
       " <selenium.webdriver.remote.webelement.WebElement (session=\"ab7364aff12b3e4c74c400d176dabf65\", element=\"9f0e565b-17d2-454b-a27d-2a24f2f36c1c\")>,\n",
       " <selenium.webdriver.remote.webelement.WebElement (session=\"ab7364aff12b3e4c74c400d176dabf65\", element=\"a1807d50-a205-40b8-88c5-c272743318f0\")>,\n",
       " <selenium.webdriver.remote.webelement.WebElement (session=\"ab7364aff12b3e4c74c400d176dabf65\", element=\"a1b6109f-54d3-46db-903d-604b5e156b4c\")>,\n",
       " <selenium.webdriver.remote.webelement.WebElement (session=\"ab7364aff12b3e4c74c400d176dabf65\", element=\"2fe57891-6ef9-4591-ac1a-c89be3443986\")>,\n",
       " <selenium.webdriver.remote.webelement.WebElement (session=\"ab7364aff12b3e4c74c400d176dabf65\", element=\"09851828-c12f-43b1-9e84-46d4187be4c5\")>,\n",
       " <selenium.webdriver.remote.webelement.WebElement (session=\"ab7364aff12b3e4c74c400d176dabf65\", element=\"a4c94bfa-d259-48ed-9069-58f1dac68e18\")>]"
      ]
     },
     "execution_count": 80,
     "metadata": {},
     "output_type": "execute_result"
    }
   ],
   "source": [
    "#finding all experience_required\n",
    "Exp3 = driver.find_elements_by_xpath (\"//li[@class='fleft grey-text br2 placeHolderLi experience']\")\n",
    "Exp3"
   ]
  },
  {
   "cell_type": "code",
   "execution_count": 81,
   "metadata": {},
   "outputs": [
    {
     "data": {
      "text/plain": [
       "['2-7 Yrs',\n",
       " '3-6 Yrs',\n",
       " '4-7 Yrs',\n",
       " '2-5 Yrs',\n",
       " '1-4 Yrs',\n",
       " '2-6 Yrs',\n",
       " '3-6 Yrs',\n",
       " '0-1 Yrs',\n",
       " '2-7 Yrs',\n",
       " '3-7 Yrs',\n",
       " '0-0 Yrs',\n",
       " '0-0 Yrs',\n",
       " '2-5 Yrs',\n",
       " '1-5 Yrs',\n",
       " '0-0 Yrs',\n",
       " '2-7 Yrs',\n",
       " '3-7 Yrs',\n",
       " '1-3 Yrs',\n",
       " '2-6 Yrs',\n",
       " '2-6 Yrs']"
      ]
     },
     "execution_count": 81,
     "metadata": {},
     "output_type": "execute_result"
    }
   ],
   "source": [
    "# extracting the text from experience_required data using for loop\n",
    "for i in Exp3:\n",
    "    title=i.text\n",
    "    experience_required3.append(title)\n",
    "experience_required3"
   ]
  },
  {
   "cell_type": "code",
   "execution_count": null,
   "metadata": {},
   "outputs": [],
   "source": []
  },
  {
   "cell_type": "code",
   "execution_count": 82,
   "metadata": {},
   "outputs": [
    {
     "data": {
      "text/plain": [
       "(20, 20, 20, 20)"
      ]
     },
     "execution_count": 82,
     "metadata": {},
     "output_type": "execute_result"
    }
   ],
   "source": [
    "#checking data length\n",
    "len(job_title3),len(job_location3),len(company_name3),len(experience_required3)"
   ]
  },
  {
   "cell_type": "code",
   "execution_count": 83,
   "metadata": {},
   "outputs": [
    {
     "data": {
      "text/html": [
       "<div>\n",
       "<style scoped>\n",
       "    .dataframe tbody tr th:only-of-type {\n",
       "        vertical-align: middle;\n",
       "    }\n",
       "\n",
       "    .dataframe tbody tr th {\n",
       "        vertical-align: top;\n",
       "    }\n",
       "\n",
       "    .dataframe thead th {\n",
       "        text-align: right;\n",
       "    }\n",
       "</style>\n",
       "<table border=\"1\" class=\"dataframe\">\n",
       "  <thead>\n",
       "    <tr style=\"text-align: right;\">\n",
       "      <th></th>\n",
       "      <th>Job Title</th>\n",
       "      <th>Job Location</th>\n",
       "      <th>Company Name</th>\n",
       "      <th>Experience Required</th>\n",
       "    </tr>\n",
       "  </thead>\n",
       "  <tbody>\n",
       "    <tr>\n",
       "      <th>0</th>\n",
       "      <td>Associate Data Scientist</td>\n",
       "      <td>Noida</td>\n",
       "      <td>Optum Global Solutions (India) Private Limited</td>\n",
       "      <td>2-7 Yrs</td>\n",
       "    </tr>\n",
       "    <tr>\n",
       "      <th>1</th>\n",
       "      <td>Data Scientist I/II/III</td>\n",
       "      <td>Gurgaon/Gurugram</td>\n",
       "      <td>OLX India Pvt Ltd</td>\n",
       "      <td>3-6 Yrs</td>\n",
       "    </tr>\n",
       "    <tr>\n",
       "      <th>2</th>\n",
       "      <td>Job Opportunity || Data Scientist || HCL Techn...</td>\n",
       "      <td>Delhi / NCR</td>\n",
       "      <td>HCL Technologies</td>\n",
       "      <td>4-7 Yrs</td>\n",
       "    </tr>\n",
       "    <tr>\n",
       "      <th>3</th>\n",
       "      <td>Data Scientist</td>\n",
       "      <td>Gurgaon/Gurugram</td>\n",
       "      <td>Milliman India Pvt Ltd</td>\n",
       "      <td>2-5 Yrs</td>\n",
       "    </tr>\n",
       "    <tr>\n",
       "      <th>4</th>\n",
       "      <td>Academic Counsellor - Data Scientist</td>\n",
       "      <td>Gurgaon/Gurugram, Bangalore/Bengaluru</td>\n",
       "      <td>GreatLearning</td>\n",
       "      <td>1-4 Yrs</td>\n",
       "    </tr>\n",
       "    <tr>\n",
       "      <th>5</th>\n",
       "      <td>Data Scientist</td>\n",
       "      <td>Noida, Gurgaon/Gurugram</td>\n",
       "      <td>Optum Global Solutions (India) Private Limited</td>\n",
       "      <td>2-6 Yrs</td>\n",
       "    </tr>\n",
       "    <tr>\n",
       "      <th>6</th>\n",
       "      <td>Data Scientist I/II/III</td>\n",
       "      <td>Gurgaon/Gurugram</td>\n",
       "      <td>OLX, Inc</td>\n",
       "      <td>3-6 Yrs</td>\n",
       "    </tr>\n",
       "    <tr>\n",
       "      <th>7</th>\n",
       "      <td>Data Scientist Internship</td>\n",
       "      <td>New Delhi</td>\n",
       "      <td>iHackers Inc</td>\n",
       "      <td>0-1 Yrs</td>\n",
       "    </tr>\n",
       "    <tr>\n",
       "      <th>8</th>\n",
       "      <td>Data Scientist</td>\n",
       "      <td>Gurgaon/Gurugram</td>\n",
       "      <td>NatWest Group</td>\n",
       "      <td>2-7 Yrs</td>\n",
       "    </tr>\n",
       "    <tr>\n",
       "      <th>9</th>\n",
       "      <td>Data Scientist</td>\n",
       "      <td>Mumbai, Gurgaon/Gurugram, Bangalore/Bengaluru</td>\n",
       "      <td>Fractal Analytics</td>\n",
       "      <td>3-7 Yrs</td>\n",
       "    </tr>\n",
       "  </tbody>\n",
       "</table>\n",
       "</div>"
      ],
      "text/plain": [
       "                                           Job Title  \\\n",
       "0                           Associate Data Scientist   \n",
       "1                            Data Scientist I/II/III   \n",
       "2  Job Opportunity || Data Scientist || HCL Techn...   \n",
       "3                                     Data Scientist   \n",
       "4               Academic Counsellor - Data Scientist   \n",
       "5                                     Data Scientist   \n",
       "6                            Data Scientist I/II/III   \n",
       "7                          Data Scientist Internship   \n",
       "8                                     Data Scientist   \n",
       "9                                     Data Scientist   \n",
       "\n",
       "                                    Job Location  \\\n",
       "0                                          Noida   \n",
       "1                               Gurgaon/Gurugram   \n",
       "2                                    Delhi / NCR   \n",
       "3                               Gurgaon/Gurugram   \n",
       "4          Gurgaon/Gurugram, Bangalore/Bengaluru   \n",
       "5                        Noida, Gurgaon/Gurugram   \n",
       "6                               Gurgaon/Gurugram   \n",
       "7                                      New Delhi   \n",
       "8                               Gurgaon/Gurugram   \n",
       "9  Mumbai, Gurgaon/Gurugram, Bangalore/Bengaluru   \n",
       "\n",
       "                                     Company Name Experience Required  \n",
       "0  Optum Global Solutions (India) Private Limited             2-7 Yrs  \n",
       "1                               OLX India Pvt Ltd             3-6 Yrs  \n",
       "2                                HCL Technologies             4-7 Yrs  \n",
       "3                          Milliman India Pvt Ltd             2-5 Yrs  \n",
       "4                                   GreatLearning             1-4 Yrs  \n",
       "5  Optum Global Solutions (India) Private Limited             2-6 Yrs  \n",
       "6                                        OLX, Inc             3-6 Yrs  \n",
       "7                                    iHackers Inc             0-1 Yrs  \n",
       "8                                   NatWest Group             2-7 Yrs  \n",
       "9                               Fractal Analytics             3-7 Yrs  "
      ]
     },
     "execution_count": 83,
     "metadata": {},
     "output_type": "execute_result"
    }
   ],
   "source": [
    "#creating DataFrames\n",
    "\n",
    "Naukri3 = pd.DataFrame()\n",
    "Naukri3 [\"Job Title\"] = job_title3[0:10]\n",
    "Naukri3 [\"Job Location\"] = job_location3[0:10]\n",
    "Naukri3 [\"Company Name\"] = company_name3[0:10]\n",
    "Naukri3 [\"Experience Required\"] = experience_required3[0:10]\n",
    "Naukri3"
   ]
  },
  {
   "cell_type": "code",
   "execution_count": null,
   "metadata": {},
   "outputs": [],
   "source": []
  },
  {
   "cell_type": "markdown",
   "metadata": {},
   "source": [
    "### Q4: Write a python program to scrape data for first 10 job results for Data scientist Designation in Noida location. You have to scrape company_name, No. of days ago when job was posted, Rating of the company.\n",
    "\n",
    "This task will be done in following steps:\n",
    "\n",
    "1. first get the webpage https://www.glassdoor.co.in/index.htm\n",
    "2. Enter “Data Scientist” in “Job Title,Keyword,Company” field and enter “Noida” in “location” field.\n",
    "3. Then click the search button. You will land up in the below page:\n",
    "4. Then scrape the data for the first 10 jobs results you get in the above shown page.\n",
    "5. Finally create a dataframe of the scraped data.\n",
    "\n",
    "Note- All of the above steps have to be done in code. No step is to be done manually."
   ]
  },
  {
   "cell_type": "code",
   "execution_count": 105,
   "metadata": {},
   "outputs": [],
   "source": [
    "driver.get('https://www.glassdoor.co.in/index.htm')"
   ]
  },
  {
   "cell_type": "code",
   "execution_count": 106,
   "metadata": {},
   "outputs": [],
   "source": [
    "# finding elements job search, location\n",
    "\n",
    "#job field\n",
    "searchJob4 = driver.find_element_by_id('sc.keyword')\n",
    "searchJob4.send_keys('Data Scientist')"
   ]
  },
  {
   "cell_type": "code",
   "execution_count": 111,
   "metadata": {},
   "outputs": [],
   "source": [
    "#clearing location field text\n",
    "clear_bar = driver.find_element_by_id(\"sc.location\")"
   ]
  },
  {
   "cell_type": "code",
   "execution_count": 112,
   "metadata": {},
   "outputs": [],
   "source": [
    "clear_bar.clear()"
   ]
  },
  {
   "cell_type": "code",
   "execution_count": 115,
   "metadata": {},
   "outputs": [],
   "source": [
    "#Sending noida into location field\n",
    "driver.find_element_by_xpath('//*[@id=\"sc.location\"]').send_keys('Noida')"
   ]
  },
  {
   "cell_type": "code",
   "execution_count": 116,
   "metadata": {},
   "outputs": [],
   "source": [
    "#search button\n",
    "driver.find_element_by_xpath('//*[@id=\"scBar\"]/div/button').submit()"
   ]
  },
  {
   "cell_type": "code",
   "execution_count": null,
   "metadata": {},
   "outputs": [],
   "source": []
  },
  {
   "cell_type": "code",
   "execution_count": 117,
   "metadata": {},
   "outputs": [],
   "source": [
    "url4 = 'https://www.glassdoor.co.in/Job/noida-data-scientist-jobs-SRCH_IL.0,5_IC4477468_KO6,20.htm'"
   ]
  },
  {
   "cell_type": "code",
   "execution_count": 118,
   "metadata": {},
   "outputs": [],
   "source": [
    "driver.get(url4)"
   ]
  },
  {
   "cell_type": "code",
   "execution_count": null,
   "metadata": {},
   "outputs": [],
   "source": []
  },
  {
   "cell_type": "code",
   "execution_count": 119,
   "metadata": {},
   "outputs": [
    {
     "data": {
      "text/plain": [
       "[<selenium.webdriver.remote.webelement.WebElement (session=\"37411f3db51813f2ba156aefa0117262\", element=\"3466bf58-f2e4-4c2c-85b4-6892de355f42\")>,\n",
       " <selenium.webdriver.remote.webelement.WebElement (session=\"37411f3db51813f2ba156aefa0117262\", element=\"cec5895a-c649-43f6-b041-4ad013e9b600\")>,\n",
       " <selenium.webdriver.remote.webelement.WebElement (session=\"37411f3db51813f2ba156aefa0117262\", element=\"98c6a196-ac33-4a61-a712-6c77c77ed094\")>,\n",
       " <selenium.webdriver.remote.webelement.WebElement (session=\"37411f3db51813f2ba156aefa0117262\", element=\"e7ac8868-ed3e-4358-81ad-fbd389e4e9b0\")>,\n",
       " <selenium.webdriver.remote.webelement.WebElement (session=\"37411f3db51813f2ba156aefa0117262\", element=\"5a7c7ec4-8ad2-4b4d-bd22-a3efce9ac20c\")>,\n",
       " <selenium.webdriver.remote.webelement.WebElement (session=\"37411f3db51813f2ba156aefa0117262\", element=\"58b25df6-5492-44ef-b696-26bf3bb8144c\")>,\n",
       " <selenium.webdriver.remote.webelement.WebElement (session=\"37411f3db51813f2ba156aefa0117262\", element=\"c285227f-5706-4921-8833-3b4e42997c44\")>,\n",
       " <selenium.webdriver.remote.webelement.WebElement (session=\"37411f3db51813f2ba156aefa0117262\", element=\"0524abb1-e470-4d0d-8ff2-f4d6f6af55cb\")>,\n",
       " <selenium.webdriver.remote.webelement.WebElement (session=\"37411f3db51813f2ba156aefa0117262\", element=\"115e5fb8-3bc4-4099-9d4b-6133ec0dcd20\")>,\n",
       " <selenium.webdriver.remote.webelement.WebElement (session=\"37411f3db51813f2ba156aefa0117262\", element=\"8c1953cc-f4fc-451e-b036-0f30beda1aab\")>,\n",
       " <selenium.webdriver.remote.webelement.WebElement (session=\"37411f3db51813f2ba156aefa0117262\", element=\"dabf701e-064c-43ba-a181-ab7ef1c2988a\")>,\n",
       " <selenium.webdriver.remote.webelement.WebElement (session=\"37411f3db51813f2ba156aefa0117262\", element=\"c9242f2a-dd5c-49b5-9de8-88e353344656\")>,\n",
       " <selenium.webdriver.remote.webelement.WebElement (session=\"37411f3db51813f2ba156aefa0117262\", element=\"3210f73f-4321-4505-a5dc-2cae990362bb\")>,\n",
       " <selenium.webdriver.remote.webelement.WebElement (session=\"37411f3db51813f2ba156aefa0117262\", element=\"e3fe195b-a66c-4ec5-8dd1-66c3af248211\")>,\n",
       " <selenium.webdriver.remote.webelement.WebElement (session=\"37411f3db51813f2ba156aefa0117262\", element=\"9db31237-32e1-47c2-beb4-4808b395d46a\")>,\n",
       " <selenium.webdriver.remote.webelement.WebElement (session=\"37411f3db51813f2ba156aefa0117262\", element=\"b7910cc5-0853-4d7e-892d-3b33a01c3789\")>,\n",
       " <selenium.webdriver.remote.webelement.WebElement (session=\"37411f3db51813f2ba156aefa0117262\", element=\"b1cd0d88-60ce-483a-acba-ece6f7a94549\")>,\n",
       " <selenium.webdriver.remote.webelement.WebElement (session=\"37411f3db51813f2ba156aefa0117262\", element=\"49b3cdc1-ec25-4bd5-b74c-e340beb991b0\")>,\n",
       " <selenium.webdriver.remote.webelement.WebElement (session=\"37411f3db51813f2ba156aefa0117262\", element=\"72858b88-123b-4ba2-b948-6df18da7b78d\")>,\n",
       " <selenium.webdriver.remote.webelement.WebElement (session=\"37411f3db51813f2ba156aefa0117262\", element=\"479a89d3-6959-4bcd-96af-90cd975675c8\")>,\n",
       " <selenium.webdriver.remote.webelement.WebElement (session=\"37411f3db51813f2ba156aefa0117262\", element=\"8fd52f7d-af2d-4d17-8f56-d6b1c9fadc5c\")>,\n",
       " <selenium.webdriver.remote.webelement.WebElement (session=\"37411f3db51813f2ba156aefa0117262\", element=\"81b1b65a-4acb-4be0-9429-e129075c2712\")>,\n",
       " <selenium.webdriver.remote.webelement.WebElement (session=\"37411f3db51813f2ba156aefa0117262\", element=\"e47795de-886c-4c83-b516-2e3daca03dda\")>,\n",
       " <selenium.webdriver.remote.webelement.WebElement (session=\"37411f3db51813f2ba156aefa0117262\", element=\"be4184c2-8b1c-4c35-a254-9fec07387d49\")>,\n",
       " <selenium.webdriver.remote.webelement.WebElement (session=\"37411f3db51813f2ba156aefa0117262\", element=\"1e0afca2-ebf3-44cf-8636-667642841199\")>,\n",
       " <selenium.webdriver.remote.webelement.WebElement (session=\"37411f3db51813f2ba156aefa0117262\", element=\"fdb39df8-e4f1-4c6c-aed9-4f0ce960ff44\")>,\n",
       " <selenium.webdriver.remote.webelement.WebElement (session=\"37411f3db51813f2ba156aefa0117262\", element=\"47a8ebde-c689-4b7e-9c2b-8036b827dff5\")>,\n",
       " <selenium.webdriver.remote.webelement.WebElement (session=\"37411f3db51813f2ba156aefa0117262\", element=\"dd4e3f74-a3b8-4a29-915d-8d0c3f19596b\")>,\n",
       " <selenium.webdriver.remote.webelement.WebElement (session=\"37411f3db51813f2ba156aefa0117262\", element=\"d82990f3-77c8-4328-9715-45719819d24d\")>,\n",
       " <selenium.webdriver.remote.webelement.WebElement (session=\"37411f3db51813f2ba156aefa0117262\", element=\"82214c39-f937-416f-ba6c-cd0c6c54375b\")>]"
      ]
     },
     "execution_count": 119,
     "metadata": {},
     "output_type": "execute_result"
    }
   ],
   "source": [
    "#finding all Company Name\n",
    "Comp_name4 = driver.find_elements_by_xpath (\"//*[@class=' job-search-key-l2wjgv e1n63ojh0 jobLink']\")\n",
    "Comp_name4"
   ]
  },
  {
   "cell_type": "code",
   "execution_count": 120,
   "metadata": {},
   "outputs": [
    {
     "data": {
      "text/plain": [
       "['Instrovate Technologies',\n",
       " 'UnitedHealth Group',\n",
       " '2COMS Consulting Private Limited',\n",
       " '2COMS Consulting Private Limited',\n",
       " 'CODEC Networks Pvt ltd',\n",
       " 'Optum - India',\n",
       " 'Liberin Technologies Private Limited',\n",
       " 'Ericsson',\n",
       " 'UnitedHealth Group',\n",
       " 'UnitedHealth Group',\n",
       " 'Crowe',\n",
       " 'R Systems',\n",
       " 'Innovacer',\n",
       " 'Techlive',\n",
       " 'NEC Opportunities',\n",
       " 'Salasar New Age Technologies',\n",
       " 'Newgen Software',\n",
       " 'SearchUrCollege',\n",
       " 'Iraitech Innovations & Tehcnologies Pvt.Ltd',\n",
       " 'MasterCard',\n",
       " 'Orange',\n",
       " 'TransOrg Analytics',\n",
       " 'Uncodemy',\n",
       " 'Biz2Credit Inc',\n",
       " 'Grail Insights',\n",
       " 'Emerging India Analytics',\n",
       " 'Impetus Technologies',\n",
       " 'ICF',\n",
       " 'InfosecTrain',\n",
       " 'JK Tech']"
      ]
     },
     "execution_count": 120,
     "metadata": {},
     "output_type": "execute_result"
    }
   ],
   "source": [
    "# extracting the text for Company Name data using loop\n",
    "\n",
    "companyName = []\n",
    "\n",
    "for i in Comp_name4:\n",
    "    title=i.text\n",
    "    companyName.append(title)\n",
    "companyName"
   ]
  },
  {
   "cell_type": "code",
   "execution_count": 121,
   "metadata": {},
   "outputs": [
    {
     "data": {
      "text/plain": [
       "[<selenium.webdriver.remote.webelement.WebElement (session=\"37411f3db51813f2ba156aefa0117262\", element=\"e3c88e82-8d9a-4e05-b718-60803e19c2a0\")>,\n",
       " <selenium.webdriver.remote.webelement.WebElement (session=\"37411f3db51813f2ba156aefa0117262\", element=\"d29b7a2e-7cf1-4e4d-b3ae-427587fe1cd5\")>,\n",
       " <selenium.webdriver.remote.webelement.WebElement (session=\"37411f3db51813f2ba156aefa0117262\", element=\"f06d0879-da4b-40ba-a979-b232cbc5545e\")>,\n",
       " <selenium.webdriver.remote.webelement.WebElement (session=\"37411f3db51813f2ba156aefa0117262\", element=\"acd89620-07e8-49f1-bb46-13720d0d6c7d\")>,\n",
       " <selenium.webdriver.remote.webelement.WebElement (session=\"37411f3db51813f2ba156aefa0117262\", element=\"7afdda4d-0cbe-494c-8b44-a56c7e5dfe3a\")>,\n",
       " <selenium.webdriver.remote.webelement.WebElement (session=\"37411f3db51813f2ba156aefa0117262\", element=\"deba26c2-e619-4608-998f-0b0f6e80383a\")>,\n",
       " <selenium.webdriver.remote.webelement.WebElement (session=\"37411f3db51813f2ba156aefa0117262\", element=\"fc77cb00-71df-4fcf-9eb1-31cd12732c65\")>,\n",
       " <selenium.webdriver.remote.webelement.WebElement (session=\"37411f3db51813f2ba156aefa0117262\", element=\"a58bd80f-94f5-4811-8806-70a8edd0cdd6\")>,\n",
       " <selenium.webdriver.remote.webelement.WebElement (session=\"37411f3db51813f2ba156aefa0117262\", element=\"5c73c88d-23d2-4319-9838-9ec1b24eb5cc\")>,\n",
       " <selenium.webdriver.remote.webelement.WebElement (session=\"37411f3db51813f2ba156aefa0117262\", element=\"ed35ea6d-216c-4db2-9964-7763ccde4fd1\")>,\n",
       " <selenium.webdriver.remote.webelement.WebElement (session=\"37411f3db51813f2ba156aefa0117262\", element=\"dc2d12da-b89d-4c8a-aa1d-36b68c92a603\")>,\n",
       " <selenium.webdriver.remote.webelement.WebElement (session=\"37411f3db51813f2ba156aefa0117262\", element=\"f69048cd-7f72-45d1-bec7-0a59fff89a36\")>,\n",
       " <selenium.webdriver.remote.webelement.WebElement (session=\"37411f3db51813f2ba156aefa0117262\", element=\"4f2ea32e-e38d-4b05-b896-d6c09fb394d5\")>,\n",
       " <selenium.webdriver.remote.webelement.WebElement (session=\"37411f3db51813f2ba156aefa0117262\", element=\"1bbd3407-5b13-4759-9b50-8bfd8406a171\")>,\n",
       " <selenium.webdriver.remote.webelement.WebElement (session=\"37411f3db51813f2ba156aefa0117262\", element=\"e8110008-76a7-4e93-bc8e-e5cfd07d7781\")>,\n",
       " <selenium.webdriver.remote.webelement.WebElement (session=\"37411f3db51813f2ba156aefa0117262\", element=\"b5dbf380-b1d9-4221-bd0e-dfa7f3b308c1\")>,\n",
       " <selenium.webdriver.remote.webelement.WebElement (session=\"37411f3db51813f2ba156aefa0117262\", element=\"2f625e35-68e6-4223-9e1f-3070e3819819\")>,\n",
       " <selenium.webdriver.remote.webelement.WebElement (session=\"37411f3db51813f2ba156aefa0117262\", element=\"ef4d469b-8991-45f1-971e-56223957eda5\")>,\n",
       " <selenium.webdriver.remote.webelement.WebElement (session=\"37411f3db51813f2ba156aefa0117262\", element=\"a5bc3d9c-a0df-4b2b-b88c-cfaa906c4ee4\")>,\n",
       " <selenium.webdriver.remote.webelement.WebElement (session=\"37411f3db51813f2ba156aefa0117262\", element=\"79ee7637-7ed0-4677-b147-2140b1a6c300\")>,\n",
       " <selenium.webdriver.remote.webelement.WebElement (session=\"37411f3db51813f2ba156aefa0117262\", element=\"c233c529-33dd-4aec-8bd2-eccf9dfc6c6d\")>,\n",
       " <selenium.webdriver.remote.webelement.WebElement (session=\"37411f3db51813f2ba156aefa0117262\", element=\"17dc309a-b222-44af-af98-e1c1f9bc90d3\")>,\n",
       " <selenium.webdriver.remote.webelement.WebElement (session=\"37411f3db51813f2ba156aefa0117262\", element=\"23b4bd1b-0637-43ad-ac81-bf1966ee193b\")>,\n",
       " <selenium.webdriver.remote.webelement.WebElement (session=\"37411f3db51813f2ba156aefa0117262\", element=\"1cccb1fa-bd28-47bb-b4c9-e36b9ebb3628\")>,\n",
       " <selenium.webdriver.remote.webelement.WebElement (session=\"37411f3db51813f2ba156aefa0117262\", element=\"56261148-c56b-4371-8718-43062b830be2\")>,\n",
       " <selenium.webdriver.remote.webelement.WebElement (session=\"37411f3db51813f2ba156aefa0117262\", element=\"b4bbba69-62f3-4d3c-a8a4-e7a8ffeab5c9\")>,\n",
       " <selenium.webdriver.remote.webelement.WebElement (session=\"37411f3db51813f2ba156aefa0117262\", element=\"798ab683-c259-4228-a41c-163e0fc55d23\")>,\n",
       " <selenium.webdriver.remote.webelement.WebElement (session=\"37411f3db51813f2ba156aefa0117262\", element=\"8ed98e5a-1e14-4768-80a6-a4a14943e1c2\")>,\n",
       " <selenium.webdriver.remote.webelement.WebElement (session=\"37411f3db51813f2ba156aefa0117262\", element=\"ab6002e5-2cca-4f6c-9477-374a2e396129\")>,\n",
       " <selenium.webdriver.remote.webelement.WebElement (session=\"37411f3db51813f2ba156aefa0117262\", element=\"fdf7b4a7-0286-40d2-b012-3a24280e3262\")>]"
      ]
     },
     "execution_count": 121,
     "metadata": {},
     "output_type": "execute_result"
    }
   ],
   "source": [
    "#finding all No. of days ago when job was posted\n",
    "NoOfDays4 = driver.find_elements_by_xpath (\"//*[@class='d-flex align-items-end pl-std css-17n8uzw']\")\n",
    "NoOfDays4"
   ]
  },
  {
   "cell_type": "code",
   "execution_count": 122,
   "metadata": {},
   "outputs": [
    {
     "data": {
      "text/plain": [
       "['30d+',\n",
       " '24h',\n",
       " '7d',\n",
       " '24h',\n",
       " '10d',\n",
       " '15d',\n",
       " '30d+',\n",
       " '6d',\n",
       " '2d',\n",
       " '15d',\n",
       " '6d',\n",
       " '7d',\n",
       " '30d+',\n",
       " '30d+',\n",
       " '8d',\n",
       " '30d+',\n",
       " '30d+',\n",
       " '30d+',\n",
       " '24h',\n",
       " '2d',\n",
       " '9d',\n",
       " '2d',\n",
       " '30d+',\n",
       " '30d+',\n",
       " '29d',\n",
       " '30d+',\n",
       " '1d',\n",
       " '20d',\n",
       " '14d',\n",
       " '22d']"
      ]
     },
     "execution_count": 122,
     "metadata": {},
     "output_type": "execute_result"
    }
   ],
   "source": [
    "# extracting the text for No. of days ago when job was posted data using loop\n",
    "\n",
    "NoOfDays = []\n",
    "\n",
    "for i in NoOfDays4:\n",
    "    title=i.text\n",
    "    NoOfDays.append(title)\n",
    "NoOfDays"
   ]
  },
  {
   "cell_type": "code",
   "execution_count": 129,
   "metadata": {},
   "outputs": [
    {
     "data": {
      "text/plain": [
       "[<selenium.webdriver.remote.webelement.WebElement (session=\"37411f3db51813f2ba156aefa0117262\", element=\"2c27f8b7-00fa-49a5-b0f4-07f8b680e9fe\")>,\n",
       " <selenium.webdriver.remote.webelement.WebElement (session=\"37411f3db51813f2ba156aefa0117262\", element=\"c3400345-319a-4fa7-8553-dc9674713b0d\")>,\n",
       " <selenium.webdriver.remote.webelement.WebElement (session=\"37411f3db51813f2ba156aefa0117262\", element=\"860eb216-6dbe-486c-a5ec-492315a7ab9e\")>,\n",
       " <selenium.webdriver.remote.webelement.WebElement (session=\"37411f3db51813f2ba156aefa0117262\", element=\"e5b5fd02-854e-4ac5-9128-df497aa1c986\")>,\n",
       " <selenium.webdriver.remote.webelement.WebElement (session=\"37411f3db51813f2ba156aefa0117262\", element=\"9205d7cb-12ac-4493-8243-6c6fc7a27c58\")>,\n",
       " <selenium.webdriver.remote.webelement.WebElement (session=\"37411f3db51813f2ba156aefa0117262\", element=\"ced92b0f-c8e7-4cb3-b594-f1380ce54efe\")>,\n",
       " <selenium.webdriver.remote.webelement.WebElement (session=\"37411f3db51813f2ba156aefa0117262\", element=\"026667ee-dbd2-4edb-a625-6a3763251776\")>,\n",
       " <selenium.webdriver.remote.webelement.WebElement (session=\"37411f3db51813f2ba156aefa0117262\", element=\"4c99a75e-1028-4376-bfa0-dbbbe6da2a94\")>,\n",
       " <selenium.webdriver.remote.webelement.WebElement (session=\"37411f3db51813f2ba156aefa0117262\", element=\"b4434f51-f73c-4667-a2b9-d3ea2baff767\")>,\n",
       " <selenium.webdriver.remote.webelement.WebElement (session=\"37411f3db51813f2ba156aefa0117262\", element=\"72afc1ea-ed51-4991-8c93-0da2519ab94f\")>,\n",
       " <selenium.webdriver.remote.webelement.WebElement (session=\"37411f3db51813f2ba156aefa0117262\", element=\"f6941677-638d-49a8-97aa-cd88f6703892\")>,\n",
       " <selenium.webdriver.remote.webelement.WebElement (session=\"37411f3db51813f2ba156aefa0117262\", element=\"a3812590-8c60-4d31-924b-e7d7ff308439\")>,\n",
       " <selenium.webdriver.remote.webelement.WebElement (session=\"37411f3db51813f2ba156aefa0117262\", element=\"a9b97e69-b8c1-4f6c-a188-556b3b93fd51\")>,\n",
       " <selenium.webdriver.remote.webelement.WebElement (session=\"37411f3db51813f2ba156aefa0117262\", element=\"2fd278e4-9dc0-4e6b-943a-20e84466b2e3\")>,\n",
       " <selenium.webdriver.remote.webelement.WebElement (session=\"37411f3db51813f2ba156aefa0117262\", element=\"d3ba874b-a459-447f-b6eb-1f883642ee75\")>,\n",
       " <selenium.webdriver.remote.webelement.WebElement (session=\"37411f3db51813f2ba156aefa0117262\", element=\"5ef9389b-9cb8-486f-83fd-db70f5c9194d\")>,\n",
       " <selenium.webdriver.remote.webelement.WebElement (session=\"37411f3db51813f2ba156aefa0117262\", element=\"1742b775-b341-4124-9077-54f681f5cdb4\")>,\n",
       " <selenium.webdriver.remote.webelement.WebElement (session=\"37411f3db51813f2ba156aefa0117262\", element=\"b78a6d2a-0d8e-4a16-9a1d-6b15f76fc6b7\")>,\n",
       " <selenium.webdriver.remote.webelement.WebElement (session=\"37411f3db51813f2ba156aefa0117262\", element=\"7e8d6097-f5e9-47f1-b1e7-c000dc0986f7\")>,\n",
       " <selenium.webdriver.remote.webelement.WebElement (session=\"37411f3db51813f2ba156aefa0117262\", element=\"05aeeba1-e879-4184-8a29-69ea2fd3cbdf\")>,\n",
       " <selenium.webdriver.remote.webelement.WebElement (session=\"37411f3db51813f2ba156aefa0117262\", element=\"da309913-7aab-4a83-9834-a6b8b444ec19\")>,\n",
       " <selenium.webdriver.remote.webelement.WebElement (session=\"37411f3db51813f2ba156aefa0117262\", element=\"80fb85ff-d25e-433a-8942-bfd07bebc040\")>,\n",
       " <selenium.webdriver.remote.webelement.WebElement (session=\"37411f3db51813f2ba156aefa0117262\", element=\"352a51c6-2a13-43be-a378-e3701ac62c61\")>,\n",
       " <selenium.webdriver.remote.webelement.WebElement (session=\"37411f3db51813f2ba156aefa0117262\", element=\"3505502c-11dc-41a7-a643-87f435238c6a\")>,\n",
       " <selenium.webdriver.remote.webelement.WebElement (session=\"37411f3db51813f2ba156aefa0117262\", element=\"5f558410-10d5-4488-a602-29c490d4b329\")>,\n",
       " <selenium.webdriver.remote.webelement.WebElement (session=\"37411f3db51813f2ba156aefa0117262\", element=\"01b95f1d-3cea-4557-9e45-ae14b969010b\")>,\n",
       " <selenium.webdriver.remote.webelement.WebElement (session=\"37411f3db51813f2ba156aefa0117262\", element=\"163c7995-46aa-48eb-8150-1a77269c52c0\")>,\n",
       " <selenium.webdriver.remote.webelement.WebElement (session=\"37411f3db51813f2ba156aefa0117262\", element=\"167cfd35-49b1-4bb9-a109-ebff51e80ec1\")>,\n",
       " <selenium.webdriver.remote.webelement.WebElement (session=\"37411f3db51813f2ba156aefa0117262\", element=\"3d7ce05e-b32f-40fe-b8a8-2f2f8b06ac8e\")>,\n",
       " <selenium.webdriver.remote.webelement.WebElement (session=\"37411f3db51813f2ba156aefa0117262\", element=\"9382523c-b854-404d-8d30-bbc804284be8\")>]"
      ]
     },
     "execution_count": 129,
     "metadata": {},
     "output_type": "execute_result"
    }
   ],
   "source": [
    "#finding all Company Rating\n",
    "rating_Com4 = driver.find_elements_by_xpath (\"//div[@class='d-flex flex-column job-search-key-1pzmdmc e1rrn5ka1']\")\n",
    "rating_Com4"
   ]
  },
  {
   "cell_type": "code",
   "execution_count": 134,
   "metadata": {},
   "outputs": [
    {
     "data": {
      "text/plain": [
       "['',\n",
       " '3.7',\n",
       " '3.8',\n",
       " '3.8',\n",
       " '3.1',\n",
       " '',\n",
       " '',\n",
       " '4.2',\n",
       " '3.7',\n",
       " '3.7',\n",
       " '3.8',\n",
       " '3.6',\n",
       " '3.8',\n",
       " '',\n",
       " '',\n",
       " '',\n",
       " '3.3',\n",
       " '',\n",
       " '',\n",
       " '4.2',\n",
       " '4.0',\n",
       " '2.8',\n",
       " '',\n",
       " '4.2',\n",
       " '3.5',\n",
       " '',\n",
       " '4.0',\n",
       " '3.6',\n",
       " '4.6',\n",
       " '3.3']"
      ]
     },
     "execution_count": 134,
     "metadata": {},
     "output_type": "execute_result"
    }
   ],
   "source": [
    "# extracting the text for Company Rating data using loop\n",
    "\n",
    "RatingCompany = []\n",
    "\n",
    "for i in rating_Com4:\n",
    "    title=i.text\n",
    "    RatingCompany.append(title)\n",
    "RatingCompany"
   ]
  },
  {
   "cell_type": "code",
   "execution_count": 135,
   "metadata": {},
   "outputs": [
    {
     "data": {
      "text/plain": [
       "(30, 30, 30)"
      ]
     },
     "execution_count": 135,
     "metadata": {},
     "output_type": "execute_result"
    }
   ],
   "source": [
    "#Checing length of all data\n",
    "len(companyName),len(NoOfDays),len(RatingCompany)"
   ]
  },
  {
   "cell_type": "code",
   "execution_count": 136,
   "metadata": {},
   "outputs": [
    {
     "data": {
      "text/html": [
       "<div>\n",
       "<style scoped>\n",
       "    .dataframe tbody tr th:only-of-type {\n",
       "        vertical-align: middle;\n",
       "    }\n",
       "\n",
       "    .dataframe tbody tr th {\n",
       "        vertical-align: top;\n",
       "    }\n",
       "\n",
       "    .dataframe thead th {\n",
       "        text-align: right;\n",
       "    }\n",
       "</style>\n",
       "<table border=\"1\" class=\"dataframe\">\n",
       "  <thead>\n",
       "    <tr style=\"text-align: right;\">\n",
       "      <th></th>\n",
       "      <th>Comany Name</th>\n",
       "      <th>No. of days ago when job was posted</th>\n",
       "      <th>Rating of the company</th>\n",
       "    </tr>\n",
       "  </thead>\n",
       "  <tbody>\n",
       "    <tr>\n",
       "      <th>0</th>\n",
       "      <td>Instrovate Technologies</td>\n",
       "      <td>30d+</td>\n",
       "      <td></td>\n",
       "    </tr>\n",
       "    <tr>\n",
       "      <th>1</th>\n",
       "      <td>UnitedHealth Group</td>\n",
       "      <td>24h</td>\n",
       "      <td>3.7</td>\n",
       "    </tr>\n",
       "    <tr>\n",
       "      <th>2</th>\n",
       "      <td>2COMS Consulting Private Limited</td>\n",
       "      <td>7d</td>\n",
       "      <td>3.8</td>\n",
       "    </tr>\n",
       "    <tr>\n",
       "      <th>3</th>\n",
       "      <td>2COMS Consulting Private Limited</td>\n",
       "      <td>24h</td>\n",
       "      <td>3.8</td>\n",
       "    </tr>\n",
       "    <tr>\n",
       "      <th>4</th>\n",
       "      <td>CODEC Networks Pvt ltd</td>\n",
       "      <td>10d</td>\n",
       "      <td>3.1</td>\n",
       "    </tr>\n",
       "    <tr>\n",
       "      <th>5</th>\n",
       "      <td>Optum - India</td>\n",
       "      <td>15d</td>\n",
       "      <td></td>\n",
       "    </tr>\n",
       "    <tr>\n",
       "      <th>6</th>\n",
       "      <td>Liberin Technologies Private Limited</td>\n",
       "      <td>30d+</td>\n",
       "      <td></td>\n",
       "    </tr>\n",
       "    <tr>\n",
       "      <th>7</th>\n",
       "      <td>Ericsson</td>\n",
       "      <td>6d</td>\n",
       "      <td>4.2</td>\n",
       "    </tr>\n",
       "    <tr>\n",
       "      <th>8</th>\n",
       "      <td>UnitedHealth Group</td>\n",
       "      <td>2d</td>\n",
       "      <td>3.7</td>\n",
       "    </tr>\n",
       "    <tr>\n",
       "      <th>9</th>\n",
       "      <td>UnitedHealth Group</td>\n",
       "      <td>15d</td>\n",
       "      <td>3.7</td>\n",
       "    </tr>\n",
       "  </tbody>\n",
       "</table>\n",
       "</div>"
      ],
      "text/plain": [
       "                            Comany Name No. of days ago when job was posted  \\\n",
       "0               Instrovate Technologies                                30d+   \n",
       "1                    UnitedHealth Group                                 24h   \n",
       "2      2COMS Consulting Private Limited                                  7d   \n",
       "3      2COMS Consulting Private Limited                                 24h   \n",
       "4                CODEC Networks Pvt ltd                                 10d   \n",
       "5                         Optum - India                                 15d   \n",
       "6  Liberin Technologies Private Limited                                30d+   \n",
       "7                              Ericsson                                  6d   \n",
       "8                    UnitedHealth Group                                  2d   \n",
       "9                    UnitedHealth Group                                 15d   \n",
       "\n",
       "  Rating of the company  \n",
       "0                        \n",
       "1                   3.7  \n",
       "2                   3.8  \n",
       "3                   3.8  \n",
       "4                   3.1  \n",
       "5                        \n",
       "6                        \n",
       "7                   4.2  \n",
       "8                   3.7  \n",
       "9                   3.7  "
      ]
     },
     "execution_count": 136,
     "metadata": {},
     "output_type": "execute_result"
    }
   ],
   "source": [
    "# creating Data Frame\n",
    "\n",
    "Glassdoor_1 = pd.DataFrame()\n",
    "Glassdoor_1 ['Comany Name'] = companyName [0:10]\n",
    "Glassdoor_1 ['No. of days ago when job was posted'] = NoOfDays [0:10]\n",
    "Glassdoor_1 ['Rating of the company'] = RatingCompany [0:10]\n",
    "Glassdoor_1"
   ]
  },
  {
   "cell_type": "code",
   "execution_count": null,
   "metadata": {},
   "outputs": [],
   "source": []
  },
  {
   "cell_type": "markdown",
   "metadata": {},
   "source": [
    "### Q5: Write a python program to scrape the salary data for Data Scientist designation in Noida location.\n",
    "\n",
    "You have to scrape Company name, Number of salaries, Average salary, Min salary, Max Salary.\n",
    "\n",
    "The above task will be, done as shown in the below steps:\n",
    "    \n",
    "1. first get the webpage https://www.glassdoor.co.in/Salaries/index.htm\n",
    "2. Enter “Data Scientist” in Job title field and “Noida” in location field.\n",
    "3. Click the search button.\n",
    "4. After that you will land on the below page\n",
    "\n",
    "You have to scrape whole data from this webpage\n",
    "\n",
    "5. Scrape data for first 10 companies. Scrape the min salary, max salary, company name, Average salary and rating of the company.\n",
    "6.Store the data in a dataframe.\n",
    "\n",
    "Note that all of the above steps have to be done by coding only and not manually."
   ]
  },
  {
   "cell_type": "code",
   "execution_count": 137,
   "metadata": {},
   "outputs": [],
   "source": [
    "driver.get('https://www.glassdoor.co.in/Salaries/index.htm')"
   ]
  },
  {
   "cell_type": "code",
   "execution_count": 138,
   "metadata": {},
   "outputs": [],
   "source": [
    "# finding elements in job search, location and click on - search button.\n",
    "\n",
    "#job title field\n",
    "J_title5 = driver.find_element_by_id('KeywordSearch')\n",
    "J_title5.send_keys('Data Scientist')"
   ]
  },
  {
   "cell_type": "code",
   "execution_count": 139,
   "metadata": {},
   "outputs": [],
   "source": [
    "# clearing location field to empty\n",
    "Location5 = driver.find_element_by_id('LocationSearch').clear()"
   ]
  },
  {
   "cell_type": "code",
   "execution_count": 140,
   "metadata": {},
   "outputs": [],
   "source": [
    "# Now regenarate location field\n",
    "Location5 = driver.find_element_by_id('LocationSearch')"
   ]
  },
  {
   "cell_type": "code",
   "execution_count": 141,
   "metadata": {},
   "outputs": [],
   "source": [
    "# passing Noida to the location field\n",
    "Location5.send_keys('Noida')"
   ]
  },
  {
   "cell_type": "code",
   "execution_count": 142,
   "metadata": {},
   "outputs": [],
   "source": [
    "#search Button\n",
    "Search_button_5 = driver.find_element_by_id('HeroSearchButton')\n",
    "Search_button_5.click()"
   ]
  },
  {
   "cell_type": "code",
   "execution_count": null,
   "metadata": {},
   "outputs": [],
   "source": []
  },
  {
   "cell_type": "markdown",
   "metadata": {},
   "source": [
    "Scraping data"
   ]
  },
  {
   "cell_type": "code",
   "execution_count": 143,
   "metadata": {},
   "outputs": [],
   "source": [
    "url5 = 'https://www.glassdoor.co.in/Salaries/new-delhi-data-scientist-salary-SRCH_IL.0,9_IM1083_KO10,24.htm?clickSource=searchBtn'\n",
    "driver.get(url5)"
   ]
  },
  {
   "cell_type": "markdown",
   "metadata": {},
   "source": [
    "Company Name"
   ]
  },
  {
   "cell_type": "code",
   "execution_count": 144,
   "metadata": {},
   "outputs": [
    {
     "data": {
      "text/plain": [
       "[<selenium.webdriver.remote.webelement.WebElement (session=\"37411f3db51813f2ba156aefa0117262\", element=\"e428c521-f852-4b67-ab9c-964aa8b21aef\")>,\n",
       " <selenium.webdriver.remote.webelement.WebElement (session=\"37411f3db51813f2ba156aefa0117262\", element=\"7681dc2c-c164-4810-8407-60ae14c28dd6\")>,\n",
       " <selenium.webdriver.remote.webelement.WebElement (session=\"37411f3db51813f2ba156aefa0117262\", element=\"d77a079c-7c98-4091-b406-45b4b5c532be\")>,\n",
       " <selenium.webdriver.remote.webelement.WebElement (session=\"37411f3db51813f2ba156aefa0117262\", element=\"9d6e20f9-fefd-4f88-bc85-71d2b9073235\")>,\n",
       " <selenium.webdriver.remote.webelement.WebElement (session=\"37411f3db51813f2ba156aefa0117262\", element=\"5a8aff96-905d-413e-97ea-6d5067f7d8d3\")>,\n",
       " <selenium.webdriver.remote.webelement.WebElement (session=\"37411f3db51813f2ba156aefa0117262\", element=\"1214f63e-8b87-49bb-b0e0-72486ff5e369\")>,\n",
       " <selenium.webdriver.remote.webelement.WebElement (session=\"37411f3db51813f2ba156aefa0117262\", element=\"52149c7c-c560-45da-96df-95602245bb31\")>,\n",
       " <selenium.webdriver.remote.webelement.WebElement (session=\"37411f3db51813f2ba156aefa0117262\", element=\"704cfdff-3b97-4ba5-bc5c-a031451b95ab\")>,\n",
       " <selenium.webdriver.remote.webelement.WebElement (session=\"37411f3db51813f2ba156aefa0117262\", element=\"23bc78fa-86d4-47bb-b290-c2b767c48b1d\")>,\n",
       " <selenium.webdriver.remote.webelement.WebElement (session=\"37411f3db51813f2ba156aefa0117262\", element=\"82d92841-c34b-4714-8519-c0261e3accbc\")>,\n",
       " <selenium.webdriver.remote.webelement.WebElement (session=\"37411f3db51813f2ba156aefa0117262\", element=\"efa34210-9bba-4c23-b87f-77a63cb21fee\")>,\n",
       " <selenium.webdriver.remote.webelement.WebElement (session=\"37411f3db51813f2ba156aefa0117262\", element=\"544f48dd-6528-4f43-b738-38bdd1428e63\")>,\n",
       " <selenium.webdriver.remote.webelement.WebElement (session=\"37411f3db51813f2ba156aefa0117262\", element=\"ecc73f8d-2066-4fbd-917c-c8cd993783be\")>,\n",
       " <selenium.webdriver.remote.webelement.WebElement (session=\"37411f3db51813f2ba156aefa0117262\", element=\"c0a1a1a4-64c8-43a9-9645-679cfdbcfd5f\")>,\n",
       " <selenium.webdriver.remote.webelement.WebElement (session=\"37411f3db51813f2ba156aefa0117262\", element=\"3aac938e-afe1-4e91-9d55-1c9735148af3\")>,\n",
       " <selenium.webdriver.remote.webelement.WebElement (session=\"37411f3db51813f2ba156aefa0117262\", element=\"a5e29592-e5d2-4024-a17a-0aaab4a7d2ae\")>,\n",
       " <selenium.webdriver.remote.webelement.WebElement (session=\"37411f3db51813f2ba156aefa0117262\", element=\"255d162f-cd0f-43f2-b99a-871c1b564d60\")>,\n",
       " <selenium.webdriver.remote.webelement.WebElement (session=\"37411f3db51813f2ba156aefa0117262\", element=\"64143a03-f6c9-45c7-bf09-1741602aebf4\")>,\n",
       " <selenium.webdriver.remote.webelement.WebElement (session=\"37411f3db51813f2ba156aefa0117262\", element=\"63f8447c-b233-4c0d-ad13-9d638c765894\")>,\n",
       " <selenium.webdriver.remote.webelement.WebElement (session=\"37411f3db51813f2ba156aefa0117262\", element=\"70c78dfa-bc61-4588-ba7e-345fd0237de4\")>]"
      ]
     },
     "execution_count": 144,
     "metadata": {},
     "output_type": "execute_result"
    }
   ],
   "source": [
    "#finding all Company Name\n",
    "Comp_name5 = driver.find_elements_by_xpath (\"//*[@class='css-f3vw95 e1aj7ssy3']\")\n",
    "Comp_name5"
   ]
  },
  {
   "cell_type": "code",
   "execution_count": 145,
   "metadata": {},
   "outputs": [
    {
     "data": {
      "text/plain": [
       "['Tata Consultancy Services',\n",
       " 'IBM',\n",
       " 'Accenture',\n",
       " 'Ericsson-Worldwide',\n",
       " 'Delhivery',\n",
       " 'UnitedHealth Group',\n",
       " 'EXL Service',\n",
       " 'Optum',\n",
       " 'ZS Associates',\n",
       " 'Optum Global Solutions',\n",
       " 'dunnhumby',\n",
       " 'Valiance Solutions',\n",
       " 'Cognizant Technology Solutions',\n",
       " 'Amazon',\n",
       " 'Nagarro',\n",
       " 'Innovaccer',\n",
       " 'Fresher',\n",
       " 'OYO',\n",
       " 'HCL Technologies',\n",
       " 'Genpact']"
      ]
     },
     "execution_count": 145,
     "metadata": {},
     "output_type": "execute_result"
    }
   ],
   "source": [
    "# extracting the text for Company Name data using loop\n",
    "\n",
    "Company_name = []\n",
    "\n",
    "for i in Comp_name5:\n",
    "    title=i.text\n",
    "    Company_name.append(title)\n",
    "Company_name"
   ]
  },
  {
   "cell_type": "markdown",
   "metadata": {},
   "source": [
    "Average_salary"
   ]
  },
  {
   "cell_type": "code",
   "execution_count": 183,
   "metadata": {},
   "outputs": [
    {
     "data": {
      "text/plain": [
       "[<selenium.webdriver.remote.webelement.WebElement (session=\"37411f3db51813f2ba156aefa0117262\", element=\"16b65a1f-29b3-4694-a9b3-cdf29c25d9de\")>,\n",
       " <selenium.webdriver.remote.webelement.WebElement (session=\"37411f3db51813f2ba156aefa0117262\", element=\"98b549b3-7b97-4811-97f8-3b13b87fd82a\")>,\n",
       " <selenium.webdriver.remote.webelement.WebElement (session=\"37411f3db51813f2ba156aefa0117262\", element=\"9f0ef030-544f-48e1-975d-a19b3cab4a23\")>,\n",
       " <selenium.webdriver.remote.webelement.WebElement (session=\"37411f3db51813f2ba156aefa0117262\", element=\"05432618-fc77-4957-845b-bd16516f6392\")>,\n",
       " <selenium.webdriver.remote.webelement.WebElement (session=\"37411f3db51813f2ba156aefa0117262\", element=\"d43dc70a-3af8-42f9-af97-b483fa70032c\")>,\n",
       " <selenium.webdriver.remote.webelement.WebElement (session=\"37411f3db51813f2ba156aefa0117262\", element=\"b528a8f9-5c85-4497-8e7f-881492d8fa79\")>,\n",
       " <selenium.webdriver.remote.webelement.WebElement (session=\"37411f3db51813f2ba156aefa0117262\", element=\"41eea624-3712-4081-860c-d585f7f9ee85\")>,\n",
       " <selenium.webdriver.remote.webelement.WebElement (session=\"37411f3db51813f2ba156aefa0117262\", element=\"01d91d52-dc56-4393-9bc8-2af4d3f7bf0c\")>,\n",
       " <selenium.webdriver.remote.webelement.WebElement (session=\"37411f3db51813f2ba156aefa0117262\", element=\"02bdf63d-c401-4ce8-80a7-fbd8e6efc63f\")>,\n",
       " <selenium.webdriver.remote.webelement.WebElement (session=\"37411f3db51813f2ba156aefa0117262\", element=\"bdfa54ed-4be1-4615-ae86-c7bad50130bb\")>,\n",
       " <selenium.webdriver.remote.webelement.WebElement (session=\"37411f3db51813f2ba156aefa0117262\", element=\"42a47d38-661b-4bf5-a35e-17640d1acc50\")>,\n",
       " <selenium.webdriver.remote.webelement.WebElement (session=\"37411f3db51813f2ba156aefa0117262\", element=\"4817f57d-3767-48cb-8ed3-c64f05f59127\")>,\n",
       " <selenium.webdriver.remote.webelement.WebElement (session=\"37411f3db51813f2ba156aefa0117262\", element=\"04ff76f8-9862-4e7a-b7e9-dcfaec3ccece\")>,\n",
       " <selenium.webdriver.remote.webelement.WebElement (session=\"37411f3db51813f2ba156aefa0117262\", element=\"f1d78415-22ad-4e35-9597-1073591873cd\")>,\n",
       " <selenium.webdriver.remote.webelement.WebElement (session=\"37411f3db51813f2ba156aefa0117262\", element=\"9fd2559a-acb8-4905-be47-f89970543df1\")>,\n",
       " <selenium.webdriver.remote.webelement.WebElement (session=\"37411f3db51813f2ba156aefa0117262\", element=\"7818a22c-fa76-4c1c-ab68-77225c6623e1\")>,\n",
       " <selenium.webdriver.remote.webelement.WebElement (session=\"37411f3db51813f2ba156aefa0117262\", element=\"2703d29e-3afe-4899-b1d6-805f07e2356d\")>,\n",
       " <selenium.webdriver.remote.webelement.WebElement (session=\"37411f3db51813f2ba156aefa0117262\", element=\"0d77c294-3124-43b2-9526-ae9c300456a1\")>,\n",
       " <selenium.webdriver.remote.webelement.WebElement (session=\"37411f3db51813f2ba156aefa0117262\", element=\"60f11e5a-4b5b-47b4-aab4-c7d13d545129\")>,\n",
       " <selenium.webdriver.remote.webelement.WebElement (session=\"37411f3db51813f2ba156aefa0117262\", element=\"0790c747-7ae6-47f0-9c6d-cd65e4174736\")>]"
      ]
     },
     "execution_count": 183,
     "metadata": {},
     "output_type": "execute_result"
    }
   ],
   "source": [
    "#finding all Average_salary\n",
    "Average_salary5 = driver.find_elements_by_xpath (\"//div[@class='col-12 col-lg-4 px-lg-0 d-flex align-items-baseline']\")\n",
    "Average_salary5"
   ]
  },
  {
   "cell_type": "code",
   "execution_count": 213,
   "metadata": {},
   "outputs": [
    {
     "data": {
      "text/plain": [
       "['₹6,31,184',\n",
       " '₹9,08,246',\n",
       " '₹12,13,338',\n",
       " '₹7,61,766',\n",
       " '₹12,49,716',\n",
       " '₹12,80,000',\n",
       " '₹12,42,519',\n",
       " '₹12,70,000',\n",
       " '₹11,71,868',\n",
       " '₹14,55,430',\n",
       " '₹11,40,187',\n",
       " '₹8,86,064',\n",
       " '₹9,62,227',\n",
       " '₹20,63,782',\n",
       " '₹11,01,815',\n",
       " '₹12,40,275',\n",
       " '₹50,000',\n",
       " '₹14,51,902',\n",
       " '₹6,87,316',\n",
       " '₹5,91,319']"
      ]
     },
     "execution_count": 213,
     "metadata": {},
     "output_type": "execute_result"
    }
   ],
   "source": [
    "# extracting the text for Average_salary data using loop\n",
    "Average_salary = []\n",
    "for i in Average_salary5:\n",
    "    title= i.text.split('\\n')[0]\n",
    "    Average_salary.append(title)\n",
    "Average_salary"
   ]
  },
  {
   "cell_type": "markdown",
   "metadata": {},
   "source": [
    "Min_salary"
   ]
  },
  {
   "cell_type": "code",
   "execution_count": 155,
   "metadata": {},
   "outputs": [
    {
     "data": {
      "text/plain": [
       "[<selenium.webdriver.remote.webelement.WebElement (session=\"37411f3db51813f2ba156aefa0117262\", element=\"1f7d87f1-86ab-4aa9-934f-f9cab0715481\")>,\n",
       " <selenium.webdriver.remote.webelement.WebElement (session=\"37411f3db51813f2ba156aefa0117262\", element=\"90465ca7-2f11-4455-9097-0ced52f8d73f\")>,\n",
       " <selenium.webdriver.remote.webelement.WebElement (session=\"37411f3db51813f2ba156aefa0117262\", element=\"f3f1a9c6-42e8-45ae-be45-ef2bffea937b\")>,\n",
       " <selenium.webdriver.remote.webelement.WebElement (session=\"37411f3db51813f2ba156aefa0117262\", element=\"3a92f2d6-8853-40b2-a0ec-fdec484d213f\")>,\n",
       " <selenium.webdriver.remote.webelement.WebElement (session=\"37411f3db51813f2ba156aefa0117262\", element=\"d2c935bb-a828-4a20-b178-aa807b4f32b5\")>,\n",
       " <selenium.webdriver.remote.webelement.WebElement (session=\"37411f3db51813f2ba156aefa0117262\", element=\"3bd9c27c-60d6-4232-bb4b-41118c0c3617\")>,\n",
       " <selenium.webdriver.remote.webelement.WebElement (session=\"37411f3db51813f2ba156aefa0117262\", element=\"8cfa65ce-7d68-4990-90f2-ae436669b8d8\")>,\n",
       " <selenium.webdriver.remote.webelement.WebElement (session=\"37411f3db51813f2ba156aefa0117262\", element=\"44175834-3137-46e7-af90-3005c9c50d23\")>,\n",
       " <selenium.webdriver.remote.webelement.WebElement (session=\"37411f3db51813f2ba156aefa0117262\", element=\"e23af65b-d2d7-4026-ae35-8ca30239b284\")>,\n",
       " <selenium.webdriver.remote.webelement.WebElement (session=\"37411f3db51813f2ba156aefa0117262\", element=\"d3ed6338-e12c-4685-a87b-8a36ea5ec21f\")>,\n",
       " <selenium.webdriver.remote.webelement.WebElement (session=\"37411f3db51813f2ba156aefa0117262\", element=\"06f8b5e9-0163-4c47-8999-0dffc75e3217\")>,\n",
       " <selenium.webdriver.remote.webelement.WebElement (session=\"37411f3db51813f2ba156aefa0117262\", element=\"ecb1756c-b16d-411d-96e3-4e3fead6fba1\")>,\n",
       " <selenium.webdriver.remote.webelement.WebElement (session=\"37411f3db51813f2ba156aefa0117262\", element=\"22d34ba6-5085-4e6a-b85a-af2fbd2f2886\")>,\n",
       " <selenium.webdriver.remote.webelement.WebElement (session=\"37411f3db51813f2ba156aefa0117262\", element=\"d1c20ae7-8f42-4771-8c05-c98bf47badd3\")>,\n",
       " <selenium.webdriver.remote.webelement.WebElement (session=\"37411f3db51813f2ba156aefa0117262\", element=\"c266c651-038e-4038-8be8-7dfe7f0b851f\")>,\n",
       " <selenium.webdriver.remote.webelement.WebElement (session=\"37411f3db51813f2ba156aefa0117262\", element=\"b8b12c39-d6b3-4bc4-b555-5457df90a17b\")>,\n",
       " <selenium.webdriver.remote.webelement.WebElement (session=\"37411f3db51813f2ba156aefa0117262\", element=\"543ac20c-87c1-4a98-8382-a388f5f98491\")>,\n",
       " <selenium.webdriver.remote.webelement.WebElement (session=\"37411f3db51813f2ba156aefa0117262\", element=\"c140a695-8635-4411-80f4-d89ea717e5a7\")>,\n",
       " <selenium.webdriver.remote.webelement.WebElement (session=\"37411f3db51813f2ba156aefa0117262\", element=\"fd518a0e-bf6a-432b-9483-13d8d9086599\")>,\n",
       " <selenium.webdriver.remote.webelement.WebElement (session=\"37411f3db51813f2ba156aefa0117262\", element=\"01dd7d7d-3dc0-4a97-b904-69b4f9117f71\")>]"
      ]
     },
     "execution_count": 155,
     "metadata": {},
     "output_type": "execute_result"
    }
   ],
   "source": [
    "#finding all Min_salary\n",
    "Min_salary5 = driver.find_elements_by_xpath (\"//div[@class='d-flex mt-xxsm css-79elbk epuxyqn0']\")\n",
    "Min_salary5"
   ]
  },
  {
   "cell_type": "code",
   "execution_count": 156,
   "metadata": {},
   "outputs": [
    {
     "data": {
      "text/plain": [
       "['₹4L',\n",
       " '₹1L',\n",
       " '₹6L',\n",
       " '₹4L',\n",
       " '₹5L',\n",
       " '₹8L',\n",
       " '₹6L',\n",
       " '₹8L',\n",
       " '₹2L',\n",
       " '₹10L',\n",
       " '₹6L',\n",
       " '₹5L',\n",
       " '₹4L',\n",
       " '₹10L',\n",
       " '₹4L',\n",
       " '₹6L',\n",
       " '₹25T',\n",
       " '₹10L',\n",
       " '₹4L',\n",
       " '₹2L']"
      ]
     },
     "execution_count": 156,
     "metadata": {},
     "output_type": "execute_result"
    }
   ],
   "source": [
    "# extracting the text for Min_salary data using loop\n",
    "Min_salary = []\n",
    "for i in Min_salary5:\n",
    "    title=i.text.split('\\n',1)[0] #seperating data using split\n",
    "    Min_salary.append(title)\n",
    "Min_salary"
   ]
  },
  {
   "cell_type": "markdown",
   "metadata": {},
   "source": [
    "Max_salary"
   ]
  },
  {
   "cell_type": "code",
   "execution_count": 157,
   "metadata": {},
   "outputs": [
    {
     "data": {
      "text/plain": [
       "['₹13L',\n",
       " '₹28L',\n",
       " '₹23L',\n",
       " '₹17L',\n",
       " '₹1Cr',\n",
       " '₹16L',\n",
       " '₹20L',\n",
       " '₹20L',\n",
       " '₹22L',\n",
       " '₹18L',\n",
       " '₹21L',\n",
       " '₹15L',\n",
       " '₹13L',\n",
       " '₹46L',\n",
       " '₹21L',\n",
       " '₹17L',\n",
       " '₹1L',\n",
       " '₹21L',\n",
       " '₹15L',\n",
       " '₹23L']"
      ]
     },
     "execution_count": 157,
     "metadata": {},
     "output_type": "execute_result"
    }
   ],
   "source": [
    "# extracting the text for Min_salary data using loop\n",
    "Max_salary = []\n",
    "for i in Min_salary5: # using Min_salary attribute \n",
    "    title=i.text.split('\\n',1)[1] #seperating data using split\n",
    "    Max_salary.append(title)\n",
    "Max_salary"
   ]
  },
  {
   "cell_type": "markdown",
   "metadata": {},
   "source": [
    "Rating_of_the_company"
   ]
  },
  {
   "cell_type": "code",
   "execution_count": 158,
   "metadata": {},
   "outputs": [
    {
     "data": {
      "text/plain": [
       "[<selenium.webdriver.remote.webelement.WebElement (session=\"37411f3db51813f2ba156aefa0117262\", element=\"a5e61972-b490-418a-9958-793bd76ae6d3\")>,\n",
       " <selenium.webdriver.remote.webelement.WebElement (session=\"37411f3db51813f2ba156aefa0117262\", element=\"ff34c1da-66ee-4417-ad48-61da7826f5d1\")>,\n",
       " <selenium.webdriver.remote.webelement.WebElement (session=\"37411f3db51813f2ba156aefa0117262\", element=\"e1568e75-1238-4132-84ad-a8eb803e1d6d\")>,\n",
       " <selenium.webdriver.remote.webelement.WebElement (session=\"37411f3db51813f2ba156aefa0117262\", element=\"ea58d7a1-9683-40a5-a2ae-b6e756ffd4b8\")>,\n",
       " <selenium.webdriver.remote.webelement.WebElement (session=\"37411f3db51813f2ba156aefa0117262\", element=\"2572cc6e-f21f-452d-b98c-67aef1102cc7\")>,\n",
       " <selenium.webdriver.remote.webelement.WebElement (session=\"37411f3db51813f2ba156aefa0117262\", element=\"0c1bd7e2-2edd-41ca-a1ff-1762442d1a1d\")>,\n",
       " <selenium.webdriver.remote.webelement.WebElement (session=\"37411f3db51813f2ba156aefa0117262\", element=\"7f1e7008-8886-474b-94e3-eee0d1b495bc\")>,\n",
       " <selenium.webdriver.remote.webelement.WebElement (session=\"37411f3db51813f2ba156aefa0117262\", element=\"35bc66de-48ed-4f19-85ec-744866107b86\")>,\n",
       " <selenium.webdriver.remote.webelement.WebElement (session=\"37411f3db51813f2ba156aefa0117262\", element=\"39c7e176-4238-4033-b8e8-fb8f0111678a\")>,\n",
       " <selenium.webdriver.remote.webelement.WebElement (session=\"37411f3db51813f2ba156aefa0117262\", element=\"34b5d647-6443-4b46-b0d5-153a3406eba0\")>,\n",
       " <selenium.webdriver.remote.webelement.WebElement (session=\"37411f3db51813f2ba156aefa0117262\", element=\"1351c58f-566c-4289-8921-2f8365111652\")>,\n",
       " <selenium.webdriver.remote.webelement.WebElement (session=\"37411f3db51813f2ba156aefa0117262\", element=\"bbcbfaa5-dad3-46d3-9cac-d75623786158\")>,\n",
       " <selenium.webdriver.remote.webelement.WebElement (session=\"37411f3db51813f2ba156aefa0117262\", element=\"78d2e25f-021f-41d4-bfcf-416bebb29cd1\")>,\n",
       " <selenium.webdriver.remote.webelement.WebElement (session=\"37411f3db51813f2ba156aefa0117262\", element=\"f80e8cd6-8f3a-46b1-9124-cd2597c3a9d7\")>,\n",
       " <selenium.webdriver.remote.webelement.WebElement (session=\"37411f3db51813f2ba156aefa0117262\", element=\"e0a5fbf4-0709-48af-a363-020352908a4c\")>,\n",
       " <selenium.webdriver.remote.webelement.WebElement (session=\"37411f3db51813f2ba156aefa0117262\", element=\"5066e774-3eb0-48fb-8d43-04bc8ec4d374\")>,\n",
       " <selenium.webdriver.remote.webelement.WebElement (session=\"37411f3db51813f2ba156aefa0117262\", element=\"fb2dcbd5-8753-4973-9770-861ddef6056d\")>,\n",
       " <selenium.webdriver.remote.webelement.WebElement (session=\"37411f3db51813f2ba156aefa0117262\", element=\"1bca21b7-0c09-4f08-9ec5-d7750277153c\")>,\n",
       " <selenium.webdriver.remote.webelement.WebElement (session=\"37411f3db51813f2ba156aefa0117262\", element=\"28bdb738-0e3c-401f-8ba0-39cfef0dd655\")>,\n",
       " <selenium.webdriver.remote.webelement.WebElement (session=\"37411f3db51813f2ba156aefa0117262\", element=\"0b487a31-8213-48f8-9a7d-0d7ce78d44d9\")>]"
      ]
     },
     "execution_count": 158,
     "metadata": {},
     "output_type": "execute_result"
    }
   ],
   "source": [
    "rating5 = driver.find_elements_by_xpath (\"//span[@class='m-0 css-kyx745']\")\n",
    "rating5"
   ]
  },
  {
   "cell_type": "code",
   "execution_count": 159,
   "metadata": {},
   "outputs": [
    {
     "data": {
      "text/plain": [
       "['3.9',\n",
       " '3.9',\n",
       " '4.1',\n",
       " '4',\n",
       " '3.7',\n",
       " '3.7',\n",
       " '3.6',\n",
       " '3.7',\n",
       " '4',\n",
       " '3.9',\n",
       " '4.1',\n",
       " '4.2',\n",
       " '3.8',\n",
       " '3.8',\n",
       " '4.1',\n",
       " '3.8',\n",
       " '4.2',\n",
       " '3.3',\n",
       " '3.7',\n",
       " '3.8']"
      ]
     },
     "execution_count": 159,
     "metadata": {},
     "output_type": "execute_result"
    }
   ],
   "source": [
    "Rating_of_the_company = []\n",
    "\n",
    "for i in  rating5:\n",
    "    rating=i.text\n",
    "    Rating_of_the_company.append(rating)\n",
    "Rating_of_the_company"
   ]
  },
  {
   "cell_type": "code",
   "execution_count": null,
   "metadata": {},
   "outputs": [],
   "source": []
  },
  {
   "cell_type": "code",
   "execution_count": 160,
   "metadata": {},
   "outputs": [
    {
     "data": {
      "text/plain": [
       "(20, 20, 20, 20, 20)"
      ]
     },
     "execution_count": 160,
     "metadata": {},
     "output_type": "execute_result"
    }
   ],
   "source": [
    "#checking length of the data\n",
    "len(Company_name),len(Average_salary),len(Min_salary),len(Max_salary),len(Rating_of_the_company)"
   ]
  },
  {
   "cell_type": "code",
   "execution_count": 214,
   "metadata": {},
   "outputs": [
    {
     "data": {
      "text/html": [
       "<div>\n",
       "<style scoped>\n",
       "    .dataframe tbody tr th:only-of-type {\n",
       "        vertical-align: middle;\n",
       "    }\n",
       "\n",
       "    .dataframe tbody tr th {\n",
       "        vertical-align: top;\n",
       "    }\n",
       "\n",
       "    .dataframe thead th {\n",
       "        text-align: right;\n",
       "    }\n",
       "</style>\n",
       "<table border=\"1\" class=\"dataframe\">\n",
       "  <thead>\n",
       "    <tr style=\"text-align: right;\">\n",
       "      <th></th>\n",
       "      <th>Company Name</th>\n",
       "      <th>Average Salary</th>\n",
       "      <th>Min Salary</th>\n",
       "      <th>Max Salary</th>\n",
       "      <th>Rating of the company</th>\n",
       "    </tr>\n",
       "  </thead>\n",
       "  <tbody>\n",
       "    <tr>\n",
       "      <th>0</th>\n",
       "      <td>Tata Consultancy Services</td>\n",
       "      <td>₹6,31,184</td>\n",
       "      <td>₹4L</td>\n",
       "      <td>₹13L</td>\n",
       "      <td>3.9</td>\n",
       "    </tr>\n",
       "    <tr>\n",
       "      <th>1</th>\n",
       "      <td>IBM</td>\n",
       "      <td>₹9,08,246</td>\n",
       "      <td>₹1L</td>\n",
       "      <td>₹28L</td>\n",
       "      <td>3.9</td>\n",
       "    </tr>\n",
       "    <tr>\n",
       "      <th>2</th>\n",
       "      <td>Accenture</td>\n",
       "      <td>₹12,13,338</td>\n",
       "      <td>₹6L</td>\n",
       "      <td>₹23L</td>\n",
       "      <td>4.1</td>\n",
       "    </tr>\n",
       "    <tr>\n",
       "      <th>3</th>\n",
       "      <td>Ericsson-Worldwide</td>\n",
       "      <td>₹7,61,766</td>\n",
       "      <td>₹4L</td>\n",
       "      <td>₹17L</td>\n",
       "      <td>4</td>\n",
       "    </tr>\n",
       "    <tr>\n",
       "      <th>4</th>\n",
       "      <td>Delhivery</td>\n",
       "      <td>₹12,49,716</td>\n",
       "      <td>₹5L</td>\n",
       "      <td>₹1Cr</td>\n",
       "      <td>3.7</td>\n",
       "    </tr>\n",
       "    <tr>\n",
       "      <th>5</th>\n",
       "      <td>UnitedHealth Group</td>\n",
       "      <td>₹12,80,000</td>\n",
       "      <td>₹8L</td>\n",
       "      <td>₹16L</td>\n",
       "      <td>3.7</td>\n",
       "    </tr>\n",
       "    <tr>\n",
       "      <th>6</th>\n",
       "      <td>EXL Service</td>\n",
       "      <td>₹12,42,519</td>\n",
       "      <td>₹6L</td>\n",
       "      <td>₹20L</td>\n",
       "      <td>3.6</td>\n",
       "    </tr>\n",
       "    <tr>\n",
       "      <th>7</th>\n",
       "      <td>Optum</td>\n",
       "      <td>₹12,70,000</td>\n",
       "      <td>₹8L</td>\n",
       "      <td>₹20L</td>\n",
       "      <td>3.7</td>\n",
       "    </tr>\n",
       "    <tr>\n",
       "      <th>8</th>\n",
       "      <td>ZS Associates</td>\n",
       "      <td>₹11,71,868</td>\n",
       "      <td>₹2L</td>\n",
       "      <td>₹22L</td>\n",
       "      <td>4</td>\n",
       "    </tr>\n",
       "    <tr>\n",
       "      <th>9</th>\n",
       "      <td>Optum Global Solutions</td>\n",
       "      <td>₹14,55,430</td>\n",
       "      <td>₹10L</td>\n",
       "      <td>₹18L</td>\n",
       "      <td>3.9</td>\n",
       "    </tr>\n",
       "  </tbody>\n",
       "</table>\n",
       "</div>"
      ],
      "text/plain": [
       "                Company Name Average Salary Min Salary Max Salary  \\\n",
       "0  Tata Consultancy Services      ₹6,31,184        ₹4L       ₹13L   \n",
       "1                        IBM      ₹9,08,246        ₹1L       ₹28L   \n",
       "2                  Accenture     ₹12,13,338        ₹6L       ₹23L   \n",
       "3         Ericsson-Worldwide      ₹7,61,766        ₹4L       ₹17L   \n",
       "4                  Delhivery     ₹12,49,716        ₹5L       ₹1Cr   \n",
       "5         UnitedHealth Group     ₹12,80,000        ₹8L       ₹16L   \n",
       "6                EXL Service     ₹12,42,519        ₹6L       ₹20L   \n",
       "7                      Optum     ₹12,70,000        ₹8L       ₹20L   \n",
       "8              ZS Associates     ₹11,71,868        ₹2L       ₹22L   \n",
       "9     Optum Global Solutions     ₹14,55,430       ₹10L       ₹18L   \n",
       "\n",
       "  Rating of the company  \n",
       "0                   3.9  \n",
       "1                   3.9  \n",
       "2                   4.1  \n",
       "3                     4  \n",
       "4                   3.7  \n",
       "5                   3.7  \n",
       "6                   3.6  \n",
       "7                   3.7  \n",
       "8                     4  \n",
       "9                   3.9  "
      ]
     },
     "execution_count": 214,
     "metadata": {},
     "output_type": "execute_result"
    }
   ],
   "source": [
    "#creating Data Frame\n",
    "Glassdoor_salaries = pd.DataFrame()\n",
    "Glassdoor_salaries ['Company Name'] = Company_name[0:10]\n",
    "Glassdoor_salaries ['Average Salary'] = Average_salary[0:10]\n",
    "Glassdoor_salaries ['Min Salary'] = Min_salary[0:10]\n",
    "Glassdoor_salaries ['Max Salary'] = Max_salary[0:10]\n",
    "Glassdoor_salaries ['Rating of the company'] = Rating_of_the_company[0:10]\n",
    "Glassdoor_salaries"
   ]
  },
  {
   "cell_type": "code",
   "execution_count": null,
   "metadata": {},
   "outputs": [],
   "source": []
  },
  {
   "cell_type": "markdown",
   "metadata": {},
   "source": [
    "### Q6 : Scrape data of first 100 sunglasses listings on flipkart.com. You have to scrape four attributes:\n",
    "\n",
    "1. Brand\n",
    "2. Product Description\n",
    "3. Price\n",
    "4. Discount %\n",
    "\n",
    "The attributes which you have to scrape is ticked marked in the below image.\n",
    "\n",
    "To scrape the data you have to go through following steps:\n",
    "\n",
    "1. Go to flipkart webpage by url https://www.flipkart.com/\n",
    "2. Enter “sunglasses” in the search field where “search for products, brands and more” is written and click the search icon\n",
    "3. after that you will reach to a webpage having a lot of sunglasses. From this page you can scrap the required data as usual.\n",
    "4. after scraping data from the first page, go to the “Next” Button at the bottom of the page , then click on it\n",
    "5. Now scrape data from this page as usual\n",
    "6. repeat this until you get data for 100 sunglasses.\n",
    "\n",
    "Note that all of the above steps have to be done by coding only and not manually."
   ]
  },
  {
   "cell_type": "code",
   "execution_count": 223,
   "metadata": {},
   "outputs": [],
   "source": [
    "driver.get('https://www.flipkart.com')"
   ]
  },
  {
   "cell_type": "code",
   "execution_count": 224,
   "metadata": {},
   "outputs": [],
   "source": [
    "#search field adding sunglasses in the input field\n",
    "Search_6 = driver.find_element_by_xpath('//*[@id=\"container\"]/div/div[1]/div[1]/div[2]/div[2]/form/div/div/input')\n",
    "Search_6.send_keys('sunglasses')"
   ]
  },
  {
   "cell_type": "code",
   "execution_count": 225,
   "metadata": {},
   "outputs": [],
   "source": [
    "# Search submit button\n",
    "Search_6.submit()"
   ]
  },
  {
   "cell_type": "code",
   "execution_count": 226,
   "metadata": {},
   "outputs": [],
   "source": [
    "#url\n",
    "url6 = 'https://www.flipkart.com/search?q=sunglasses&otracker=search&otracker1=search&marketplace=FLIPKART&as-show=on&as=off'"
   ]
  },
  {
   "cell_type": "code",
   "execution_count": 227,
   "metadata": {},
   "outputs": [],
   "source": [
    "driver.get(url6)"
   ]
  },
  {
   "cell_type": "code",
   "execution_count": null,
   "metadata": {},
   "outputs": [],
   "source": []
  },
  {
   "cell_type": "markdown",
   "metadata": {},
   "source": [
    "Collecting Brand content from page 1"
   ]
  },
  {
   "cell_type": "code",
   "execution_count": 228,
   "metadata": {},
   "outputs": [
    {
     "data": {
      "text/plain": [
       "[<selenium.webdriver.remote.webelement.WebElement (session=\"37411f3db51813f2ba156aefa0117262\", element=\"cf1700f4-9160-412b-8a6a-a687fd30e392\")>,\n",
       " <selenium.webdriver.remote.webelement.WebElement (session=\"37411f3db51813f2ba156aefa0117262\", element=\"6d0f0dcb-990a-4daf-b6c7-0863ba707246\")>,\n",
       " <selenium.webdriver.remote.webelement.WebElement (session=\"37411f3db51813f2ba156aefa0117262\", element=\"5ce4a1f8-1824-45b8-81dd-2cf7833e74b4\")>,\n",
       " <selenium.webdriver.remote.webelement.WebElement (session=\"37411f3db51813f2ba156aefa0117262\", element=\"ca6c27cb-519c-45f0-b41c-69d73d7f73c1\")>,\n",
       " <selenium.webdriver.remote.webelement.WebElement (session=\"37411f3db51813f2ba156aefa0117262\", element=\"247bfec6-3b8e-4c73-b789-f1a6fe0aed55\")>,\n",
       " <selenium.webdriver.remote.webelement.WebElement (session=\"37411f3db51813f2ba156aefa0117262\", element=\"db027900-8dd2-4561-ba0e-4d27c5f68167\")>,\n",
       " <selenium.webdriver.remote.webelement.WebElement (session=\"37411f3db51813f2ba156aefa0117262\", element=\"c80cc645-83f8-4420-8767-9537a548ddea\")>,\n",
       " <selenium.webdriver.remote.webelement.WebElement (session=\"37411f3db51813f2ba156aefa0117262\", element=\"22ef1199-6b3e-41aa-8fee-6fdc192b63a9\")>,\n",
       " <selenium.webdriver.remote.webelement.WebElement (session=\"37411f3db51813f2ba156aefa0117262\", element=\"2752e4ee-af7a-4bbc-836f-dd992ca53a3c\")>,\n",
       " <selenium.webdriver.remote.webelement.WebElement (session=\"37411f3db51813f2ba156aefa0117262\", element=\"b40f00ea-2880-4f53-af60-60eb7c8a8355\")>,\n",
       " <selenium.webdriver.remote.webelement.WebElement (session=\"37411f3db51813f2ba156aefa0117262\", element=\"a2ec5e53-783e-4ea9-ae18-9e149914a22e\")>,\n",
       " <selenium.webdriver.remote.webelement.WebElement (session=\"37411f3db51813f2ba156aefa0117262\", element=\"11821416-0f7d-4d12-b44f-938a061ca8db\")>,\n",
       " <selenium.webdriver.remote.webelement.WebElement (session=\"37411f3db51813f2ba156aefa0117262\", element=\"3cfe6232-8830-4db1-95d5-ea29963f9ecc\")>,\n",
       " <selenium.webdriver.remote.webelement.WebElement (session=\"37411f3db51813f2ba156aefa0117262\", element=\"cdf4e018-2424-43e8-b42c-78e6a99c0afe\")>,\n",
       " <selenium.webdriver.remote.webelement.WebElement (session=\"37411f3db51813f2ba156aefa0117262\", element=\"d1b27b49-4fe8-44f5-9ac5-7cd134fcb822\")>,\n",
       " <selenium.webdriver.remote.webelement.WebElement (session=\"37411f3db51813f2ba156aefa0117262\", element=\"a4a43bf9-551b-4aab-8168-28e8957b5d4c\")>,\n",
       " <selenium.webdriver.remote.webelement.WebElement (session=\"37411f3db51813f2ba156aefa0117262\", element=\"e8996ec4-378d-460a-b441-70f30b8c923a\")>,\n",
       " <selenium.webdriver.remote.webelement.WebElement (session=\"37411f3db51813f2ba156aefa0117262\", element=\"18ac4509-4182-40df-9955-cb8ed6939358\")>,\n",
       " <selenium.webdriver.remote.webelement.WebElement (session=\"37411f3db51813f2ba156aefa0117262\", element=\"7e2a952f-fbf6-45f6-9259-229edb1b2f02\")>,\n",
       " <selenium.webdriver.remote.webelement.WebElement (session=\"37411f3db51813f2ba156aefa0117262\", element=\"9e690738-7ccf-426b-b277-03390c362a0e\")>,\n",
       " <selenium.webdriver.remote.webelement.WebElement (session=\"37411f3db51813f2ba156aefa0117262\", element=\"7879ce21-8090-4e25-b159-e0b26b214f26\")>,\n",
       " <selenium.webdriver.remote.webelement.WebElement (session=\"37411f3db51813f2ba156aefa0117262\", element=\"4088d550-2427-4b46-97d7-c53d44d6ca4c\")>,\n",
       " <selenium.webdriver.remote.webelement.WebElement (session=\"37411f3db51813f2ba156aefa0117262\", element=\"975da635-2ee4-43ea-8847-75f6a5c16846\")>,\n",
       " <selenium.webdriver.remote.webelement.WebElement (session=\"37411f3db51813f2ba156aefa0117262\", element=\"e297b7e1-8a7e-4d26-8c22-07b89885ba7f\")>,\n",
       " <selenium.webdriver.remote.webelement.WebElement (session=\"37411f3db51813f2ba156aefa0117262\", element=\"082807a0-875c-4350-b42e-8c92de850f60\")>,\n",
       " <selenium.webdriver.remote.webelement.WebElement (session=\"37411f3db51813f2ba156aefa0117262\", element=\"7a030a8d-ba48-42fb-83e8-9a09e6792a78\")>,\n",
       " <selenium.webdriver.remote.webelement.WebElement (session=\"37411f3db51813f2ba156aefa0117262\", element=\"80a016be-5de2-4fd1-b31c-0aec2cabdf54\")>,\n",
       " <selenium.webdriver.remote.webelement.WebElement (session=\"37411f3db51813f2ba156aefa0117262\", element=\"050aa26f-321b-4a6e-95cc-ff12bf10c4d1\")>,\n",
       " <selenium.webdriver.remote.webelement.WebElement (session=\"37411f3db51813f2ba156aefa0117262\", element=\"6c1f355b-371a-462d-ba4d-aa9da3d58203\")>,\n",
       " <selenium.webdriver.remote.webelement.WebElement (session=\"37411f3db51813f2ba156aefa0117262\", element=\"94951042-80d4-4289-b1d0-b5a6a9d70a3d\")>,\n",
       " <selenium.webdriver.remote.webelement.WebElement (session=\"37411f3db51813f2ba156aefa0117262\", element=\"0e9557eb-2ca6-4870-8717-9325c653bbc1\")>,\n",
       " <selenium.webdriver.remote.webelement.WebElement (session=\"37411f3db51813f2ba156aefa0117262\", element=\"f65bc323-1c27-470a-acad-80be243f7f2c\")>,\n",
       " <selenium.webdriver.remote.webelement.WebElement (session=\"37411f3db51813f2ba156aefa0117262\", element=\"15595d3e-3f94-4ff9-b431-c6a1c0267194\")>,\n",
       " <selenium.webdriver.remote.webelement.WebElement (session=\"37411f3db51813f2ba156aefa0117262\", element=\"a1d8c96b-e913-450f-af6e-1720c1000e14\")>,\n",
       " <selenium.webdriver.remote.webelement.WebElement (session=\"37411f3db51813f2ba156aefa0117262\", element=\"8ac545dc-d2c1-4743-bc95-6e2bef7bfbc4\")>,\n",
       " <selenium.webdriver.remote.webelement.WebElement (session=\"37411f3db51813f2ba156aefa0117262\", element=\"0a6004b2-bede-4557-9995-9e192bc26cab\")>,\n",
       " <selenium.webdriver.remote.webelement.WebElement (session=\"37411f3db51813f2ba156aefa0117262\", element=\"dff14953-818e-41fd-bbd1-8e632f9b9199\")>,\n",
       " <selenium.webdriver.remote.webelement.WebElement (session=\"37411f3db51813f2ba156aefa0117262\", element=\"b9f6e19a-3df1-49ab-8c87-8bf5545c36c0\")>,\n",
       " <selenium.webdriver.remote.webelement.WebElement (session=\"37411f3db51813f2ba156aefa0117262\", element=\"f4c96f36-9e2d-491c-93e8-a6169dac65e6\")>,\n",
       " <selenium.webdriver.remote.webelement.WebElement (session=\"37411f3db51813f2ba156aefa0117262\", element=\"9d2868d7-c13f-44b3-bece-c136e65db34a\")>]"
      ]
     },
     "execution_count": 228,
     "metadata": {},
     "output_type": "execute_result"
    }
   ],
   "source": [
    "#finding all Brand content\n",
    "Brand_6 = driver.find_elements_by_xpath (\"//div[@class='_2WkVRV']\")\n",
    "Brand_6"
   ]
  },
  {
   "cell_type": "code",
   "execution_count": 229,
   "metadata": {},
   "outputs": [
    {
     "data": {
      "text/plain": [
       "['Fastrack',\n",
       " 'Fastrack',\n",
       " 'Fastrack',\n",
       " 'Fastrack',\n",
       " 'SHAAH COLLECTIONS',\n",
       " 'Fastrack',\n",
       " 'Fastrack',\n",
       " 'hipe',\n",
       " 'GANSTA',\n",
       " 'Fastrack',\n",
       " 'elegante',\n",
       " 'ROYAL SON',\n",
       " 'Fastrack',\n",
       " 'Fastrack',\n",
       " 'GANSTA',\n",
       " 'PIRASO',\n",
       " 'ROYAL SON',\n",
       " 'PIRASO',\n",
       " 'Elligator',\n",
       " 'VINCENT CHASE',\n",
       " 'kingsunglasses',\n",
       " 'Fastrack',\n",
       " 'Fastrack',\n",
       " 'ROZZETTA CRAFT',\n",
       " 'Fastrack',\n",
       " 'Fastrack',\n",
       " 'Fastrack',\n",
       " 'Singco India',\n",
       " 'Fastrack',\n",
       " 'kingsunglasses',\n",
       " 'PIRASO',\n",
       " 'Fastrack',\n",
       " 'Singco India',\n",
       " 'IDEE',\n",
       " 'PHENOMENAL',\n",
       " 'Fastrack',\n",
       " 'Fastrack',\n",
       " 'ROYAL SON',\n",
       " 'IDEE',\n",
       " 'NuVew']"
      ]
     },
     "execution_count": 229,
     "metadata": {},
     "output_type": "execute_result"
    }
   ],
   "source": [
    "# extracting the text for Company Name data using loop\n",
    "\n",
    "Brand1 = []\n",
    "\n",
    "for i in Brand_6:\n",
    "    title=i.text\n",
    "    Brand1.append(title)\n",
    "Brand1"
   ]
  },
  {
   "cell_type": "markdown",
   "metadata": {},
   "source": [
    "Product Description from page 1"
   ]
  },
  {
   "cell_type": "code",
   "execution_count": 230,
   "metadata": {},
   "outputs": [
    {
     "data": {
      "text/plain": [
       "[<selenium.webdriver.remote.webelement.WebElement (session=\"37411f3db51813f2ba156aefa0117262\", element=\"64ca7851-14eb-4e27-bb81-cf64fefe970b\")>,\n",
       " <selenium.webdriver.remote.webelement.WebElement (session=\"37411f3db51813f2ba156aefa0117262\", element=\"a054391e-2f13-4b9c-b2f2-a3bac8d2fb1c\")>,\n",
       " <selenium.webdriver.remote.webelement.WebElement (session=\"37411f3db51813f2ba156aefa0117262\", element=\"434fa62f-71ae-4ae0-b8dd-88679ac6800a\")>,\n",
       " <selenium.webdriver.remote.webelement.WebElement (session=\"37411f3db51813f2ba156aefa0117262\", element=\"9e74e672-07bb-4bfe-95cc-619b941be3c9\")>,\n",
       " <selenium.webdriver.remote.webelement.WebElement (session=\"37411f3db51813f2ba156aefa0117262\", element=\"abe3f6ac-0273-4ba1-a923-99571f8fdb19\")>,\n",
       " <selenium.webdriver.remote.webelement.WebElement (session=\"37411f3db51813f2ba156aefa0117262\", element=\"42130c9a-2c5e-4cc8-9d07-8bcf4bfef2af\")>,\n",
       " <selenium.webdriver.remote.webelement.WebElement (session=\"37411f3db51813f2ba156aefa0117262\", element=\"b183d5a4-caeb-44f4-a8b9-91d6a9da5eeb\")>,\n",
       " <selenium.webdriver.remote.webelement.WebElement (session=\"37411f3db51813f2ba156aefa0117262\", element=\"02ed0062-2b70-4812-bc5c-959267ae6f7a\")>,\n",
       " <selenium.webdriver.remote.webelement.WebElement (session=\"37411f3db51813f2ba156aefa0117262\", element=\"8bf86e0a-5e06-45be-a5f2-b99ef289b3eb\")>,\n",
       " <selenium.webdriver.remote.webelement.WebElement (session=\"37411f3db51813f2ba156aefa0117262\", element=\"fddc0243-5854-4217-a113-ea97f0b4a093\")>,\n",
       " <selenium.webdriver.remote.webelement.WebElement (session=\"37411f3db51813f2ba156aefa0117262\", element=\"7ab20262-58cf-4c14-be95-af3acaec7b0c\")>,\n",
       " <selenium.webdriver.remote.webelement.WebElement (session=\"37411f3db51813f2ba156aefa0117262\", element=\"cbc58163-fa46-49bf-8d6e-239e1b317aca\")>,\n",
       " <selenium.webdriver.remote.webelement.WebElement (session=\"37411f3db51813f2ba156aefa0117262\", element=\"7e180b35-7aae-4a85-8d95-5a3e4429494a\")>,\n",
       " <selenium.webdriver.remote.webelement.WebElement (session=\"37411f3db51813f2ba156aefa0117262\", element=\"b0a5edfd-9d8d-4674-ad64-fb93ffcde53d\")>,\n",
       " <selenium.webdriver.remote.webelement.WebElement (session=\"37411f3db51813f2ba156aefa0117262\", element=\"1b7397ea-1778-4903-bfdd-ae013b21882e\")>,\n",
       " <selenium.webdriver.remote.webelement.WebElement (session=\"37411f3db51813f2ba156aefa0117262\", element=\"50a191c0-ccac-4fec-98fe-3d5bfb7e212c\")>,\n",
       " <selenium.webdriver.remote.webelement.WebElement (session=\"37411f3db51813f2ba156aefa0117262\", element=\"6d565592-c364-4bc0-a866-38a89dbdd136\")>,\n",
       " <selenium.webdriver.remote.webelement.WebElement (session=\"37411f3db51813f2ba156aefa0117262\", element=\"2ca8476b-f50b-44f6-9adb-e664a50bd3b2\")>,\n",
       " <selenium.webdriver.remote.webelement.WebElement (session=\"37411f3db51813f2ba156aefa0117262\", element=\"295e761a-7d9f-4c41-80b5-9ccd8a2f3b1b\")>,\n",
       " <selenium.webdriver.remote.webelement.WebElement (session=\"37411f3db51813f2ba156aefa0117262\", element=\"f06d5310-d61f-4b89-81fe-781e3bd97529\")>,\n",
       " <selenium.webdriver.remote.webelement.WebElement (session=\"37411f3db51813f2ba156aefa0117262\", element=\"88d3afd1-886d-4816-9705-bef36234df9d\")>,\n",
       " <selenium.webdriver.remote.webelement.WebElement (session=\"37411f3db51813f2ba156aefa0117262\", element=\"37df6884-b0b2-4371-a2c1-c287ec52319c\")>,\n",
       " <selenium.webdriver.remote.webelement.WebElement (session=\"37411f3db51813f2ba156aefa0117262\", element=\"c00d7145-6c9c-4e75-9e89-9b99f6fcc3d3\")>,\n",
       " <selenium.webdriver.remote.webelement.WebElement (session=\"37411f3db51813f2ba156aefa0117262\", element=\"08afb07f-f3c1-4d24-a719-e63c415f3cc0\")>,\n",
       " <selenium.webdriver.remote.webelement.WebElement (session=\"37411f3db51813f2ba156aefa0117262\", element=\"96f584fd-779e-4a74-ab23-84bdd571954c\")>,\n",
       " <selenium.webdriver.remote.webelement.WebElement (session=\"37411f3db51813f2ba156aefa0117262\", element=\"f6fc8786-e302-413e-8fbc-d4eb3e7e1e6a\")>,\n",
       " <selenium.webdriver.remote.webelement.WebElement (session=\"37411f3db51813f2ba156aefa0117262\", element=\"1dce2e8c-6390-4427-bff6-36222445d3f0\")>,\n",
       " <selenium.webdriver.remote.webelement.WebElement (session=\"37411f3db51813f2ba156aefa0117262\", element=\"52ac2789-7c1e-4a40-a6d3-08a975004ad5\")>,\n",
       " <selenium.webdriver.remote.webelement.WebElement (session=\"37411f3db51813f2ba156aefa0117262\", element=\"2defd890-48c9-4e81-9b0a-57bbf700c022\")>,\n",
       " <selenium.webdriver.remote.webelement.WebElement (session=\"37411f3db51813f2ba156aefa0117262\", element=\"9ff7205c-db22-49ce-8a53-86b3a2cf8f9c\")>,\n",
       " <selenium.webdriver.remote.webelement.WebElement (session=\"37411f3db51813f2ba156aefa0117262\", element=\"d5d52723-3536-4629-bdc2-ad3f37934e6d\")>,\n",
       " <selenium.webdriver.remote.webelement.WebElement (session=\"37411f3db51813f2ba156aefa0117262\", element=\"5680afbf-0297-4191-89e4-2b01e4e11810\")>,\n",
       " <selenium.webdriver.remote.webelement.WebElement (session=\"37411f3db51813f2ba156aefa0117262\", element=\"1872cf0e-dc68-4383-acef-9977dc4de056\")>,\n",
       " <selenium.webdriver.remote.webelement.WebElement (session=\"37411f3db51813f2ba156aefa0117262\", element=\"2d252a73-8e1b-47fa-bea7-0e16a7bff427\")>,\n",
       " <selenium.webdriver.remote.webelement.WebElement (session=\"37411f3db51813f2ba156aefa0117262\", element=\"a8cf8c92-1d40-4c2f-abb8-a21481396ef1\")>,\n",
       " <selenium.webdriver.remote.webelement.WebElement (session=\"37411f3db51813f2ba156aefa0117262\", element=\"4b0ff741-4ae7-4a79-9ece-267dab662bb8\")>,\n",
       " <selenium.webdriver.remote.webelement.WebElement (session=\"37411f3db51813f2ba156aefa0117262\", element=\"89b49e5e-b3b9-4755-9fd1-ab46eed8541b\")>,\n",
       " <selenium.webdriver.remote.webelement.WebElement (session=\"37411f3db51813f2ba156aefa0117262\", element=\"178625d7-3ce2-4fd4-8340-11adc10ee862\")>,\n",
       " <selenium.webdriver.remote.webelement.WebElement (session=\"37411f3db51813f2ba156aefa0117262\", element=\"32c9c504-a041-4e32-b3bb-42a09eb5557b\")>,\n",
       " <selenium.webdriver.remote.webelement.WebElement (session=\"37411f3db51813f2ba156aefa0117262\", element=\"5292b3eb-ad0a-4039-8f20-8921bac39bb5\")>]"
      ]
     },
     "execution_count": 230,
     "metadata": {},
     "output_type": "execute_result"
    }
   ],
   "source": [
    "#finding all Product Description content\n",
    "product_6 = driver.find_elements_by_xpath (\"//*[@class='IRpwTa']\")\n",
    "product_6"
   ]
  },
  {
   "cell_type": "code",
   "execution_count": 231,
   "metadata": {},
   "outputs": [
    {
     "data": {
      "text/plain": [
       "['UV Protection Wayfarer Sunglasses (57)',\n",
       " 'UV Protection Wrap-around Sunglasses (Free Size)',\n",
       " 'UV Protection Wayfarer Sunglasses (Free Size)',\n",
       " 'UV Protection Wayfarer Sunglasses (Free Size)',\n",
       " 'UV Protection, Polarized, Mirrored Rectangular Sunglass...',\n",
       " 'Gradient, UV Protection Wayfarer Sunglasses (Free Size)',\n",
       " 'UV Protection Shield Sunglasses (Free Size)',\n",
       " 'Mirrored, UV Protection, Gradient Round Sunglasses (55)',\n",
       " 'UV Protection Rectangular Sunglasses (60)',\n",
       " 'Mirrored, UV Protection Wayfarer Sunglasses (Free Size)',\n",
       " 'Mirrored Round Sunglasses (Free Size)',\n",
       " 'UV Protection Retro Square Sunglasses (60)',\n",
       " 'UV Protection Aviator Sunglasses (Free Size)',\n",
       " 'Gradient, UV Protection Wayfarer Sunglasses (Free Size)',\n",
       " 'UV Protection Aviator Sunglasses (57)',\n",
       " 'UV Protection Aviator Sunglasses (54)',\n",
       " 'UV Protection Retro Square Sunglasses (88)',\n",
       " 'UV Protection Aviator Sunglasses (54)',\n",
       " 'UV Protection Round Sunglasses (54)',\n",
       " 'Polarized, UV Protection Wayfarer Sunglasses (53)',\n",
       " 'Mirrored, UV Protection Wayfarer, Wayfarer, Wayfarer, W...',\n",
       " 'UV Protection Wayfarer Sunglasses (Free Size)',\n",
       " 'UV Protection Aviator Sunglasses (58)',\n",
       " 'UV Protection, Gradient Round Sunglasses (Free Size)',\n",
       " 'Gradient, UV Protection Wayfarer Sunglasses (Free Size)',\n",
       " 'UV Protection Wayfarer Sunglasses (Free Size)',\n",
       " 'UV Protection Wayfarer Sunglasses (Free Size)',\n",
       " 'UV Protection Aviator Sunglasses (Free Size)',\n",
       " 'UV Protection Round Sunglasses (52)',\n",
       " 'Mirrored, UV Protection Wayfarer Sunglasses (Free Size)',\n",
       " 'UV Protection Aviator Sunglasses (54)',\n",
       " 'UV Protection Rectangular Sunglasses (59)',\n",
       " 'UV Protection, Riding Glasses, Others Aviator, Wayfarer...',\n",
       " 'Gradient, UV Protection Aviator Sunglasses (58)',\n",
       " 'UV Protection, Mirrored, Gradient Retro Square Sunglass...',\n",
       " 'UV Protection Wayfarer Sunglasses (Free Size)',\n",
       " 'UV Protection Wayfarer Sunglasses (Free Size)',\n",
       " 'UV Protection Rectangular Sunglasses (Free Size)',\n",
       " 'Mirrored, UV Protection Aviator Sunglasses (18)',\n",
       " 'UV Protection, Night Vision, Riding Glasses Sports Sung...']"
      ]
     },
     "execution_count": 231,
     "metadata": {},
     "output_type": "execute_result"
    }
   ],
   "source": [
    "# extracting the text for Product Description data using loop\n",
    "\n",
    "Product1 = []\n",
    "\n",
    "for i in product_6:\n",
    "    title=i.text\n",
    "    Product1.append(title)\n",
    "Product1"
   ]
  },
  {
   "cell_type": "markdown",
   "metadata": {},
   "source": [
    "Collecting Price content from page 1"
   ]
  },
  {
   "cell_type": "code",
   "execution_count": 232,
   "metadata": {},
   "outputs": [
    {
     "data": {
      "text/plain": [
       "[<selenium.webdriver.remote.webelement.WebElement (session=\"37411f3db51813f2ba156aefa0117262\", element=\"d85f3a69-ca76-4b1d-94b1-2d987cff3860\")>,\n",
       " <selenium.webdriver.remote.webelement.WebElement (session=\"37411f3db51813f2ba156aefa0117262\", element=\"4bd725bf-78d0-48ea-93e2-d43e62657f48\")>,\n",
       " <selenium.webdriver.remote.webelement.WebElement (session=\"37411f3db51813f2ba156aefa0117262\", element=\"a3f75413-5c76-4dcd-9958-23e59e0d471e\")>,\n",
       " <selenium.webdriver.remote.webelement.WebElement (session=\"37411f3db51813f2ba156aefa0117262\", element=\"f427563c-6e23-4b44-9e5f-ca93043b13e1\")>,\n",
       " <selenium.webdriver.remote.webelement.WebElement (session=\"37411f3db51813f2ba156aefa0117262\", element=\"3de8b781-437b-4ca0-a92e-84d5c221b8d4\")>,\n",
       " <selenium.webdriver.remote.webelement.WebElement (session=\"37411f3db51813f2ba156aefa0117262\", element=\"da1f2eb5-dd12-4e6e-95fe-3d5e017e2130\")>,\n",
       " <selenium.webdriver.remote.webelement.WebElement (session=\"37411f3db51813f2ba156aefa0117262\", element=\"754c6043-41aa-45cd-badf-9028cac8bbe6\")>,\n",
       " <selenium.webdriver.remote.webelement.WebElement (session=\"37411f3db51813f2ba156aefa0117262\", element=\"d23c9ce2-37c2-4aa8-86b6-93b602edb151\")>,\n",
       " <selenium.webdriver.remote.webelement.WebElement (session=\"37411f3db51813f2ba156aefa0117262\", element=\"81a05f9e-83f1-40b4-a8e8-174b2a762d0a\")>,\n",
       " <selenium.webdriver.remote.webelement.WebElement (session=\"37411f3db51813f2ba156aefa0117262\", element=\"cd45d953-a36e-49f8-93af-c206524e304c\")>,\n",
       " <selenium.webdriver.remote.webelement.WebElement (session=\"37411f3db51813f2ba156aefa0117262\", element=\"5fe02cfe-94ed-4701-be90-73df4d542cbf\")>,\n",
       " <selenium.webdriver.remote.webelement.WebElement (session=\"37411f3db51813f2ba156aefa0117262\", element=\"4a17bb50-1812-45e9-8930-1b0c5f217927\")>,\n",
       " <selenium.webdriver.remote.webelement.WebElement (session=\"37411f3db51813f2ba156aefa0117262\", element=\"acd76f3d-6e26-4e57-8da0-12e15276ae7f\")>,\n",
       " <selenium.webdriver.remote.webelement.WebElement (session=\"37411f3db51813f2ba156aefa0117262\", element=\"e9dfad02-4486-46f5-979d-26965594bfa5\")>,\n",
       " <selenium.webdriver.remote.webelement.WebElement (session=\"37411f3db51813f2ba156aefa0117262\", element=\"0ddc6554-0ab8-4580-b404-f754f432d294\")>,\n",
       " <selenium.webdriver.remote.webelement.WebElement (session=\"37411f3db51813f2ba156aefa0117262\", element=\"ec3cf412-8a45-4346-80a6-de66516c959c\")>,\n",
       " <selenium.webdriver.remote.webelement.WebElement (session=\"37411f3db51813f2ba156aefa0117262\", element=\"48cf4ab2-05e6-45a7-b820-b08379542a5b\")>,\n",
       " <selenium.webdriver.remote.webelement.WebElement (session=\"37411f3db51813f2ba156aefa0117262\", element=\"f755aeb8-6159-4964-a9d8-f51f163b3008\")>,\n",
       " <selenium.webdriver.remote.webelement.WebElement (session=\"37411f3db51813f2ba156aefa0117262\", element=\"abd23aaa-4441-4278-8f36-ef7a72b42ae7\")>,\n",
       " <selenium.webdriver.remote.webelement.WebElement (session=\"37411f3db51813f2ba156aefa0117262\", element=\"c457141a-0cf1-4d59-9464-e2f5198c0aa1\")>,\n",
       " <selenium.webdriver.remote.webelement.WebElement (session=\"37411f3db51813f2ba156aefa0117262\", element=\"40e59a2e-e0cf-43b3-ac75-0a6388c7eb43\")>,\n",
       " <selenium.webdriver.remote.webelement.WebElement (session=\"37411f3db51813f2ba156aefa0117262\", element=\"04234d99-9d77-4588-8557-28cebd72fa26\")>,\n",
       " <selenium.webdriver.remote.webelement.WebElement (session=\"37411f3db51813f2ba156aefa0117262\", element=\"f20d80f5-3a5d-4bb2-ac0e-89a3e01b833d\")>,\n",
       " <selenium.webdriver.remote.webelement.WebElement (session=\"37411f3db51813f2ba156aefa0117262\", element=\"258e882b-054c-48dd-be96-5bf061540ffe\")>,\n",
       " <selenium.webdriver.remote.webelement.WebElement (session=\"37411f3db51813f2ba156aefa0117262\", element=\"7aa4a391-b6e9-45c9-a6b5-95ede3d41b89\")>,\n",
       " <selenium.webdriver.remote.webelement.WebElement (session=\"37411f3db51813f2ba156aefa0117262\", element=\"ef8fd7fa-e208-4870-bd9d-f203015d8dac\")>,\n",
       " <selenium.webdriver.remote.webelement.WebElement (session=\"37411f3db51813f2ba156aefa0117262\", element=\"e3f0918d-7176-45d9-b6ee-197a5dff1441\")>,\n",
       " <selenium.webdriver.remote.webelement.WebElement (session=\"37411f3db51813f2ba156aefa0117262\", element=\"608701b8-5876-4b54-9687-0dd119b51c4c\")>,\n",
       " <selenium.webdriver.remote.webelement.WebElement (session=\"37411f3db51813f2ba156aefa0117262\", element=\"0b81a249-8c2e-4238-b5e2-6ea4d7618676\")>,\n",
       " <selenium.webdriver.remote.webelement.WebElement (session=\"37411f3db51813f2ba156aefa0117262\", element=\"32952da4-d171-417a-8533-8669c4066a86\")>,\n",
       " <selenium.webdriver.remote.webelement.WebElement (session=\"37411f3db51813f2ba156aefa0117262\", element=\"9504562d-dd9e-460b-9aa3-02060b61c191\")>,\n",
       " <selenium.webdriver.remote.webelement.WebElement (session=\"37411f3db51813f2ba156aefa0117262\", element=\"5d5fb6e3-a142-46e7-914d-b7edc1adf06d\")>,\n",
       " <selenium.webdriver.remote.webelement.WebElement (session=\"37411f3db51813f2ba156aefa0117262\", element=\"09379854-8236-4084-b7ff-b050687dea64\")>,\n",
       " <selenium.webdriver.remote.webelement.WebElement (session=\"37411f3db51813f2ba156aefa0117262\", element=\"cf1ca10c-c1be-4b35-b618-1584cee73da4\")>,\n",
       " <selenium.webdriver.remote.webelement.WebElement (session=\"37411f3db51813f2ba156aefa0117262\", element=\"915d5649-7842-4689-a409-a76d072186ef\")>,\n",
       " <selenium.webdriver.remote.webelement.WebElement (session=\"37411f3db51813f2ba156aefa0117262\", element=\"1c1982a9-39ba-4bab-b5e4-6e24febc64af\")>,\n",
       " <selenium.webdriver.remote.webelement.WebElement (session=\"37411f3db51813f2ba156aefa0117262\", element=\"c797ae22-634a-4979-9b2a-75299a7ec2a3\")>,\n",
       " <selenium.webdriver.remote.webelement.WebElement (session=\"37411f3db51813f2ba156aefa0117262\", element=\"a00bf4b2-3aa3-471d-a34f-447d6e0544d2\")>,\n",
       " <selenium.webdriver.remote.webelement.WebElement (session=\"37411f3db51813f2ba156aefa0117262\", element=\"686a3123-834a-4d39-8dff-170de47d57fb\")>,\n",
       " <selenium.webdriver.remote.webelement.WebElement (session=\"37411f3db51813f2ba156aefa0117262\", element=\"01a255d4-3e93-4802-a938-35acddf2d25d\")>]"
      ]
     },
     "execution_count": 232,
     "metadata": {},
     "output_type": "execute_result"
    }
   ],
   "source": [
    "#finding all Price content\n",
    "price_6 = driver.find_elements_by_xpath (\"//*[@class='_30jeq3']\")\n",
    "price_6"
   ]
  },
  {
   "cell_type": "code",
   "execution_count": 233,
   "metadata": {},
   "outputs": [
    {
     "data": {
      "text/plain": [
       "['₹332',\n",
       " '₹647',\n",
       " '₹419',\n",
       " '₹377',\n",
       " '₹198',\n",
       " '₹323',\n",
       " '₹440',\n",
       " '₹210',\n",
       " '₹186',\n",
       " '₹404',\n",
       " '₹359',\n",
       " '₹524',\n",
       " '₹368',\n",
       " '₹332',\n",
       " '₹194',\n",
       " '₹200',\n",
       " '₹479',\n",
       " '₹200',\n",
       " '₹295',\n",
       " '₹639',\n",
       " '₹284',\n",
       " '₹368',\n",
       " '₹629',\n",
       " '₹404',\n",
       " '₹332',\n",
       " '₹409',\n",
       " '₹449',\n",
       " '₹281',\n",
       " '₹638',\n",
       " '₹284',\n",
       " '₹200',\n",
       " '₹638',\n",
       " '₹171',\n",
       " '₹889',\n",
       " '₹246',\n",
       " '₹368',\n",
       " '₹395',\n",
       " '₹399',\n",
       " '₹979',\n",
       " '₹216']"
      ]
     },
     "execution_count": 233,
     "metadata": {},
     "output_type": "execute_result"
    }
   ],
   "source": [
    "# extracting the text for Price data using loop\n",
    "\n",
    "Price1 = []\n",
    "\n",
    "for i in price_6:\n",
    "    title=i.text\n",
    "    Price1.append(title)\n",
    "Price1"
   ]
  },
  {
   "cell_type": "markdown",
   "metadata": {},
   "source": [
    "Collecting Discount % Content from page 1"
   ]
  },
  {
   "cell_type": "code",
   "execution_count": 234,
   "metadata": {},
   "outputs": [
    {
     "data": {
      "text/plain": [
       "[<selenium.webdriver.remote.webelement.WebElement (session=\"37411f3db51813f2ba156aefa0117262\", element=\"6bba1896-013f-423f-9996-886a91b6085e\")>,\n",
       " <selenium.webdriver.remote.webelement.WebElement (session=\"37411f3db51813f2ba156aefa0117262\", element=\"d5235738-5c5f-4f5c-8600-46f5ca81c08f\")>,\n",
       " <selenium.webdriver.remote.webelement.WebElement (session=\"37411f3db51813f2ba156aefa0117262\", element=\"cfc112e7-a302-4319-a789-cd673e84c04e\")>,\n",
       " <selenium.webdriver.remote.webelement.WebElement (session=\"37411f3db51813f2ba156aefa0117262\", element=\"7e7701c2-05a1-4278-8c83-67d3e1ab33b3\")>,\n",
       " <selenium.webdriver.remote.webelement.WebElement (session=\"37411f3db51813f2ba156aefa0117262\", element=\"cb1fcd69-161c-4315-bb33-03edb6d0f90f\")>,\n",
       " <selenium.webdriver.remote.webelement.WebElement (session=\"37411f3db51813f2ba156aefa0117262\", element=\"dece2d52-803d-4fd0-b276-135d30a60694\")>,\n",
       " <selenium.webdriver.remote.webelement.WebElement (session=\"37411f3db51813f2ba156aefa0117262\", element=\"410f8cb4-052d-404a-9438-c922a3e713ad\")>,\n",
       " <selenium.webdriver.remote.webelement.WebElement (session=\"37411f3db51813f2ba156aefa0117262\", element=\"2f20b94c-b043-4b5c-9a31-51be4a923f69\")>,\n",
       " <selenium.webdriver.remote.webelement.WebElement (session=\"37411f3db51813f2ba156aefa0117262\", element=\"f54fc364-0666-4b26-a73e-5447b7f860fd\")>,\n",
       " <selenium.webdriver.remote.webelement.WebElement (session=\"37411f3db51813f2ba156aefa0117262\", element=\"2530e694-c3d7-4e5a-ab87-d9151246950e\")>,\n",
       " <selenium.webdriver.remote.webelement.WebElement (session=\"37411f3db51813f2ba156aefa0117262\", element=\"490ff2ba-e341-4f40-8e5f-c85d7520f0f3\")>,\n",
       " <selenium.webdriver.remote.webelement.WebElement (session=\"37411f3db51813f2ba156aefa0117262\", element=\"23c2468a-868f-4eb5-bf94-fd2b4589db3a\")>,\n",
       " <selenium.webdriver.remote.webelement.WebElement (session=\"37411f3db51813f2ba156aefa0117262\", element=\"2160900d-f7bd-4620-927f-298dfe88f3e1\")>,\n",
       " <selenium.webdriver.remote.webelement.WebElement (session=\"37411f3db51813f2ba156aefa0117262\", element=\"c37846dd-475a-4c97-8a4e-aa253a39b718\")>,\n",
       " <selenium.webdriver.remote.webelement.WebElement (session=\"37411f3db51813f2ba156aefa0117262\", element=\"285c4c83-4829-4ac8-ad0e-ee72df8c80f5\")>,\n",
       " <selenium.webdriver.remote.webelement.WebElement (session=\"37411f3db51813f2ba156aefa0117262\", element=\"ebb3e38a-ffcd-4f81-b43b-8dce6c35ad99\")>,\n",
       " <selenium.webdriver.remote.webelement.WebElement (session=\"37411f3db51813f2ba156aefa0117262\", element=\"4a902e8a-b260-4118-8007-0abf89ac4cf5\")>,\n",
       " <selenium.webdriver.remote.webelement.WebElement (session=\"37411f3db51813f2ba156aefa0117262\", element=\"ecdb7e91-44fe-4e5e-8065-8c00c9a33a73\")>,\n",
       " <selenium.webdriver.remote.webelement.WebElement (session=\"37411f3db51813f2ba156aefa0117262\", element=\"44e82b9a-3bab-4083-a4a3-f745aa01522b\")>,\n",
       " <selenium.webdriver.remote.webelement.WebElement (session=\"37411f3db51813f2ba156aefa0117262\", element=\"fc9d4d3c-17ec-4fd2-a896-dfdcfae3c75e\")>,\n",
       " <selenium.webdriver.remote.webelement.WebElement (session=\"37411f3db51813f2ba156aefa0117262\", element=\"a465b61b-3cb8-42bb-9904-dba1a42944ac\")>,\n",
       " <selenium.webdriver.remote.webelement.WebElement (session=\"37411f3db51813f2ba156aefa0117262\", element=\"925e763c-6d9e-4fed-ba59-3f8f3e75d8e5\")>,\n",
       " <selenium.webdriver.remote.webelement.WebElement (session=\"37411f3db51813f2ba156aefa0117262\", element=\"18997044-27c2-4ecc-9225-0629fea21efa\")>,\n",
       " <selenium.webdriver.remote.webelement.WebElement (session=\"37411f3db51813f2ba156aefa0117262\", element=\"5765769b-e65d-4189-ba81-49657395fa32\")>,\n",
       " <selenium.webdriver.remote.webelement.WebElement (session=\"37411f3db51813f2ba156aefa0117262\", element=\"cf313f65-d02e-4333-8d63-4bd4d4a79d09\")>,\n",
       " <selenium.webdriver.remote.webelement.WebElement (session=\"37411f3db51813f2ba156aefa0117262\", element=\"68ce6c91-0fa2-4c9e-bfce-8318d93d46d8\")>,\n",
       " <selenium.webdriver.remote.webelement.WebElement (session=\"37411f3db51813f2ba156aefa0117262\", element=\"b3c582d7-4800-415d-b7fb-d5da2b174ed2\")>,\n",
       " <selenium.webdriver.remote.webelement.WebElement (session=\"37411f3db51813f2ba156aefa0117262\", element=\"93c5dae7-bd83-4ae2-b137-68e11f56276d\")>,\n",
       " <selenium.webdriver.remote.webelement.WebElement (session=\"37411f3db51813f2ba156aefa0117262\", element=\"ed373a21-541b-4c33-ac7f-3e418242581a\")>,\n",
       " <selenium.webdriver.remote.webelement.WebElement (session=\"37411f3db51813f2ba156aefa0117262\", element=\"563fd3bc-1733-4d7f-ba98-a5c7090210db\")>,\n",
       " <selenium.webdriver.remote.webelement.WebElement (session=\"37411f3db51813f2ba156aefa0117262\", element=\"88c5e434-ab15-4823-85ba-467c981f6fd1\")>,\n",
       " <selenium.webdriver.remote.webelement.WebElement (session=\"37411f3db51813f2ba156aefa0117262\", element=\"83711bdc-7bf0-4163-999b-789c03a8a74d\")>,\n",
       " <selenium.webdriver.remote.webelement.WebElement (session=\"37411f3db51813f2ba156aefa0117262\", element=\"7909cc52-7d3c-4e89-b123-ec37ea96c9c5\")>,\n",
       " <selenium.webdriver.remote.webelement.WebElement (session=\"37411f3db51813f2ba156aefa0117262\", element=\"6de32cc3-7366-4dec-82e7-575b1d1416c8\")>,\n",
       " <selenium.webdriver.remote.webelement.WebElement (session=\"37411f3db51813f2ba156aefa0117262\", element=\"d4210fc9-f77c-436b-9443-89d052f04d59\")>,\n",
       " <selenium.webdriver.remote.webelement.WebElement (session=\"37411f3db51813f2ba156aefa0117262\", element=\"c9fa2fb4-14b5-44f3-a1c4-c478c9bb8c9f\")>,\n",
       " <selenium.webdriver.remote.webelement.WebElement (session=\"37411f3db51813f2ba156aefa0117262\", element=\"16d48734-4e06-43ea-b565-38289df46890\")>,\n",
       " <selenium.webdriver.remote.webelement.WebElement (session=\"37411f3db51813f2ba156aefa0117262\", element=\"91aa5f83-74d3-4d90-a8f8-8839831c0e97\")>,\n",
       " <selenium.webdriver.remote.webelement.WebElement (session=\"37411f3db51813f2ba156aefa0117262\", element=\"cc949cd6-8381-478d-b7cf-824d047404b6\")>,\n",
       " <selenium.webdriver.remote.webelement.WebElement (session=\"37411f3db51813f2ba156aefa0117262\", element=\"6481d15b-48ef-41af-8bff-663898877211\")>]"
      ]
     },
     "execution_count": 234,
     "metadata": {},
     "output_type": "execute_result"
    }
   ],
   "source": [
    "#finding all Discount content\n",
    "discount_6 = driver.find_elements_by_xpath (\"//*[@class='_3Ay6Sb']\")\n",
    "discount_6"
   ]
  },
  {
   "cell_type": "code",
   "execution_count": 235,
   "metadata": {
    "scrolled": true
   },
   "outputs": [
    {
     "data": {
      "text/plain": [
       "['58% off',\n",
       " '28% off',\n",
       " '53% off',\n",
       " '58% off',\n",
       " '88% off',\n",
       " '59% off',\n",
       " '51% off',\n",
       " '85% off',\n",
       " '81% off',\n",
       " '59% off',\n",
       " '82% off',\n",
       " '73% off',\n",
       " '59% off',\n",
       " '58% off',\n",
       " '81% off',\n",
       " '87% off',\n",
       " '76% off',\n",
       " '87% off',\n",
       " '88% off',\n",
       " '68% off',\n",
       " '81% off',\n",
       " '59% off',\n",
       " '51% off',\n",
       " '79% off',\n",
       " '58% off',\n",
       " '54% off',\n",
       " '43% off',\n",
       " '76% off',\n",
       " '50% off',\n",
       " '89% off',\n",
       " '87% off',\n",
       " '50% off',\n",
       " '75% off',\n",
       " '60% off',\n",
       " '87% off',\n",
       " '59% off',\n",
       " '50% off',\n",
       " '73% off',\n",
       " '60% off',\n",
       " '72% off']"
      ]
     },
     "execution_count": 235,
     "metadata": {},
     "output_type": "execute_result"
    }
   ],
   "source": [
    "# extracting the text for Discount data using loop\n",
    "\n",
    "Discount1 = []\n",
    "\n",
    "for i in discount_6:\n",
    "    title=i.text\n",
    "    Discount1.append(title)\n",
    "Discount1"
   ]
  },
  {
   "cell_type": "code",
   "execution_count": 236,
   "metadata": {},
   "outputs": [
    {
     "data": {
      "text/plain": [
       "(40, 40, 40, 40)"
      ]
     },
     "execution_count": 236,
     "metadata": {},
     "output_type": "execute_result"
    }
   ],
   "source": [
    "#Checking scrap data length\n",
    "len(Brand1),len(Product1),len(Price1),len(Discount1)"
   ]
  },
  {
   "cell_type": "code",
   "execution_count": 237,
   "metadata": {},
   "outputs": [],
   "source": [
    "# Remaining 60 has to be collect out of 100."
   ]
  },
  {
   "cell_type": "code",
   "execution_count": null,
   "metadata": {},
   "outputs": [],
   "source": []
  },
  {
   "cell_type": "code",
   "execution_count": 238,
   "metadata": {},
   "outputs": [],
   "source": [
    "# Click to next page to get scrap the data on next page\n",
    "Go_Nextpage = driver.find_element_by_xpath('//a[@class=\"ge-49M\"]')"
   ]
  },
  {
   "cell_type": "code",
   "execution_count": 239,
   "metadata": {},
   "outputs": [],
   "source": [
    "Go_Nextpage.click()"
   ]
  },
  {
   "cell_type": "code",
   "execution_count": null,
   "metadata": {},
   "outputs": [],
   "source": []
  },
  {
   "cell_type": "markdown",
   "metadata": {},
   "source": [
    "Collecting Brand content from page 2"
   ]
  },
  {
   "cell_type": "code",
   "execution_count": 240,
   "metadata": {},
   "outputs": [
    {
     "data": {
      "text/plain": [
       "[<selenium.webdriver.remote.webelement.WebElement (session=\"37411f3db51813f2ba156aefa0117262\", element=\"dd2b4248-9c77-41f8-a597-1956202b394f\")>,\n",
       " <selenium.webdriver.remote.webelement.WebElement (session=\"37411f3db51813f2ba156aefa0117262\", element=\"3a05945e-0bf4-42a3-afe5-771d16aa9918\")>,\n",
       " <selenium.webdriver.remote.webelement.WebElement (session=\"37411f3db51813f2ba156aefa0117262\", element=\"4654bd36-9640-4ea7-89c9-9121379f8c37\")>,\n",
       " <selenium.webdriver.remote.webelement.WebElement (session=\"37411f3db51813f2ba156aefa0117262\", element=\"9e3acee6-3169-4387-b3ed-abc930591931\")>,\n",
       " <selenium.webdriver.remote.webelement.WebElement (session=\"37411f3db51813f2ba156aefa0117262\", element=\"c50a2265-d79b-4893-94d7-75687cbb4799\")>,\n",
       " <selenium.webdriver.remote.webelement.WebElement (session=\"37411f3db51813f2ba156aefa0117262\", element=\"0bca3a9b-999e-40fe-a13f-f18c3d854060\")>,\n",
       " <selenium.webdriver.remote.webelement.WebElement (session=\"37411f3db51813f2ba156aefa0117262\", element=\"2e78c63d-9375-4742-92af-8062576c6bef\")>,\n",
       " <selenium.webdriver.remote.webelement.WebElement (session=\"37411f3db51813f2ba156aefa0117262\", element=\"d9e38b5b-3b2b-4af3-a063-74411aa71934\")>,\n",
       " <selenium.webdriver.remote.webelement.WebElement (session=\"37411f3db51813f2ba156aefa0117262\", element=\"3ec289a3-46ca-4975-8f3d-715ee78e3e10\")>,\n",
       " <selenium.webdriver.remote.webelement.WebElement (session=\"37411f3db51813f2ba156aefa0117262\", element=\"f19e0c47-b5a6-41f4-b275-367af9dfb70c\")>,\n",
       " <selenium.webdriver.remote.webelement.WebElement (session=\"37411f3db51813f2ba156aefa0117262\", element=\"7099eef6-fdcd-4c11-92fc-1578f8d1f2d3\")>,\n",
       " <selenium.webdriver.remote.webelement.WebElement (session=\"37411f3db51813f2ba156aefa0117262\", element=\"be211e3b-ca81-40a8-98a4-91fda797f96f\")>,\n",
       " <selenium.webdriver.remote.webelement.WebElement (session=\"37411f3db51813f2ba156aefa0117262\", element=\"b47939b4-05f2-4de2-974c-6cff961e73c9\")>,\n",
       " <selenium.webdriver.remote.webelement.WebElement (session=\"37411f3db51813f2ba156aefa0117262\", element=\"aab0c497-f47a-4525-bf73-05331db35ed1\")>,\n",
       " <selenium.webdriver.remote.webelement.WebElement (session=\"37411f3db51813f2ba156aefa0117262\", element=\"7c7ca5c7-4fd9-4f7b-a38f-d71659f9339a\")>,\n",
       " <selenium.webdriver.remote.webelement.WebElement (session=\"37411f3db51813f2ba156aefa0117262\", element=\"f03820bb-66fa-4006-9972-dfdf7a43a3d7\")>,\n",
       " <selenium.webdriver.remote.webelement.WebElement (session=\"37411f3db51813f2ba156aefa0117262\", element=\"d6f85f79-9593-4521-b7c2-63dbd11efac6\")>,\n",
       " <selenium.webdriver.remote.webelement.WebElement (session=\"37411f3db51813f2ba156aefa0117262\", element=\"ef969918-7926-47f2-93d0-30e5a65d7cce\")>,\n",
       " <selenium.webdriver.remote.webelement.WebElement (session=\"37411f3db51813f2ba156aefa0117262\", element=\"62f7970f-40bd-403d-93f0-2f9d4ff4466a\")>,\n",
       " <selenium.webdriver.remote.webelement.WebElement (session=\"37411f3db51813f2ba156aefa0117262\", element=\"e34786b0-6928-4bc8-9f57-7d8da05b72f4\")>,\n",
       " <selenium.webdriver.remote.webelement.WebElement (session=\"37411f3db51813f2ba156aefa0117262\", element=\"eab3f145-9914-4fa8-9784-f29944e73acf\")>,\n",
       " <selenium.webdriver.remote.webelement.WebElement (session=\"37411f3db51813f2ba156aefa0117262\", element=\"aed0a948-ff35-4113-b8fa-1029b450d566\")>,\n",
       " <selenium.webdriver.remote.webelement.WebElement (session=\"37411f3db51813f2ba156aefa0117262\", element=\"3b5c0647-3fca-4d50-a147-1a1cfae87bc7\")>,\n",
       " <selenium.webdriver.remote.webelement.WebElement (session=\"37411f3db51813f2ba156aefa0117262\", element=\"d8988f74-601c-44b3-8a2a-3433c983390a\")>,\n",
       " <selenium.webdriver.remote.webelement.WebElement (session=\"37411f3db51813f2ba156aefa0117262\", element=\"cdde7e76-e518-4bf0-bfe7-bdd72eda0322\")>,\n",
       " <selenium.webdriver.remote.webelement.WebElement (session=\"37411f3db51813f2ba156aefa0117262\", element=\"adf5716c-d900-496d-b732-f71299fb4f67\")>,\n",
       " <selenium.webdriver.remote.webelement.WebElement (session=\"37411f3db51813f2ba156aefa0117262\", element=\"ca7a36ee-35fe-4dc8-866b-8f70754e4424\")>,\n",
       " <selenium.webdriver.remote.webelement.WebElement (session=\"37411f3db51813f2ba156aefa0117262\", element=\"da57ba16-bc0f-4ee9-91fe-97c949feab00\")>,\n",
       " <selenium.webdriver.remote.webelement.WebElement (session=\"37411f3db51813f2ba156aefa0117262\", element=\"6fa98674-1825-402d-9ccc-c93e7251d4c1\")>,\n",
       " <selenium.webdriver.remote.webelement.WebElement (session=\"37411f3db51813f2ba156aefa0117262\", element=\"fb3e4cac-9533-49d1-96a3-cf3e2e43dd32\")>,\n",
       " <selenium.webdriver.remote.webelement.WebElement (session=\"37411f3db51813f2ba156aefa0117262\", element=\"16a064ed-4652-43ec-a95c-f7a9eb94035c\")>,\n",
       " <selenium.webdriver.remote.webelement.WebElement (session=\"37411f3db51813f2ba156aefa0117262\", element=\"34b5d0d5-59cc-47bb-b4f5-f3e28f65dabb\")>,\n",
       " <selenium.webdriver.remote.webelement.WebElement (session=\"37411f3db51813f2ba156aefa0117262\", element=\"60185d80-98bb-4cb2-a1e1-1c98195b3bdf\")>,\n",
       " <selenium.webdriver.remote.webelement.WebElement (session=\"37411f3db51813f2ba156aefa0117262\", element=\"93415353-1bfb-4265-a121-eb11ea1b12c7\")>,\n",
       " <selenium.webdriver.remote.webelement.WebElement (session=\"37411f3db51813f2ba156aefa0117262\", element=\"da0e241f-4d0d-44c4-ae7d-faa1732f16a3\")>,\n",
       " <selenium.webdriver.remote.webelement.WebElement (session=\"37411f3db51813f2ba156aefa0117262\", element=\"6fb1debf-9c08-4ee0-b481-30a711f2a9d3\")>,\n",
       " <selenium.webdriver.remote.webelement.WebElement (session=\"37411f3db51813f2ba156aefa0117262\", element=\"68065e4a-67f2-4edc-85bc-0dd119c9e57b\")>,\n",
       " <selenium.webdriver.remote.webelement.WebElement (session=\"37411f3db51813f2ba156aefa0117262\", element=\"add6f42d-c202-4d2a-8ec3-f1b322485af6\")>,\n",
       " <selenium.webdriver.remote.webelement.WebElement (session=\"37411f3db51813f2ba156aefa0117262\", element=\"7fd9b608-d0f1-4685-bebf-485fab721180\")>,\n",
       " <selenium.webdriver.remote.webelement.WebElement (session=\"37411f3db51813f2ba156aefa0117262\", element=\"c486c78d-4796-46f5-8582-c05adaff73c4\")>]"
      ]
     },
     "execution_count": 240,
     "metadata": {},
     "output_type": "execute_result"
    }
   ],
   "source": [
    "#finding all Brand content\n",
    "Brand_6_2 = driver.find_elements_by_xpath (\"//div[@class='_2WkVRV']\")\n",
    "Brand_6_2"
   ]
  },
  {
   "cell_type": "code",
   "execution_count": 241,
   "metadata": {},
   "outputs": [
    {
     "data": {
      "text/plain": [
       "['IDEE',\n",
       " 'United Colors of Benetton',\n",
       " 'IDEE',\n",
       " 'VINCENT CHASE',\n",
       " 'ROZZETTA CRAFT',\n",
       " 'ROYAL SON',\n",
       " 'Fastrack',\n",
       " 'PIRASO',\n",
       " 'Fastrack',\n",
       " 'ROZZETTA CRAFT',\n",
       " 'Silver Kartz',\n",
       " 'PIRASO',\n",
       " 'IDEE',\n",
       " 'Fastrack',\n",
       " 'Elligator',\n",
       " 'hipe',\n",
       " 'PHENOMENAL',\n",
       " 'PIRASO',\n",
       " 'GANSTA',\n",
       " 'AISLIN',\n",
       " 'SHAAH COLLECTIONS',\n",
       " 'WROGN',\n",
       " 'kingsunglasses',\n",
       " 'PIRASO',\n",
       " 'AISLIN',\n",
       " 'United Colors of Benetton',\n",
       " 'Fastrack',\n",
       " 'PIRASO',\n",
       " 'Mi',\n",
       " 'GANSTA',\n",
       " 'SHAAH COLLECTIONS',\n",
       " 'ROZZETTA CRAFT',\n",
       " 'ROYAL SON',\n",
       " 'Fastrack',\n",
       " 'IDEE',\n",
       " 'PIRASO',\n",
       " 'ROZZETTA CRAFT',\n",
       " 'elegante',\n",
       " 'Fastrack',\n",
       " 'ROYAL SON']"
      ]
     },
     "execution_count": 241,
     "metadata": {},
     "output_type": "execute_result"
    }
   ],
   "source": [
    "# extracting the text for Company Name data using loop\n",
    "\n",
    "Brand2 = []\n",
    "\n",
    "for i in Brand_6_2:\n",
    "    title=i.text\n",
    "    Brand2.append(title)\n",
    "Brand2"
   ]
  },
  {
   "cell_type": "markdown",
   "metadata": {},
   "source": [
    "Product Description from page 2"
   ]
  },
  {
   "cell_type": "code",
   "execution_count": 242,
   "metadata": {},
   "outputs": [
    {
     "data": {
      "text/plain": [
       "[<selenium.webdriver.remote.webelement.WebElement (session=\"37411f3db51813f2ba156aefa0117262\", element=\"3ce9b307-3d77-4f5e-92ec-8382d6cae35f\")>,\n",
       " <selenium.webdriver.remote.webelement.WebElement (session=\"37411f3db51813f2ba156aefa0117262\", element=\"628b85bb-8e83-40a7-bb91-85d9ee31b664\")>,\n",
       " <selenium.webdriver.remote.webelement.WebElement (session=\"37411f3db51813f2ba156aefa0117262\", element=\"8dc210c9-aab6-428f-aff5-432c4a6af573\")>,\n",
       " <selenium.webdriver.remote.webelement.WebElement (session=\"37411f3db51813f2ba156aefa0117262\", element=\"88da3edf-2b44-4fa8-8de1-2aeb59130d6f\")>,\n",
       " <selenium.webdriver.remote.webelement.WebElement (session=\"37411f3db51813f2ba156aefa0117262\", element=\"5d4c52d3-a0d5-4925-a6c9-8f4346fffdc7\")>,\n",
       " <selenium.webdriver.remote.webelement.WebElement (session=\"37411f3db51813f2ba156aefa0117262\", element=\"8bf7fb87-f0da-434d-8e6c-5617d1f0be0c\")>,\n",
       " <selenium.webdriver.remote.webelement.WebElement (session=\"37411f3db51813f2ba156aefa0117262\", element=\"8b420205-9d2c-445b-99a6-c9cf6e38d726\")>,\n",
       " <selenium.webdriver.remote.webelement.WebElement (session=\"37411f3db51813f2ba156aefa0117262\", element=\"e3fc5a4e-9d08-417c-8f71-ac4ff312ed99\")>,\n",
       " <selenium.webdriver.remote.webelement.WebElement (session=\"37411f3db51813f2ba156aefa0117262\", element=\"443d95f3-19c1-41d6-b7f2-9d9c325cacbf\")>,\n",
       " <selenium.webdriver.remote.webelement.WebElement (session=\"37411f3db51813f2ba156aefa0117262\", element=\"5ad6bfd0-ecf3-44fe-9fe8-463033aaf2f3\")>,\n",
       " <selenium.webdriver.remote.webelement.WebElement (session=\"37411f3db51813f2ba156aefa0117262\", element=\"a2fb1a0f-cbfe-43cc-8789-a938da974b36\")>,\n",
       " <selenium.webdriver.remote.webelement.WebElement (session=\"37411f3db51813f2ba156aefa0117262\", element=\"5cc02f9b-a61a-4941-b5b5-dc64af36eba7\")>,\n",
       " <selenium.webdriver.remote.webelement.WebElement (session=\"37411f3db51813f2ba156aefa0117262\", element=\"1b22de25-a43e-4c70-a58b-3e12d4687beb\")>,\n",
       " <selenium.webdriver.remote.webelement.WebElement (session=\"37411f3db51813f2ba156aefa0117262\", element=\"25037646-7ff2-4724-8309-2c46658da96a\")>,\n",
       " <selenium.webdriver.remote.webelement.WebElement (session=\"37411f3db51813f2ba156aefa0117262\", element=\"c5a15580-5446-4580-8396-f42a33cd6a71\")>,\n",
       " <selenium.webdriver.remote.webelement.WebElement (session=\"37411f3db51813f2ba156aefa0117262\", element=\"8252ab10-4c29-42b6-9b5e-54e3a0bde0b0\")>,\n",
       " <selenium.webdriver.remote.webelement.WebElement (session=\"37411f3db51813f2ba156aefa0117262\", element=\"65026a5f-f206-438c-8513-79c0efec8aeb\")>,\n",
       " <selenium.webdriver.remote.webelement.WebElement (session=\"37411f3db51813f2ba156aefa0117262\", element=\"018b1400-8040-4c16-98b8-75622cf95c17\")>,\n",
       " <selenium.webdriver.remote.webelement.WebElement (session=\"37411f3db51813f2ba156aefa0117262\", element=\"17b3132f-23a0-495e-be70-f0a75b8afbd7\")>,\n",
       " <selenium.webdriver.remote.webelement.WebElement (session=\"37411f3db51813f2ba156aefa0117262\", element=\"8b4b7523-4b00-47d8-8f1d-e7788db62b79\")>,\n",
       " <selenium.webdriver.remote.webelement.WebElement (session=\"37411f3db51813f2ba156aefa0117262\", element=\"5cb97c81-9e60-40f3-93f5-501cf997a5ad\")>,\n",
       " <selenium.webdriver.remote.webelement.WebElement (session=\"37411f3db51813f2ba156aefa0117262\", element=\"145ece32-c2cb-4855-b768-d7a3b3bc08a5\")>,\n",
       " <selenium.webdriver.remote.webelement.WebElement (session=\"37411f3db51813f2ba156aefa0117262\", element=\"20d6dfde-91ce-4170-bc6d-0a8d8c8f8dea\")>,\n",
       " <selenium.webdriver.remote.webelement.WebElement (session=\"37411f3db51813f2ba156aefa0117262\", element=\"3355f67d-8518-42d0-a84a-73e82d8d9e99\")>,\n",
       " <selenium.webdriver.remote.webelement.WebElement (session=\"37411f3db51813f2ba156aefa0117262\", element=\"281b53e3-c743-41e8-ae78-8c2faf389cb5\")>,\n",
       " <selenium.webdriver.remote.webelement.WebElement (session=\"37411f3db51813f2ba156aefa0117262\", element=\"7ba6fc68-60f0-4044-9110-65223a770183\")>,\n",
       " <selenium.webdriver.remote.webelement.WebElement (session=\"37411f3db51813f2ba156aefa0117262\", element=\"a700e111-fbc7-47a3-b18a-f27f4094e020\")>,\n",
       " <selenium.webdriver.remote.webelement.WebElement (session=\"37411f3db51813f2ba156aefa0117262\", element=\"80843e75-d1ce-4351-a2b2-a8c99961e144\")>,\n",
       " <selenium.webdriver.remote.webelement.WebElement (session=\"37411f3db51813f2ba156aefa0117262\", element=\"cf4ea4f0-925c-4ca9-8b9d-f72b63672537\")>,\n",
       " <selenium.webdriver.remote.webelement.WebElement (session=\"37411f3db51813f2ba156aefa0117262\", element=\"c4808f12-8b86-4322-acd4-39a46ed2d436\")>,\n",
       " <selenium.webdriver.remote.webelement.WebElement (session=\"37411f3db51813f2ba156aefa0117262\", element=\"2152e57c-616b-4100-a0d4-942c13485dea\")>,\n",
       " <selenium.webdriver.remote.webelement.WebElement (session=\"37411f3db51813f2ba156aefa0117262\", element=\"af8f67e3-5c9c-4706-9c04-b73b6f8a6b28\")>,\n",
       " <selenium.webdriver.remote.webelement.WebElement (session=\"37411f3db51813f2ba156aefa0117262\", element=\"2a9643bc-2650-4a33-99fa-1b9b53a60c8e\")>,\n",
       " <selenium.webdriver.remote.webelement.WebElement (session=\"37411f3db51813f2ba156aefa0117262\", element=\"d2cf9675-9a31-40de-b229-37d1d8cd0f20\")>,\n",
       " <selenium.webdriver.remote.webelement.WebElement (session=\"37411f3db51813f2ba156aefa0117262\", element=\"faaa1ec9-b72c-4246-a38d-1cd109f0ae82\")>,\n",
       " <selenium.webdriver.remote.webelement.WebElement (session=\"37411f3db51813f2ba156aefa0117262\", element=\"2b79ee1a-98d5-4c53-a40c-28533aba0a95\")>,\n",
       " <selenium.webdriver.remote.webelement.WebElement (session=\"37411f3db51813f2ba156aefa0117262\", element=\"783d641e-8c2b-4431-8239-043d7aaaec9d\")>,\n",
       " <selenium.webdriver.remote.webelement.WebElement (session=\"37411f3db51813f2ba156aefa0117262\", element=\"b6e3da78-3d72-4bf0-a042-d8719ea89774\")>,\n",
       " <selenium.webdriver.remote.webelement.WebElement (session=\"37411f3db51813f2ba156aefa0117262\", element=\"7540a69a-3566-4a4e-b663-e0c88ee1f701\")>,\n",
       " <selenium.webdriver.remote.webelement.WebElement (session=\"37411f3db51813f2ba156aefa0117262\", element=\"310458b7-b282-431f-b487-46bf989111da\")>]"
      ]
     },
     "execution_count": 242,
     "metadata": {},
     "output_type": "execute_result"
    }
   ],
   "source": [
    "#finding all Product Description content\n",
    "product_6_2 = driver.find_elements_by_xpath (\"//*[@class='IRpwTa']\")\n",
    "product_6_2"
   ]
  },
  {
   "cell_type": "code",
   "execution_count": 243,
   "metadata": {},
   "outputs": [
    {
     "data": {
      "text/plain": [
       "['UV Protection Aviator Sunglasses (58)',\n",
       " 'Mirrored, UV Protection Aviator Sunglasses (56)',\n",
       " 'Gradient, UV Protection Aviator Sunglasses (58)',\n",
       " 'UV Protection Aviator Sunglasses (Free Size)',\n",
       " 'UV Protection, Gradient Rectangular Sunglasses (Free Si...',\n",
       " 'Gradient, UV Protection Round, Oval, Cat-eye Sunglasses...',\n",
       " 'UV Protection Wayfarer Sunglasses (55)',\n",
       " 'UV Protection Aviator Sunglasses (54)',\n",
       " 'UV Protection Oval Sunglasses (Free Size)',\n",
       " 'UV Protection Retro Square Sunglasses (Free Size)',\n",
       " 'UV Protection Wayfarer Sunglasses (Free Size)',\n",
       " 'UV Protection Wayfarer Sunglasses (32)',\n",
       " 'UV Protection Wayfarer Sunglasses (18)',\n",
       " 'UV Protection Wayfarer Sunglasses (Free Size)',\n",
       " 'UV Protection Round Sunglasses (55)',\n",
       " 'UV Protection, Gradient, Mirrored, Riding Glasses Aviat...',\n",
       " 'UV Protection Retro Square Sunglasses (Free Size)',\n",
       " 'UV Protection Aviator Sunglasses (54)',\n",
       " 'UV Protection, Night Vision, Riding Glasses Aviator Sun...',\n",
       " 'UV Protection, Gradient Round, Cat-eye Sunglasses (60)',\n",
       " 'UV Protection, Polarized, Mirrored Rectangular Sunglass...',\n",
       " 'Polarized Oval Sunglasses (55)',\n",
       " 'UV Protection Round Sunglasses (54)',\n",
       " 'UV Protection Aviator Sunglasses (58)',\n",
       " 'UV Protection, Gradient Butterfly, Retro Square Sunglas...',\n",
       " 'Mirrored, UV Protection Aviator Sunglasses (57)',\n",
       " 'UV Protection Aviator Sunglasses (Free Size)',\n",
       " 'UV Protection Aviator Sunglasses (Free Size)',\n",
       " 'Polarized Wayfarer Sunglasses (Free Size)',\n",
       " 'UV Protection, Riding Glasses Wayfarer Sunglasses (53)',\n",
       " 'UV Protection Round Sunglasses (Free Size)',\n",
       " 'Gradient, UV Protection Round Sunglasses (Free Size)',\n",
       " 'UV Protection Rectangular Sunglasses (58)',\n",
       " 'UV Protection Rectangular Sunglasses (59)',\n",
       " 'Mirrored, UV Protection Aviator Sunglasses (18)',\n",
       " 'UV Protection Butterfly Sunglasses (60)',\n",
       " 'UV Protection, Gradient Rectangular Sunglasses (Free Si...',\n",
       " 'UV Protection Round Sunglasses (Free Size)',\n",
       " 'UV Protection Round Sunglasses (52)',\n",
       " 'Mirrored Aviator Sunglasses (58)']"
      ]
     },
     "execution_count": 243,
     "metadata": {},
     "output_type": "execute_result"
    }
   ],
   "source": [
    "# extracting the text for Product Description data using loop\n",
    "\n",
    "Product2 = []\n",
    "\n",
    "for i in product_6_2:\n",
    "    title=i.text\n",
    "    Product2.append(title)\n",
    "Product2"
   ]
  },
  {
   "cell_type": "markdown",
   "metadata": {},
   "source": [
    "Collecting Price content from page 2"
   ]
  },
  {
   "cell_type": "code",
   "execution_count": 244,
   "metadata": {},
   "outputs": [
    {
     "data": {
      "text/plain": [
       "[<selenium.webdriver.remote.webelement.WebElement (session=\"37411f3db51813f2ba156aefa0117262\", element=\"cbc9b28d-ea04-4cfb-ae5a-25a8edd80fab\")>,\n",
       " <selenium.webdriver.remote.webelement.WebElement (session=\"37411f3db51813f2ba156aefa0117262\", element=\"6ae13711-0ec7-4b5f-966c-4cca9f990d18\")>,\n",
       " <selenium.webdriver.remote.webelement.WebElement (session=\"37411f3db51813f2ba156aefa0117262\", element=\"d967e612-a09a-4de0-b1a4-8a406bb458c4\")>,\n",
       " <selenium.webdriver.remote.webelement.WebElement (session=\"37411f3db51813f2ba156aefa0117262\", element=\"f239aba2-0729-49b2-9aa9-9677a626c6a3\")>,\n",
       " <selenium.webdriver.remote.webelement.WebElement (session=\"37411f3db51813f2ba156aefa0117262\", element=\"5de0c4bd-f49c-4f14-95e9-166337118b05\")>,\n",
       " <selenium.webdriver.remote.webelement.WebElement (session=\"37411f3db51813f2ba156aefa0117262\", element=\"6711b40e-d64c-4958-a625-7c311132977f\")>,\n",
       " <selenium.webdriver.remote.webelement.WebElement (session=\"37411f3db51813f2ba156aefa0117262\", element=\"5257fdf6-3de0-4487-8bba-f40998cbd0bd\")>,\n",
       " <selenium.webdriver.remote.webelement.WebElement (session=\"37411f3db51813f2ba156aefa0117262\", element=\"84799fbf-0a7d-4d7c-aae9-c9d768202644\")>,\n",
       " <selenium.webdriver.remote.webelement.WebElement (session=\"37411f3db51813f2ba156aefa0117262\", element=\"1f869124-7516-46b9-ab2e-690cf2318416\")>,\n",
       " <selenium.webdriver.remote.webelement.WebElement (session=\"37411f3db51813f2ba156aefa0117262\", element=\"3b391355-f8fd-42c4-9c70-0b1e2a0bcf9c\")>,\n",
       " <selenium.webdriver.remote.webelement.WebElement (session=\"37411f3db51813f2ba156aefa0117262\", element=\"b616bdce-9e2d-462a-814b-478690fcb2fe\")>,\n",
       " <selenium.webdriver.remote.webelement.WebElement (session=\"37411f3db51813f2ba156aefa0117262\", element=\"5f2f75d1-780e-4479-9746-f774d00a24a0\")>,\n",
       " <selenium.webdriver.remote.webelement.WebElement (session=\"37411f3db51813f2ba156aefa0117262\", element=\"68b58adf-06ac-41b8-92e5-8dabd74f268f\")>,\n",
       " <selenium.webdriver.remote.webelement.WebElement (session=\"37411f3db51813f2ba156aefa0117262\", element=\"3a4f0db1-b3ab-4878-915e-68ccdb168b11\")>,\n",
       " <selenium.webdriver.remote.webelement.WebElement (session=\"37411f3db51813f2ba156aefa0117262\", element=\"215e54dc-7ad3-4f5d-9daa-5ed01e91f5d6\")>,\n",
       " <selenium.webdriver.remote.webelement.WebElement (session=\"37411f3db51813f2ba156aefa0117262\", element=\"55ab5d93-f510-4667-885d-a989a6a7ff63\")>,\n",
       " <selenium.webdriver.remote.webelement.WebElement (session=\"37411f3db51813f2ba156aefa0117262\", element=\"5df252c6-1310-4ee7-87b2-d623cf8e2145\")>,\n",
       " <selenium.webdriver.remote.webelement.WebElement (session=\"37411f3db51813f2ba156aefa0117262\", element=\"6ea9d0a1-8850-4a13-ba14-5432889c7c02\")>,\n",
       " <selenium.webdriver.remote.webelement.WebElement (session=\"37411f3db51813f2ba156aefa0117262\", element=\"5470f686-8982-412c-ba6f-c1d71d231f70\")>,\n",
       " <selenium.webdriver.remote.webelement.WebElement (session=\"37411f3db51813f2ba156aefa0117262\", element=\"0e0ab501-2053-4572-8834-68b49a8a2669\")>,\n",
       " <selenium.webdriver.remote.webelement.WebElement (session=\"37411f3db51813f2ba156aefa0117262\", element=\"7fbe93d6-cfff-4fdf-9922-6f3bd6fc21b2\")>,\n",
       " <selenium.webdriver.remote.webelement.WebElement (session=\"37411f3db51813f2ba156aefa0117262\", element=\"c315db02-0bcc-47c3-a164-94ed845b823c\")>,\n",
       " <selenium.webdriver.remote.webelement.WebElement (session=\"37411f3db51813f2ba156aefa0117262\", element=\"bbac32d5-d1f3-42f6-80df-14d51c287218\")>,\n",
       " <selenium.webdriver.remote.webelement.WebElement (session=\"37411f3db51813f2ba156aefa0117262\", element=\"a1ee5568-f3ef-4c45-b541-6b10e8330dec\")>,\n",
       " <selenium.webdriver.remote.webelement.WebElement (session=\"37411f3db51813f2ba156aefa0117262\", element=\"4384e406-7159-48a1-b217-ac9553106d66\")>,\n",
       " <selenium.webdriver.remote.webelement.WebElement (session=\"37411f3db51813f2ba156aefa0117262\", element=\"acfb2024-34b4-4c32-aed4-1bde6d3524ab\")>,\n",
       " <selenium.webdriver.remote.webelement.WebElement (session=\"37411f3db51813f2ba156aefa0117262\", element=\"b2ef3a65-8520-43cc-8988-472cb8521803\")>,\n",
       " <selenium.webdriver.remote.webelement.WebElement (session=\"37411f3db51813f2ba156aefa0117262\", element=\"39120e77-38ad-41dc-ae94-9a7d4efd9f36\")>,\n",
       " <selenium.webdriver.remote.webelement.WebElement (session=\"37411f3db51813f2ba156aefa0117262\", element=\"8e8ed321-326d-495d-9579-3d49b2c7ab3a\")>,\n",
       " <selenium.webdriver.remote.webelement.WebElement (session=\"37411f3db51813f2ba156aefa0117262\", element=\"1519c982-84e7-40c7-a17c-c92d5bc0058b\")>,\n",
       " <selenium.webdriver.remote.webelement.WebElement (session=\"37411f3db51813f2ba156aefa0117262\", element=\"76c159f3-c45e-47d7-8e74-b586d57411f4\")>,\n",
       " <selenium.webdriver.remote.webelement.WebElement (session=\"37411f3db51813f2ba156aefa0117262\", element=\"7adce9f2-2575-417b-b8be-3688e92ebf01\")>,\n",
       " <selenium.webdriver.remote.webelement.WebElement (session=\"37411f3db51813f2ba156aefa0117262\", element=\"ad797fee-7329-4a99-bfe8-cd718f953c86\")>,\n",
       " <selenium.webdriver.remote.webelement.WebElement (session=\"37411f3db51813f2ba156aefa0117262\", element=\"14377000-5ad9-4936-9cb6-9747aace19e3\")>,\n",
       " <selenium.webdriver.remote.webelement.WebElement (session=\"37411f3db51813f2ba156aefa0117262\", element=\"e3455c3b-5dc6-4b82-91d3-d4035afef8fd\")>,\n",
       " <selenium.webdriver.remote.webelement.WebElement (session=\"37411f3db51813f2ba156aefa0117262\", element=\"041c42de-732c-42a4-b942-8b7dd1a76d60\")>,\n",
       " <selenium.webdriver.remote.webelement.WebElement (session=\"37411f3db51813f2ba156aefa0117262\", element=\"4d362ed7-6e86-4644-bde5-fa2f3467caea\")>,\n",
       " <selenium.webdriver.remote.webelement.WebElement (session=\"37411f3db51813f2ba156aefa0117262\", element=\"1aca115a-f8ae-4e8c-85ce-a36d82035d5e\")>,\n",
       " <selenium.webdriver.remote.webelement.WebElement (session=\"37411f3db51813f2ba156aefa0117262\", element=\"16c7e160-1c56-4ee3-8a0e-b2724c78b9be\")>,\n",
       " <selenium.webdriver.remote.webelement.WebElement (session=\"37411f3db51813f2ba156aefa0117262\", element=\"2613151f-bcb9-4f86-9a4b-bc86657783f0\")>]"
      ]
     },
     "execution_count": 244,
     "metadata": {},
     "output_type": "execute_result"
    }
   ],
   "source": [
    "#finding all Price content\n",
    "price_6_2 = driver.find_elements_by_xpath (\"//*[@class='_30jeq3']\")\n",
    "price_6_2"
   ]
  },
  {
   "cell_type": "code",
   "execution_count": 245,
   "metadata": {},
   "outputs": [
    {
     "data": {
      "text/plain": [
       "['₹889',\n",
       " '₹854',\n",
       " '₹889',\n",
       " '₹999',\n",
       " '₹449',\n",
       " '₹559',\n",
       " '₹440',\n",
       " '₹200',\n",
       " '₹1,439',\n",
       " '₹474',\n",
       " '₹207',\n",
       " '₹200',\n",
       " '₹899',\n",
       " '₹440',\n",
       " '₹266',\n",
       " '₹221',\n",
       " '₹359',\n",
       " '₹200',\n",
       " '₹248',\n",
       " '₹420',\n",
       " '₹215',\n",
       " '₹449',\n",
       " '₹213',\n",
       " '₹319',\n",
       " '₹420',\n",
       " '₹764',\n",
       " '₹521',\n",
       " '₹279',\n",
       " '₹719',\n",
       " '₹198',\n",
       " '₹331',\n",
       " '₹404',\n",
       " '₹399',\n",
       " '₹638',\n",
       " '₹979',\n",
       " '₹449',\n",
       " '₹383',\n",
       " '₹359',\n",
       " '₹638',\n",
       " '₹319']"
      ]
     },
     "execution_count": 245,
     "metadata": {},
     "output_type": "execute_result"
    }
   ],
   "source": [
    "# extracting the text for Price data using loop\n",
    "\n",
    "Price2 = []\n",
    "\n",
    "for i in price_6_2:\n",
    "    title=i.text\n",
    "    Price2.append(title)\n",
    "Price2"
   ]
  },
  {
   "cell_type": "markdown",
   "metadata": {},
   "source": [
    "Collecting Discount % Content from page 2"
   ]
  },
  {
   "cell_type": "code",
   "execution_count": 246,
   "metadata": {},
   "outputs": [
    {
     "data": {
      "text/plain": [
       "[<selenium.webdriver.remote.webelement.WebElement (session=\"37411f3db51813f2ba156aefa0117262\", element=\"ef10d8e9-bc83-4a52-8044-f9b2cde8d6da\")>,\n",
       " <selenium.webdriver.remote.webelement.WebElement (session=\"37411f3db51813f2ba156aefa0117262\", element=\"fab6bc96-f4a2-4a3c-b802-91da2725f571\")>,\n",
       " <selenium.webdriver.remote.webelement.WebElement (session=\"37411f3db51813f2ba156aefa0117262\", element=\"f55a733c-089a-4e18-95f7-72fe5170203f\")>,\n",
       " <selenium.webdriver.remote.webelement.WebElement (session=\"37411f3db51813f2ba156aefa0117262\", element=\"048c6f78-f02b-4950-9e23-b2cf5a1d9158\")>,\n",
       " <selenium.webdriver.remote.webelement.WebElement (session=\"37411f3db51813f2ba156aefa0117262\", element=\"26ddc89f-0b39-4416-9267-86bb0f852c7f\")>,\n",
       " <selenium.webdriver.remote.webelement.WebElement (session=\"37411f3db51813f2ba156aefa0117262\", element=\"9e99954f-96d4-4fc0-afe9-a1240e60aed8\")>,\n",
       " <selenium.webdriver.remote.webelement.WebElement (session=\"37411f3db51813f2ba156aefa0117262\", element=\"642a36b5-ca1e-468a-b9b3-6ec4980dbe77\")>,\n",
       " <selenium.webdriver.remote.webelement.WebElement (session=\"37411f3db51813f2ba156aefa0117262\", element=\"c6b6f79e-b570-4e0a-9032-b21f8b0937fd\")>,\n",
       " <selenium.webdriver.remote.webelement.WebElement (session=\"37411f3db51813f2ba156aefa0117262\", element=\"53b0e75f-875d-410e-b3dc-781d2c6e66e5\")>,\n",
       " <selenium.webdriver.remote.webelement.WebElement (session=\"37411f3db51813f2ba156aefa0117262\", element=\"74c98dac-977f-4fd1-b0a9-9d0eb232252e\")>,\n",
       " <selenium.webdriver.remote.webelement.WebElement (session=\"37411f3db51813f2ba156aefa0117262\", element=\"f5884350-b799-4aab-83c2-3db7725b70d9\")>,\n",
       " <selenium.webdriver.remote.webelement.WebElement (session=\"37411f3db51813f2ba156aefa0117262\", element=\"ced1ecc2-2535-4493-824b-37e32ef75678\")>,\n",
       " <selenium.webdriver.remote.webelement.WebElement (session=\"37411f3db51813f2ba156aefa0117262\", element=\"51c9ca4b-1f3c-44de-9e74-28cbcebc805e\")>,\n",
       " <selenium.webdriver.remote.webelement.WebElement (session=\"37411f3db51813f2ba156aefa0117262\", element=\"50d87ded-0fa8-41bf-af86-7388e011f79b\")>,\n",
       " <selenium.webdriver.remote.webelement.WebElement (session=\"37411f3db51813f2ba156aefa0117262\", element=\"f1e8b109-1032-41ca-8f01-4da0bba7db91\")>,\n",
       " <selenium.webdriver.remote.webelement.WebElement (session=\"37411f3db51813f2ba156aefa0117262\", element=\"61daefe4-3bd1-4ed3-b9c6-05caba20ef75\")>,\n",
       " <selenium.webdriver.remote.webelement.WebElement (session=\"37411f3db51813f2ba156aefa0117262\", element=\"640c4651-8cfe-43d0-af41-81a38e715e0b\")>,\n",
       " <selenium.webdriver.remote.webelement.WebElement (session=\"37411f3db51813f2ba156aefa0117262\", element=\"d3a300d0-31d8-4411-9ac0-2558d469407e\")>,\n",
       " <selenium.webdriver.remote.webelement.WebElement (session=\"37411f3db51813f2ba156aefa0117262\", element=\"6b488d43-331e-4a54-b478-d7b52088d4f1\")>,\n",
       " <selenium.webdriver.remote.webelement.WebElement (session=\"37411f3db51813f2ba156aefa0117262\", element=\"7cb9c2b5-d25d-4a92-9544-bcb2e8e81b94\")>,\n",
       " <selenium.webdriver.remote.webelement.WebElement (session=\"37411f3db51813f2ba156aefa0117262\", element=\"0419da02-398d-4c14-b6f7-a777bc416961\")>,\n",
       " <selenium.webdriver.remote.webelement.WebElement (session=\"37411f3db51813f2ba156aefa0117262\", element=\"c1ea9221-be27-4b35-8e46-616c14e7ccb2\")>,\n",
       " <selenium.webdriver.remote.webelement.WebElement (session=\"37411f3db51813f2ba156aefa0117262\", element=\"adf4bf66-b562-4aba-8f7d-e2f390e1b696\")>,\n",
       " <selenium.webdriver.remote.webelement.WebElement (session=\"37411f3db51813f2ba156aefa0117262\", element=\"ce8d7da9-e941-44e6-8b0e-b18670ed56d8\")>,\n",
       " <selenium.webdriver.remote.webelement.WebElement (session=\"37411f3db51813f2ba156aefa0117262\", element=\"837acda1-2e7c-47ed-ad5a-5190571166c8\")>,\n",
       " <selenium.webdriver.remote.webelement.WebElement (session=\"37411f3db51813f2ba156aefa0117262\", element=\"6bf8c2a4-03e8-4180-90c5-34f857b87585\")>,\n",
       " <selenium.webdriver.remote.webelement.WebElement (session=\"37411f3db51813f2ba156aefa0117262\", element=\"0ffc106a-15d3-412f-b57d-786d122606e8\")>,\n",
       " <selenium.webdriver.remote.webelement.WebElement (session=\"37411f3db51813f2ba156aefa0117262\", element=\"637f7965-25f4-47bc-840c-55feb2ff2c9d\")>,\n",
       " <selenium.webdriver.remote.webelement.WebElement (session=\"37411f3db51813f2ba156aefa0117262\", element=\"4a3963e6-045f-4968-b8b3-f31b7dd5a0ff\")>,\n",
       " <selenium.webdriver.remote.webelement.WebElement (session=\"37411f3db51813f2ba156aefa0117262\", element=\"735fb89f-33c7-4c6b-a7cd-5c7949db532a\")>,\n",
       " <selenium.webdriver.remote.webelement.WebElement (session=\"37411f3db51813f2ba156aefa0117262\", element=\"a0258f0c-b9cf-4581-9dbe-492eee4fdd83\")>,\n",
       " <selenium.webdriver.remote.webelement.WebElement (session=\"37411f3db51813f2ba156aefa0117262\", element=\"240d161d-e64c-40a5-84dc-09c4aaa06316\")>,\n",
       " <selenium.webdriver.remote.webelement.WebElement (session=\"37411f3db51813f2ba156aefa0117262\", element=\"f23f4086-903e-4bd0-9118-6e12ab655eb8\")>,\n",
       " <selenium.webdriver.remote.webelement.WebElement (session=\"37411f3db51813f2ba156aefa0117262\", element=\"bce7eaea-8187-4746-b27e-9bcbd6f65ce6\")>,\n",
       " <selenium.webdriver.remote.webelement.WebElement (session=\"37411f3db51813f2ba156aefa0117262\", element=\"97a709a0-79cb-4e60-bcd7-f7c43d2d621b\")>,\n",
       " <selenium.webdriver.remote.webelement.WebElement (session=\"37411f3db51813f2ba156aefa0117262\", element=\"dc049f1e-8066-4657-ad24-52e459c611e3\")>,\n",
       " <selenium.webdriver.remote.webelement.WebElement (session=\"37411f3db51813f2ba156aefa0117262\", element=\"76158144-7e85-4fda-88ff-40dfc1307e04\")>,\n",
       " <selenium.webdriver.remote.webelement.WebElement (session=\"37411f3db51813f2ba156aefa0117262\", element=\"2defe60e-cbcd-4846-8d92-d707df119191\")>,\n",
       " <selenium.webdriver.remote.webelement.WebElement (session=\"37411f3db51813f2ba156aefa0117262\", element=\"99e4b4ac-9eb1-4d03-b5a0-f43ef84247c7\")>,\n",
       " <selenium.webdriver.remote.webelement.WebElement (session=\"37411f3db51813f2ba156aefa0117262\", element=\"bb3dd5d7-231f-428f-b5b5-5fcdb94ff276\")>]"
      ]
     },
     "execution_count": 246,
     "metadata": {},
     "output_type": "execute_result"
    }
   ],
   "source": [
    "#finding all Discount content\n",
    "discount_6_2 = driver.find_elements_by_xpath (\"//*[@class='_3Ay6Sb']\")\n",
    "discount_6_2"
   ]
  },
  {
   "cell_type": "code",
   "execution_count": 247,
   "metadata": {
    "scrolled": true
   },
   "outputs": [
    {
     "data": {
      "text/plain": [
       "['60% off',\n",
       " '78% off',\n",
       " '60% off',\n",
       " '50% off',\n",
       " '80% off',\n",
       " '62% off',\n",
       " '51% off',\n",
       " '87% off',\n",
       " '28% off',\n",
       " '78% off',\n",
       " '86% off',\n",
       " '87% off',\n",
       " '56% off',\n",
       " '51% off',\n",
       " '86% off',\n",
       " '77% off',\n",
       " '82% off',\n",
       " '87% off',\n",
       " '87% off',\n",
       " '75% off',\n",
       " '78% off',\n",
       " '86% off',\n",
       " '80% off',\n",
       " '87% off',\n",
       " '72% off',\n",
       " '82% off',\n",
       " '42% off',\n",
       " '82% off',\n",
       " '28% off',\n",
       " '88% off',\n",
       " '80% off',\n",
       " '79% off',\n",
       " '73% off',\n",
       " '50% off',\n",
       " '60% off',\n",
       " '82% off',\n",
       " '80% off',\n",
       " '82% off',\n",
       " '50% off',\n",
       " '78% off']"
      ]
     },
     "execution_count": 247,
     "metadata": {},
     "output_type": "execute_result"
    }
   ],
   "source": [
    "# extracting the text for Discount data using loop\n",
    "\n",
    "Discount2 = []\n",
    "\n",
    "for i in discount_6_2:\n",
    "    title=i.text\n",
    "    Discount2.append(title)\n",
    "Discount2"
   ]
  },
  {
   "cell_type": "code",
   "execution_count": 248,
   "metadata": {},
   "outputs": [
    {
     "data": {
      "text/plain": [
       "(40, 40, 40, 40)"
      ]
     },
     "execution_count": 248,
     "metadata": {},
     "output_type": "execute_result"
    }
   ],
   "source": [
    "#checking for length of scraped data 2\n",
    "\n",
    "len(Brand2),len(Product2),len(Price2),len(Discount2)"
   ]
  },
  {
   "cell_type": "code",
   "execution_count": null,
   "metadata": {},
   "outputs": [],
   "source": []
  },
  {
   "cell_type": "code",
   "execution_count": 249,
   "metadata": {},
   "outputs": [],
   "source": [
    "# remaining data 20 out of 100."
   ]
  },
  {
   "cell_type": "code",
   "execution_count": 250,
   "metadata": {},
   "outputs": [],
   "source": [
    "# next page 3\n",
    "url6_3='https://www.flipkart.com/search?q=sunglasses&otracker=search&otracker1=search&marketplace=FLIPKART&as-show=on&as=off&page=3'"
   ]
  },
  {
   "cell_type": "code",
   "execution_count": 251,
   "metadata": {},
   "outputs": [],
   "source": [
    "driver.get(url6_3)"
   ]
  },
  {
   "cell_type": "code",
   "execution_count": null,
   "metadata": {},
   "outputs": [],
   "source": []
  },
  {
   "cell_type": "markdown",
   "metadata": {},
   "source": [
    "Collecting Brand content from page 3"
   ]
  },
  {
   "cell_type": "code",
   "execution_count": 252,
   "metadata": {},
   "outputs": [
    {
     "data": {
      "text/plain": [
       "[<selenium.webdriver.remote.webelement.WebElement (session=\"37411f3db51813f2ba156aefa0117262\", element=\"f1024b90-4f0c-41fd-92b3-cd35419dbe89\")>,\n",
       " <selenium.webdriver.remote.webelement.WebElement (session=\"37411f3db51813f2ba156aefa0117262\", element=\"c8ea4410-e2a6-4651-b3a2-54664f7d93db\")>,\n",
       " <selenium.webdriver.remote.webelement.WebElement (session=\"37411f3db51813f2ba156aefa0117262\", element=\"668a936d-7677-4dbb-baee-07db8716d42f\")>,\n",
       " <selenium.webdriver.remote.webelement.WebElement (session=\"37411f3db51813f2ba156aefa0117262\", element=\"61a7944c-17ad-4175-9cff-85eb953be5cc\")>,\n",
       " <selenium.webdriver.remote.webelement.WebElement (session=\"37411f3db51813f2ba156aefa0117262\", element=\"1153b8f5-f0c0-425f-9ab5-539caf730c33\")>,\n",
       " <selenium.webdriver.remote.webelement.WebElement (session=\"37411f3db51813f2ba156aefa0117262\", element=\"05de5df9-5d67-4dac-8d48-8f5e3c61edbe\")>,\n",
       " <selenium.webdriver.remote.webelement.WebElement (session=\"37411f3db51813f2ba156aefa0117262\", element=\"a3050545-6c5d-4435-8ea4-655d3ccfe345\")>,\n",
       " <selenium.webdriver.remote.webelement.WebElement (session=\"37411f3db51813f2ba156aefa0117262\", element=\"83d6fab4-1e09-4b6c-bbb6-58869df4d102\")>,\n",
       " <selenium.webdriver.remote.webelement.WebElement (session=\"37411f3db51813f2ba156aefa0117262\", element=\"67c52497-ea73-411d-820d-7f250436948c\")>,\n",
       " <selenium.webdriver.remote.webelement.WebElement (session=\"37411f3db51813f2ba156aefa0117262\", element=\"6bb24f46-15d0-42f1-8302-6687dc887c81\")>,\n",
       " <selenium.webdriver.remote.webelement.WebElement (session=\"37411f3db51813f2ba156aefa0117262\", element=\"de15af92-27ca-482a-8163-1c4a23c22ec5\")>,\n",
       " <selenium.webdriver.remote.webelement.WebElement (session=\"37411f3db51813f2ba156aefa0117262\", element=\"a32a9bb7-ef56-4678-af62-bebe9b97c705\")>,\n",
       " <selenium.webdriver.remote.webelement.WebElement (session=\"37411f3db51813f2ba156aefa0117262\", element=\"f1a7c409-01a0-49c5-8763-f8cefe646d4f\")>,\n",
       " <selenium.webdriver.remote.webelement.WebElement (session=\"37411f3db51813f2ba156aefa0117262\", element=\"16d5a501-ef92-4017-b728-e92f1d6e8bac\")>,\n",
       " <selenium.webdriver.remote.webelement.WebElement (session=\"37411f3db51813f2ba156aefa0117262\", element=\"fc452573-c0d3-4214-abe8-6cbdb19835f2\")>,\n",
       " <selenium.webdriver.remote.webelement.WebElement (session=\"37411f3db51813f2ba156aefa0117262\", element=\"7c8d92b2-57cd-4858-a7a6-0fb473670101\")>,\n",
       " <selenium.webdriver.remote.webelement.WebElement (session=\"37411f3db51813f2ba156aefa0117262\", element=\"bf2f8357-b21a-497f-8674-d6967ea6cd09\")>,\n",
       " <selenium.webdriver.remote.webelement.WebElement (session=\"37411f3db51813f2ba156aefa0117262\", element=\"a55cef70-135d-4845-91ad-0a0a011ba4eb\")>,\n",
       " <selenium.webdriver.remote.webelement.WebElement (session=\"37411f3db51813f2ba156aefa0117262\", element=\"57206897-3a0d-4480-9dcc-c216eecb04e2\")>,\n",
       " <selenium.webdriver.remote.webelement.WebElement (session=\"37411f3db51813f2ba156aefa0117262\", element=\"c1eb0b07-c045-4d94-93c3-c89ae2f246db\")>,\n",
       " <selenium.webdriver.remote.webelement.WebElement (session=\"37411f3db51813f2ba156aefa0117262\", element=\"67e150e0-ef54-4184-9fa2-8037bd5948da\")>,\n",
       " <selenium.webdriver.remote.webelement.WebElement (session=\"37411f3db51813f2ba156aefa0117262\", element=\"ca82b92c-bd47-4dc3-80b5-c9d1558e640b\")>,\n",
       " <selenium.webdriver.remote.webelement.WebElement (session=\"37411f3db51813f2ba156aefa0117262\", element=\"27f6dd7d-ff6c-4996-948d-de96146d8c01\")>,\n",
       " <selenium.webdriver.remote.webelement.WebElement (session=\"37411f3db51813f2ba156aefa0117262\", element=\"3c6f47ba-1751-483a-a750-95c63586a8ba\")>,\n",
       " <selenium.webdriver.remote.webelement.WebElement (session=\"37411f3db51813f2ba156aefa0117262\", element=\"39763b0e-8b28-4364-9939-ad55609fbba6\")>,\n",
       " <selenium.webdriver.remote.webelement.WebElement (session=\"37411f3db51813f2ba156aefa0117262\", element=\"e10b1ccb-eb24-4c92-b4a7-3751b5de81ab\")>,\n",
       " <selenium.webdriver.remote.webelement.WebElement (session=\"37411f3db51813f2ba156aefa0117262\", element=\"2b842f0b-8d1a-4967-98d4-87936579378e\")>,\n",
       " <selenium.webdriver.remote.webelement.WebElement (session=\"37411f3db51813f2ba156aefa0117262\", element=\"583f20e7-ee56-43f5-99c8-a6c10fe29b16\")>,\n",
       " <selenium.webdriver.remote.webelement.WebElement (session=\"37411f3db51813f2ba156aefa0117262\", element=\"1b394dd4-7e12-4bdb-8340-1bbfdae485c9\")>,\n",
       " <selenium.webdriver.remote.webelement.WebElement (session=\"37411f3db51813f2ba156aefa0117262\", element=\"6720be91-70ac-475a-974d-c7c491a93cb6\")>,\n",
       " <selenium.webdriver.remote.webelement.WebElement (session=\"37411f3db51813f2ba156aefa0117262\", element=\"196c7776-638d-4fb3-8168-fa65e8d0cb59\")>,\n",
       " <selenium.webdriver.remote.webelement.WebElement (session=\"37411f3db51813f2ba156aefa0117262\", element=\"cdab76d4-37c6-473a-9501-cf5ad208dc56\")>,\n",
       " <selenium.webdriver.remote.webelement.WebElement (session=\"37411f3db51813f2ba156aefa0117262\", element=\"f137448f-669c-4e00-b035-b8b75cd265f5\")>,\n",
       " <selenium.webdriver.remote.webelement.WebElement (session=\"37411f3db51813f2ba156aefa0117262\", element=\"fabb0476-8dcf-4b15-b74b-ecfdc89f1e0b\")>,\n",
       " <selenium.webdriver.remote.webelement.WebElement (session=\"37411f3db51813f2ba156aefa0117262\", element=\"a3623596-80c2-4fd8-8d81-d8405e7099b7\")>,\n",
       " <selenium.webdriver.remote.webelement.WebElement (session=\"37411f3db51813f2ba156aefa0117262\", element=\"5c24e5ca-79e4-4544-a2af-5f5a39bbf198\")>,\n",
       " <selenium.webdriver.remote.webelement.WebElement (session=\"37411f3db51813f2ba156aefa0117262\", element=\"edc9b140-327d-4e8e-80f8-5f41a03f3b1f\")>,\n",
       " <selenium.webdriver.remote.webelement.WebElement (session=\"37411f3db51813f2ba156aefa0117262\", element=\"6171d5b8-1490-43a9-9372-a1465fb9a10c\")>,\n",
       " <selenium.webdriver.remote.webelement.WebElement (session=\"37411f3db51813f2ba156aefa0117262\", element=\"e82b9f3b-a4ff-431e-a9f3-836a93b9a9f9\")>,\n",
       " <selenium.webdriver.remote.webelement.WebElement (session=\"37411f3db51813f2ba156aefa0117262\", element=\"cbed41f6-4b1a-4aea-94d4-3703e7e08dae\")>]"
      ]
     },
     "execution_count": 252,
     "metadata": {},
     "output_type": "execute_result"
    }
   ],
   "source": [
    "#finding all Brand content\n",
    "Brand_6_3 = driver.find_elements_by_xpath (\"//div[@class='_2WkVRV']\")\n",
    "Brand_6_3"
   ]
  },
  {
   "cell_type": "code",
   "execution_count": 253,
   "metadata": {},
   "outputs": [
    {
     "data": {
      "text/plain": [
       "['Fastrack',\n",
       " 'IDEE',\n",
       " 'Fastrack',\n",
       " 'Fastrack',\n",
       " 'AISLIN',\n",
       " 'Fastrack',\n",
       " 'Fastrack',\n",
       " 'Fastrack',\n",
       " 'PHENOMENAL',\n",
       " 'IDEE',\n",
       " 'IDEE',\n",
       " 'Fastrack',\n",
       " 'Elligator',\n",
       " 'GANSTA',\n",
       " 'GANSTA',\n",
       " 'Fastrack',\n",
       " 'ROZZETTA CRAFT',\n",
       " 'NuVew',\n",
       " 'AISLIN',\n",
       " 'Fastrack',\n",
       " 'GANSTA',\n",
       " 'PETER JONES',\n",
       " 'Fastrack',\n",
       " 'Fastrack',\n",
       " 'IDEE',\n",
       " 'Mi',\n",
       " 'ROZZETTA CRAFT',\n",
       " 'Fastrack',\n",
       " 'povty',\n",
       " 'IDEE',\n",
       " 'Pierre Cardin',\n",
       " 'Fastrack',\n",
       " 'United Colors of Benetton',\n",
       " 'Fastrack',\n",
       " 'Fastrack',\n",
       " 'Fastrack',\n",
       " 'Fastrack',\n",
       " 'ROYAL SON',\n",
       " 'NuVew',\n",
       " 'Fastrack']"
      ]
     },
     "execution_count": 253,
     "metadata": {},
     "output_type": "execute_result"
    }
   ],
   "source": [
    "# extracting the text for Company Name data using loop\n",
    "\n",
    "Brand3 = []\n",
    "\n",
    "for i in Brand_6_3:\n",
    "    title=i.text\n",
    "    Brand3.append(title)\n",
    "Brand3"
   ]
  },
  {
   "cell_type": "markdown",
   "metadata": {},
   "source": [
    "Product Description from page 3"
   ]
  },
  {
   "cell_type": "code",
   "execution_count": 254,
   "metadata": {},
   "outputs": [
    {
     "data": {
      "text/plain": [
       "[<selenium.webdriver.remote.webelement.WebElement (session=\"37411f3db51813f2ba156aefa0117262\", element=\"d93a13d7-f50f-4ab2-b6a8-d4c5dcd5ba9d\")>,\n",
       " <selenium.webdriver.remote.webelement.WebElement (session=\"37411f3db51813f2ba156aefa0117262\", element=\"e4f42015-7760-46a3-93ac-31a7bdf21289\")>,\n",
       " <selenium.webdriver.remote.webelement.WebElement (session=\"37411f3db51813f2ba156aefa0117262\", element=\"c401a748-620a-4d8a-96de-1205114d3597\")>,\n",
       " <selenium.webdriver.remote.webelement.WebElement (session=\"37411f3db51813f2ba156aefa0117262\", element=\"c3f59aee-af1c-4e55-8537-ca5936eb0e27\")>,\n",
       " <selenium.webdriver.remote.webelement.WebElement (session=\"37411f3db51813f2ba156aefa0117262\", element=\"8cbc2896-9b9d-4545-9a9c-783da2e23b7d\")>,\n",
       " <selenium.webdriver.remote.webelement.WebElement (session=\"37411f3db51813f2ba156aefa0117262\", element=\"35001bc5-1bf5-43c9-98de-c0c9c16b6322\")>,\n",
       " <selenium.webdriver.remote.webelement.WebElement (session=\"37411f3db51813f2ba156aefa0117262\", element=\"44ae4b8a-5a85-44a3-8bbb-ea5aaffd182c\")>,\n",
       " <selenium.webdriver.remote.webelement.WebElement (session=\"37411f3db51813f2ba156aefa0117262\", element=\"d8a65c86-32b7-4d4e-a8b3-5c8f379b9374\")>,\n",
       " <selenium.webdriver.remote.webelement.WebElement (session=\"37411f3db51813f2ba156aefa0117262\", element=\"9397421c-53d8-4985-8698-340b5b466946\")>,\n",
       " <selenium.webdriver.remote.webelement.WebElement (session=\"37411f3db51813f2ba156aefa0117262\", element=\"f5539b10-3759-44f1-be4a-861460ae9675\")>,\n",
       " <selenium.webdriver.remote.webelement.WebElement (session=\"37411f3db51813f2ba156aefa0117262\", element=\"f5169954-ba36-498a-b128-b3cb28a92b56\")>,\n",
       " <selenium.webdriver.remote.webelement.WebElement (session=\"37411f3db51813f2ba156aefa0117262\", element=\"d7a7ffa2-db74-4393-bd7e-658a40e67188\")>,\n",
       " <selenium.webdriver.remote.webelement.WebElement (session=\"37411f3db51813f2ba156aefa0117262\", element=\"6fa97649-6000-4b7b-87e1-81bbc3cd2ea0\")>,\n",
       " <selenium.webdriver.remote.webelement.WebElement (session=\"37411f3db51813f2ba156aefa0117262\", element=\"b40bfda5-1450-42e8-91c0-3d0447601552\")>,\n",
       " <selenium.webdriver.remote.webelement.WebElement (session=\"37411f3db51813f2ba156aefa0117262\", element=\"e5338a1a-1d79-476e-aace-f955a9d30428\")>,\n",
       " <selenium.webdriver.remote.webelement.WebElement (session=\"37411f3db51813f2ba156aefa0117262\", element=\"bd503aa6-9f46-4374-82cc-75fe8e26ac77\")>,\n",
       " <selenium.webdriver.remote.webelement.WebElement (session=\"37411f3db51813f2ba156aefa0117262\", element=\"fd5a752e-6391-4fbc-9ac0-cb10bb2938f1\")>,\n",
       " <selenium.webdriver.remote.webelement.WebElement (session=\"37411f3db51813f2ba156aefa0117262\", element=\"9017fb51-e33d-4281-be3d-26925317f002\")>,\n",
       " <selenium.webdriver.remote.webelement.WebElement (session=\"37411f3db51813f2ba156aefa0117262\", element=\"80a59a64-fb44-45f5-9720-2d0a6a8ec859\")>,\n",
       " <selenium.webdriver.remote.webelement.WebElement (session=\"37411f3db51813f2ba156aefa0117262\", element=\"bd48f1c3-8422-4688-883e-bfb08dd6663c\")>,\n",
       " <selenium.webdriver.remote.webelement.WebElement (session=\"37411f3db51813f2ba156aefa0117262\", element=\"8751cfe9-350f-4c38-afaf-f26e61de7b15\")>,\n",
       " <selenium.webdriver.remote.webelement.WebElement (session=\"37411f3db51813f2ba156aefa0117262\", element=\"4f8ff9ea-b63f-462c-8a51-611ba01e244e\")>,\n",
       " <selenium.webdriver.remote.webelement.WebElement (session=\"37411f3db51813f2ba156aefa0117262\", element=\"f109115d-3c8b-44fe-b81a-f56795adb4ab\")>,\n",
       " <selenium.webdriver.remote.webelement.WebElement (session=\"37411f3db51813f2ba156aefa0117262\", element=\"bb168bad-23bf-40ec-b3fd-27349c32d5c0\")>,\n",
       " <selenium.webdriver.remote.webelement.WebElement (session=\"37411f3db51813f2ba156aefa0117262\", element=\"63678089-f6b4-4345-80bc-af2474792a8a\")>,\n",
       " <selenium.webdriver.remote.webelement.WebElement (session=\"37411f3db51813f2ba156aefa0117262\", element=\"bad11b98-522d-4ffa-b9a2-af35288c5b69\")>,\n",
       " <selenium.webdriver.remote.webelement.WebElement (session=\"37411f3db51813f2ba156aefa0117262\", element=\"35208842-5e8b-4b3c-9aec-c3bf055468cd\")>,\n",
       " <selenium.webdriver.remote.webelement.WebElement (session=\"37411f3db51813f2ba156aefa0117262\", element=\"92083b14-844b-49ac-93fb-0b8c15621092\")>,\n",
       " <selenium.webdriver.remote.webelement.WebElement (session=\"37411f3db51813f2ba156aefa0117262\", element=\"4f7a7e49-2efb-4e5a-824d-54f4dd099f93\")>,\n",
       " <selenium.webdriver.remote.webelement.WebElement (session=\"37411f3db51813f2ba156aefa0117262\", element=\"fa9475c7-03b1-4d54-866f-4bbe3fbdb091\")>,\n",
       " <selenium.webdriver.remote.webelement.WebElement (session=\"37411f3db51813f2ba156aefa0117262\", element=\"1865417c-f653-4c89-beba-d8366944afb5\")>,\n",
       " <selenium.webdriver.remote.webelement.WebElement (session=\"37411f3db51813f2ba156aefa0117262\", element=\"9508696c-6549-490c-a5a2-f6cc466cb2cf\")>,\n",
       " <selenium.webdriver.remote.webelement.WebElement (session=\"37411f3db51813f2ba156aefa0117262\", element=\"99ed0842-c58b-4bb4-9d79-3b6e59d05036\")>,\n",
       " <selenium.webdriver.remote.webelement.WebElement (session=\"37411f3db51813f2ba156aefa0117262\", element=\"700d288d-8e3f-44a4-8628-6e103e8dd246\")>,\n",
       " <selenium.webdriver.remote.webelement.WebElement (session=\"37411f3db51813f2ba156aefa0117262\", element=\"b155ae94-5b43-4399-aa08-c54b2046e6ad\")>,\n",
       " <selenium.webdriver.remote.webelement.WebElement (session=\"37411f3db51813f2ba156aefa0117262\", element=\"6e571cc5-4374-457b-bd19-ac347a0ea4d8\")>,\n",
       " <selenium.webdriver.remote.webelement.WebElement (session=\"37411f3db51813f2ba156aefa0117262\", element=\"40307f6c-fc99-4d95-bb6f-11749f8451e8\")>,\n",
       " <selenium.webdriver.remote.webelement.WebElement (session=\"37411f3db51813f2ba156aefa0117262\", element=\"d0f71e1c-122c-461d-a0bf-c17cce86f9aa\")>,\n",
       " <selenium.webdriver.remote.webelement.WebElement (session=\"37411f3db51813f2ba156aefa0117262\", element=\"ce812827-c92e-45b4-ab2a-6eca7e457dd7\")>,\n",
       " <selenium.webdriver.remote.webelement.WebElement (session=\"37411f3db51813f2ba156aefa0117262\", element=\"a05350bc-fe00-4323-892b-9cfe91aeabd3\")>]"
      ]
     },
     "execution_count": 254,
     "metadata": {},
     "output_type": "execute_result"
    }
   ],
   "source": [
    "#finding all Product Description content\n",
    "product_6_3 = driver.find_elements_by_xpath (\"//*[@class='IRpwTa']\")\n",
    "product_6_3"
   ]
  },
  {
   "cell_type": "code",
   "execution_count": 255,
   "metadata": {},
   "outputs": [
    {
     "data": {
      "text/plain": [
       "['Gradient, UV Protection Wayfarer Sunglasses (Free Size)',\n",
       " 'Gradient, UV Protection Wayfarer Sunglasses (50)',\n",
       " 'UV Protection Sports Sunglasses (Free Size)',\n",
       " 'UV Protection Aviator Sunglasses (58)',\n",
       " 'UV Protection, Gradient Butterfly, Retro Square Sunglas...',\n",
       " 'UV Protection Wayfarer Sunglasses (52)',\n",
       " 'UV Protection Wayfarer Sunglasses (Free Size)',\n",
       " 'UV Protection Wayfarer Sunglasses (Free Size)',\n",
       " 'UV Protection, Mirrored Retro Square Sunglasses (53)',\n",
       " 'UV Protection Aviator Sunglasses (18)',\n",
       " 'UV Protection Cat-eye Sunglasses (20)',\n",
       " 'UV Protection Wayfarer Sunglasses (57)',\n",
       " 'UV Protection Round Sunglasses (53)',\n",
       " 'UV Protection Aviator Sunglasses (57)',\n",
       " 'Night Vision, Riding Glasses Wayfarer Sunglasses (53)',\n",
       " 'UV Protection Wayfarer Sunglasses (Free Size)',\n",
       " 'UV Protection, Gradient Retro Square Sunglasses (Free S...',\n",
       " 'UV Protection Cat-eye Sunglasses (60)',\n",
       " 'UV Protection Oval Sunglasses (60)',\n",
       " 'UV Protection Wayfarer Sunglasses (Free Size)',\n",
       " 'UV Protection, Gradient Wayfarer Sunglasses (53)',\n",
       " 'Night Vision, Riding Glasses, UV Protection Wrap-around...',\n",
       " 'UV Protection Wrap-around Sunglasses (Free Size)',\n",
       " 'UV Protection Aviator Sunglasses (Free Size)',\n",
       " 'UV Protection Cat-eye Sunglasses (20)',\n",
       " 'Polarized Aviator Sunglasses (Free Size)',\n",
       " 'UV Protection, Riding Glasses Rectangular Sunglasses (F...',\n",
       " 'UV Protection Wayfarer Sunglasses (Free Size)',\n",
       " 'UV Protection Wayfarer Sunglasses (Free Size)',\n",
       " 'Mirrored, UV Protection Wayfarer Sunglasses (18)',\n",
       " 'Mirrored, UV Protection Retro Square Sunglasses (56)',\n",
       " 'Gradient, UV Protection Wayfarer Sunglasses (Free Size)',\n",
       " 'Gradient, Mirrored, UV Protection Aviator Sunglasses (5...',\n",
       " 'UV Protection Aviator Sunglasses (Free Size)',\n",
       " 'Gradient, UV Protection Wayfarer Sunglasses (Free Size)',\n",
       " 'UV Protection Wrap-around Sunglasses (Free Size)',\n",
       " 'UV Protection Wayfarer Sunglasses (58)',\n",
       " 'Mirrored Aviator Sunglasses (58)',\n",
       " 'UV Protection, Night Vision, Riding Glasses Sports Sung...',\n",
       " 'Mirrored, UV Protection Wayfarer Sunglasses (Free Size)']"
      ]
     },
     "execution_count": 255,
     "metadata": {},
     "output_type": "execute_result"
    }
   ],
   "source": [
    "# extracting the text for Product Description data using loop\n",
    "\n",
    "Product3 = []\n",
    "\n",
    "for i in product_6_3:\n",
    "    title=i.text\n",
    "    Product3.append(title)\n",
    "Product3"
   ]
  },
  {
   "cell_type": "markdown",
   "metadata": {},
   "source": [
    "Collecting Price content from page 3"
   ]
  },
  {
   "cell_type": "code",
   "execution_count": 256,
   "metadata": {},
   "outputs": [
    {
     "data": {
      "text/plain": [
       "[<selenium.webdriver.remote.webelement.WebElement (session=\"37411f3db51813f2ba156aefa0117262\", element=\"04c1cda0-9c44-4c17-8bc8-0916056a2999\")>,\n",
       " <selenium.webdriver.remote.webelement.WebElement (session=\"37411f3db51813f2ba156aefa0117262\", element=\"269b9ead-7de0-43c7-884c-4f52da91f073\")>,\n",
       " <selenium.webdriver.remote.webelement.WebElement (session=\"37411f3db51813f2ba156aefa0117262\", element=\"04f4139b-2e5c-4bc8-ac5e-262857d8cd24\")>,\n",
       " <selenium.webdriver.remote.webelement.WebElement (session=\"37411f3db51813f2ba156aefa0117262\", element=\"b50e6e63-9bd9-4fc9-b7ea-a4b76e5d74b3\")>,\n",
       " <selenium.webdriver.remote.webelement.WebElement (session=\"37411f3db51813f2ba156aefa0117262\", element=\"e9e0b9de-81fd-43ab-869f-fd52b9b9174f\")>,\n",
       " <selenium.webdriver.remote.webelement.WebElement (session=\"37411f3db51813f2ba156aefa0117262\", element=\"1b5e33fe-2888-413c-bf28-df0ee3645666\")>,\n",
       " <selenium.webdriver.remote.webelement.WebElement (session=\"37411f3db51813f2ba156aefa0117262\", element=\"58b05c45-de7a-43fe-a76a-8baf212f2b96\")>,\n",
       " <selenium.webdriver.remote.webelement.WebElement (session=\"37411f3db51813f2ba156aefa0117262\", element=\"b4478dd2-5d7a-4c9d-af55-3b744c46ddc7\")>,\n",
       " <selenium.webdriver.remote.webelement.WebElement (session=\"37411f3db51813f2ba156aefa0117262\", element=\"aa33d3d7-b3cf-4ece-936c-1f18a5c4dde1\")>,\n",
       " <selenium.webdriver.remote.webelement.WebElement (session=\"37411f3db51813f2ba156aefa0117262\", element=\"3fa015e3-826e-491b-b32c-142cf0a966ac\")>,\n",
       " <selenium.webdriver.remote.webelement.WebElement (session=\"37411f3db51813f2ba156aefa0117262\", element=\"c9ce7e33-c724-4ea5-8f0d-c26e16376d72\")>,\n",
       " <selenium.webdriver.remote.webelement.WebElement (session=\"37411f3db51813f2ba156aefa0117262\", element=\"ee47fa85-dc02-497a-8622-40a7cbedb68d\")>,\n",
       " <selenium.webdriver.remote.webelement.WebElement (session=\"37411f3db51813f2ba156aefa0117262\", element=\"d3c6257d-110c-43e5-b09b-6fe59e68f7b1\")>,\n",
       " <selenium.webdriver.remote.webelement.WebElement (session=\"37411f3db51813f2ba156aefa0117262\", element=\"313dabbc-f9b5-47ab-8825-21174ef8718c\")>,\n",
       " <selenium.webdriver.remote.webelement.WebElement (session=\"37411f3db51813f2ba156aefa0117262\", element=\"cc09a6ab-6846-4ebf-aa3a-aa6b4497e75d\")>,\n",
       " <selenium.webdriver.remote.webelement.WebElement (session=\"37411f3db51813f2ba156aefa0117262\", element=\"b4bc7e05-e7f1-4418-99d7-ec2d3798b90f\")>,\n",
       " <selenium.webdriver.remote.webelement.WebElement (session=\"37411f3db51813f2ba156aefa0117262\", element=\"58bd6c14-7099-4756-9f83-470cb8922632\")>,\n",
       " <selenium.webdriver.remote.webelement.WebElement (session=\"37411f3db51813f2ba156aefa0117262\", element=\"ba3cd72c-5f37-4a78-9d8d-8d473c0311f8\")>,\n",
       " <selenium.webdriver.remote.webelement.WebElement (session=\"37411f3db51813f2ba156aefa0117262\", element=\"bb726fb5-673e-4202-91d2-05fadc6790fd\")>,\n",
       " <selenium.webdriver.remote.webelement.WebElement (session=\"37411f3db51813f2ba156aefa0117262\", element=\"fc95dd33-3863-4aff-ac3d-3e349e0ce022\")>,\n",
       " <selenium.webdriver.remote.webelement.WebElement (session=\"37411f3db51813f2ba156aefa0117262\", element=\"31f75bf3-5d81-47be-8e80-4ed1d5ea3f9a\")>,\n",
       " <selenium.webdriver.remote.webelement.WebElement (session=\"37411f3db51813f2ba156aefa0117262\", element=\"6aa9be72-72ca-4767-8db8-97d431de04c0\")>,\n",
       " <selenium.webdriver.remote.webelement.WebElement (session=\"37411f3db51813f2ba156aefa0117262\", element=\"c2225491-6909-4124-b15e-612a9f700745\")>,\n",
       " <selenium.webdriver.remote.webelement.WebElement (session=\"37411f3db51813f2ba156aefa0117262\", element=\"71d3e88e-dd40-48e8-9ee7-74f1a1728bfd\")>,\n",
       " <selenium.webdriver.remote.webelement.WebElement (session=\"37411f3db51813f2ba156aefa0117262\", element=\"b86cacec-a16a-4d62-9b63-e896f67682c0\")>,\n",
       " <selenium.webdriver.remote.webelement.WebElement (session=\"37411f3db51813f2ba156aefa0117262\", element=\"31218d64-477c-4704-9ce0-daf192f8004b\")>,\n",
       " <selenium.webdriver.remote.webelement.WebElement (session=\"37411f3db51813f2ba156aefa0117262\", element=\"ef5672c4-b4d3-4a22-8173-8f006f0f77c6\")>,\n",
       " <selenium.webdriver.remote.webelement.WebElement (session=\"37411f3db51813f2ba156aefa0117262\", element=\"14e5da63-ea92-4f2a-bc1d-2af25e5372bf\")>,\n",
       " <selenium.webdriver.remote.webelement.WebElement (session=\"37411f3db51813f2ba156aefa0117262\", element=\"957bfd4d-00b4-4e32-87a0-de1c4269e4db\")>,\n",
       " <selenium.webdriver.remote.webelement.WebElement (session=\"37411f3db51813f2ba156aefa0117262\", element=\"46a5e2bd-ddf9-4f64-9a5a-6be1eb60405d\")>,\n",
       " <selenium.webdriver.remote.webelement.WebElement (session=\"37411f3db51813f2ba156aefa0117262\", element=\"be0701ed-f75f-4fbd-83c8-d558473ac294\")>,\n",
       " <selenium.webdriver.remote.webelement.WebElement (session=\"37411f3db51813f2ba156aefa0117262\", element=\"0cd7def4-1963-46e7-ae50-ca1f27fb809e\")>,\n",
       " <selenium.webdriver.remote.webelement.WebElement (session=\"37411f3db51813f2ba156aefa0117262\", element=\"19e8c429-43a1-4e05-88ba-bb1906cfcab7\")>,\n",
       " <selenium.webdriver.remote.webelement.WebElement (session=\"37411f3db51813f2ba156aefa0117262\", element=\"1bae506b-e6d6-48a6-89c4-8012889db853\")>,\n",
       " <selenium.webdriver.remote.webelement.WebElement (session=\"37411f3db51813f2ba156aefa0117262\", element=\"5437b274-2edc-479d-a387-f64e565b9cd0\")>,\n",
       " <selenium.webdriver.remote.webelement.WebElement (session=\"37411f3db51813f2ba156aefa0117262\", element=\"b0c3b3de-107f-492b-b6e7-001185a5acd6\")>,\n",
       " <selenium.webdriver.remote.webelement.WebElement (session=\"37411f3db51813f2ba156aefa0117262\", element=\"bf44d4b8-5552-40e3-981b-04efb48764b3\")>,\n",
       " <selenium.webdriver.remote.webelement.WebElement (session=\"37411f3db51813f2ba156aefa0117262\", element=\"6a0a12aa-c5c8-49ce-a5af-bee6d2b27b5f\")>,\n",
       " <selenium.webdriver.remote.webelement.WebElement (session=\"37411f3db51813f2ba156aefa0117262\", element=\"16653e36-4ed9-474c-921f-7cd3bf589bc0\")>,\n",
       " <selenium.webdriver.remote.webelement.WebElement (session=\"37411f3db51813f2ba156aefa0117262\", element=\"2b8bc633-3da8-43a1-9a60-ad9d36c5ffe8\")>]"
      ]
     },
     "execution_count": 256,
     "metadata": {},
     "output_type": "execute_result"
    }
   ],
   "source": [
    "#finding all Price content\n",
    "price_6_3 = driver.find_elements_by_xpath (\"//*[@class='_30jeq3']\")\n",
    "price_6_3"
   ]
  },
  {
   "cell_type": "code",
   "execution_count": 257,
   "metadata": {},
   "outputs": [
    {
     "data": {
      "text/plain": [
       "['₹449',\n",
       " '₹799',\n",
       " '₹440',\n",
       " '₹629',\n",
       " '₹459',\n",
       " '₹575',\n",
       " '₹368',\n",
       " '₹377',\n",
       " '₹359',\n",
       " '₹979',\n",
       " '₹889',\n",
       " '₹332',\n",
       " '₹248',\n",
       " '₹239',\n",
       " '₹198',\n",
       " '₹368',\n",
       " '₹336',\n",
       " '₹336',\n",
       " '₹573',\n",
       " '₹409',\n",
       " '₹261',\n",
       " '₹549',\n",
       " '₹791',\n",
       " '₹368',\n",
       " '₹949',\n",
       " '₹854',\n",
       " '₹404',\n",
       " '₹419',\n",
       " '₹349',\n",
       " '₹899',\n",
       " '₹854',\n",
       " '₹323',\n",
       " '₹845',\n",
       " '₹440',\n",
       " '₹485',\n",
       " '₹647',\n",
       " '₹548',\n",
       " '₹319',\n",
       " '₹226',\n",
       " '₹404']"
      ]
     },
     "execution_count": 257,
     "metadata": {},
     "output_type": "execute_result"
    }
   ],
   "source": [
    "# extracting the text for Price data using loop\n",
    "\n",
    "Price3 = []\n",
    "\n",
    "for i in price_6_3:\n",
    "    title=i.text\n",
    "    Price3.append(title)\n",
    "Price3"
   ]
  },
  {
   "cell_type": "markdown",
   "metadata": {},
   "source": [
    "Collecting Discount % Content from page 3"
   ]
  },
  {
   "cell_type": "code",
   "execution_count": 258,
   "metadata": {},
   "outputs": [
    {
     "data": {
      "text/plain": [
       "[<selenium.webdriver.remote.webelement.WebElement (session=\"37411f3db51813f2ba156aefa0117262\", element=\"7a9206ec-5719-4d2b-90a0-557967128b65\")>,\n",
       " <selenium.webdriver.remote.webelement.WebElement (session=\"37411f3db51813f2ba156aefa0117262\", element=\"d99dff0c-a9fc-4d37-8128-01a98bcf671b\")>,\n",
       " <selenium.webdriver.remote.webelement.WebElement (session=\"37411f3db51813f2ba156aefa0117262\", element=\"d270d000-dbde-459a-b31a-fb11796ff542\")>,\n",
       " <selenium.webdriver.remote.webelement.WebElement (session=\"37411f3db51813f2ba156aefa0117262\", element=\"49370200-b1ca-4d56-91e6-99b9e980f2bc\")>,\n",
       " <selenium.webdriver.remote.webelement.WebElement (session=\"37411f3db51813f2ba156aefa0117262\", element=\"d3c5e431-6a75-4d56-8cf8-fa1bdc17d056\")>,\n",
       " <selenium.webdriver.remote.webelement.WebElement (session=\"37411f3db51813f2ba156aefa0117262\", element=\"fab9a123-27fe-48bd-8af4-a3643cccd03b\")>,\n",
       " <selenium.webdriver.remote.webelement.WebElement (session=\"37411f3db51813f2ba156aefa0117262\", element=\"ec3fda13-4a58-46ff-801e-5b78f5b1bb52\")>,\n",
       " <selenium.webdriver.remote.webelement.WebElement (session=\"37411f3db51813f2ba156aefa0117262\", element=\"bbbdc238-8e63-4ca9-aedd-d0034327a967\")>,\n",
       " <selenium.webdriver.remote.webelement.WebElement (session=\"37411f3db51813f2ba156aefa0117262\", element=\"502cd925-c88c-4741-9098-e7f76fbc0483\")>,\n",
       " <selenium.webdriver.remote.webelement.WebElement (session=\"37411f3db51813f2ba156aefa0117262\", element=\"1b4d675c-3414-4f52-a2a8-4b9188d4b054\")>,\n",
       " <selenium.webdriver.remote.webelement.WebElement (session=\"37411f3db51813f2ba156aefa0117262\", element=\"39ff93f7-aaf9-4350-82eb-bba00891be39\")>,\n",
       " <selenium.webdriver.remote.webelement.WebElement (session=\"37411f3db51813f2ba156aefa0117262\", element=\"46797630-57da-4fc6-acd0-841030d3f11a\")>,\n",
       " <selenium.webdriver.remote.webelement.WebElement (session=\"37411f3db51813f2ba156aefa0117262\", element=\"e4ccc292-dfc4-4f74-ad88-535c57f5d304\")>,\n",
       " <selenium.webdriver.remote.webelement.WebElement (session=\"37411f3db51813f2ba156aefa0117262\", element=\"bf4b0c56-9b39-49bd-82fa-02dac94bc87e\")>,\n",
       " <selenium.webdriver.remote.webelement.WebElement (session=\"37411f3db51813f2ba156aefa0117262\", element=\"8fb9febe-c55c-4e4d-bf9d-85bd26a1bfa2\")>,\n",
       " <selenium.webdriver.remote.webelement.WebElement (session=\"37411f3db51813f2ba156aefa0117262\", element=\"2c6960de-2bda-422e-a94b-009fcf8660a9\")>,\n",
       " <selenium.webdriver.remote.webelement.WebElement (session=\"37411f3db51813f2ba156aefa0117262\", element=\"151e41f0-66d7-4559-878b-d33156cf710e\")>,\n",
       " <selenium.webdriver.remote.webelement.WebElement (session=\"37411f3db51813f2ba156aefa0117262\", element=\"c2aec800-a57e-4554-9bdf-1181f1d68f7a\")>,\n",
       " <selenium.webdriver.remote.webelement.WebElement (session=\"37411f3db51813f2ba156aefa0117262\", element=\"8fd20b8a-e88e-48ee-a49f-3a0503545ae6\")>,\n",
       " <selenium.webdriver.remote.webelement.WebElement (session=\"37411f3db51813f2ba156aefa0117262\", element=\"7dde846d-f65c-4d52-a41a-632fc62acb95\")>,\n",
       " <selenium.webdriver.remote.webelement.WebElement (session=\"37411f3db51813f2ba156aefa0117262\", element=\"46de7a7e-eab3-48bc-a333-4933a2c89b6e\")>,\n",
       " <selenium.webdriver.remote.webelement.WebElement (session=\"37411f3db51813f2ba156aefa0117262\", element=\"17888ab2-8ef0-4ccf-a6de-e13dd899451e\")>,\n",
       " <selenium.webdriver.remote.webelement.WebElement (session=\"37411f3db51813f2ba156aefa0117262\", element=\"ba3bbced-605e-46a2-a092-d13d56ff1800\")>,\n",
       " <selenium.webdriver.remote.webelement.WebElement (session=\"37411f3db51813f2ba156aefa0117262\", element=\"461fa025-664a-4d21-9f05-f2f958791611\")>,\n",
       " <selenium.webdriver.remote.webelement.WebElement (session=\"37411f3db51813f2ba156aefa0117262\", element=\"761ed7d2-3307-4a78-a2b9-122fd5bb71bf\")>,\n",
       " <selenium.webdriver.remote.webelement.WebElement (session=\"37411f3db51813f2ba156aefa0117262\", element=\"fff1787b-e145-4fc7-b5f8-4add2a5478c3\")>,\n",
       " <selenium.webdriver.remote.webelement.WebElement (session=\"37411f3db51813f2ba156aefa0117262\", element=\"e27579a7-96b3-455f-8604-8a24fa525b88\")>,\n",
       " <selenium.webdriver.remote.webelement.WebElement (session=\"37411f3db51813f2ba156aefa0117262\", element=\"7028a5d2-ea20-470b-8e35-15dd44ab4eac\")>,\n",
       " <selenium.webdriver.remote.webelement.WebElement (session=\"37411f3db51813f2ba156aefa0117262\", element=\"b4f48d49-4cd6-42a8-b927-a63ba4eb9850\")>,\n",
       " <selenium.webdriver.remote.webelement.WebElement (session=\"37411f3db51813f2ba156aefa0117262\", element=\"899887c8-20ac-412a-beff-e5151ac4af6f\")>,\n",
       " <selenium.webdriver.remote.webelement.WebElement (session=\"37411f3db51813f2ba156aefa0117262\", element=\"63fd10c2-eccb-4c97-8538-fdb2e3b7aa0b\")>,\n",
       " <selenium.webdriver.remote.webelement.WebElement (session=\"37411f3db51813f2ba156aefa0117262\", element=\"c247a6ff-56b3-4e36-a0a7-832ccb5dd607\")>,\n",
       " <selenium.webdriver.remote.webelement.WebElement (session=\"37411f3db51813f2ba156aefa0117262\", element=\"9b59cdd8-6a14-4388-aff7-31a8b6ce7544\")>,\n",
       " <selenium.webdriver.remote.webelement.WebElement (session=\"37411f3db51813f2ba156aefa0117262\", element=\"29ab04e7-e075-4c9a-98ed-d5fa4d40f6fe\")>,\n",
       " <selenium.webdriver.remote.webelement.WebElement (session=\"37411f3db51813f2ba156aefa0117262\", element=\"d4eadcd4-2b04-45ad-ba3e-05ba337bc83d\")>,\n",
       " <selenium.webdriver.remote.webelement.WebElement (session=\"37411f3db51813f2ba156aefa0117262\", element=\"b2c9297f-e66f-489f-9968-fd5b82201d59\")>,\n",
       " <selenium.webdriver.remote.webelement.WebElement (session=\"37411f3db51813f2ba156aefa0117262\", element=\"db8b071e-4e38-46b5-abbc-0e50b9167645\")>,\n",
       " <selenium.webdriver.remote.webelement.WebElement (session=\"37411f3db51813f2ba156aefa0117262\", element=\"995dacfd-9da9-4d87-88e9-67b951421676\")>,\n",
       " <selenium.webdriver.remote.webelement.WebElement (session=\"37411f3db51813f2ba156aefa0117262\", element=\"9af17ffc-6cb4-4f55-afe6-27cd1b62d182\")>,\n",
       " <selenium.webdriver.remote.webelement.WebElement (session=\"37411f3db51813f2ba156aefa0117262\", element=\"98220e96-a47f-4f41-91b3-35d8ee313161\")>]"
      ]
     },
     "execution_count": 258,
     "metadata": {},
     "output_type": "execute_result"
    }
   ],
   "source": [
    "#finding all Discount content\n",
    "discount_6_3 = driver.find_elements_by_xpath (\"//*[@class='_3Ay6Sb']\")\n",
    "discount_6_3"
   ]
  },
  {
   "cell_type": "code",
   "execution_count": 259,
   "metadata": {
    "scrolled": true
   },
   "outputs": [
    {
     "data": {
      "text/plain": [
       "['43% off',\n",
       " '61% off',\n",
       " '51% off',\n",
       " '51% off',\n",
       " '69% off',\n",
       " '28% off',\n",
       " '53% off',\n",
       " '58% off',\n",
       " '82% off',\n",
       " '60% off',\n",
       " '60% off',\n",
       " '58% off',\n",
       " '90% off',\n",
       " '88% off',\n",
       " '88% off',\n",
       " '59% off',\n",
       " '83% off',\n",
       " '76% off',\n",
       " '76% off',\n",
       " '54% off',\n",
       " '86% off',\n",
       " '63% off',\n",
       " '28% off',\n",
       " '59% off',\n",
       " '57% off',\n",
       " '28% off',\n",
       " '81% off',\n",
       " '53% off',\n",
       " '65% off',\n",
       " '56% off',\n",
       " '87% off',\n",
       " '59% off',\n",
       " '79% off',\n",
       " '51% off',\n",
       " '51% off',\n",
       " '28% off',\n",
       " '50% off',\n",
       " '78% off',\n",
       " '71% off',\n",
       " '59% off']"
      ]
     },
     "execution_count": 259,
     "metadata": {},
     "output_type": "execute_result"
    }
   ],
   "source": [
    "# extracting the text for Discount data using loop\n",
    "\n",
    "Discount3 = []\n",
    "\n",
    "for i in discount_6_3:\n",
    "    title=i.text\n",
    "    Discount3.append(title)\n",
    "Discount3"
   ]
  },
  {
   "cell_type": "code",
   "execution_count": 260,
   "metadata": {},
   "outputs": [
    {
     "data": {
      "text/plain": [
       "(40, 40, 40, 40)"
      ]
     },
     "execution_count": 260,
     "metadata": {},
     "output_type": "execute_result"
    }
   ],
   "source": [
    "#checking for length of scraped data 2\n",
    "\n",
    "len(Brand3),len(Product3),len(Price3),len(Discount3)"
   ]
  },
  {
   "cell_type": "code",
   "execution_count": 261,
   "metadata": {},
   "outputs": [],
   "source": [
    "# Now collected 40 (each page) x 3 (pages data) = 120 scrap data"
   ]
  },
  {
   "cell_type": "code",
   "execution_count": 262,
   "metadata": {},
   "outputs": [],
   "source": [
    "#Merging all the data page1, page2, & page3"
   ]
  },
  {
   "cell_type": "code",
   "execution_count": 263,
   "metadata": {},
   "outputs": [],
   "source": [
    "Brand = Brand1 + Brand2 + Brand3"
   ]
  },
  {
   "cell_type": "code",
   "execution_count": 264,
   "metadata": {},
   "outputs": [],
   "source": [
    "Product_Desc = Product1 + Product2 + Product3"
   ]
  },
  {
   "cell_type": "code",
   "execution_count": 265,
   "metadata": {},
   "outputs": [],
   "source": [
    "Price = Price1 + Price2 + Price3"
   ]
  },
  {
   "cell_type": "code",
   "execution_count": 266,
   "metadata": {},
   "outputs": [],
   "source": [
    "Discount = Discount1 + Discount2 + Discount3"
   ]
  },
  {
   "cell_type": "code",
   "execution_count": null,
   "metadata": {},
   "outputs": [],
   "source": []
  },
  {
   "cell_type": "code",
   "execution_count": 267,
   "metadata": {},
   "outputs": [
    {
     "data": {
      "text/plain": [
       "(120, 120, 120, 120)"
      ]
     },
     "execution_count": 267,
     "metadata": {},
     "output_type": "execute_result"
    }
   ],
   "source": [
    "# Checking length of all merged data\n",
    "len(Brand), len(Product_Desc), len(Price), len(Discount)"
   ]
  },
  {
   "cell_type": "code",
   "execution_count": 269,
   "metadata": {},
   "outputs": [],
   "source": [
    "# Now, scraped 120 _Data"
   ]
  },
  {
   "cell_type": "code",
   "execution_count": 270,
   "metadata": {},
   "outputs": [
    {
     "data": {
      "text/html": [
       "<div>\n",
       "<style scoped>\n",
       "    .dataframe tbody tr th:only-of-type {\n",
       "        vertical-align: middle;\n",
       "    }\n",
       "\n",
       "    .dataframe tbody tr th {\n",
       "        vertical-align: top;\n",
       "    }\n",
       "\n",
       "    .dataframe thead th {\n",
       "        text-align: right;\n",
       "    }\n",
       "</style>\n",
       "<table border=\"1\" class=\"dataframe\">\n",
       "  <thead>\n",
       "    <tr style=\"text-align: right;\">\n",
       "      <th></th>\n",
       "      <th>Brand</th>\n",
       "      <th>Product Description</th>\n",
       "      <th>Price</th>\n",
       "      <th>Discount</th>\n",
       "    </tr>\n",
       "  </thead>\n",
       "  <tbody>\n",
       "    <tr>\n",
       "      <th>0</th>\n",
       "      <td>Fastrack</td>\n",
       "      <td>UV Protection Wayfarer Sunglasses (57)</td>\n",
       "      <td>₹332</td>\n",
       "      <td>58% off</td>\n",
       "    </tr>\n",
       "    <tr>\n",
       "      <th>1</th>\n",
       "      <td>Fastrack</td>\n",
       "      <td>UV Protection Wrap-around Sunglasses (Free Size)</td>\n",
       "      <td>₹647</td>\n",
       "      <td>28% off</td>\n",
       "    </tr>\n",
       "    <tr>\n",
       "      <th>2</th>\n",
       "      <td>Fastrack</td>\n",
       "      <td>UV Protection Wayfarer Sunglasses (Free Size)</td>\n",
       "      <td>₹419</td>\n",
       "      <td>53% off</td>\n",
       "    </tr>\n",
       "    <tr>\n",
       "      <th>3</th>\n",
       "      <td>Fastrack</td>\n",
       "      <td>UV Protection Wayfarer Sunglasses (Free Size)</td>\n",
       "      <td>₹377</td>\n",
       "      <td>58% off</td>\n",
       "    </tr>\n",
       "    <tr>\n",
       "      <th>4</th>\n",
       "      <td>SHAAH COLLECTIONS</td>\n",
       "      <td>UV Protection, Polarized, Mirrored Rectangular...</td>\n",
       "      <td>₹198</td>\n",
       "      <td>88% off</td>\n",
       "    </tr>\n",
       "    <tr>\n",
       "      <th>...</th>\n",
       "      <td>...</td>\n",
       "      <td>...</td>\n",
       "      <td>...</td>\n",
       "      <td>...</td>\n",
       "    </tr>\n",
       "    <tr>\n",
       "      <th>95</th>\n",
       "      <td>Fastrack</td>\n",
       "      <td>UV Protection Wayfarer Sunglasses (Free Size)</td>\n",
       "      <td>₹368</td>\n",
       "      <td>59% off</td>\n",
       "    </tr>\n",
       "    <tr>\n",
       "      <th>96</th>\n",
       "      <td>ROZZETTA CRAFT</td>\n",
       "      <td>UV Protection, Gradient Retro Square Sunglasse...</td>\n",
       "      <td>₹336</td>\n",
       "      <td>83% off</td>\n",
       "    </tr>\n",
       "    <tr>\n",
       "      <th>97</th>\n",
       "      <td>NuVew</td>\n",
       "      <td>UV Protection Cat-eye Sunglasses (60)</td>\n",
       "      <td>₹336</td>\n",
       "      <td>76% off</td>\n",
       "    </tr>\n",
       "    <tr>\n",
       "      <th>98</th>\n",
       "      <td>AISLIN</td>\n",
       "      <td>UV Protection Oval Sunglasses (60)</td>\n",
       "      <td>₹573</td>\n",
       "      <td>76% off</td>\n",
       "    </tr>\n",
       "    <tr>\n",
       "      <th>99</th>\n",
       "      <td>Fastrack</td>\n",
       "      <td>UV Protection Wayfarer Sunglasses (Free Size)</td>\n",
       "      <td>₹409</td>\n",
       "      <td>54% off</td>\n",
       "    </tr>\n",
       "  </tbody>\n",
       "</table>\n",
       "<p>100 rows × 4 columns</p>\n",
       "</div>"
      ],
      "text/plain": [
       "                Brand                                Product Description  \\\n",
       "0            Fastrack             UV Protection Wayfarer Sunglasses (57)   \n",
       "1            Fastrack   UV Protection Wrap-around Sunglasses (Free Size)   \n",
       "2            Fastrack      UV Protection Wayfarer Sunglasses (Free Size)   \n",
       "3            Fastrack      UV Protection Wayfarer Sunglasses (Free Size)   \n",
       "4   SHAAH COLLECTIONS  UV Protection, Polarized, Mirrored Rectangular...   \n",
       "..                ...                                                ...   \n",
       "95           Fastrack      UV Protection Wayfarer Sunglasses (Free Size)   \n",
       "96     ROZZETTA CRAFT  UV Protection, Gradient Retro Square Sunglasse...   \n",
       "97              NuVew              UV Protection Cat-eye Sunglasses (60)   \n",
       "98             AISLIN                 UV Protection Oval Sunglasses (60)   \n",
       "99           Fastrack      UV Protection Wayfarer Sunglasses (Free Size)   \n",
       "\n",
       "   Price Discount  \n",
       "0   ₹332  58% off  \n",
       "1   ₹647  28% off  \n",
       "2   ₹419  53% off  \n",
       "3   ₹377  58% off  \n",
       "4   ₹198  88% off  \n",
       "..   ...      ...  \n",
       "95  ₹368  59% off  \n",
       "96  ₹336  83% off  \n",
       "97  ₹336  76% off  \n",
       "98  ₹573  76% off  \n",
       "99  ₹409  54% off  \n",
       "\n",
       "[100 rows x 4 columns]"
      ]
     },
     "execution_count": 270,
     "metadata": {},
     "output_type": "execute_result"
    }
   ],
   "source": [
    "# Creating Data Frame\n",
    "\n",
    "Flipkart_sunglasses = pd.DataFrame()\n",
    "Flipkart_sunglasses ['Brand'] = Brand[0:100]\n",
    "Flipkart_sunglasses ['Product Description'] = Product_Desc[0:100]\n",
    "Flipkart_sunglasses ['Price'] = Price[0:100]\n",
    "Flipkart_sunglasses ['Discount'] = Discount[0:100]\n",
    "Flipkart_sunglasses"
   ]
  },
  {
   "cell_type": "code",
   "execution_count": 271,
   "metadata": {},
   "outputs": [
    {
     "data": {
      "text/plain": [
       "100"
      ]
     },
     "execution_count": 271,
     "metadata": {},
     "output_type": "execute_result"
    }
   ],
   "source": [
    "len(Flipkart_sunglasses)"
   ]
  },
  {
   "cell_type": "code",
   "execution_count": null,
   "metadata": {},
   "outputs": [],
   "source": []
  },
  {
   "cell_type": "markdown",
   "metadata": {},
   "source": [
    "### Q7: Scrape 100 reviews data from flipkart.com for iphone11 phone. You have to go the link: https://www.flipkart.com/apple-iphone-11-black-64-gb-includes-earpods-power-adapter/p/itm0f37c2240b217?pid=MOBFKCTSVZAXUHGR&lid=LSTMOBFKCTSVZAXUHGREPBFGI&marketplace.\n",
    "\n",
    "When you will open the above link you will reach to the below shown webpage.\n",
    "\n",
    "As shown in the above page you have to scrape the tick marked attributes.\n",
    "\n",
    "These are\n",
    "1. Rating\n",
    "2. Review_summary\n",
    "3. Full review\n",
    "\n",
    "You have to scrape this data for first 100 reviews."
   ]
  },
  {
   "cell_type": "code",
   "execution_count": 536,
   "metadata": {},
   "outputs": [],
   "source": [
    "#url\n",
    "driver.get('https://www.flipkart.com/apple-iphone-11-black-64-gb-includes-earpods-power-adapter/p/itm0f37c2240b217?pid=MOBFKCTSVZAXUHGR&lid=LSTMOBFKCTSVZAXUHGREPBFGI&marketplace')"
   ]
  },
  {
   "cell_type": "code",
   "execution_count": 537,
   "metadata": {},
   "outputs": [],
   "source": [
    "# click to open see all reviews 1\n",
    "\n",
    "clickOnSeeAll = driver.find_element_by_xpath('//*[@id=\"container\"]/div/div[3]/div[1]/div[2]/div[9]/div/div/div[5]/div/a')"
   ]
  },
  {
   "cell_type": "code",
   "execution_count": 538,
   "metadata": {},
   "outputs": [],
   "source": [
    "clickOnSeeAll.click()"
   ]
  },
  {
   "cell_type": "code",
   "execution_count": null,
   "metadata": {},
   "outputs": [],
   "source": []
  },
  {
   "cell_type": "markdown",
   "metadata": {},
   "source": [
    "scraping page 1"
   ]
  },
  {
   "cell_type": "code",
   "execution_count": 539,
   "metadata": {},
   "outputs": [
    {
     "data": {
      "text/plain": [
       "['5', '5', '5', '5', '5', '5', '5', '4', '5', '5']"
      ]
     },
     "execution_count": 539,
     "metadata": {},
     "output_type": "execute_result"
    }
   ],
   "source": [
    "#rating scrap\n",
    "rating_Iphone1= driver.find_elements_by_xpath(\"//div[@class='_3LWZlK _1BLPMq']\")\n",
    "\n",
    "# loop out for rating data\n",
    "rating_1 = []\n",
    "\n",
    "for i in rating_Iphone1:\n",
    "    text1=i.text\n",
    "    rating_1.append(text1)\n",
    "rating_1"
   ]
  },
  {
   "cell_type": "code",
   "execution_count": 540,
   "metadata": {},
   "outputs": [
    {
     "data": {
      "text/plain": [
       "['Brilliant',\n",
       " 'Simply awesome',\n",
       " 'Perfect product!',\n",
       " 'Best in the market!',\n",
       " 'Fabulous!',\n",
       " 'Worth every penny',\n",
       " 'Great product',\n",
       " 'Good choice',\n",
       " 'Worth every penny',\n",
       " 'Highly recommended']"
      ]
     },
     "execution_count": 540,
     "metadata": {},
     "output_type": "execute_result"
    }
   ],
   "source": [
    "#Review_summary scrap 1\n",
    "rating_Iphone1= driver.find_elements_by_xpath(\"//p[@class='_2-N8zT']\")\n",
    "\n",
    "# loop out for Review_summary data\n",
    "Review_summary1 = []\n",
    "\n",
    "for i in rating_Iphone1:\n",
    "    text1 = i.text\n",
    "    Review_summary1.append(text1)\n",
    "Review_summary1"
   ]
  },
  {
   "cell_type": "code",
   "execution_count": 541,
   "metadata": {
    "scrolled": true
   },
   "outputs": [
    {
     "data": {
      "text/plain": [
       "['The Best Phone for the Money  The iPhone 11 offers superb cameras, a more durable design and excellent battery life for an affordable price.  Compelling ultra-wide camera New Night mode is excellent Long battery life',\n",
       " 'Really satisfied with the Product I received... It’s totally genuine and the packaging was also really good so if ur planning to buy just go for it.',\n",
       " 'Amazing phone with great cameras and better battery which gives you the best performance. I just love the camera .',\n",
       " 'Great iPhone very snappy experience as apple kind. Upgraded from iPhone 7. Pros -Camera top class - Battery top performed -Chipset no need to say as apple kind -Security as you expect from apple - Display super bright industry leading colour accuracy and super responsive -Build quality as expect from apple sturdy premium durable beautiful stylish. -Os most stable os in smartphone industry  Cons -No 5G -Display is not based on OLED technology -Charger headphones and 1 apple stic... READ MORE',\n",
       " 'This is my first iOS phone. I am very happy with this product. Very much satisfied with this. I love this phone.',\n",
       " 'Previously I was using one plus 3t it was a great phone And then I decided to upgrade I am stuck between Samsung s10 plus or iPhone 11 I have seen the specs and everything were good except the display it’s somewhere between 720-1080 and it’s not even an amoled it’s an LCD display But I decided to go with iPhone because I have never used an IOS device I have Been an android user from the past 9 years I ordered IPhone 11 (128gb) product red My experience after using 3 weeks 1. The delivery ... READ MORE',\n",
       " 'Amazing Powerful and Durable Gadget.  I’m am very happy with the camera picture quality, Amazing face id unlocked in dark room, Strong battery with perfect screen size as you can carry easily in pocket. This is my third iPhone.  I shifted from android Samsung Note series to iPhone because of the strong build quality and peace of mind for next 3-4 years.  Don’t think to much just go for it and I suggest you to go for minimum 128gb variant or more 256gb.  I’ve attached my puppy pics and no fi... READ MORE',\n",
       " 'So far it’s been an AMAZING experience coming back to iOS after nearly a decade but it’s not as versatile as android though phone is sturdy dropped it accidentally a couple of times and nothing happened fortunately camera is awesome',\n",
       " 'i11 is worthy to buy, too much happy with the product. Thank u flipkart I received the item on time..loved it..',\n",
       " 'What a camera .....just awesome ..you can feel this iPhone just awesome . Good for gaming also ...try pubg in hd it’s just wow']"
      ]
     },
     "execution_count": 541,
     "metadata": {},
     "output_type": "execute_result"
    }
   ],
   "source": [
    "#Full review scrap 1\n",
    "Fullreview1= driver.find_elements_by_xpath(\"//div[@class='t-ZTKy']\")\n",
    "\n",
    "# loop out for Full review data\n",
    "Full_reviews1 = []\n",
    "\n",
    "for i in Fullreview1:\n",
    "    text1 = i.text.split('\\n')\n",
    "    text1 = ' '.join(text1[:])\n",
    "    Full_reviews1.append(text1)\n",
    "Full_reviews1"
   ]
  },
  {
   "cell_type": "code",
   "execution_count": null,
   "metadata": {},
   "outputs": [],
   "source": []
  },
  {
   "cell_type": "markdown",
   "metadata": {},
   "source": [
    "scraping page 2"
   ]
  },
  {
   "cell_type": "code",
   "execution_count": 542,
   "metadata": {},
   "outputs": [],
   "source": [
    "# click to open see all reviews 2\n",
    "\n",
    "clickOnSeeAll_2 = driver.find_element_by_xpath('/html/body/div[1]/div/div[3]/div/div/div[2]/div[13]/div/div/nav/a[2]')\n",
    "clickOnSeeAll_2.click()"
   ]
  },
  {
   "cell_type": "code",
   "execution_count": null,
   "metadata": {},
   "outputs": [],
   "source": []
  },
  {
   "cell_type": "code",
   "execution_count": 544,
   "metadata": {},
   "outputs": [
    {
     "data": {
      "text/plain": [
       "['5', '5', '5', '5', '5', '5', '5', '5', '5', '5']"
      ]
     },
     "execution_count": 544,
     "metadata": {},
     "output_type": "execute_result"
    }
   ],
   "source": [
    "#rating scrap 2\n",
    "rating_Iphone2= driver.find_elements_by_xpath(\"//div[@class='_3LWZlK _1BLPMq']\")\n",
    "\n",
    "# loop out for rating 2 data\n",
    "ratings_2 = []\n",
    "\n",
    "for i in rating_Iphone2:\n",
    "    text1=i.text\n",
    "    ratings_2.append(text1)\n",
    "ratings_2"
   ]
  },
  {
   "cell_type": "code",
   "execution_count": 545,
   "metadata": {},
   "outputs": [
    {
     "data": {
      "text/plain": [
       "['Highly recommended',\n",
       " 'Perfect product!',\n",
       " 'Perfect product!',\n",
       " 'Classy product',\n",
       " 'Highly recommended',\n",
       " 'Worth every penny',\n",
       " 'Perfect product!',\n",
       " 'Simply awesome',\n",
       " 'Worth every penny',\n",
       " 'Terrific']"
      ]
     },
     "execution_count": 545,
     "metadata": {},
     "output_type": "execute_result"
    }
   ],
   "source": [
    "#Review_summary scrap 2\n",
    "rating_Iphone2= driver.find_elements_by_xpath(\"//p[@class='_2-N8zT']\")\n",
    "\n",
    "# loop out for Review_summary data\n",
    "Review_summary2 = []\n",
    "\n",
    "for i in rating_Iphone2:\n",
    "    text1 = i.text\n",
    "    Review_summary2.append(text1)\n",
    "Review_summary2"
   ]
  },
  {
   "cell_type": "code",
   "execution_count": 546,
   "metadata": {},
   "outputs": [
    {
     "data": {
      "text/plain": [
       "['iphone 11 is a very good phone to buy only if you can compromise for the display. The display on this is device is pretty good but you can get other options with better displays in this price segment. If you can survive with an HD+ LCD panel with thicker bezels and a notch up top then this is a very good phone for you. Cameras are awesome, battery backup excellent, great performance and a decent premium look. Good job Apple !',\n",
       " 'It’s a must buy who is looking for an upgrade from previous generation of iPhones. If you are using XR then still you can hold on for sometime and upgrade to 2020 model else this phone is a must buy . Camera quality is amazing and wide angle is something to count upon. Performance wise it’s amazing and feels premium while holding in hand. So a big YES for this device. Go for 128 GB variant as the 4K videos will occupy lots of space and the storage can get over very quickly. Try to buy it with... READ MORE',\n",
       " 'Value for money❤️❤️ Its awesome mobile phone in the world ... Display was very good and bright .. Trust me freinds you r never regret after Buying.. Just go for it.... I love this phone and i switch to iphone x to 11',\n",
       " 'Totally in love with this ❤ the camera quality is amazing just love it 😘😘😘 itsss dammnnnnnn amazing... Must buy iPhone 11 this is my best experience ever ☀👌👌🧡🧡🧡🧡🧡 thanku apple ❤',\n",
       " \"It's my first time to use iOS phone and I am loving my upgradation 😍😍 I love the color, I love the assebility of the phone....I need to learn more about its functionality, but as far as I have seen, it's quite easy and it has a lot of functions to work on, specially if you are a content writer or a blogger you get a lot of content creation platforms and they are really amazing.  This phone not only for good quality photography but a lot of other task too.😍💯\",\n",
       " 'Best budget Iphone till date ❤️ go for it guys without second thought. Let me explain you guys about Camera, Display, battery, and performance.  Camera: at this price range there is no comparison of camera, you’ll love the picture quality as well as video quality. I am a Vlogger I wanted an iPhone with 4k video by front camera and I got this phone and I am more than happy 😃  Battery: I use this phone roughly as I am active social media person and I have a youtube channel. so the battery ba... READ MORE',\n",
       " \"Iphone is just awesome.. battery backup is very very nice.. continuously for 10 hours we can use it.camera is just awesome.. display is just fab.i love it alot..i had to wait 15 days for it as i pre ordered it..overalll it's worth the price..these all images are clicked by my iPhone..and i love it.\",\n",
       " 'Excellent camera, good performance, no lag. The lcd display is also good.. but difference come when we watch movie in prime and Netflix, the colours are not vibrant.. as we see in amoled display.. and the charger in box is of 5 watts.. takes more than 3 hours to charge from 0 to 100.. so guys be prepare to buy 18 watts charger . Finally I am an android user, it was my first Iapple phone, I promise u guys the iOS is so smooth.. overall the phone is damn good.... close eyes to buy it.. thanks t... READ MORE',\n",
       " 'It’s been almost a month since I have been using this phone. I upgraded from an iPhone 8. The main issue with my 8 was battery and this phone is just awesome when it comes to battery. It lasts a day and a half for me with my regular use , internet connected always with 4g Can’t move forward without saying this. Battery of this phone is a life saver when I am traveling or at work when I don’t get the option to charge Camera is superb. Front cam selfies and back cam photos are just awesome. ... READ MORE',\n",
       " 'Really worth of money. i just love it. It is the best phone ever.']"
      ]
     },
     "execution_count": 546,
     "metadata": {},
     "output_type": "execute_result"
    }
   ],
   "source": [
    "#Full review scrap 2\n",
    "Fullreview2= driver.find_elements_by_xpath(\"//div[@class='t-ZTKy']\")\n",
    "\n",
    "# loop out for Full review data\n",
    "Full_reviews2 = []\n",
    "\n",
    "for i in Fullreview2:\n",
    "    text1 = i.text.split('\\n')\n",
    "    text1 = ' '.join(text1[:])\n",
    "    Full_reviews2.append(text1)\n",
    "Full_reviews2"
   ]
  },
  {
   "cell_type": "code",
   "execution_count": null,
   "metadata": {},
   "outputs": [],
   "source": []
  },
  {
   "cell_type": "markdown",
   "metadata": {},
   "source": [
    "scraping page 3"
   ]
  },
  {
   "cell_type": "code",
   "execution_count": 547,
   "metadata": {},
   "outputs": [],
   "source": [
    "# click to open see all reviews 3\n",
    "\n",
    "clickOnSeeAll_3 = driver.find_element_by_xpath('//*[@id=\"container\"]/div/div[3]/div/div/div[2]/div[13]/div/div/nav/a[4]')\n",
    "clickOnSeeAll_3.click()"
   ]
  },
  {
   "cell_type": "code",
   "execution_count": null,
   "metadata": {},
   "outputs": [],
   "source": []
  },
  {
   "cell_type": "code",
   "execution_count": 548,
   "metadata": {},
   "outputs": [
    {
     "data": {
      "text/plain": [
       "['5', '5', '4', '5', '5', '5', '5', '4', '5', '5']"
      ]
     },
     "execution_count": 548,
     "metadata": {},
     "output_type": "execute_result"
    }
   ],
   "source": [
    "#rating scrap 3\n",
    "rating_Iphone3= driver.find_elements_by_xpath(\"//div[@class='_3LWZlK _1BLPMq']\")\n",
    "\n",
    "# loop out for rating 3 data\n",
    "ratings_3 = []\n",
    "\n",
    "for i in rating_Iphone3:\n",
    "    text1=i.text\n",
    "    ratings_3.append(text1)\n",
    "ratings_3"
   ]
  },
  {
   "cell_type": "code",
   "execution_count": 549,
   "metadata": {},
   "outputs": [
    {
     "data": {
      "text/plain": [
       "['Worth every penny',\n",
       " 'Wonderful',\n",
       " 'Nice product',\n",
       " 'Perfect product!',\n",
       " 'Classy product',\n",
       " 'Brilliant',\n",
       " 'Must buy!',\n",
       " 'Good choice',\n",
       " 'Wonderful',\n",
       " 'Perfect product!']"
      ]
     },
     "execution_count": 549,
     "metadata": {},
     "output_type": "execute_result"
    }
   ],
   "source": [
    "#Review_summary scrap 3\n",
    "rating_Iphone3= driver.find_elements_by_xpath(\"//p[@class='_2-N8zT']\")\n",
    "\n",
    "# loop out for Review_summary data\n",
    "Review_summary3 = []\n",
    "\n",
    "for i in rating_Iphone3:\n",
    "    text1 = i.text\n",
    "    Review_summary3.append(text1)\n",
    "Review_summary3"
   ]
  },
  {
   "cell_type": "code",
   "execution_count": 550,
   "metadata": {},
   "outputs": [
    {
     "data": {
      "text/plain": [
       "['Smooth like butter, camera like fantabulous, sound is crystal clear & its red color is damn attractive, i am just loving it. Must buy if you love photography.  Lucky to get it in sale, thank you Flipkart.',\n",
       " 'This is my first ever I phone. Before this I was using my google nexus 5. But moving from android to iOS is a great experience. It’s worth at this price. I will highly recommend it if you want to move to iOS. The best part of this phone is it’s camera and it’s battery life. This two things have won my heart. I loved it. Happy to have it in my hand. Still exploring its features. And can’t forget to mention Flipkart service. Very prompt service and fast delivery.',\n",
       " 'Awesome Phone. Slightly high price but worth. Better than iPhone XR. Camera is superb and wide angle camera is very clear. 12MP selfie camera is also very good. A13 Chip gives a very good and smooth performance.',\n",
       " 'Battery backup is extraordinary, camera is decent & performance offered by A13 bionic is awsome. The display is good in practical usage like the visibility of display is very good in direct sun light compare to pro models. Iam extremely satisfied for the money I spent.',\n",
       " 'Superb Product !!! A big and worthy upgrade from mi 3S to iphone 11 . Totally loved it !',\n",
       " 'I have migrated from OP 7pro... and trust me, iPhone 11 is totally worth it.. following are the reasons:- 1)there is ABSOLUTELY NO ISSUE WITH THE DISPLAY... its crisp, sharp and I found it to be much much better than OP7 pro. Netflix, Prime video all run crisply... you won’t miss a thing. True Tone works flawlessly...the display brightness is perfect. OP have not calibrated their screens properly. 2) iPhone 11 series have really good cameras... others have spoken in depth about them. 3) bat... READ MORE',\n",
       " 'It’s an amazing product from apple and the camera is simply superb. Phone is faster.Night shot is simply superb and detailing and colour differentiation from camera is an added advantage  This review I have written from iPhone 11 only and I am glad to say outside.  Cons wise if we see HD+ display only, no battery percentage indicator as in older iPhone 8. No assistive touch control button in it No oleophobic coating on back panel glass and finger prints are visible but since I bought mint gr... READ MORE',\n",
       " 'Looking so good 👍 😍 super 👌 stylish 😎 phone Clean box 📦 good 👍 delivery 👌 fast delivery Original box Original iphone 📱 👌 😍😍😍',\n",
       " 'I just directly switch from iphone 6s to iphone 11 .The best premium smartphone I recommend to everyone. Excellent quality and colors the iphone have in 11 series. Camera quality is just awesome and the major feel when we hold in our hands. The sound quality and volume is also higher then the previous models. I will recommend to buy iphone 11 instead of pro models , there is nothing much difference as this model contains everything which fulfill our needs.  Only one thing that I dislike abo... READ MORE',\n",
       " 'After 1 month use I found camera quality best compared to my previous Samsung note 10+.Display not good as note 10 also charging too slow.Apple should add fast charger like 11 plus and pro.Best phone for daily use']"
      ]
     },
     "execution_count": 550,
     "metadata": {},
     "output_type": "execute_result"
    }
   ],
   "source": [
    "#Full review scrap 3\n",
    "Fullreview3= driver.find_elements_by_xpath(\"//div[@class='t-ZTKy']\")\n",
    "\n",
    "# loop out for Full review data\n",
    "Full_reviews3 = []\n",
    "\n",
    "for i in Fullreview3:\n",
    "    text1 = i.text.split('\\n')\n",
    "    text1 = ' '.join(text1[:])\n",
    "    Full_reviews3.append(text1)\n",
    "Full_reviews3"
   ]
  },
  {
   "cell_type": "code",
   "execution_count": null,
   "metadata": {},
   "outputs": [],
   "source": []
  },
  {
   "cell_type": "markdown",
   "metadata": {},
   "source": [
    "scraping page 4"
   ]
  },
  {
   "cell_type": "code",
   "execution_count": 551,
   "metadata": {},
   "outputs": [],
   "source": [
    "# click to open see all reviews 4\n",
    "\n",
    "clickOnSeeAll_4 = driver.find_element_by_xpath('//*[@id=\"container\"]/div/div[3]/div/div/div[2]/div[13]/div/div/nav/a[5]')\n",
    "clickOnSeeAll_4.click()"
   ]
  },
  {
   "cell_type": "code",
   "execution_count": null,
   "metadata": {},
   "outputs": [],
   "source": []
  },
  {
   "cell_type": "code",
   "execution_count": 552,
   "metadata": {},
   "outputs": [
    {
     "data": {
      "text/plain": [
       "['4.6★',\n",
       " '5',\n",
       " 'Upgraded from iphone 6 to 11 best phone fo',\n",
       " 'Nitin Sharma',\n",
       " '656266',\n",
       " '5',\n",
       " \"It's very high performances devise i am li\",\n",
       " 'iqbal hussain kantewala',\n",
       " '13045',\n",
       " '5',\n",
       " 'Well you all know the specifications . One',\n",
       " 'Asish Babu',\n",
       " '24999',\n",
       " '5',\n",
       " 'This will help you more. See if you are pl',\n",
       " 'Avishek Naha',\n",
       " '13052',\n",
       " '5',\n",
       " 'The built quality is not very premium.',\n",
       " 'Ananya Dhiman',\n",
       " '17274',\n",
       " '5',\n",
       " 'Amazing camera and feel super machine I am',\n",
       " 'Bhupendr Yadav',\n",
       " '10945',\n",
       " '5',\n",
       " 'Really good actually this is my first appl',\n",
       " 'Likhitha Heman',\n",
       " '348255',\n",
       " '4',\n",
       " 'it is very good at performance. Camera is ',\n",
       " 'Aditya Sehrawat',\n",
       " '235276',\n",
       " '1',\n",
       " 'Reviewing again after 5 months. At the beg',\n",
       " 'Arun R',\n",
       " '284421',\n",
       " '5',\n",
       " 'We are on apple ecosystem for almost eight',\n",
       " 'Amit Kulshrestha',\n",
       " '298',\n",
       " '']"
      ]
     },
     "execution_count": 552,
     "metadata": {},
     "output_type": "execute_result"
    }
   ],
   "source": [
    "#rating scrap 4\n",
    "rating_Iphone4= driver.find_elements_by_xpath(\"//*[@class='row']\")\n",
    "# loop out for rating 4 data\n",
    "ratings_4 = []\n",
    "\n",
    "for i in rating_Iphone4:\n",
    "    text1=i.text.split('\\n')[0]\n",
    "    ratings_4.append(text1[0:42])\n",
    "ratings_4"
   ]
  },
  {
   "cell_type": "code",
   "execution_count": 553,
   "metadata": {},
   "outputs": [],
   "source": [
    "#merging data\n",
    "Ratings_scrap_4 = [ratings_4[1],ratings_4[5],ratings_4[9],ratings_4[13],ratings_4[17],ratings_4[21],ratings_4[25],ratings_4[29],ratings_4[33],ratings_4[37]]"
   ]
  },
  {
   "cell_type": "code",
   "execution_count": 554,
   "metadata": {},
   "outputs": [
    {
     "data": {
      "text/plain": [
       "10"
      ]
     },
     "execution_count": 554,
     "metadata": {},
     "output_type": "execute_result"
    }
   ],
   "source": [
    "len(Ratings_scrap_4)"
   ]
  },
  {
   "cell_type": "code",
   "execution_count": 555,
   "metadata": {},
   "outputs": [
    {
     "data": {
      "text/plain": [
       "['Terrific purchase',\n",
       " 'Simply awesome',\n",
       " 'Great product',\n",
       " 'Mind-blowing purchase',\n",
       " 'Terrific purchase',\n",
       " 'Excellent',\n",
       " 'Simply awesome',\n",
       " 'Good quality product',\n",
       " 'Very poor',\n",
       " 'Classy product']"
      ]
     },
     "execution_count": 555,
     "metadata": {},
     "output_type": "execute_result"
    }
   ],
   "source": [
    "#Review_summary scrap 4\n",
    "rating_Iphone4= driver.find_elements_by_xpath(\"//p[@class='_2-N8zT']\")\n",
    "\n",
    "# loop out for Review_summary data\n",
    "Review_summary4 = []\n",
    "\n",
    "for i in rating_Iphone4:\n",
    "    text1 = i.text\n",
    "    Review_summary4.append(text1)\n",
    "Review_summary4"
   ]
  },
  {
   "cell_type": "code",
   "execution_count": 556,
   "metadata": {},
   "outputs": [
    {
     "data": {
      "text/plain": [
       "['Upgraded from iphone 6 to 11 best phone for iphone users battery is much better than other iphones camera is awesome love to use it.camera is so clear in night.',\n",
       " \"It's very high performances devise i am like the service of flipkart delevary very fast and packing very nice perfect phone\",\n",
       " 'Well you all know the specifications . One of a kind. Best iPhone till date. Many enhancements to the camera app with many options. Love the glass body with matte finish in the lens area on the back. Lovely colours to choose from. Best battery in an iPhone till date, enough to last more than a day in normal usage. I tested my iPhone 11 battery and lasted for than 24 hours after full charge still with 30% battery charge left. Watched movies for some time. Normal usage on calls, browsing, musi... READ MORE',\n",
       " 'This will help you more. See if you are planning to buy iPhone 11. I will say. Yes. But there are some plans I just want to disclose before you buy. 1) If you are an existing iPhone X/XS/XS Max/ XR user, better you guys do not think it to buy. You guys have more or less better gadget. 2) If you are an android user and planning to buy premium phone. I will suggest them to please buy iPhone instead of buying an Android. I bet you will never go back to android after using IOS. Now I want to shar... READ MORE',\n",
       " 'The built quality is not very premium. The battery back is great . The LCD panel is not so sharp but the brightness level is very High . Camera is super duper awesome. The red colour which people think is bright is actually very soothing and excellent colour to choose from . The A13 Bionic chip is really a flagship processor and can beat any phone which even has 12 gb ram . Camera module is very great and looks very stylish.',\n",
       " 'Amazing camera and feel super machine I am not describe my feeling but this is amazing Phone I am so lucky I have this',\n",
       " 'Really good actually this is my first apple product am using its really awesome performance wise excellent. Am really happy with this iphone11',\n",
       " 'it is very good at performance. Camera is best like before and very smooth response even in water. Don’t buy 12 mini buy iPhone 11 , it is far better than 12 mini believe me ! Have a nice day \\uf8ff ☺️',\n",
       " 'Reviewing again after 5 months. At the beginning the battery and performance was good but it degraded soon. Also I was facing heating issues. The mobile will heat up like a stove sometimes. You cannot even play Pubg even in low settings properly, performance is not a problem but heating is. Also if you play that game for 10 mins the brightness will be automatically down due to over heating even when the auto brightness is set to off. This will not be solved even if u manually increase the bri... READ MORE',\n",
       " 'We are on apple ecosystem for almost eight years now with couple of iPads and iPhones, including Xr.  Bought iPhone 11 as a gift to my daughter who loves it. We chose for a purple coloured one. Believe me it is gorgeous and towards the lighter shade. Dazzling and brilliant!  The phone is great and does excellent RAM management like any other Apple device.  The screen, though a LCD and lesser ppi as compared to other flagship phones of competitor brands, is a delight to watch with perfect re... READ MORE']"
      ]
     },
     "execution_count": 556,
     "metadata": {},
     "output_type": "execute_result"
    }
   ],
   "source": [
    "#Full review scrap 4\n",
    "Fullreview4= driver.find_elements_by_xpath(\"//div[@class='t-ZTKy']\")\n",
    "\n",
    "# loop out for Full review data\n",
    "Full_reviews4 = []\n",
    "\n",
    "for i in Fullreview4:\n",
    "    text1 = i.text.split('\\n')\n",
    "    text1 = ' '.join(text1[:])\n",
    "    Full_reviews4.append(text1)\n",
    "Full_reviews4"
   ]
  },
  {
   "cell_type": "code",
   "execution_count": null,
   "metadata": {},
   "outputs": [],
   "source": []
  },
  {
   "cell_type": "markdown",
   "metadata": {},
   "source": [
    "scraping page 5"
   ]
  },
  {
   "cell_type": "code",
   "execution_count": 558,
   "metadata": {},
   "outputs": [],
   "source": [
    "# click to open see all reviews 5\n",
    "\n",
    "clickOnSeeAll_5 = driver.find_element_by_xpath('//*[@id=\"container\"]/div/div[3]/div/div/div[2]/div[13]/div/div/nav/a[6]')\n",
    "clickOnSeeAll_5.click()"
   ]
  },
  {
   "cell_type": "code",
   "execution_count": null,
   "metadata": {},
   "outputs": [],
   "source": []
  },
  {
   "cell_type": "code",
   "execution_count": 559,
   "metadata": {},
   "outputs": [
    {
     "data": {
      "text/plain": [
       "['5', '5', '5', '5', '5', '5', '5', '4', '5', '5']"
      ]
     },
     "execution_count": 559,
     "metadata": {},
     "output_type": "execute_result"
    }
   ],
   "source": [
    "#rating scrap 5\n",
    "rating_Iphone5= driver.find_elements_by_xpath(\"//div[@class='_3LWZlK _1BLPMq']\")\n",
    "\n",
    "# loop out for rating 5 data\n",
    "ratings_5 = []\n",
    "\n",
    "for i in rating_Iphone5:\n",
    "    text1=i.text\n",
    "    ratings_5.append(text1)\n",
    "ratings_5"
   ]
  },
  {
   "cell_type": "code",
   "execution_count": 560,
   "metadata": {},
   "outputs": [
    {
     "data": {
      "text/plain": [
       "10"
      ]
     },
     "execution_count": 560,
     "metadata": {},
     "output_type": "execute_result"
    }
   ],
   "source": [
    "len(ratings_5)"
   ]
  },
  {
   "cell_type": "code",
   "execution_count": 561,
   "metadata": {},
   "outputs": [
    {
     "data": {
      "text/plain": [
       "['Perfect product!',\n",
       " 'Must buy!',\n",
       " 'Fabulous!',\n",
       " 'Mind-blowing purchase',\n",
       " 'Mind-blowing purchase',\n",
       " 'Wonderful',\n",
       " 'Great product',\n",
       " 'Very Good',\n",
       " 'Classy product',\n",
       " 'Perfect product!']"
      ]
     },
     "execution_count": 561,
     "metadata": {},
     "output_type": "execute_result"
    }
   ],
   "source": [
    "#Review_summary scrap 5\n",
    "rating_Iphone5= driver.find_elements_by_xpath(\"//p[@class='_2-N8zT']\")\n",
    "\n",
    "# loop out for Review_summary data\n",
    "Review_summary5 = []\n",
    "\n",
    "for i in rating_Iphone5:\n",
    "    text1 = i.text\n",
    "    Review_summary5.append(text1)\n",
    "Review_summary5"
   ]
  },
  {
   "cell_type": "code",
   "execution_count": 562,
   "metadata": {},
   "outputs": [
    {
     "data": {
      "text/plain": [
       "['It is just awesome mobile for this price from Apple,  After 10 days review  Battery enough for 1 day even 24*7 Internet will be on and mostly internet usage  Camera is just awesome cool , android 64 MP is equal to this just 12 MP  A13 Bionic chip will give more high performance without hanging  Audio stereo speakers will give Dolby atoms sound with crystal clear  Video recording is like cinematic shots of every sec can be a 4K 60fps. Just awesome this phone iPhone 11 loved one',\n",
       " 'Best Apple iPhone that i have bought at a very reasonable price, camera quality is next level just awesome n of superior quality android phones not even close(RIP) to that and also battery is really good but packaging by Flipkart of iPhone was very poor of such a expensive product, firstly im bit worried about the quality of product if i purchased it through online how was the product but i think now this was mine best decision to bought it through Flipkart online because i got genuine Apple... READ MORE',\n",
       " \"I can say I'm damn impressed with iPhone 11. As they says iPhone 11 have the toughest glass ever in the smartphone which you'll find on the front and back and it's totally smooth. The fit and finish is full apple quality - there's no sense that any cheaping out has happened in the construction. Without saying it's camera features this review won't complete. The iPhone 11 has a dual camera system, consisting of a wide angle len's that's pretty much same as found on the iPhone XR last year, but... READ MORE\",\n",
       " 'Best Quality Product OF iPhone Series , Sound Quality & Camera quality is very awesome, Battery Life is very Sufficient for 24 hr Backup With Full Internet Access , I love this this Product too much , It is very fast & making me Very fast in all my daily Routine Highlights; 1.Camera: 5 STAR 2.Video Recording: 5 star 3.Night mODE sHOOTING & Camera:4 star 4. Audio Quality: Awesome 5. Battery : 5 Star 6. Touch:5 Star 7. Processor: Very Fast The M... READ MORE',\n",
       " 'First thanks to Flipkart for this amazing deal and phone is outstanding. I upgraded from iPhone 7 and this is like very big upgrade. But the packaging was very basic I expected a good packaging as they only wrapped one layer of bubble wrap which I don’t think is enough to protect this expensive phone. And I recommend this phone and seller as well.  And I’m posting this review after using it for 4 days.',\n",
       " 'Superfast delivery by Flipkart. Thanks.  1. iPhone 11 is a pretty solid phone for the money you are paying. 2. All the bad reviews about the display is confusing. It’s not that bad. 3. I switched from a Oneplus 7t. I have no complaints about the display quality of iPhone. Yes, it’s not OLED, so, we are missing on the deep blacks. But that’s it. It is a very colour accurate display. Gets adequately bright and I could not find any pixelation. 4. Performance is one of the best, if not best, in ... READ MORE',\n",
       " \"Again back to apple iphone after a gap of 2-3 years. It's pleasure to use iOS and the quality product by Apple. Iphone 11 still works like a beast in 2021 also. It really capable of doing day to day usage as well as hard core gaming. Battery is awesome. I'm really too much satisfied with it. Apart fto the very gorgious IPS LCD (AMOLED will be better) everything is mind boggling. Iphone💕.\",\n",
       " 'impressive super phone and best in class camera ,sound and face unlock is super fast just see and phone is unlock and fast in daily apps use',\n",
       " 'Well while switching from android to iOS the first thing you need to be careful about is that you will loose all your whatsapp chat backups as both are different operating systems. Camera clarity is awesome and though being an lcd screen clarity and resolution is good. Battery backup is also good unlike previous gen iPhone. So far the experience is good will Padre after a few months of usage.  P.S the black is more of a dark grey shade and not jet black',\n",
       " 'In love with this iphone great performance,camera ,battery everything. Go for it have a uncompareble battery backup, no doubts in iPhone camera here You can see the picture which is shot on my iPhone In love with this iphone great performance,camera ,battery everything. Go for it have a uncompareble battery backup, no doubts in iPhone camera here You can see the picture which is shot on my iPhone In love with this iphone great performance,camera ,battery everything. Go for it have a uncompare... READ MORE']"
      ]
     },
     "execution_count": 562,
     "metadata": {},
     "output_type": "execute_result"
    }
   ],
   "source": [
    "#Full review scrap 5\n",
    "Fullreview5= driver.find_elements_by_xpath(\"//div[@class='t-ZTKy']\")\n",
    "\n",
    "# loop out for Full review data\n",
    "Full_reviews5 = []\n",
    "\n",
    "for i in Fullreview5:\n",
    "    text1 = i.text.split('\\n')\n",
    "    text1 = ' '.join(text1[:])\n",
    "    Full_reviews5.append(text1)\n",
    "Full_reviews5"
   ]
  },
  {
   "cell_type": "code",
   "execution_count": null,
   "metadata": {},
   "outputs": [],
   "source": []
  },
  {
   "cell_type": "markdown",
   "metadata": {},
   "source": [
    "scraping page 6"
   ]
  },
  {
   "cell_type": "code",
   "execution_count": 563,
   "metadata": {},
   "outputs": [],
   "source": [
    "# click to open see all reviews 6\n",
    "\n",
    "clickOnSeeAll_6 = driver.find_element_by_xpath('//*[@id=\"container\"]/div/div[3]/div/div/div[2]/div[13]/div/div/nav/a[7]')\n",
    "clickOnSeeAll_6.click()"
   ]
  },
  {
   "cell_type": "code",
   "execution_count": null,
   "metadata": {},
   "outputs": [],
   "source": []
  },
  {
   "cell_type": "code",
   "execution_count": 564,
   "metadata": {},
   "outputs": [
    {
     "data": {
      "text/plain": [
       "['5', '5', '4', '5', '5', '5', '5', '5', '5', '5']"
      ]
     },
     "execution_count": 564,
     "metadata": {},
     "output_type": "execute_result"
    }
   ],
   "source": [
    "#rating scrap 6\n",
    "rating_Iphone6= driver.find_elements_by_xpath(\"//div[@class='_3LWZlK _1BLPMq']\")\n",
    "\n",
    "# loop out for rating 6 data\n",
    "ratings_6 = []\n",
    "\n",
    "for i in rating_Iphone6:\n",
    "    text1=i.text\n",
    "    ratings_6.append(text1)\n",
    "ratings_6"
   ]
  },
  {
   "cell_type": "code",
   "execution_count": 565,
   "metadata": {},
   "outputs": [
    {
     "data": {
      "text/plain": [
       "['Just wow!',\n",
       " 'Awesome',\n",
       " 'Pretty good',\n",
       " 'Terrific purchase',\n",
       " 'Awesome',\n",
       " 'Classy product',\n",
       " 'Brilliant',\n",
       " 'Terrific',\n",
       " 'Perfect product!',\n",
       " 'Awesome']"
      ]
     },
     "execution_count": 565,
     "metadata": {},
     "output_type": "execute_result"
    }
   ],
   "source": [
    "#Review_summary scrap 6\n",
    "rating_Iphone6= driver.find_elements_by_xpath(\"//p[@class='_2-N8zT']\")\n",
    "\n",
    "# loop out for Review_summary data\n",
    "Review_summary6 = []\n",
    "\n",
    "for i in rating_Iphone6:\n",
    "    text1 = i.text\n",
    "    Review_summary6.append(text1)\n",
    "Review_summary6"
   ]
  },
  {
   "cell_type": "code",
   "execution_count": 566,
   "metadata": {},
   "outputs": [
    {
     "data": {
      "text/plain": [
       "['Best in class. Battery backup is good especially when you play games like Pubg COD. But it is sort of heavy when you hold in hands. Portrait mode is best to click pictures. Stage light effect is awesome. Try to click photos outside in nature because photos inside home or room will not give you the quality in any phone even in DSLR.',\n",
       " 'Very excited to have this phone. This phone has the real power unlike the android phones having SD 855 . The battery life is very good and the camera quality is excellent as comapred to redmi and other phones except google pixel. I M enjoying every single bit of it. Would recommed only if you have the budget.',\n",
       " 'I was using Iphone 6s and also Oneplus 6t. Both mobiles were perfectly alright in Photos, gaming, and smooth interface . My 6s mobile getting battery issue. thought upgrade to 11. Really like this mobile of its Internal storage (compare to 6s) , camera and its touch feeling. Its a worth buying mobile for me.',\n",
       " 'Its Very awesome product working and good camera quality and all about best product and also flipkart is very great deal and offer nice price',\n",
       " 'I am using this phone for 5 days and its one of the best camera out there ❤️ the screen is not oled and i am coming from iphone xs so its little bit not up to the mark i would say But overall value for money💕😍the battery back up is far better than my iphone xs and its worth in my apple ecosystem💫❤️if u are an apple User and have the eco system then go for it❤️though i will be getting the new iphone but its pretty good💫',\n",
       " 'Best and amazing product.....phone looks so premium.... battary is also good as expected .... Wide angle camera is so addictive ...if you are a IOS lover....then this phone will be the best choice for you all!!💯🔥',\n",
       " 'Excellent camera and display touching very nice and smooth very improvement against iPhone XR and new processor is very fast',\n",
       " \"I got this beast today. And I must say the picture quality of its camera is awesome. Both the cameras works fine.  As for as the processing is concerned, it runs without any lag. You can play and do whatever you want without a glitch.  The battery runs for a day with medium and high workload.  The display is good and the speakers are working fine.  The earphones doesn't have any base and you can use it for calling mostly.  The charging time is approximately for 90 minutes for full charging... READ MORE\",\n",
       " 'Awesome purchase. Amazing phone with good battery backup. It’s a top notch device. White colour looks amazing. Phone has a few extra feature than iPhone XR. Overall, this is value for money',\n",
       " 'Always love the apple products, upgraded from old iPhone 6S plus to this after having my first baby. I just love to click baby’s photos with it. Overall I just love this phone. Battery back up is okay, sound quality is good. Haven’t tested yet waterproof yet. Only one thing I hate is apple could have given charger & headphones in box.']"
      ]
     },
     "execution_count": 566,
     "metadata": {},
     "output_type": "execute_result"
    }
   ],
   "source": [
    "#Full review scrap 6\n",
    "Fullreview6= driver.find_elements_by_xpath(\"//div[@class='t-ZTKy']\")\n",
    "\n",
    "# loop out for Full review data\n",
    "Full_reviews6 = []\n",
    "\n",
    "for i in Fullreview6:\n",
    "    text1 = i.text.split('\\n')\n",
    "    text1 = ' '.join(text1[:])\n",
    "    Full_reviews6.append(text1)\n",
    "Full_reviews6"
   ]
  },
  {
   "cell_type": "code",
   "execution_count": null,
   "metadata": {},
   "outputs": [],
   "source": []
  },
  {
   "cell_type": "markdown",
   "metadata": {},
   "source": [
    "scraping page 7"
   ]
  },
  {
   "cell_type": "code",
   "execution_count": 567,
   "metadata": {},
   "outputs": [],
   "source": [
    "# click to open see all reviews 7\n",
    "\n",
    "clickOnSeeAll_7 = driver.find_element_by_xpath('//*[@id=\"container\"]/div/div[3]/div/div/div[2]/div[13]/div/div/nav/a[7]')\n",
    "clickOnSeeAll_7.click()"
   ]
  },
  {
   "cell_type": "code",
   "execution_count": null,
   "metadata": {},
   "outputs": [],
   "source": []
  },
  {
   "cell_type": "code",
   "execution_count": 568,
   "metadata": {
    "scrolled": true
   },
   "outputs": [
    {
     "data": {
      "text/plain": [
       "['4.6★',\n",
       " '5',\n",
       " 'Value for money',\n",
       " 'Chirag Rajput',\n",
       " '362',\n",
       " '1',\n",
       " 'Please DONT buy from here,',\n",
       " 'Flipkart Customer',\n",
       " '4113',\n",
       " '5',\n",
       " 'awesome phone to have. it has got many sma',\n",
       " 'Jay Pandya',\n",
       " '9224',\n",
       " '5',\n",
       " 'Its a fabulous mobile look awesome perform',\n",
       " 'prem patel',\n",
       " '6414',\n",
       " '5',\n",
       " 'Dear friends... I want to share my experie',\n",
       " 'Mahaveer Swami',\n",
       " '5337',\n",
       " '4',\n",
       " 'Just got this iphone 11',\n",
       " 'Barinder Singh Jandu',\n",
       " '444',\n",
       " '5',\n",
       " 'The best all rounder iphone. Flipkart is d',\n",
       " 'Flipkart Customer',\n",
       " '207',\n",
       " '5',\n",
       " 'Amazing phone and on great deal I received',\n",
       " 'Alok Singh',\n",
       " '405',\n",
       " '5',\n",
       " 'finally an iPhone with very nice battery b',\n",
       " 'Durgesh Kumar',\n",
       " '4119',\n",
       " '4',\n",
       " \"I'm switching this phone to oppo reno 10x \",\n",
       " 'Rahul Dewangan',\n",
       " '317',\n",
       " '']"
      ]
     },
     "execution_count": 568,
     "metadata": {},
     "output_type": "execute_result"
    }
   ],
   "source": [
    "#rating scrap 7\n",
    "rating_Iphone7= driver.find_elements_by_xpath(\"//*[@class='row']\")\n",
    "\n",
    "# loop out for rating 7 data\n",
    "ratings_7 = []\n",
    "\n",
    "for i in rating_Iphone7:\n",
    "    text1=i.text.split('\\n')[0]\n",
    "    ratings_7.append(text1[0:42])\n",
    "ratings_7"
   ]
  },
  {
   "cell_type": "code",
   "execution_count": 569,
   "metadata": {},
   "outputs": [],
   "source": [
    "#Merging data\n",
    "Ratings_7_scrap = [ratings_7[1],ratings_7[5],ratings_7[9],ratings_7[13],ratings_7[17],ratings_7[21],ratings_7[25],ratings_7[29],ratings_7[33],ratings_7[37]]"
   ]
  },
  {
   "cell_type": "code",
   "execution_count": 570,
   "metadata": {},
   "outputs": [
    {
     "data": {
      "text/plain": [
       "10"
      ]
     },
     "execution_count": 570,
     "metadata": {},
     "output_type": "execute_result"
    }
   ],
   "source": [
    "len(Ratings_7_scrap)"
   ]
  },
  {
   "cell_type": "code",
   "execution_count": 571,
   "metadata": {},
   "outputs": [
    {
     "data": {
      "text/plain": [
       "['Perfect product!',\n",
       " 'Very poor',\n",
       " 'Fabulous!',\n",
       " 'Excellent',\n",
       " 'Must buy!',\n",
       " 'Value-for-money',\n",
       " 'Best in the market!',\n",
       " 'Brilliant',\n",
       " 'Terrific purchase',\n",
       " 'Good quality product']"
      ]
     },
     "execution_count": 571,
     "metadata": {},
     "output_type": "execute_result"
    }
   ],
   "source": [
    "#Review_summary scrap 7\n",
    "rating_Iphone7= driver.find_elements_by_xpath(\"//p[@class='_2-N8zT']\")\n",
    "\n",
    "# loop out for Review_summary data\n",
    "Review_summary7 = []\n",
    "\n",
    "for i in rating_Iphone7:\n",
    "    text1 = i.text\n",
    "    Review_summary7.append(text1)\n",
    "Review_summary7"
   ]
  },
  {
   "cell_type": "code",
   "execution_count": 576,
   "metadata": {},
   "outputs": [
    {
     "data": {
      "text/plain": [
       "['Value for money 5 star rating Excellent camera Battery backup full day in single charge.  Tougher and water resistant design, glossy back. The screen has excellent brightness and contrast. Apple A13 Bionic is the fastest smartphone chip on the planet. Excellent battery life, fast charging support. Stereo speakers with great quality.',\n",
       " 'Please DONT buy from here,  I purchased Apple iPhone 11. with an exchange of IPhone 7, the exchange did not go well, iPhone 7 had a small scratch out side screen which i could never identify till date, but the FLIPKART person could, so he reduced 50% from exchange rate. I decided not to trade in, but paid money.  iPhone 11 Detail Below --------------------------------------------- It came with no charging, then i have put for charging, it took lot of time for charging, the phone also showe... READ MORE',\n",
       " 'awesome phone to have. it has got many smart features apart from mind blowing looks, camera, display, battery and sound. have fallen in love with this phone. must buy phone if you have got enough money. thanks to flipkart and apple of course..',\n",
       " 'Its a fabulous mobile look awesome performance unbeaten camera like dslr battery good i think this is a beast of mobile',\n",
       " 'Dear friends... I want to share my experience with you about this amazing I phone 11....this is my first iPhone and special things about this mobile is it has great camera, battery backup and awesome display.... I mean everything is perfect.loved it 👍👍👍',\n",
       " \"Just got this iphone 11 And it is most powerful mobile phone I have used ever  So,go for it if you want a phone with best specification like camera,battery backup,display, A13 bionic chip  That's my review about this phone but yours can be differ from me....\",\n",
       " \"The best all rounder iphone. Flipkart is doing a great job. They're delivery services are blazing fast. I got delivery on the same day. Genuine Apple Product. Working great. Talking about review There's no need of review for iphones. They're simply the best.\",\n",
       " 'Amazing phone and on great deal I received with super fast delivery by Flipkart...',\n",
       " 'finally an iPhone with very nice battery backup. update from iPhone 7 and happy to have it. camera is not up to the mark in low light but overall a recommended phone if your budget allows 😀',\n",
       " \"I'm switching this phone to oppo reno 10x zoom It's really impressive Rarely I'm missing smooth display touch response like oppo reno but I really loved it. Camera really impressive\"]"
      ]
     },
     "execution_count": 576,
     "metadata": {},
     "output_type": "execute_result"
    }
   ],
   "source": [
    "#Full review scrap 7\n",
    "Fullreview7= driver.find_elements_by_xpath(\"//div[@class='t-ZTKy']\")\n",
    "\n",
    "# loop out for Full review data\n",
    "Full_reviews7 = []\n",
    "\n",
    "for i in Fullreview7:\n",
    "    text1 = i.text.split('\\n')\n",
    "    text1 = ' '.join(text1[:])\n",
    "    Full_reviews7.append(text1)\n",
    "Full_reviews7"
   ]
  },
  {
   "cell_type": "code",
   "execution_count": null,
   "metadata": {},
   "outputs": [],
   "source": []
  },
  {
   "cell_type": "markdown",
   "metadata": {},
   "source": [
    "scraping page 8"
   ]
  },
  {
   "cell_type": "code",
   "execution_count": 577,
   "metadata": {},
   "outputs": [],
   "source": [
    "# click to open see all reviews 8\n",
    "\n",
    "clickOnSeeAll_8 = driver.find_element_by_xpath('//*[@id=\"container\"]/div/div[3]/div/div/div[2]/div[13]/div/div/nav/a[7]')\n",
    "clickOnSeeAll_8.click()"
   ]
  },
  {
   "cell_type": "code",
   "execution_count": null,
   "metadata": {},
   "outputs": [],
   "source": []
  },
  {
   "cell_type": "code",
   "execution_count": 578,
   "metadata": {},
   "outputs": [
    {
     "data": {
      "text/plain": [
       "['5', '5', '5', '4', '5', '5', '5', '5', '5', '5']"
      ]
     },
     "execution_count": 578,
     "metadata": {},
     "output_type": "execute_result"
    }
   ],
   "source": [
    "#rating scrap 8\n",
    "rating_Iphone8= driver.find_elements_by_xpath(\"//div[@class='_3LWZlK _1BLPMq']\")\n",
    "\n",
    "# loop out for rating 8 data\n",
    "ratings_8 = []\n",
    "\n",
    "for i in rating_Iphone8:\n",
    "    text1=i.text\n",
    "    ratings_8.append(text1)\n",
    "ratings_8"
   ]
  },
  {
   "cell_type": "code",
   "execution_count": 579,
   "metadata": {},
   "outputs": [
    {
     "data": {
      "text/plain": [
       "['Best in the market!',\n",
       " 'Perfect product!',\n",
       " 'Awesome',\n",
       " 'Value-for-money',\n",
       " 'Just wow!',\n",
       " 'Super!',\n",
       " 'Classy product',\n",
       " 'Must buy!',\n",
       " 'Highly recommended',\n",
       " 'Excellent']"
      ]
     },
     "execution_count": 579,
     "metadata": {},
     "output_type": "execute_result"
    }
   ],
   "source": [
    "#Review_summary scrap 8\n",
    "rating_Iphone8= driver.find_elements_by_xpath(\"//p[@class='_2-N8zT']\")\n",
    "\n",
    "# loop out for Review_summary data\n",
    "Review_summary8 = []\n",
    "\n",
    "for i in rating_Iphone8:\n",
    "    text1 = i.text\n",
    "    Review_summary8.append(text1)\n",
    "Review_summary8"
   ]
  },
  {
   "cell_type": "code",
   "execution_count": 580,
   "metadata": {},
   "outputs": [
    {
     "data": {
      "text/plain": [
       "['Damn this phone is a blast . Upgraded from android to ios and is a duperb experience. Battery backup is top notch and display also pretty good',\n",
       " 'Worth the money’ starting first from its performance it beats out all phones , second the smoothness of camera is awesome, contrast ratio is much than expected. Price will not matter if u r a quality person, if not other phones are available with better discount',\n",
       " 'I dreamt about this day from a long time.... Getting an iPhone with my own money.... Super happy and worth spending every penny',\n",
       " \"I'm Really happy with the product Delivery was fast as well ..it was a gift for my sister and she loved it so much.\",\n",
       " 'Great iphone. I am writing this review after 2 months of usage. Camera is excellent, especially the nightmode Display perfect Battery backup awesome Sound quality very good Overall Apple gives you a perfect iphone in this range. Really in love with iPhone 11',\n",
       " 'Did an upgrade from 6s plus to iphone 11. Ao far the experience is well and good. Felt smoother than 6s plus. The camera quality is superb. Battery backup is descent. Not a heavy user, and gets power more than a day. Go for it if you need an alrounder iphone in a competitve price.',\n",
       " 'Gifted my man on his 30th birthday 🎂 He loves it.. Him happy so i am more than happy 😍😘❤️🥰',\n",
       " 'I rate this product 5* as it has got amazing user experience with the best performing A13 bionic processor. The screen responds and graphics rendering is top notch. With casual gaming and internet browsing, the battery lasts for approx. 1 day. Camera is very good. You will fall in love with the portrait mode. You can call me a loyal Apple customer or whatever but I won’t stop praising the products and overall experience. That user experience matters and is worth every penny you pay.  Below ar... READ MORE',\n",
       " 'Thanks Flipkart For this amazing deal! I had a dream of owning a iphone since i had known about. Im very happy with my purchase & it is totally worth it. Amazing experience all over !!  Anyone who’s thinking of buying it in 2021, i would simply say go for it without any second thoughts ❤️',\n",
       " \"It was amazing experience for me. Honestly i am using iPhone first time so I don't have that much past experience about that. But after using 7 days this mobile i want to give some honest feedback. 1- Display 9 out of 10 2- Camera 9.5 out of 10 3- Battery 7 out of 10 4- Performance 9.5 out of 10 5- Features & Functions 10 out of 10 6- Outer looks and colour 10 out of 10 Rest i think i will understand after using this for few months. I will highly recommend you guys if you have budget then you... READ MORE\"]"
      ]
     },
     "execution_count": 580,
     "metadata": {},
     "output_type": "execute_result"
    }
   ],
   "source": [
    "#Full review scrap 8\n",
    "Fullreview8= driver.find_elements_by_xpath(\"//div[@class='t-ZTKy']\")\n",
    "\n",
    "# loop out for Full review data\n",
    "Full_reviews8 = []\n",
    "\n",
    "for i in Fullreview8:\n",
    "    text1 = i.text.split('\\n')\n",
    "    text1 = ' '.join(text1[:])\n",
    "    Full_reviews8.append(text1)\n",
    "Full_reviews8"
   ]
  },
  {
   "cell_type": "code",
   "execution_count": null,
   "metadata": {},
   "outputs": [],
   "source": []
  },
  {
   "cell_type": "markdown",
   "metadata": {},
   "source": [
    "scraping page 9"
   ]
  },
  {
   "cell_type": "code",
   "execution_count": 581,
   "metadata": {},
   "outputs": [],
   "source": [
    "# click to open see all reviews 9\n",
    "\n",
    "clickOnSeeAll_9 = driver.find_element_by_xpath('//*[@id=\"container\"]/div/div[3]/div/div/div[2]/div[13]/div/div/nav/a[7]')\n",
    "clickOnSeeAll_9.click()"
   ]
  },
  {
   "cell_type": "code",
   "execution_count": null,
   "metadata": {},
   "outputs": [],
   "source": []
  },
  {
   "cell_type": "code",
   "execution_count": 582,
   "metadata": {},
   "outputs": [
    {
     "data": {
      "text/plain": [
       "['4', '5', '5', '5', '5', '4', '5', '5', '5', '5']"
      ]
     },
     "execution_count": 582,
     "metadata": {},
     "output_type": "execute_result"
    }
   ],
   "source": [
    "#rating scrap 9\n",
    "rating_Iphone9= driver.find_elements_by_xpath(\"//div[@class='_3LWZlK _1BLPMq']\")\n",
    "\n",
    "# loop out for rating 9 data\n",
    "ratings_9 = []\n",
    "\n",
    "for i in rating_Iphone9:\n",
    "    text1=i.text\n",
    "    ratings_9.append(text1)\n",
    "ratings_9"
   ]
  },
  {
   "cell_type": "code",
   "execution_count": 583,
   "metadata": {},
   "outputs": [
    {
     "data": {
      "text/plain": [
       "['Nice product',\n",
       " 'Mind-blowing purchase',\n",
       " 'Terrific',\n",
       " 'Excellent',\n",
       " 'Mind-blowing purchase',\n",
       " 'Pretty good',\n",
       " 'Fabulous!',\n",
       " 'Wonderful',\n",
       " 'Wonderful',\n",
       " 'Worth every penny']"
      ]
     },
     "execution_count": 583,
     "metadata": {},
     "output_type": "execute_result"
    }
   ],
   "source": [
    "#Review_summary scrap 9\n",
    "rating_Iphone9= driver.find_elements_by_xpath(\"//p[@class='_2-N8zT']\")\n",
    "\n",
    "# loop out for Review_summary data\n",
    "Review_summary9 = []\n",
    "\n",
    "for i in rating_Iphone9:\n",
    "    text1 = i.text\n",
    "    Review_summary9.append(text1)\n",
    "Review_summary9"
   ]
  },
  {
   "cell_type": "code",
   "execution_count": 584,
   "metadata": {},
   "outputs": [
    {
     "data": {
      "text/plain": [
       "[\"If you are looking for a premium phone under 55k, this is the one for you.Got the iPhone 11 during the Republic day sale. Performance is top notch in this price range. Camera's do a perfect job in taking good quality photos and videos. Battery backup too is satisfactory. Writing this review after using for a week. Any further observations would be updated.\",\n",
       " 'awesome Phone Smooth Touch Too good Sexyy looks one word Awesome',\n",
       " 'I bought iPhone 11 On March 2021, And I am Writing this review after using the phone for 4 Months. I would Say Everything is fine, Top Performance, Nice Camera as Anyone would Expect from any series of iPhone but when the Question comes to Battery it is complicated. The Battery is fully optimised and it comes 3110 mAh capacity but the problem is with the charger. Honestly Apple Removed charger from in Box items in the name of Environment and they are also forcing us to buy any 20W PD 3rd part... READ MORE',\n",
       " \"Just go for it. This phone is really amazing. I ordered it for my wife and we click photos on this thing which are better than dslr. I own OnePlus 6t but it's camera sucks. iPhone is really amazing when it comes to camera. It's worth spending 50k on this. Cons- only display is lcd. While using u don't feel it but if u compare with other phone then u can see difference quite easily. Changing from Android to iphone is bit difficult coz most of things u don't know but I liked it. Some of the a... READ MORE\",\n",
       " 'Absolutely powerful gadget. Loved it’s look! Soo glassy and classy. I would definitely recommend this model of Apple. Only disappointed with the 5W charger, one should purchase an 18W adapter for fast charging. Though battery backup is great. Bought it in September 2020, reviewing after so long so I’m gonna put the genuine review here.✅',\n",
       " \"I've used this phone for over a month now and here are my takeaways. I would like to first talk about the best things about this phone and then the cons of it.  Pros: This phone is a performance beast. It handles large games and applications effortlessly and you won't find any stutters or lags while playing graphic intensive games like pubg, cod , mortal kombat and asphalt.  This phone has only 4gb ram and yet the ram management is amazing, it can keep 3 heavy games in memory without reload... READ MORE\",\n",
       " 'Everything is perfect pictures come out so clearly and at first I wasn’t sure when I got it then when I started to use it and get the hang of it it was amazing!! I can’t wait to see what the next future phones will be like. The screen display on this bad boy are unbelievable they are so clear and never fail me. The performance is super cool there is a lot of cool features as well I like this phone because I feel that it is easy to use and one of my favorite things about this phone is the Face... READ MORE',\n",
       " 'Super and marvellous phone look very cute and nice sound. I love this phone i think white is good colur.Excellent camer 5*😍😘♥️♥️',\n",
       " 'Nice value for money good and best price I phone mind blowing camera processor very fast other android mobile I am happy India top selling phone 2020',\n",
       " 'Undoubtedly Iphone 11 is the most successful model till now and its performance is extraordinary and the security features are very impressive, display is more vibrant sound quality Camera Quality 5*****, but Iphone should add accessories too and act like scrooge.']"
      ]
     },
     "execution_count": 584,
     "metadata": {},
     "output_type": "execute_result"
    }
   ],
   "source": [
    "#Full review scrap 9\n",
    "Fullreview9= driver.find_elements_by_xpath(\"//div[@class='t-ZTKy']\")\n",
    "\n",
    "# loop out for Full review data\n",
    "Full_reviews9 = []\n",
    "\n",
    "for i in Fullreview9:\n",
    "    text1 = i.text.split('\\n')\n",
    "    text1 = ' '.join(text1[:])\n",
    "    Full_reviews9.append(text1)\n",
    "Full_reviews9"
   ]
  },
  {
   "cell_type": "code",
   "execution_count": null,
   "metadata": {},
   "outputs": [],
   "source": []
  },
  {
   "cell_type": "markdown",
   "metadata": {},
   "source": [
    "scraping page 10"
   ]
  },
  {
   "cell_type": "code",
   "execution_count": 585,
   "metadata": {},
   "outputs": [],
   "source": [
    "# click to open see all reviews 10\n",
    "\n",
    "clickOnSeeAll_10 = driver.find_element_by_xpath('//*[@id=\"container\"]/div/div[3]/div/div/div[2]/div[13]/div/div/nav/a[7]')\n",
    "clickOnSeeAll_10.click()"
   ]
  },
  {
   "cell_type": "code",
   "execution_count": null,
   "metadata": {},
   "outputs": [],
   "source": []
  },
  {
   "cell_type": "code",
   "execution_count": 586,
   "metadata": {},
   "outputs": [
    {
     "data": {
      "text/plain": [
       "['5', '5', '5', '5', '5', '5', '5', '3', '5', '5']"
      ]
     },
     "execution_count": 586,
     "metadata": {},
     "output_type": "execute_result"
    }
   ],
   "source": [
    "#rating scrap 10\n",
    "rating_Iphone10= driver.find_elements_by_xpath(\"//div[@class='_3LWZlK _1BLPMq']\")\n",
    "\n",
    "# loop out for rating 10 data\n",
    "ratings_10 = []\n",
    "\n",
    "for i in rating_Iphone10:\n",
    "    text1=i.text\n",
    "    ratings_10.append(text1)\n",
    "ratings_10"
   ]
  },
  {
   "cell_type": "code",
   "execution_count": 587,
   "metadata": {},
   "outputs": [
    {
     "data": {
      "text/plain": [
       "['Fabulous!',\n",
       " 'Mind-blowing purchase',\n",
       " 'Excellent',\n",
       " 'Super!',\n",
       " 'Just wow!',\n",
       " 'Terrific purchase',\n",
       " 'Awesome',\n",
       " 'Decent product',\n",
       " 'Awesome',\n",
       " 'Brilliant']"
      ]
     },
     "execution_count": 587,
     "metadata": {},
     "output_type": "execute_result"
    }
   ],
   "source": [
    "#Review_summary scrap 10\n",
    "rating_Iphone10= driver.find_elements_by_xpath(\"//p[@class='_2-N8zT']\")\n",
    "\n",
    "# loop out for Review_summary data\n",
    "Review_summary10 = []\n",
    "\n",
    "for i in rating_Iphone10:\n",
    "    text1 = i.text\n",
    "    Review_summary10.append(text1)\n",
    "Review_summary10"
   ]
  },
  {
   "cell_type": "code",
   "execution_count": 589,
   "metadata": {},
   "outputs": [
    {
     "data": {
      "text/plain": [
       "['I purchased the iPhone 11 a month back. I must say Apple has impressed me yet again . I have been an Apple user for past 5 years . The phone is power packed with amazing features . What impressed me the most was the battery backup the phone offers . Battery can easily run upto 1.5 days in single charge with moderate to Heavy usage . If you’re looking for a value for money device , I don’t see any other phone in the price range which can match the iPhone 11 . One thing I didn’t like was that ... READ MORE',\n",
       " 'Excellent camera 📸 And Display touching very Nice And Smooth and very improvement against I phone 11 and new processor is very fast',\n",
       " 'A perfect phone and a good battery super camera and the sound is dynamic overall the phone is perfect for upgrading from lower iPhone model to iPhone 11',\n",
       " 'This is my first ever iPhone. And I truly don’t regret switching to IOS from my Android.  It is easily an alternative to a DSLR camera. If you’re obsessed with photos and videos, just don’t think twice or don’t compare to other androids(Samsung S10 lite or OnePlus 8/8T), as it’s far better from them in every field. Comparing will only make you confused.  I am getting an average Screen on Time of around 10 hours with 30 percent left. I haven’t let my device discharged below 30 % as it aff... READ MORE',\n",
       " 'The ultimate performance Camera is superb The battery backup also very good i never saw iphone gives this much of battery backup If any one wana buy iphone 11 definitely i will recommend this mobile It has the better battery and powerfull processer peak performance glorious camera and the display also 100% high quality lcd display if u had money for for 12 if u dont wana invest much money on that then go for iphone 11 it has maximum same specs only main difference between the 12 and 11 is... READ MORE',\n",
       " 'I use a Note10+ and have been using both iOS and Android devices.  Camera has really good features and portraits are super good, better than Samsung flagship. Overall camera setup can still be enhanced and hopeful for better upgrades on software in next release  Operating system is quite a breeze and user experience of daily usage is very high as compared to Android. I moved to iOS very swiftly in 2 days for all my office work from Note10+  Battery holds up quite well with 4 hrs of call and ... READ MORE',\n",
       " 'The phone is completely good As far as camera Apple is king of it And its a beast in performance And the battery is pretty good too',\n",
       " 'Everything u ll like it when u use this iPhone. Simple changes only not many to lower models but it’s nice to use. Little heavy compared to previous models like 7,8',\n",
       " 'Can’t beat the software and hardware integration of apple. Performs like a beast. Great quality camera 6-7 hours screen on time which is good. Nothing much to complaint about the screen. Good connectivity speeds. Great buy and Flipkart’s delivery top notch as usual',\n",
       " 'A wort full value for money decision it’s . Simply go for it in 2021 its still a good decision . Awesome camera , Super smothered performance, Heck of build quality. And Most important it protects your privacy.']"
      ]
     },
     "execution_count": 589,
     "metadata": {},
     "output_type": "execute_result"
    }
   ],
   "source": [
    "#Full review scrap 10\n",
    "Fullreview10= driver.find_elements_by_xpath(\"//div[@class='t-ZTKy']\")\n",
    "\n",
    "# loop out for Full review data\n",
    "Full_reviews10 = []\n",
    "\n",
    "for i in Fullreview10:\n",
    "    text1 = i.text.split('\\n')\n",
    "    text1 = ' '.join(text1[:])\n",
    "    Full_reviews10.append(text1)\n",
    "Full_reviews10"
   ]
  },
  {
   "cell_type": "code",
   "execution_count": null,
   "metadata": {},
   "outputs": [],
   "source": []
  },
  {
   "cell_type": "code",
   "execution_count": 590,
   "metadata": {},
   "outputs": [],
   "source": [
    "# merging all data of each pages\n",
    "\n",
    "Rating_iphone = rating_1 + ratings_2 + ratings_3 + Ratings_scrap_4 + ratings_5 + ratings_6 + Ratings_7_scrap + ratings_8 + ratings_9 + ratings_10\n",
    "Review_Iphone = Review_summary1 + Review_summary2 + Review_summary3 + Review_summary4 + Review_summary5 + Review_summary6 + Review_summary7 + Review_summary8 + Review_summary9 + Review_summary10\n",
    "Full_reviews_Iphone = Full_reviews1 + Full_reviews2 + Full_reviews3 + Full_reviews4 + Full_reviews5 + Full_reviews6 + Full_reviews7 + Full_reviews8 + Full_reviews9 + Full_reviews10"
   ]
  },
  {
   "cell_type": "code",
   "execution_count": null,
   "metadata": {},
   "outputs": [],
   "source": []
  },
  {
   "cell_type": "code",
   "execution_count": 591,
   "metadata": {},
   "outputs": [
    {
     "data": {
      "text/plain": [
       "(100, 100, 100)"
      ]
     },
     "execution_count": 591,
     "metadata": {},
     "output_type": "execute_result"
    }
   ],
   "source": [
    "len(Rating_iphone),len(Review_Iphone),len(Full_reviews_Iphone)"
   ]
  },
  {
   "cell_type": "code",
   "execution_count": 592,
   "metadata": {},
   "outputs": [
    {
     "data": {
      "text/html": [
       "<div>\n",
       "<style scoped>\n",
       "    .dataframe tbody tr th:only-of-type {\n",
       "        vertical-align: middle;\n",
       "    }\n",
       "\n",
       "    .dataframe tbody tr th {\n",
       "        vertical-align: top;\n",
       "    }\n",
       "\n",
       "    .dataframe thead th {\n",
       "        text-align: right;\n",
       "    }\n",
       "</style>\n",
       "<table border=\"1\" class=\"dataframe\">\n",
       "  <thead>\n",
       "    <tr style=\"text-align: right;\">\n",
       "      <th></th>\n",
       "      <th>Rating</th>\n",
       "      <th>Review_summary</th>\n",
       "      <th>Full reviews</th>\n",
       "    </tr>\n",
       "  </thead>\n",
       "  <tbody>\n",
       "    <tr>\n",
       "      <th>0</th>\n",
       "      <td>5</td>\n",
       "      <td>Brilliant</td>\n",
       "      <td>The Best Phone for the Money  The iPhone 11 of...</td>\n",
       "    </tr>\n",
       "    <tr>\n",
       "      <th>1</th>\n",
       "      <td>5</td>\n",
       "      <td>Simply awesome</td>\n",
       "      <td>Really satisfied with the Product I received.....</td>\n",
       "    </tr>\n",
       "    <tr>\n",
       "      <th>2</th>\n",
       "      <td>5</td>\n",
       "      <td>Perfect product!</td>\n",
       "      <td>Amazing phone with great cameras and better ba...</td>\n",
       "    </tr>\n",
       "    <tr>\n",
       "      <th>3</th>\n",
       "      <td>5</td>\n",
       "      <td>Best in the market!</td>\n",
       "      <td>Great iPhone very snappy experience as apple k...</td>\n",
       "    </tr>\n",
       "    <tr>\n",
       "      <th>4</th>\n",
       "      <td>5</td>\n",
       "      <td>Fabulous!</td>\n",
       "      <td>This is my first iOS phone. I am very happy wi...</td>\n",
       "    </tr>\n",
       "    <tr>\n",
       "      <th>...</th>\n",
       "      <td>...</td>\n",
       "      <td>...</td>\n",
       "      <td>...</td>\n",
       "    </tr>\n",
       "    <tr>\n",
       "      <th>93</th>\n",
       "      <td>5</td>\n",
       "      <td>Super!</td>\n",
       "      <td>This is my first ever iPhone. And I truly don’...</td>\n",
       "    </tr>\n",
       "    <tr>\n",
       "      <th>94</th>\n",
       "      <td>5</td>\n",
       "      <td>Just wow!</td>\n",
       "      <td>The ultimate performance Camera is superb The ...</td>\n",
       "    </tr>\n",
       "    <tr>\n",
       "      <th>95</th>\n",
       "      <td>5</td>\n",
       "      <td>Terrific purchase</td>\n",
       "      <td>I use a Note10+ and have been using both iOS a...</td>\n",
       "    </tr>\n",
       "    <tr>\n",
       "      <th>96</th>\n",
       "      <td>5</td>\n",
       "      <td>Awesome</td>\n",
       "      <td>The phone is completely good As far as camera ...</td>\n",
       "    </tr>\n",
       "    <tr>\n",
       "      <th>97</th>\n",
       "      <td>3</td>\n",
       "      <td>Decent product</td>\n",
       "      <td>Everything u ll like it when u use this iPhone...</td>\n",
       "    </tr>\n",
       "  </tbody>\n",
       "</table>\n",
       "<p>98 rows × 3 columns</p>\n",
       "</div>"
      ],
      "text/plain": [
       "   Rating       Review_summary  \\\n",
       "0       5            Brilliant   \n",
       "1       5       Simply awesome   \n",
       "2       5     Perfect product!   \n",
       "3       5  Best in the market!   \n",
       "4       5            Fabulous!   \n",
       "..    ...                  ...   \n",
       "93      5               Super!   \n",
       "94      5            Just wow!   \n",
       "95      5    Terrific purchase   \n",
       "96      5              Awesome   \n",
       "97      3       Decent product   \n",
       "\n",
       "                                         Full reviews  \n",
       "0   The Best Phone for the Money  The iPhone 11 of...  \n",
       "1   Really satisfied with the Product I received.....  \n",
       "2   Amazing phone with great cameras and better ba...  \n",
       "3   Great iPhone very snappy experience as apple k...  \n",
       "4   This is my first iOS phone. I am very happy wi...  \n",
       "..                                                ...  \n",
       "93  This is my first ever iPhone. And I truly don’...  \n",
       "94  The ultimate performance Camera is superb The ...  \n",
       "95  I use a Note10+ and have been using both iOS a...  \n",
       "96  The phone is completely good As far as camera ...  \n",
       "97  Everything u ll like it when u use this iPhone...  \n",
       "\n",
       "[98 rows x 3 columns]"
      ]
     },
     "execution_count": 592,
     "metadata": {},
     "output_type": "execute_result"
    }
   ],
   "source": [
    "#Creating dataframe\n",
    "Iphone_flipkart = pd.DataFrame()\n",
    "Iphone_flipkart ['Rating'] = Rating_iphone[:98]\n",
    "Iphone_flipkart ['Review_summary'] = Review_Iphone[:98]\n",
    "Iphone_flipkart ['Full reviews'] = Full_reviews_Iphone[:98]\n",
    "Iphone_flipkart"
   ]
  },
  {
   "cell_type": "code",
   "execution_count": null,
   "metadata": {},
   "outputs": [],
   "source": []
  },
  {
   "cell_type": "markdown",
   "metadata": {},
   "source": [
    "### Q8: Scrape data for first 100 sneakers you find when you visit flipkart.com and search for “sneakers” in the search field.\n",
    "\n",
    "You have to scrape 4 attributes of each sneaker :\n",
    "\n",
    "1. Brand\n",
    "2. Product Description\n",
    "3. Price\n",
    "4. discount %\n",
    "\n",
    "As shown in the below image, you have to scrape the tick marked attributes.\n",
    "\n",
    "Also note that all the steps required during scraping should be done through code only and not manually."
   ]
  },
  {
   "cell_type": "code",
   "execution_count": null,
   "metadata": {},
   "outputs": [],
   "source": []
  },
  {
   "cell_type": "code",
   "execution_count": 596,
   "metadata": {},
   "outputs": [],
   "source": [
    "#URL to open\n",
    "driver.get('https://www.flipkart.com')"
   ]
  },
  {
   "cell_type": "code",
   "execution_count": 597,
   "metadata": {},
   "outputs": [],
   "source": [
    "#search field adding sunglasses in the input field\n",
    "Search_6 = driver.find_element_by_xpath('//*[@id=\"container\"]/div/div[1]/div[1]/div[2]/div[2]/form/div/div/input')\n",
    "Search_6.send_keys('sneakers')"
   ]
  },
  {
   "cell_type": "code",
   "execution_count": 598,
   "metadata": {},
   "outputs": [],
   "source": [
    "# Search submit button\n",
    "Search_6.submit()"
   ]
  },
  {
   "cell_type": "code",
   "execution_count": 599,
   "metadata": {},
   "outputs": [],
   "source": [
    "#url\n",
    "url8 = 'https://www.flipkart.com/search?q=sneakers&otracker=search&otracker1=search&marketplace=FLIPKART&as-show=on&as=off'"
   ]
  },
  {
   "cell_type": "code",
   "execution_count": 600,
   "metadata": {},
   "outputs": [],
   "source": [
    "driver.get(url8)"
   ]
  },
  {
   "cell_type": "code",
   "execution_count": null,
   "metadata": {},
   "outputs": [],
   "source": []
  },
  {
   "cell_type": "markdown",
   "metadata": {},
   "source": [
    "scraping page 1"
   ]
  },
  {
   "cell_type": "code",
   "execution_count": 601,
   "metadata": {},
   "outputs": [
    {
     "data": {
      "text/plain": [
       "['BRUTON',\n",
       " 'BIRDE',\n",
       " 'ASTEROID',\n",
       " 'Magnolia',\n",
       " 'Kraasa',\n",
       " 'Numenzo',\n",
       " 'BRUTON',\n",
       " 'Robbie jones',\n",
       " 'Roadster',\n",
       " 'Kraasa',\n",
       " 'bluemaker',\n",
       " 'HOTSTYLE',\n",
       " 'NIKE',\n",
       " 'D-SNEAKERZ',\n",
       " 'Numenzo',\n",
       " 'Numenzo',\n",
       " 'believe',\n",
       " 'PUMA',\n",
       " 'Robbie jones',\n",
       " 'BIRDE',\n",
       " 'Magnolia',\n",
       " 'SCATCHITE',\n",
       " 'Shoes Bank',\n",
       " 'BIRDE',\n",
       " 'Zsyto',\n",
       " 'SPARX',\n",
       " 'RODDICK SHOES',\n",
       " 'WOODLAND',\n",
       " 'Creer',\n",
       " 'Chevit',\n",
       " 'luxury fashion',\n",
       " 'ASTEROID',\n",
       " 'RED TAPE',\n",
       " 'PUMA',\n",
       " 'Chevit',\n",
       " 'Chevit',\n",
       " 'PUMA',\n",
       " 'Numenzo',\n",
       " 'BRUTON',\n",
       " 'bluemaker']"
      ]
     },
     "execution_count": 601,
     "metadata": {},
     "output_type": "execute_result"
    }
   ],
   "source": [
    "#Brand scrap\n",
    "Brand_sneakers = driver.find_elements_by_xpath(\"//div[@class='_2WkVRV']\")\n",
    "\n",
    "# loop out for Brand data\n",
    "Brand_snk_1 = []\n",
    "\n",
    "for i in Brand_sneakers:\n",
    "    text1=i.text\n",
    "    Brand_snk_1.append(text1)\n",
    "Brand_snk_1"
   ]
  },
  {
   "cell_type": "code",
   "execution_count": 602,
   "metadata": {},
   "outputs": [
    {
     "data": {
      "text/plain": [
       "40"
      ]
     },
     "execution_count": 602,
     "metadata": {},
     "output_type": "execute_result"
    }
   ],
   "source": [
    "len(Brand_snk_1)"
   ]
  },
  {
   "cell_type": "code",
   "execution_count": 603,
   "metadata": {
    "scrolled": true
   },
   "outputs": [
    {
     "data": {
      "text/plain": [
       "['Modern Trendy Sneakers Shoes Sneakers For Men',\n",
       " 'Birde Trendy Casual Shoes Sneakers For Men',\n",
       " \"Original Luxury Branded Fashionable Men's Casual Walkin...\",\n",
       " 'Sneakers For Men',\n",
       " 'Series 7 Sneakers For Men',\n",
       " '411 Casual Sneakers For Men',\n",
       " 'Combo Pack Of 4 Casual Shoes Loafer Shoes Sneakers For ...',\n",
       " 'Casual Sneakers Shoes For Men Sneakers For Men',\n",
       " 'Sneakers For Men',\n",
       " 'Shark-41 Sneakers For Men',\n",
       " 'casual for men Sneakers For Men',\n",
       " 'Sneakers For Men',\n",
       " 'Court Royale 2 Low Sneakers For Men',\n",
       " \"Casual , Partywear Sneakers Shoes For Men's And Boys Wh...\",\n",
       " 'Sneakers For Men',\n",
       " 'White Sneaker For Men Sneakers For Men',\n",
       " 'Sneakers for men(black_6) Sneakers For Men',\n",
       " 'Trinity IDP Sneakers For Men',\n",
       " 'Sneakers For Men',\n",
       " \"Men's Stylish Casual Shoes Sneakers For Men\",\n",
       " 'White Sneakers Sneakers For Men',\n",
       " 'Sneakers Sneakers For Men',\n",
       " \"White Sneaker For Men's/Boy's Sneakers For Men\",\n",
       " 'Combo Pack of 2 Casual Shoes Sneakers For Men',\n",
       " 'Men White Sneakers Sneakers For Men',\n",
       " 'Fashion Outdoor Canvas Casual Light Weight Lace-up Even...',\n",
       " '168 Smart Red Lace-Ups Casuals for Men Sneakers For Men',\n",
       " 'Luxury Fashionable casual shoes Sneakers For Men',\n",
       " \"Original Luxury Branded Fashionable Men's Casual Walkin...\",\n",
       " 'Sneakers For Men',\n",
       " 'Zap IDP Sneakers For Men',\n",
       " '169 Smart Sky Blue Lace-Ups Casuals for Men Sneakers Fo...',\n",
       " 'Perfect & Affordable Combo Pack of 02 Pairs Sneakers Ou...',\n",
       " 'ST Activate V2 IDP Sneakers For Men',\n",
       " 'Numenzo Black Sneaker For Men Sneakers For Men',\n",
       " 'Lattest Sneakers Shoe Sneakers For Men',\n",
       " 'casual for men (beige 06) Sneakers For Men']"
      ]
     },
     "execution_count": 603,
     "metadata": {},
     "output_type": "execute_result"
    }
   ],
   "source": [
    "#Product Description scrap 1\n",
    "Product_Description1= driver.find_elements_by_xpath(\"//a[@class='IRpwTa']\")\n",
    "\n",
    "# loop out for Product Description data\n",
    "Product_Descrip1 = []\n",
    "\n",
    "for i in Product_Description1:\n",
    "    text1 = i.text\n",
    "    Product_Descrip1.append(text1)\n",
    "Product_Descrip1"
   ]
  },
  {
   "cell_type": "code",
   "execution_count": 604,
   "metadata": {},
   "outputs": [
    {
     "data": {
      "text/plain": [
       "37"
      ]
     },
     "execution_count": 604,
     "metadata": {},
     "output_type": "execute_result"
    }
   ],
   "source": [
    "len(Product_Descrip1)"
   ]
  },
  {
   "cell_type": "code",
   "execution_count": 605,
   "metadata": {
    "scrolled": true
   },
   "outputs": [
    {
     "data": {
      "text/plain": [
       "['₹299',\n",
       " '₹303',\n",
       " '₹474',\n",
       " '₹369',\n",
       " '₹388',\n",
       " '₹426',\n",
       " '₹399',\n",
       " '₹379',\n",
       " '₹3,199',\n",
       " '₹388',\n",
       " '₹424',\n",
       " '₹279',\n",
       " '₹1,999',\n",
       " '₹348',\n",
       " '₹378',\n",
       " '₹407',\n",
       " '₹424',\n",
       " '₹1,579',\n",
       " '₹426',\n",
       " '₹303',\n",
       " '₹319',\n",
       " '₹398',\n",
       " '₹348',\n",
       " '₹420',\n",
       " '₹398',\n",
       " '₹619',\n",
       " '₹474',\n",
       " '₹2,995',\n",
       " '₹378',\n",
       " '₹211',\n",
       " '₹398',\n",
       " '₹474',\n",
       " '₹1,049',\n",
       " '₹1,421',\n",
       " '₹211',\n",
       " '₹447',\n",
       " '₹1,421',\n",
       " '₹426',\n",
       " '₹299',\n",
       " '₹424']"
      ]
     },
     "execution_count": 605,
     "metadata": {},
     "output_type": "execute_result"
    }
   ],
   "source": [
    "#Price scrap 1\n",
    "Price_Snk1= driver.find_elements_by_xpath(\"//div[@class='_30jeq3']\")\n",
    "\n",
    "# loop out for Price data\n",
    "Price_Snk_1 = []\n",
    "\n",
    "for i in Price_Snk1:\n",
    "    text1 = i.text\n",
    "    Price_Snk_1.append(text1)\n",
    "Price_Snk_1"
   ]
  },
  {
   "cell_type": "code",
   "execution_count": 606,
   "metadata": {},
   "outputs": [
    {
     "data": {
      "text/plain": [
       "40"
      ]
     },
     "execution_count": 606,
     "metadata": {},
     "output_type": "execute_result"
    }
   ],
   "source": [
    "len(Price_Snk_1)"
   ]
  },
  {
   "cell_type": "code",
   "execution_count": 626,
   "metadata": {},
   "outputs": [
    {
     "data": {
      "text/plain": [
       "['76% off',\n",
       " '39% off',\n",
       " '76% off',\n",
       " '63% off',\n",
       " '61% off',\n",
       " '78% off',\n",
       " '88% off',\n",
       " '62% off',\n",
       " '61% off',\n",
       " '57% off',\n",
       " '44% off',\n",
       " '49% off',\n",
       " '47% off',\n",
       " '62% off',\n",
       " '68% off',\n",
       " '57% off',\n",
       " '54% off',\n",
       " '57% off',\n",
       " '39% off',\n",
       " '68% off',\n",
       " '60% off',\n",
       " '65% off',\n",
       " '57% off',\n",
       " '60% off',\n",
       " '17% off',\n",
       " '52% off',\n",
       " '62% off',\n",
       " '57% off',\n",
       " '69% off',\n",
       " '52% off',\n",
       " '77% off',\n",
       " '59% off',\n",
       " '57% off',\n",
       " '75% off',\n",
       " '59% off',\n",
       " '67% off',\n",
       " '76% off',\n",
       " '57% off']"
      ]
     },
     "execution_count": 626,
     "metadata": {},
     "output_type": "execute_result"
    }
   ],
   "source": [
    "#discount scrap 1\n",
    "discount_Snk1= driver.find_elements_by_xpath(\"//div[@class='_3Ay6Sb']\")\n",
    "\n",
    "# creating empty list to store loop data for discount\n",
    "Discount_Snk_1 = []\n",
    "\n",
    "for i in discount_Snk1:\n",
    "    text1 = i.text\n",
    "    Discount_Snk_1.append(text1)\n",
    "Discount_Snk_1"
   ]
  },
  {
   "cell_type": "markdown",
   "metadata": {},
   "source": [
    "Collecting Page 2 data"
   ]
  },
  {
   "cell_type": "code",
   "execution_count": 628,
   "metadata": {},
   "outputs": [],
   "source": [
    "# click to next page\n",
    "\n",
    "clickToPage_2 = driver.find_element_by_xpath('//*[@id=\"container\"]/div/div[3]/div[1]/div[2]/div[12]/div/div/nav/a[2]')\n",
    "clickToPage_2.click()"
   ]
  },
  {
   "cell_type": "code",
   "execution_count": null,
   "metadata": {},
   "outputs": [],
   "source": []
  },
  {
   "cell_type": "code",
   "execution_count": 629,
   "metadata": {},
   "outputs": [
    {
     "data": {
      "text/plain": [
       "['JACK & JONES',\n",
       " 'RED TAPE',\n",
       " 'SPARX',\n",
       " 'U.S. POLO ASSN.',\n",
       " 'RED TAPE',\n",
       " 'SPARX',\n",
       " 'PUMA',\n",
       " 'PUMA',\n",
       " 'RODDICK SHOES',\n",
       " 'Chevit',\n",
       " 'luxury fashion',\n",
       " 'Robbie jones',\n",
       " \"K' Footlance\",\n",
       " 'Zsyto',\n",
       " 'PROVOGUE',\n",
       " 'Allen Solly',\n",
       " 'ESSENCE',\n",
       " 'HOC',\n",
       " 'PUMA',\n",
       " 'PUMA',\n",
       " 'Chevit',\n",
       " 'bluemaker',\n",
       " 'World Wear Footwear',\n",
       " 'PUMA',\n",
       " 'HOTSTYLE',\n",
       " 'U.S. POLO ASSN.',\n",
       " 'BIRDE',\n",
       " 'PUMA',\n",
       " 'Zsyto',\n",
       " 'PUMA',\n",
       " 'RED TAPE',\n",
       " 'Chevit',\n",
       " 'Edoeviv',\n",
       " 'FILA',\n",
       " 'Robbie jones',\n",
       " 'U.S. POLO ASSN.',\n",
       " 'SPARX',\n",
       " 'Chevit',\n",
       " 'PUMA',\n",
       " 'Chevit']"
      ]
     },
     "execution_count": 629,
     "metadata": {},
     "output_type": "execute_result"
    }
   ],
   "source": [
    "#Brand scrap page 2\n",
    "Brand_sneakers2 = driver.find_elements_by_xpath(\"//div[@class='_2WkVRV']\")\n",
    "\n",
    "# loop out for Brand data\n",
    "Brand_snk_2 = []\n",
    "\n",
    "for i in Brand_sneakers2:\n",
    "    text1=i.text\n",
    "    Brand_snk_2.append(text1)\n",
    "Brand_snk_2"
   ]
  },
  {
   "cell_type": "code",
   "execution_count": 630,
   "metadata": {
    "scrolled": true
   },
   "outputs": [
    {
     "data": {
      "text/plain": [
       "['JFWBENNY KNIT SLIP ON Sneakers For Men',\n",
       " 'Sneakers For Men',\n",
       " 'SM-322 Sneakers For Men',\n",
       " 'Sneakers For Men',\n",
       " 'Sneakers For Men',\n",
       " 'Puma Wired Cage Sneakers For Men',\n",
       " 'Puma Smash v2 Buck Sneakers For Men',\n",
       " 'Fashion Outdoor Canvas Casual Light Weight Lace-up Even...',\n",
       " 'Super Stylish & Trendy Combo Pack of 02 Pairs Sneakers ...',\n",
       " 'luxury fashionable casual snealer shoes Sneakers For Me...',\n",
       " 'Sneakers For Men',\n",
       " 'Fashion and Stylish Soft Ultralight Lace Up Sneakers Ca...',\n",
       " 'Sneakers For Men',\n",
       " 'Sneakers For Men',\n",
       " 'Sneakers For Men',\n",
       " 'Luxury Fashionable Casual Sneakers shoes For Men And Bo...',\n",
       " 'Smash Vulc Canvas Sneakers For Men',\n",
       " 'Pacer Laser IDP Sneakers For Men',\n",
       " '170 Smart Grey Lace-Ups Casuals for Men Sneakers For Me...',\n",
       " 'casual for men Sneakers For Men',\n",
       " '5011-Latest Collection Stylish Casual Loafer Sneakers S...',\n",
       " 'Puma Wired Cage Sneakers For Men',\n",
       " 'MONTON3.0 Sneakers For Men',\n",
       " 'Combo Pack of 2 Casual Shoes Sneakers For Men',\n",
       " 'Rigel IDP Sneakers For Men',\n",
       " 'X-Ray Square Scary Sneakers For Men',\n",
       " 'Sneakers For Men',\n",
       " \"Men's Combo Pack of 02 Shoes for Men Casual Sneakers Ou...\",\n",
       " \"Luxury Branded Fashionable Men's Casual Walking Partywe...\",\n",
       " 'MESTO Sneakers For Men',\n",
       " 'Casual Sneakers Shoes For Men And Boys Sneakers For Men',\n",
       " 'LEBRON 2.0 Sneakers For Men',\n",
       " 'Canvas Casual Partywear Outdoor Sneakers Shoes For Mens...',\n",
       " 'Smart Casuals Canvas Shoes Combo pack of 2 Sneakers For...',\n",
       " 'Puma Smash v2 L Sneakers For Men',\n",
       " 'Perfect Combo Pack of 02 Shoes for Men Casual Sneakers ...']"
      ]
     },
     "execution_count": 630,
     "metadata": {},
     "output_type": "execute_result"
    }
   ],
   "source": [
    "#Product Description scrap 2\n",
    "Product_Description2= driver.find_elements_by_xpath(\"//a[@class='IRpwTa']\")\n",
    "\n",
    "# loop out for Product Description 2 data\n",
    "Product_Descrip2 = []\n",
    "\n",
    "for i in Product_Description2:\n",
    "    text1 = i.text\n",
    "    Product_Descrip2.append(text1)\n",
    "Product_Descrip2"
   ]
  },
  {
   "cell_type": "code",
   "execution_count": 631,
   "metadata": {},
   "outputs": [
    {
     "data": {
      "text/plain": [
       "36"
      ]
     },
     "execution_count": 631,
     "metadata": {},
     "output_type": "execute_result"
    }
   ],
   "source": [
    "len(Product_Descrip2)"
   ]
  },
  {
   "cell_type": "code",
   "execution_count": 632,
   "metadata": {
    "scrolled": true
   },
   "outputs": [
    {
     "data": {
      "text/plain": [
       "['₹810',\n",
       " '₹921',\n",
       " '₹749',\n",
       " '₹1,214',\n",
       " '₹1,049',\n",
       " '₹640',\n",
       " '₹1,259',\n",
       " '₹1,579',\n",
       " '₹474',\n",
       " '₹599',\n",
       " '₹399',\n",
       " '₹449',\n",
       " '₹399',\n",
       " '₹295',\n",
       " '₹579',\n",
       " '₹750',\n",
       " '₹374',\n",
       " '₹358',\n",
       " '₹1,619',\n",
       " '₹1,421',\n",
       " '₹211',\n",
       " '₹424',\n",
       " '₹340',\n",
       " '₹1,421',\n",
       " '₹176',\n",
       " '₹1,214',\n",
       " '₹420',\n",
       " '₹1,133',\n",
       " '₹378',\n",
       " '₹3,219',\n",
       " '₹921',\n",
       " '₹624',\n",
       " '₹449',\n",
       " '₹629',\n",
       " '₹449',\n",
       " '₹1,619',\n",
       " '₹628',\n",
       " '₹322',\n",
       " '₹1,233',\n",
       " '₹420']"
      ]
     },
     "execution_count": 632,
     "metadata": {},
     "output_type": "execute_result"
    }
   ],
   "source": [
    "#Price scrap 2\n",
    "Price_Snk2= driver.find_elements_by_xpath(\"//div[@class='_30jeq3']\")\n",
    "\n",
    "# loop out for Price data\n",
    "Price_Snk_2 = []\n",
    "\n",
    "for i in Price_Snk2:\n",
    "    text1 = i.text\n",
    "    Price_Snk_2.append(text1)\n",
    "Price_Snk_2"
   ]
  },
  {
   "cell_type": "code",
   "execution_count": 633,
   "metadata": {},
   "outputs": [
    {
     "data": {
      "text/plain": [
       "40"
      ]
     },
     "execution_count": 633,
     "metadata": {},
     "output_type": "execute_result"
    }
   ],
   "source": [
    "len(Price_Snk_2)"
   ]
  },
  {
   "cell_type": "code",
   "execution_count": 634,
   "metadata": {},
   "outputs": [
    {
     "data": {
      "text/plain": [
       "['72% off',\n",
       " '79% off',\n",
       " '25% off',\n",
       " '59% off',\n",
       " '77% off',\n",
       " '8% off',\n",
       " '64% off',\n",
       " '54% off',\n",
       " '52% off',\n",
       " '62% off',\n",
       " '69% off',\n",
       " '55% off',\n",
       " '60% off',\n",
       " '77% off',\n",
       " '67% off',\n",
       " '69% off',\n",
       " '62% off',\n",
       " '82% off',\n",
       " '59% off',\n",
       " '68% off',\n",
       " '57% off',\n",
       " '57% off',\n",
       " '31% off',\n",
       " '59% off',\n",
       " '64% off',\n",
       " '59% off',\n",
       " '57% off',\n",
       " '59% off',\n",
       " '70% off',\n",
       " '59% off',\n",
       " '79% off',\n",
       " '65% off',\n",
       " '43% off',\n",
       " '76% off',\n",
       " '55% off',\n",
       " '59% off',\n",
       " '16% off',\n",
       " '67% off',\n",
       " '64% off',\n",
       " '57% off']"
      ]
     },
     "execution_count": 634,
     "metadata": {},
     "output_type": "execute_result"
    }
   ],
   "source": [
    "#discount scrap 2\n",
    "discount_Snk2= driver.find_elements_by_xpath(\"//div[@class='_3Ay6Sb']\")\n",
    "\n",
    "# creating empty list to store loop data for discount\n",
    "Discount_Snk_2 = []\n",
    "\n",
    "for i in discount_Snk2:\n",
    "    text1 = i.text\n",
    "    Discount_Snk_2.append(text1)\n",
    "Discount_Snk_2"
   ]
  },
  {
   "cell_type": "code",
   "execution_count": 635,
   "metadata": {},
   "outputs": [
    {
     "data": {
      "text/plain": [
       "40"
      ]
     },
     "execution_count": 635,
     "metadata": {},
     "output_type": "execute_result"
    }
   ],
   "source": [
    "len(Discount_Snk_2)"
   ]
  },
  {
   "cell_type": "markdown",
   "metadata": {},
   "source": [
    "Collecting page 3 data"
   ]
  },
  {
   "cell_type": "code",
   "execution_count": 636,
   "metadata": {},
   "outputs": [],
   "source": [
    "# click to next page\n",
    "\n",
    "clickToPage_3 = driver.find_element_by_xpath('//*[@id=\"container\"]/div/div[3]/div[1]/div[2]/div[12]/div/div/nav/a[4]')\n",
    "clickToPage_3.click()"
   ]
  },
  {
   "cell_type": "code",
   "execution_count": null,
   "metadata": {},
   "outputs": [],
   "source": []
  },
  {
   "cell_type": "code",
   "execution_count": 637,
   "metadata": {},
   "outputs": [
    {
     "data": {
      "text/plain": [
       "['RED TAPE',\n",
       " 'RODDICK SHOES',\n",
       " 'Chevit',\n",
       " 'Zorth',\n",
       " 'KANEGGYE',\n",
       " 'PUMA',\n",
       " 'RED TAPE',\n",
       " 'BIRDE',\n",
       " 'bluemaker',\n",
       " 'PUMA',\n",
       " 'Nobelite',\n",
       " 'asics',\n",
       " 'Arohi',\n",
       " 'BRUTON',\n",
       " 'Roadster',\n",
       " 'Zsyto',\n",
       " 'Nilatin',\n",
       " 'ASTEROID',\n",
       " 'FILA',\n",
       " 'BIRDE',\n",
       " 'SPARX',\n",
       " 'BIRDE',\n",
       " 'PUMA',\n",
       " 'BIRDE',\n",
       " 'ADIDAS',\n",
       " 'BIRDE',\n",
       " 'BRUTON',\n",
       " 'PUMA',\n",
       " 'SPARX',\n",
       " 'WOODLAND',\n",
       " 'BIRDE',\n",
       " 'Wildcraft',\n",
       " 'WROGN',\n",
       " 'RED TAPE',\n",
       " 'asics',\n",
       " 'PUMA',\n",
       " 'PEXLO',\n",
       " 'NIKE',\n",
       " 'SPARX',\n",
       " 'Kraasa']"
      ]
     },
     "execution_count": 637,
     "metadata": {},
     "output_type": "execute_result"
    }
   ],
   "source": [
    "#Brand scrap page 3\n",
    "Brand_sneakers3 = driver.find_elements_by_xpath(\"//div[@class='_2WkVRV']\")\n",
    "\n",
    "# loop out for Brand data\n",
    "Brand_snk_3 = []\n",
    "\n",
    "for i in Brand_sneakers3:\n",
    "    text1=i.text\n",
    "    Brand_snk_3.append(text1)\n",
    "Brand_snk_3"
   ]
  },
  {
   "cell_type": "code",
   "execution_count": 638,
   "metadata": {
    "scrolled": true
   },
   "outputs": [
    {
     "data": {
      "text/plain": [
       "['Sneakers For Men',\n",
       " 'Fashion Outdoor Canvas Casual Light Weight Lace-up Even...',\n",
       " '516 Trendy Star Perfect Sneakers For Men',\n",
       " 'New Fashion Outdoor Trendy Lightweight Casual,Canvas St...',\n",
       " 'Sneakers For Men',\n",
       " 'Perforated Low IDP Sneakers For Men',\n",
       " 'Sneakers For Men',\n",
       " 'Sneakers For Men',\n",
       " 'casual for men (blue 06) Sneakers For Men',\n",
       " 'X-RAY Square Ramble Sneakers For Men',\n",
       " 'TIGER RUNNER Sneakers For Men',\n",
       " 'Sneakers For Men',\n",
       " 'Sneakers For Men',\n",
       " 'White Sneaker For Men Sneakers For Men',\n",
       " 'Soft PU White Spring and Summer Casual Shoes Board Shoe...',\n",
       " 'GESAR Sneakers For Men',\n",
       " 'Birde Trendy Casual Shoes Sneakers For Men',\n",
       " 'SM-675 Sneakers For Men',\n",
       " 'Combo Pack of 4 Casual Shoes Sneakers For Men',\n",
       " 'Bari Sneakers For Men',\n",
       " 'Combo Pack of 5 Casual Shoes Sneakers For Men',\n",
       " 'Easy Vulc 2.0 Sneakers For Men',\n",
       " 'Trendy Casual Shoes Sneakers For Men',\n",
       " 'Combo Pack Of 2 Latest Stylish Casual Shoes for Men Lac...',\n",
       " 'Drift Cat 5 Core Sneaker For Men',\n",
       " 'SM-162 Sneakers For Men',\n",
       " 'Sneakers For Men',\n",
       " 'Combo Pack of 4 Casual Shoes Sneakers For Men',\n",
       " 'True White Shoe Sneakers For Men',\n",
       " 'Sneakers For Men',\n",
       " 'Sneakers For Men',\n",
       " 'TIGER RUNNER Sneakers For Men',\n",
       " 'x KL Jack IDP Sneakers For Men',\n",
       " 'Combo Pack of 3 Casual Shoes Sneakers For Men',\n",
       " 'Court Royale 2 Sneakers For Men',\n",
       " 'Air Core Sneakers For Men']"
      ]
     },
     "execution_count": 638,
     "metadata": {},
     "output_type": "execute_result"
    }
   ],
   "source": [
    "#Product Description scrap 3\n",
    "Product_Description3= driver.find_elements_by_xpath(\"//a[@class='IRpwTa']\")\n",
    "\n",
    "# loop out for Product Description 2 data\n",
    "Product_Descrip3 = []\n",
    "\n",
    "for i in Product_Description3:\n",
    "    text1 = i.text\n",
    "    Product_Descrip3.append(text1)\n",
    "Product_Descrip3"
   ]
  },
  {
   "cell_type": "code",
   "execution_count": 639,
   "metadata": {
    "scrolled": true
   },
   "outputs": [
    {
     "data": {
      "text/plain": [
       "['₹1,049',\n",
       " '₹474',\n",
       " '₹297',\n",
       " '₹435',\n",
       " '₹359',\n",
       " '₹1,619',\n",
       " '₹1,049',\n",
       " '₹235',\n",
       " '₹424',\n",
       " '₹3,219',\n",
       " '₹499',\n",
       " '₹1,214',\n",
       " '₹459',\n",
       " '₹228',\n",
       " '₹839',\n",
       " '₹378',\n",
       " '₹417',\n",
       " '₹499',\n",
       " '₹755',\n",
       " '₹399',\n",
       " '₹749',\n",
       " '₹748',\n",
       " '₹660',\n",
       " '₹799',\n",
       " '₹1,125',\n",
       " '₹399',\n",
       " '₹499',\n",
       " '₹2,699',\n",
       " '₹637',\n",
       " '₹1,296',\n",
       " '₹799',\n",
       " '₹998',\n",
       " '₹999',\n",
       " '₹921',\n",
       " '₹1,205',\n",
       " '₹1,799',\n",
       " '₹567',\n",
       " '₹1,999',\n",
       " '₹674',\n",
       " '₹299']"
      ]
     },
     "execution_count": 639,
     "metadata": {},
     "output_type": "execute_result"
    }
   ],
   "source": [
    "#Price scrap 3\n",
    "Price_Snk3= driver.find_elements_by_xpath(\"//div[@class='_30jeq3']\")\n",
    "\n",
    "# loop out for Price data\n",
    "Price_Snk_3 = []\n",
    "\n",
    "for i in Price_Snk3:\n",
    "    text1 = i.text\n",
    "    Price_Snk_3.append(text1)\n",
    "Price_Snk_3"
   ]
  },
  {
   "cell_type": "code",
   "execution_count": 640,
   "metadata": {},
   "outputs": [
    {
     "data": {
      "text/plain": [
       "['77% off',\n",
       " '52% off',\n",
       " '62% off',\n",
       " '56% off',\n",
       " '28% off',\n",
       " '59% off',\n",
       " '77% off',\n",
       " '52% off',\n",
       " '57% off',\n",
       " '59% off',\n",
       " '75% off',\n",
       " '75% off',\n",
       " '54% off',\n",
       " '61% off',\n",
       " '72% off',\n",
       " '62% off',\n",
       " '67% off',\n",
       " '50% off',\n",
       " '64% off',\n",
       " '20% off',\n",
       " '16% off',\n",
       " '62% off',\n",
       " '77% off',\n",
       " '68% off',\n",
       " '71% off',\n",
       " '20% off',\n",
       " '80% off',\n",
       " '55% off',\n",
       " '33% off',\n",
       " '35% off',\n",
       " '59% off',\n",
       " '61% off',\n",
       " '69% off',\n",
       " '79% off',\n",
       " '75% off',\n",
       " '55% off',\n",
       " '62% off',\n",
       " '49% off',\n",
       " '25% off',\n",
       " '70% off']"
      ]
     },
     "execution_count": 640,
     "metadata": {},
     "output_type": "execute_result"
    }
   ],
   "source": [
    "#discount scrap 3\n",
    "discount_Snk3= driver.find_elements_by_xpath(\"//div[@class='_3Ay6Sb']\")\n",
    "\n",
    "# creating empty list to store loop data for discount\n",
    "Discount_Snk_3 = []\n",
    "\n",
    "for i in discount_Snk3:\n",
    "    text1 = i.text\n",
    "    Discount_Snk_3.append(text1)\n",
    "Discount_Snk_3"
   ]
  },
  {
   "cell_type": "code",
   "execution_count": null,
   "metadata": {},
   "outputs": [],
   "source": []
  },
  {
   "cell_type": "code",
   "execution_count": null,
   "metadata": {},
   "outputs": [],
   "source": []
  },
  {
   "cell_type": "code",
   "execution_count": 641,
   "metadata": {},
   "outputs": [],
   "source": [
    "# Merging data\n",
    "Brand_sneakers = Brand_snk_1 + Brand_snk_2 + Brand_snk_3\n",
    "Product_Des_sneakers = Product_Descrip1 + Product_Descrip2 + Product_Descrip3\n",
    "Price_sneakers = Price_Snk_1 + Price_Snk_2 + Price_Snk_3\n",
    "Discount_sneakers = Discount_Snk_1 + Discount_Snk_2 + Discount_Snk_3"
   ]
  },
  {
   "cell_type": "code",
   "execution_count": 642,
   "metadata": {},
   "outputs": [
    {
     "data": {
      "text/html": [
       "<div>\n",
       "<style scoped>\n",
       "    .dataframe tbody tr th:only-of-type {\n",
       "        vertical-align: middle;\n",
       "    }\n",
       "\n",
       "    .dataframe tbody tr th {\n",
       "        vertical-align: top;\n",
       "    }\n",
       "\n",
       "    .dataframe thead th {\n",
       "        text-align: right;\n",
       "    }\n",
       "</style>\n",
       "<table border=\"1\" class=\"dataframe\">\n",
       "  <thead>\n",
       "    <tr style=\"text-align: right;\">\n",
       "      <th></th>\n",
       "      <th>Brand</th>\n",
       "      <th>Product Description</th>\n",
       "      <th>Price</th>\n",
       "      <th>Discount</th>\n",
       "    </tr>\n",
       "  </thead>\n",
       "  <tbody>\n",
       "    <tr>\n",
       "      <th>0</th>\n",
       "      <td>BRUTON</td>\n",
       "      <td>Modern Trendy Sneakers Shoes Sneakers For Men</td>\n",
       "      <td>₹299</td>\n",
       "      <td>76% off</td>\n",
       "    </tr>\n",
       "    <tr>\n",
       "      <th>1</th>\n",
       "      <td>BIRDE</td>\n",
       "      <td>Birde Trendy Casual Shoes Sneakers For Men</td>\n",
       "      <td>₹303</td>\n",
       "      <td>39% off</td>\n",
       "    </tr>\n",
       "    <tr>\n",
       "      <th>2</th>\n",
       "      <td>ASTEROID</td>\n",
       "      <td>Original Luxury Branded Fashionable Men's Casu...</td>\n",
       "      <td>₹474</td>\n",
       "      <td>76% off</td>\n",
       "    </tr>\n",
       "    <tr>\n",
       "      <th>3</th>\n",
       "      <td>Magnolia</td>\n",
       "      <td>Sneakers For Men</td>\n",
       "      <td>₹369</td>\n",
       "      <td>63% off</td>\n",
       "    </tr>\n",
       "    <tr>\n",
       "      <th>4</th>\n",
       "      <td>Kraasa</td>\n",
       "      <td>Series 7 Sneakers For Men</td>\n",
       "      <td>₹388</td>\n",
       "      <td>61% off</td>\n",
       "    </tr>\n",
       "    <tr>\n",
       "      <th>...</th>\n",
       "      <td>...</td>\n",
       "      <td>...</td>\n",
       "      <td>...</td>\n",
       "      <td>...</td>\n",
       "    </tr>\n",
       "    <tr>\n",
       "      <th>95</th>\n",
       "      <td>Zsyto</td>\n",
       "      <td>Trendy Casual Shoes Sneakers For Men</td>\n",
       "      <td>₹378</td>\n",
       "      <td>50% off</td>\n",
       "    </tr>\n",
       "    <tr>\n",
       "      <th>96</th>\n",
       "      <td>Nilatin</td>\n",
       "      <td>Combo Pack Of 2 Latest Stylish Casual Shoes fo...</td>\n",
       "      <td>₹417</td>\n",
       "      <td>64% off</td>\n",
       "    </tr>\n",
       "    <tr>\n",
       "      <th>97</th>\n",
       "      <td>ASTEROID</td>\n",
       "      <td>Drift Cat 5 Core Sneaker For Men</td>\n",
       "      <td>₹499</td>\n",
       "      <td>20% off</td>\n",
       "    </tr>\n",
       "    <tr>\n",
       "      <th>98</th>\n",
       "      <td>FILA</td>\n",
       "      <td>SM-162 Sneakers For Men</td>\n",
       "      <td>₹755</td>\n",
       "      <td>16% off</td>\n",
       "    </tr>\n",
       "    <tr>\n",
       "      <th>99</th>\n",
       "      <td>BIRDE</td>\n",
       "      <td>Sneakers For Men</td>\n",
       "      <td>₹399</td>\n",
       "      <td>62% off</td>\n",
       "    </tr>\n",
       "  </tbody>\n",
       "</table>\n",
       "<p>100 rows × 4 columns</p>\n",
       "</div>"
      ],
      "text/plain": [
       "       Brand                                Product Description Price Discount\n",
       "0     BRUTON      Modern Trendy Sneakers Shoes Sneakers For Men  ₹299  76% off\n",
       "1      BIRDE         Birde Trendy Casual Shoes Sneakers For Men  ₹303  39% off\n",
       "2   ASTEROID  Original Luxury Branded Fashionable Men's Casu...  ₹474  76% off\n",
       "3   Magnolia                                   Sneakers For Men  ₹369  63% off\n",
       "4     Kraasa                          Series 7 Sneakers For Men  ₹388  61% off\n",
       "..       ...                                                ...   ...      ...\n",
       "95     Zsyto               Trendy Casual Shoes Sneakers For Men  ₹378  50% off\n",
       "96   Nilatin  Combo Pack Of 2 Latest Stylish Casual Shoes fo...  ₹417  64% off\n",
       "97  ASTEROID                   Drift Cat 5 Core Sneaker For Men  ₹499  20% off\n",
       "98      FILA                            SM-162 Sneakers For Men  ₹755  16% off\n",
       "99     BIRDE                                   Sneakers For Men  ₹399  62% off\n",
       "\n",
       "[100 rows x 4 columns]"
      ]
     },
     "execution_count": 642,
     "metadata": {},
     "output_type": "execute_result"
    }
   ],
   "source": [
    " # Creating Data Frame\n",
    "\n",
    "Flipkart_Sneakers = pd.DataFrame()\n",
    "Flipkart_Sneakers ['Brand'] = Brand_sneakers[:100]\n",
    "Flipkart_Sneakers ['Product Description'] = Product_Des_sneakers[:100]\n",
    "Flipkart_Sneakers ['Price'] = Price_sneakers[:100]\n",
    "Flipkart_Sneakers ['Discount'] = Discount_sneakers[:100]\n",
    "Flipkart_Sneakers"
   ]
  },
  {
   "cell_type": "code",
   "execution_count": null,
   "metadata": {},
   "outputs": [],
   "source": []
  },
  {
   "cell_type": "markdown",
   "metadata": {},
   "source": [
    "### Q9: Go to the link - https://www.myntra.com/shoes\n",
    "\n",
    "Set Price filter to “Rs. 6649 to Rs. 13099” , Color filter to “Black”, as shown in the below image\n",
    "\n",
    "And then scrape First 100 shoes data you get. The data should include “Brand” of the shoes , Short Shoe description, price of the shoe as shown in the below image.\n",
    "\n",
    "Please note that applying the filter and scraping the data , everything should be done through code only and there should not be any manual step."
   ]
  },
  {
   "cell_type": "code",
   "execution_count": 643,
   "metadata": {},
   "outputs": [],
   "source": [
    "#Url to go\n",
    "driver.get('https://www.myntra.com/shoes')"
   ]
  },
  {
   "cell_type": "code",
   "execution_count": 644,
   "metadata": {},
   "outputs": [],
   "source": [
    "#selecting filter for price field\n",
    "filterprice9 = driver.find_element_by_xpath('//*[@id=\"mountRoot\"]/div/div[1]/main/div[3]/div[1]/section/div/div[5]/ul/li[2]/label/div')"
   ]
  },
  {
   "cell_type": "code",
   "execution_count": 645,
   "metadata": {},
   "outputs": [],
   "source": [
    "#selecting filter for color to black field\n",
    "filterColorB9 = driver.find_element_by_xpath('//*[@id=\"mountRoot\"]/div/div[1]/main/div[3]/div[1]/section/div/div[6]/ul/li[1]/label')"
   ]
  },
  {
   "cell_type": "code",
   "execution_count": 646,
   "metadata": {},
   "outputs": [],
   "source": [
    "filterColorB9.click()"
   ]
  },
  {
   "cell_type": "code",
   "execution_count": 647,
   "metadata": {},
   "outputs": [],
   "source": [
    "filterprice9.click()"
   ]
  },
  {
   "cell_type": "code",
   "execution_count": null,
   "metadata": {},
   "outputs": [],
   "source": []
  },
  {
   "cell_type": "markdown",
   "metadata": {},
   "source": [
    "Collecting data from page 1"
   ]
  },
  {
   "cell_type": "code",
   "execution_count": 648,
   "metadata": {
    "scrolled": true
   },
   "outputs": [
    {
     "data": {
      "text/plain": [
       "['ALDO',\n",
       " 'ALDO',\n",
       " 'Puma',\n",
       " 'PUMA Motorsport',\n",
       " 'PUMA Motorsport',\n",
       " 'PUMA Motorsport',\n",
       " 'Puma',\n",
       " 'Puma',\n",
       " 'Puma',\n",
       " 'Puma',\n",
       " 'Hush Puppies',\n",
       " 'FORCLAZ By Decathlon',\n",
       " 'UNDER ARMOUR',\n",
       " 'Nike',\n",
       " 'Puma',\n",
       " 'Puma',\n",
       " 'UNDER ARMOUR',\n",
       " 'Puma',\n",
       " 'PUMA Motorsport',\n",
       " 'ASICS',\n",
       " 'UNDER ARMOUR',\n",
       " 'Calvin Klein',\n",
       " 'Puma',\n",
       " 'Hush Puppies',\n",
       " 'Puma',\n",
       " 'UNDER ARMOUR',\n",
       " 'Hush Puppies',\n",
       " 'ASICS',\n",
       " 'Kalenji By Decathlon',\n",
       " 'UNDER ARMOUR',\n",
       " 'Cole Haan',\n",
       " 'Bugatti',\n",
       " 'J.FONTINI',\n",
       " 'Saint G',\n",
       " 'UNDER ARMOUR',\n",
       " 'Cole Haan',\n",
       " 'ROSSO BRUNELLO',\n",
       " 'Heel & Buckle London',\n",
       " 'UNDER ARMOUR',\n",
       " 'Hush Puppies',\n",
       " 'ROSSO BRUNELLO',\n",
       " 'Puma',\n",
       " 'Geox',\n",
       " 'Bugatti',\n",
       " 'Cole Haan',\n",
       " 'Geox',\n",
       " 'Cole Haan',\n",
       " 'ALDO',\n",
       " 'ALDO',\n",
       " 'Puma']"
      ]
     },
     "execution_count": 648,
     "metadata": {},
     "output_type": "execute_result"
    }
   ],
   "source": [
    "# Finding brand names in page 1\n",
    "BrandName_shoe1 = driver.find_elements_by_xpath('//h3[@class=\"product-brand\"]')\n",
    "\n",
    "# creating empty list to store data\n",
    "Brand_shoes1 = []\n",
    "\n",
    "#loop to find data\n",
    "for i in BrandName_shoe1:\n",
    "    text=i.text\n",
    "    Brand_shoes1.append(text)\n",
    "Brand_shoes1"
   ]
  },
  {
   "cell_type": "code",
   "execution_count": 649,
   "metadata": {},
   "outputs": [
    {
     "data": {
      "text/plain": [
       "['Leather Solid Loafers',\n",
       " 'Men Driving Shoes',\n",
       " 'Men Jamming 2.0 Running Shoes',\n",
       " 'Unisex Scuderia Ferrari Shoes',\n",
       " 'Unisex Mercedes F1 Sneakers',\n",
       " 'Unisex FerrariRS-Fast Sneakers',\n",
       " 'Men Velocity Nitro Running',\n",
       " 'Men Deviate Nitro Running Shoe',\n",
       " 'Unisex Connect Splash Trainers',\n",
       " 'Unisex Mirage Remix Sneakers',\n",
       " 'Men Solid Leather Formal Slip-Ons',\n",
       " 'TREKKING 100 Boots',\n",
       " 'Women Charged Bandit 6 Running',\n",
       " \"Men BlazerLow '77 Sneakers\",\n",
       " 'Men Running Shoes',\n",
       " 'Unisex Leather Trainers',\n",
       " 'Men HOVR Sonic STRT Tech Shoes',\n",
       " 'Women Deviate Nitro Running',\n",
       " 'Unisex BMW RS-Connect Sneakers',\n",
       " 'Men Black Running Sports Shoes',\n",
       " 'Women Charged Vantage ClrShft',\n",
       " 'Men Solid Mid-Top Sneakers',\n",
       " 'Men Magnify Nitro Running',\n",
       " 'Men Formal Derbys',\n",
       " 'Women Eternity NITRO Shoes',\n",
       " 'Women HOVR Sonic 4 FnRn',\n",
       " 'Men Leather Slip-On Sneakers',\n",
       " 'Women GlideRide Running Shoes',\n",
       " 'Men KD500 Running Shoe',\n",
       " 'Women HOVR Sonic 4 Running',\n",
       " 'Men Wingtip Oxford Sneakers',\n",
       " 'Men Walking Shoes',\n",
       " 'Men Solid Loafers',\n",
       " 'Men Mid-Top Chelsea Boots',\n",
       " 'Women Charged Rogue 2.5ClrSft',\n",
       " 'Leather Sneakers',\n",
       " 'Men Solid Leather Formal Loafers',\n",
       " 'Men Leather Sneakers',\n",
       " 'Women Charged Vantage Running',\n",
       " 'Men Leather Derbys',\n",
       " 'Men Leather Formal Loafers',\n",
       " 'Graviton Pro Unisex Sneakers',\n",
       " 'Leather Heeled Boots',\n",
       " 'Men Textured Leather Formal Loafers',\n",
       " 'Men Lightweight Brogues',\n",
       " 'Men Leather Flat Boots',\n",
       " 'Men Perforations Sneakers',\n",
       " 'Men Solid Leather Formal Derbys',\n",
       " 'Women Solid Leather Pumps',\n",
       " 'Women PRONOUNCE May Sneakers']"
      ]
     },
     "execution_count": 649,
     "metadata": {},
     "output_type": "execute_result"
    }
   ],
   "source": [
    "# Finding Description in page 1\n",
    "Description_shoe1 = driver.find_elements_by_xpath('//h4[@class=\"product-product\"]')\n",
    "\n",
    "# creating empty list to store data\n",
    "Description_shoes1 = []\n",
    "\n",
    "#loop to find data\n",
    "for i in Description_shoe1:\n",
    "    text=i.text\n",
    "    Description_shoes1.append(text)\n",
    "Description_shoes1"
   ]
  },
  {
   "cell_type": "code",
   "execution_count": 650,
   "metadata": {},
   "outputs": [
    {
     "data": {
      "text/plain": [
       "[' 10499',\n",
       " ' 11199',\n",
       " ' 11049',\n",
       " ' 8499',\n",
       " ' 8499',\n",
       " ' 8499',\n",
       " ' 9349',\n",
       " ' 12749',\n",
       " ' 7649',\n",
       " ' 7649',\n",
       " ' 8099',\n",
       " ' 6999',\n",
       " ' 8999',\n",
       " ' 7195',\n",
       " ' 8449',\n",
       " ' 6999',\n",
       " ' 9999',\n",
       " ' 8249',\n",
       " ' 8499',\n",
       " ' 7999',\n",
       " ' 7999',\n",
       " ' 6889',\n",
       " ' 8449',\n",
       " ' 8999',\n",
       " ' 7799',\n",
       " ' 10999',\n",
       " ' 7999',\n",
       " ' 11199',\n",
       " ' 7773',\n",
       " ' 10999',\n",
       " ' 10399',\n",
       " ' 8999',\n",
       " ' 8990',\n",
       " ' 10900',\n",
       " ' 7999',\n",
       " ' 8799',\n",
       " ' 12999',\n",
       " ' 7693',\n",
       " ' 7999',\n",
       " ' 7199',\n",
       " ' 11999',\n",
       " ' 6999',\n",
       " ' 12999',\n",
       " ' 7999',\n",
       " ' 12799',\n",
       " ' 11999',\n",
       " ' 9599',\n",
       " ' 7799',\n",
       " ' 6999',\n",
       " ' 6999']"
      ]
     },
     "execution_count": 650,
     "metadata": {},
     "output_type": "execute_result"
    }
   ],
   "source": [
    "# Finding price in page 1\n",
    "Price_shoe1_1 = driver.find_elements_by_xpath('//span[@class=\"product-discountedPrice\"]')\n",
    "\n",
    "Price_shoe1_2 = driver.find_elements_by_xpath('//div[@class=\"product-price\"]')\n",
    "\n",
    "# creating empty list to store data\n",
    "price_shoes1 = []\n",
    "\n",
    "#loop to find data\n",
    "for i in Price_shoe1_2:\n",
    "    text=i.text.split('Rs.')[:2]\n",
    "    m = ''.join(text[1])\n",
    "    price_shoes1.append(m)\n",
    "price_shoes1"
   ]
  },
  {
   "cell_type": "code",
   "execution_count": null,
   "metadata": {},
   "outputs": [],
   "source": []
  },
  {
   "cell_type": "markdown",
   "metadata": {},
   "source": [
    "Collecting data from page 2"
   ]
  },
  {
   "cell_type": "code",
   "execution_count": 651,
   "metadata": {},
   "outputs": [],
   "source": [
    "# syntax click to go page 2\n",
    "page2_shoes = driver.find_element_by_xpath('//*[@id=\"desktopSearchResults\"]/div[2]/section/div[2]/ul/li[3]/a')"
   ]
  },
  {
   "cell_type": "code",
   "execution_count": 652,
   "metadata": {},
   "outputs": [],
   "source": [
    "#click to next page syntax\n",
    "page2_shoes.click()"
   ]
  },
  {
   "cell_type": "code",
   "execution_count": 653,
   "metadata": {},
   "outputs": [
    {
     "data": {
      "text/plain": [
       "['Puma',\n",
       " 'J.FONTINI',\n",
       " 'J.FONTINI',\n",
       " 'J.FONTINI',\n",
       " 'Puma',\n",
       " 'ASICS',\n",
       " 'Saint G',\n",
       " 'Geox',\n",
       " 'Ruosh',\n",
       " 'Geox',\n",
       " 'Hush Puppies',\n",
       " 'J.FONTINI',\n",
       " 'DAVINCHI',\n",
       " 'KIPRUN By Decathlon',\n",
       " 'Bugatti',\n",
       " 'DAVINCHI',\n",
       " 'ASICS',\n",
       " 'Geox',\n",
       " 'UNDER ARMOUR',\n",
       " 'Ruosh',\n",
       " 'Puma',\n",
       " 'Puma',\n",
       " 'Geox',\n",
       " 'Saint G',\n",
       " 'Puma',\n",
       " 'Ruosh',\n",
       " 'Ruosh',\n",
       " 'Cole Haan',\n",
       " 'H&M',\n",
       " 'Ruosh',\n",
       " 'ASICS',\n",
       " 'Clarks',\n",
       " 'VIONIC',\n",
       " 'J.FONTINI',\n",
       " 'Ruosh',\n",
       " 'Bugatti',\n",
       " 'Bugatti',\n",
       " 'Bugatti',\n",
       " 'Ruosh',\n",
       " 'Ruosh',\n",
       " 'Bugatti',\n",
       " 'Geox',\n",
       " 'Geox',\n",
       " 'Geox',\n",
       " 'Ruosh',\n",
       " 'Geox',\n",
       " 'Puma',\n",
       " 'Saint G',\n",
       " 'Saint G',\n",
       " 'Saint G']"
      ]
     },
     "execution_count": 653,
     "metadata": {},
     "output_type": "execute_result"
    }
   ],
   "source": [
    "# Finding brand names in page 2\n",
    "BrandName_shoe2 = driver.find_elements_by_xpath('//h3[@class=\"product-brand\"]')\n",
    "\n",
    "# creating empty list to store data\n",
    "Brand_shoes2 = []\n",
    "\n",
    "#loop to find data\n",
    "for i in BrandName_shoe2:\n",
    "    text=i.text\n",
    "    Brand_shoes2.append(text)\n",
    "Brand_shoes2"
   ]
  },
  {
   "cell_type": "code",
   "execution_count": 654,
   "metadata": {},
   "outputs": [
    {
     "data": {
      "text/plain": [
       "['Women PRONOUNCE May Sneakers',\n",
       " 'Men Textured Leather Loafers',\n",
       " 'Men Black Leather Loafers',\n",
       " 'Men Textured Leather Loafers',\n",
       " 'Unisex Mirage Sport Trainers',\n",
       " 'Women GlideRide Running Shoes',\n",
       " 'Men Leather Chelsea Boots',\n",
       " 'Leather Heeled Boots',\n",
       " 'Men Leather Slip-On Shoes',\n",
       " 'Leather Heeled Boots',\n",
       " 'Men Solid Leather Formal Slip-Ons',\n",
       " 'Men Textured Leather Formal Loafers',\n",
       " 'Ustraa black',\n",
       " 'Women Running Shoes',\n",
       " 'Leather Block Heeled Boots',\n",
       " 'Men Solid Leather Formal Derbys',\n",
       " 'Women Running Shoes',\n",
       " 'Women Quilted Leather Pumps',\n",
       " 'Women Charged Impulse Shft',\n",
       " 'Men Formal Leather Brogues',\n",
       " 'Women Velocity NITRO Runners',\n",
       " 'Women Magnify Nitro Shoes',\n",
       " 'Women Leather Pumps',\n",
       " 'Women Leather Heeled Boots',\n",
       " 'Men FUTURE 5.1 Football Shoes',\n",
       " 'Men Solid Leather Formal Slip-Ons',\n",
       " 'Men Solid Leather Formal Oxfords',\n",
       " 'Men GENERATION ZEROGRAND STITCHLITE',\n",
       " 'Men Leather Chelsea Boots',\n",
       " 'Men Textured Leather Monks',\n",
       " 'Women GT-2000 9 Running Shoes',\n",
       " 'Women Sandals',\n",
       " 'Men Textured Sneakers',\n",
       " 'Men Textured Leather Loafers',\n",
       " 'Men Solid Leather Formal Monks',\n",
       " 'Men Sneakers',\n",
       " 'Black Casual Sneakers',\n",
       " 'Men Black Walking Shoes',\n",
       " 'Men Formal Brogues',\n",
       " 'Men Solid Leather Formal Monks',\n",
       " 'Men Running Shoes',\n",
       " 'Men Printed Slip-On Sneakers',\n",
       " 'Men Solid Sneakers',\n",
       " 'Men Leather Formal Slip-Ons',\n",
       " 'Men Leather Slip-On Shoes',\n",
       " 'Women Leather Pumps',\n",
       " 'Unisex Textured Sneakers',\n",
       " 'Women Heeled Boots',\n",
       " 'Women Leather Heeled Boots',\n",
       " 'Women Leather Heeled Boots']"
      ]
     },
     "execution_count": 654,
     "metadata": {},
     "output_type": "execute_result"
    }
   ],
   "source": [
    "# Finding Description in page 2\n",
    "Description_shoe2 = driver.find_elements_by_xpath('//h4[@class=\"product-product\"]')\n",
    "\n",
    "# creating empty list to store data\n",
    "Description_shoes2 = []\n",
    "\n",
    "#loop to find data\n",
    "for i in Description_shoe2:\n",
    "    text=i.text\n",
    "    Description_shoes2.append(text)\n",
    "Description_shoes2"
   ]
  },
  {
   "cell_type": "code",
   "execution_count": 655,
   "metadata": {},
   "outputs": [
    {
     "data": {
      "text/plain": [
       "[' 6999',\n",
       " ' 7990',\n",
       " ' 8490',\n",
       " ' 6990',\n",
       " ' 6999',\n",
       " ' 11199',\n",
       " ' 11305',\n",
       " ' 11999',\n",
       " ' 6990',\n",
       " ' 10999',\n",
       " ' 8999',\n",
       " ' 8990',\n",
       " ' 8990',\n",
       " ' 7006',\n",
       " ' 9999',\n",
       " ' 8990',\n",
       " ' 7199',\n",
       " ' 8999',\n",
       " ' 7499',\n",
       " ' 7490',\n",
       " ' 7149',\n",
       " ' 8449',\n",
       " ' 8999',\n",
       " ' 7120',\n",
       " ' 11049',\n",
       " ' 6990',\n",
       " ' 13490',\n",
       " ' 9599',\n",
       " ' 12149',\n",
       " ' 6990',\n",
       " ' 8399',\n",
       " ' 6999',\n",
       " ' 7039',\n",
       " ' 7990',\n",
       " ' 6990',\n",
       " ' 7999',\n",
       " ' 7499',\n",
       " ' 8999',\n",
       " ' 6990',\n",
       " ' 8990',\n",
       " ' 9999',\n",
       " ' 10999',\n",
       " ' 11999',\n",
       " ' 8999',\n",
       " ' 6990',\n",
       " ' 9999',\n",
       " ' 9999',\n",
       " ' 10500',\n",
       " ' 9500',\n",
       " ' 9500']"
      ]
     },
     "execution_count": 655,
     "metadata": {},
     "output_type": "execute_result"
    }
   ],
   "source": [
    "# Finding price in page 2\n",
    "Price_shoe2_1 = driver.find_elements_by_xpath('//span[@class=\"product-discountedPrice\"]')\n",
    "\n",
    "Price_shoe2_2 = driver.find_elements_by_xpath('//div[@class=\"product-price\"]')\n",
    "\n",
    "# creating empty list to store data\n",
    "price_shoes2 = []\n",
    "\n",
    "#loop to find data\n",
    "for i in Price_shoe2_2:\n",
    "    text=i.text.split('Rs.')[:2]\n",
    "    m = ''.join(text[1])\n",
    "    price_shoes2.append(m)\n",
    "price_shoes2"
   ]
  },
  {
   "cell_type": "code",
   "execution_count": null,
   "metadata": {},
   "outputs": [],
   "source": []
  },
  {
   "cell_type": "code",
   "execution_count": 656,
   "metadata": {},
   "outputs": [],
   "source": [
    "#Merging data\n",
    "\n",
    "#Brand names\n",
    "shoeBrandName = Brand_shoes1 + Brand_shoes2\n",
    "\n",
    "#Description\n",
    "shoeDescriptions = Description_shoes1 + Description_shoes2\n",
    "\n",
    "#prices\n",
    "shoePrices = price_shoes1 + price_shoes2"
   ]
  },
  {
   "cell_type": "code",
   "execution_count": 657,
   "metadata": {},
   "outputs": [
    {
     "data": {
      "text/plain": [
       "(100, 100, 100)"
      ]
     },
     "execution_count": 657,
     "metadata": {},
     "output_type": "execute_result"
    }
   ],
   "source": [
    "#checking length of the data's\n",
    "\n",
    "len(shoeBrandName), len(shoeDescriptions), len(shoePrices)"
   ]
  },
  {
   "cell_type": "code",
   "execution_count": 658,
   "metadata": {},
   "outputs": [
    {
     "data": {
      "text/html": [
       "<div>\n",
       "<style scoped>\n",
       "    .dataframe tbody tr th:only-of-type {\n",
       "        vertical-align: middle;\n",
       "    }\n",
       "\n",
       "    .dataframe tbody tr th {\n",
       "        vertical-align: top;\n",
       "    }\n",
       "\n",
       "    .dataframe thead th {\n",
       "        text-align: right;\n",
       "    }\n",
       "</style>\n",
       "<table border=\"1\" class=\"dataframe\">\n",
       "  <thead>\n",
       "    <tr style=\"text-align: right;\">\n",
       "      <th></th>\n",
       "      <th>Brand</th>\n",
       "      <th>Description</th>\n",
       "      <th>Price</th>\n",
       "    </tr>\n",
       "  </thead>\n",
       "  <tbody>\n",
       "    <tr>\n",
       "      <th>0</th>\n",
       "      <td>ALDO</td>\n",
       "      <td>Leather Solid Loafers</td>\n",
       "      <td>10499</td>\n",
       "    </tr>\n",
       "    <tr>\n",
       "      <th>1</th>\n",
       "      <td>ALDO</td>\n",
       "      <td>Men Driving Shoes</td>\n",
       "      <td>11199</td>\n",
       "    </tr>\n",
       "    <tr>\n",
       "      <th>2</th>\n",
       "      <td>Puma</td>\n",
       "      <td>Men Jamming 2.0 Running Shoes</td>\n",
       "      <td>11049</td>\n",
       "    </tr>\n",
       "    <tr>\n",
       "      <th>3</th>\n",
       "      <td>PUMA Motorsport</td>\n",
       "      <td>Unisex Scuderia Ferrari Shoes</td>\n",
       "      <td>8499</td>\n",
       "    </tr>\n",
       "    <tr>\n",
       "      <th>4</th>\n",
       "      <td>PUMA Motorsport</td>\n",
       "      <td>Unisex Mercedes F1 Sneakers</td>\n",
       "      <td>8499</td>\n",
       "    </tr>\n",
       "    <tr>\n",
       "      <th>...</th>\n",
       "      <td>...</td>\n",
       "      <td>...</td>\n",
       "      <td>...</td>\n",
       "    </tr>\n",
       "    <tr>\n",
       "      <th>95</th>\n",
       "      <td>Geox</td>\n",
       "      <td>Women Leather Pumps</td>\n",
       "      <td>9999</td>\n",
       "    </tr>\n",
       "    <tr>\n",
       "      <th>96</th>\n",
       "      <td>Puma</td>\n",
       "      <td>Unisex Textured Sneakers</td>\n",
       "      <td>9999</td>\n",
       "    </tr>\n",
       "    <tr>\n",
       "      <th>97</th>\n",
       "      <td>Saint G</td>\n",
       "      <td>Women Heeled Boots</td>\n",
       "      <td>10500</td>\n",
       "    </tr>\n",
       "    <tr>\n",
       "      <th>98</th>\n",
       "      <td>Saint G</td>\n",
       "      <td>Women Leather Heeled Boots</td>\n",
       "      <td>9500</td>\n",
       "    </tr>\n",
       "    <tr>\n",
       "      <th>99</th>\n",
       "      <td>Saint G</td>\n",
       "      <td>Women Leather Heeled Boots</td>\n",
       "      <td>9500</td>\n",
       "    </tr>\n",
       "  </tbody>\n",
       "</table>\n",
       "<p>100 rows × 3 columns</p>\n",
       "</div>"
      ],
      "text/plain": [
       "              Brand                    Description   Price\n",
       "0              ALDO          Leather Solid Loafers   10499\n",
       "1              ALDO              Men Driving Shoes   11199\n",
       "2              Puma  Men Jamming 2.0 Running Shoes   11049\n",
       "3   PUMA Motorsport  Unisex Scuderia Ferrari Shoes    8499\n",
       "4   PUMA Motorsport    Unisex Mercedes F1 Sneakers    8499\n",
       "..              ...                            ...     ...\n",
       "95             Geox            Women Leather Pumps    9999\n",
       "96             Puma       Unisex Textured Sneakers    9999\n",
       "97          Saint G             Women Heeled Boots   10500\n",
       "98          Saint G     Women Leather Heeled Boots    9500\n",
       "99          Saint G     Women Leather Heeled Boots    9500\n",
       "\n",
       "[100 rows x 3 columns]"
      ]
     },
     "execution_count": 658,
     "metadata": {},
     "output_type": "execute_result"
    }
   ],
   "source": [
    "# Creating Data Frame\n",
    "\n",
    "Myntra_shoes = pd.DataFrame()\n",
    "Myntra_shoes ['Brand'] = shoeBrandName\n",
    "Myntra_shoes ['Description'] = shoeDescriptions\n",
    "Myntra_shoes ['Price'] = shoePrices\n",
    "Myntra_shoes"
   ]
  },
  {
   "cell_type": "code",
   "execution_count": null,
   "metadata": {},
   "outputs": [],
   "source": []
  },
  {
   "cell_type": "code",
   "execution_count": null,
   "metadata": {},
   "outputs": [],
   "source": []
  },
  {
   "cell_type": "markdown",
   "metadata": {},
   "source": [
    "### Q10: Go to webpage https://www.amazon.in/\n",
    "\n",
    "Enter “Laptop” in the search field and then click the search icon.\n",
    "\n",
    "Then set CPU Type filter to “Intel Core i7” and “Intel Core i9” as shown in the below image:\n",
    "\n",
    "After setting the filters scrape first 10 laptops data. You have to scrape 3 attributes for each laptop:\n",
    "1. title\n",
    "2. Ratings\n",
    "3. Price\n",
    "\n",
    "As shown in the below image as the tick marked attributes."
   ]
  },
  {
   "cell_type": "code",
   "execution_count": 671,
   "metadata": {},
   "outputs": [],
   "source": [
    "#url amazon\n",
    "driver.get('https://www.amazon.in/')"
   ]
  },
  {
   "cell_type": "code",
   "execution_count": 672,
   "metadata": {},
   "outputs": [],
   "source": [
    "#input syntax into search field\n",
    "search_Laptop = driver.find_element_by_id('twotabsearchtextbox')"
   ]
  },
  {
   "cell_type": "code",
   "execution_count": 673,
   "metadata": {},
   "outputs": [],
   "source": [
    "#search keyword input\n",
    "search_Laptop.send_keys('Laptop')"
   ]
  },
  {
   "cell_type": "code",
   "execution_count": 674,
   "metadata": {},
   "outputs": [],
   "source": [
    "#search button icon submit\n",
    "search_Laptop.submit()"
   ]
  },
  {
   "cell_type": "code",
   "execution_count": 675,
   "metadata": {},
   "outputs": [],
   "source": [
    "#selecting cpu type to \"Intel Core i7” and “Intel Core i9\""
   ]
  },
  {
   "cell_type": "code",
   "execution_count": 676,
   "metadata": {},
   "outputs": [],
   "source": [
    "# intel7\n",
    "select_Cpu_intel7 = driver.find_element_by_xpath(\"//span[text()='Intel Core i7']\")"
   ]
  },
  {
   "cell_type": "code",
   "execution_count": 677,
   "metadata": {},
   "outputs": [],
   "source": [
    "select_Cpu_intel7.click()"
   ]
  },
  {
   "cell_type": "code",
   "execution_count": 678,
   "metadata": {},
   "outputs": [],
   "source": [
    "#intel9\n",
    "select_Cpu_intel9 = driver.find_element_by_xpath(\"//span[text()='Intel Core i9']\")"
   ]
  },
  {
   "cell_type": "code",
   "execution_count": 679,
   "metadata": {},
   "outputs": [],
   "source": [
    "select_Cpu_intel9.click()"
   ]
  },
  {
   "cell_type": "code",
   "execution_count": null,
   "metadata": {},
   "outputs": [],
   "source": []
  },
  {
   "cell_type": "code",
   "execution_count": 680,
   "metadata": {},
   "outputs": [],
   "source": [
    "# Scrap data for laptops Title.\n",
    "Title_laptop = driver.find_elements_by_xpath('//span[@class=\"a-size-medium a-color-base a-text-normal\"]')"
   ]
  },
  {
   "cell_type": "code",
   "execution_count": 681,
   "metadata": {},
   "outputs": [],
   "source": [
    "#Creating empty list\n",
    "Laptop_titles = []"
   ]
  },
  {
   "cell_type": "code",
   "execution_count": 682,
   "metadata": {},
   "outputs": [
    {
     "data": {
      "text/plain": [
       "['Lenovo ThinkBook 15 Intel 11th Gen Core i7 15.6\" (39.62 cm) FHD IPS 300 nits Antiglare 100% sRGB Thin and Light Laptop (16GB/512GB SSD/Windows 10/MS Office/3 Yr Onsite Warranty/1.7 Kg), 20VEA0HHIH',\n",
       " 'Acer Nitro 5 11th Gen Intel Core i7-11800H 15.6\" (39.62cms) Full HD Gaming Laptop (16 GB/256GB SSD/1 TB HDD/Win 10/RTX 3050 Ti 4GB Graphics/144 Hz, Black, 2.4 kg/RGB Backlit Keyboard) AN515-57',\n",
       " 'Life Digital Laptop 15.6-inch (39.62 cms) (Intel Core i7, 4GB RAM, 256GB SSD, Windows 10), ZED AIR CX7',\n",
       " 'Mi Notebook Horizon Edition 14 Intel Core i7-10510U 10th Gen Thin and Light Laptop(8GB/512GB SSD/Windows 10/Nvidia MX350 2GB Graphics/Grey/1.35Kg)(Without Webcam) XMA1904-AF',\n",
       " 'HP Pavilion (2021) Intel 11th Gen Core i7 14 inches FHD Screen Thin & Light Laptop, 16 GB RAM, 1TB SSD, Iris Xe Graphics, Windows 10, MS Office, Backlit Keyboard, 1.41kg (14-dv0058TU), Silver',\n",
       " 'Acer Nitro 5 11th Gen Intel Core i7-11800H 15.6\" (39.62cms) Full HD Gaming Laptop (16 GB/256GB SSD/1 TB HDD/Win 10/RTX 3050 Ti 4GB Graphics/144 Hz, Black, 2.4 kg/RGB Backlit Keyboard) AN515-57',\n",
       " 'Lenovo ThinkBook 15 Intel 11th Gen Core i7 15.6\" (39.62 cm) FHD IPS 300 nits Antiglare 100% sRGB Thin and Light Laptop (16GB/512GB SSD/Windows 10/MS Office/3 Yr Onsite Warranty/1.7 Kg), 20VEA0HHIH',\n",
       " 'ASUS TUF Dash F15 (2021), 15.6-inch (39.62 cms) FHD 144Hz, Intel Core i7-11370H 11th Gen, RTX 3050 4GB Graphics Gaming Laptop (16GB RAM/512GB SSD/Windows 10/White/2 kg), FX516PC-HN062T',\n",
       " '(Renewed) Lenovo Thinkpad Hybrid Laptop T450s (Slim) Intel Core i7 - 5600u Processor, 12 GB Ram, 1TB Harddisk & 256 GB ssd, Windows 10 Pro, 14.1 Inches Notebook Computer',\n",
       " 'Dell 15 (2021) i7-10870H Gaming Laptop, 16GB DDR4, 512GB SSD, Win 10 + MS Office, NVIDIA RTX 3050 Ti 4GB, 15.6\" (39.61 cms) FHD AG 250 nits 120Hz, Backlit KB Orange (G15 5510, D560534WIN9B)',\n",
       " 'HP Pavilion Gaming 11th Gen Intel Core i7 15.6-inch(39.6 cm) FHD Gaming Laptop (16GB RAM/512GB SSD/144Hz/GTX 1650 4GB Graphics/Win 10/MS Office/Shadow Black/2.28 Kg), 15-dk2075tx',\n",
       " 'HP Pavilion 13(2021) 11th Gen Intel Core i7 Laptop, 16GB RAM, 1TB SSD, 13.3-inch(33.8 cm) FHD Screen, Win 10, MS Office, Ceramic White, 1.24 Kg (13-bb0078TU)',\n",
       " 'Fujitsu UH-X 11th Gen Intel i7 Core 13.3” (33.78cm) FHD IPS 400Nits Thin and Light Laptop (16GB/512GB SSD/Win10/Office/Iris Xe Graphics/Backlit Kb/ Fingerprint Reader/Black/878gms), 4ZR1D67596',\n",
       " 'ASUS TUF Gaming F15 (2021) 15.6-inch (39.62 cms) FHD 144Hz, Intel Core i7-11800H 11th Gen, RTX 3050 4GB Graphics, Gaming Laptop (8GB/1TB SSD/Windows 10/Gray/2.3 Kg), FX566HC-HN050T',\n",
       " 'Mi Notebook Horizon Edition 14 Intel Core i7-10510U 10th Gen Thin and Light Laptop(8GB/512GB SSD/Windows 10/Nvidia MX350 2GB Graphics/Grey/1.35Kg)(Without Webcam) XMA1904-AF',\n",
       " 'LG Gram Ultra-Light 11th Gen Core i7,16 GB RAM, 512 GB SSD, Win-10, Iris Xe Graphics, 16-inches (40.64 cms), Thunderbolt 4, USC -C x 2 (with Power), 1.19 kg, 3 Yr Warranty (16Z90P-G.AH75A2, Black)',\n",
       " 'Lenovo Legion 5 10th Gen Intel Core i7-10750H 15.6\" (39.63cm) FHD IPS Gaming Laptop (16GB/512GB SSD/Windows 10/NVIDIA GTX 1650 4GB/120Hz Refresh Display/Phantom Black/2.3Kg), 82AU00PNIN',\n",
       " 'ASUS TUF Dash F15 (2021) 15.6\" (39.62 cm) FHD 240Hz/3ms, Intel Core i7-11370H, GeForce RTX 3060 6GB Graphics, Gaming Laptop (16GB RAM/1TB SSD/Office 2019/Windows 10 Home/Gray/2 Kg) FX516PM-AZ153TS',\n",
       " 'Lenovo Yoga 7 11th Gen Intel Core i7-1165G7 14 inches FHD IPS 2-in-1 Touchscreen Business Laptop (16GB/512GB SSD/Windows 10/MS Office/Digital Pen/Fingerprint Reader/Slate Grey/1.43Kg)',\n",
       " 'Fujitsu UH-X 11th Gen Intel Core i7 13.3 inches Full HD IPS 400Nits 2-in1 Touch Convertible Business Laptop (16GB/1TB SSD/Windows 10/Office/Iris Xe Graphics/Backlit Kb/Black/0.997 kg, 4ZR1D71993)',\n",
       " 'ASUS TUF Dash F15 (2021) 15.6-inch (39.62 cms) FHD 144Hz, Intel Core i7-11370H 11th Gen, RTX 3060 6GB Graphics, Gaming Laptop (16GB/512GB SSD/Office 2019/Windows 10/Gray/2 Kg), FX516PM-HN175TS',\n",
       " 'ASUS TUF Dash F15 (2021), 15.6-inch (39.62 cms) FHD 144Hz, Intel Core i7-11370H 11th Gen, RTX 3050 4GB Graphics Gaming Laptop (16GB RAM/512GB SSD/Windows 10/Gray/2 kg), FX516PC-HN063T',\n",
       " 'Lenovo IdeaPad Gaming 3 11th Gen Intel Core i7-11370H 15.6\" (39.63cm) FHD IPS Gaming Laptop (8GB/512GB SSD/Windows 10/NVIDIA RTX 3050 4GB/120Hz Refresh Display/Shadow Black/2.25Kg), 82K1004EIN',\n",
       " 'Acer Nitro 5 11th Gen Intel Core i5-11400H 15.6\" (39.62cms) FHD 144Hz Gaming Laptop (8 GB/512GB SSD/Win 10/4 GB Graphics/NVIDIA GeForce GTX 1650/Shale Black, 2.2 kg/RGB Backlit Keyboard) AN515-57',\n",
       " 'MSI GF75 Thin, Intel i7-10750H, 17.3\" (43.9 cm) FHD IPS-Level 144Hz Panel Laptop (8GB/512GB NVMe SSD/Windows 10 Home/Nvidia GTX1650 4GB GDDR6/Black/2.2Kg), 10SCXR-654IN',\n",
       " 'Lenovo Yoga Slim 7 11th gen Intel Core i7 14\" FHD IPS Touchscreen Fabric Surface Thin & Light Laptop (16GB/1TB SSD/Win10/Office/Intel Iris Graphics/Fingerprint Reader/Slate Grey/1.33Kg), 82A300BEIN',\n",
       " 'Lenovo IdeaPad Gaming 3 Intel Core i7 10th Gen 15.6\" FHD IPS 250Nits Gaming Laptop (8GB/512GB SSD/Win10/NVIDIA GTX 1650 4GB GDDR6 Graphics/120Hz/Onyx Black/2.2Kg), 81Y4019EIN',\n",
       " 'Dell 14 (2021) i7-1195G7 2in1 Touch Screen Laptop, 16GB, 512GB SSD, Win 10 + MS Office, 14.0\" (35.56 cms) FHD Display, Backlit KB, FPR + Active Pen, Platinum Silver (Inspiron 5410, D560596WIN9S)',\n",
       " 'LG Gram Ultra-Light 11th Gen Core i7,16 GB RAM, 512 GB SSD, Win-10, Iris Xe Graphics, 17-inches (43.18 cms), Thunderbolt 4, USC -C x 2 (with Power), 1.35 kg, 3 Yr Warranty (17Z90P-G.AH75A2, Black)',\n",
       " 'Fujitsu UH-X 11th Gen Intel i7 Core 13.3” (33.78cm) FHD IPS 400Nits Thin and Light Laptop (16GB/512GB SSD/Win10/Office/Iris Xe Graphics/Backlit Kb/ Fingerprint Reader/Black/878gms), 4ZR1D67596']"
      ]
     },
     "execution_count": 682,
     "metadata": {},
     "output_type": "execute_result"
    }
   ],
   "source": [
    "#loop\n",
    "\n",
    "for i in Title_laptop:\n",
    "    text =  i.text\n",
    "    Laptop_titles.append(text)\n",
    "Laptop_titles"
   ]
  },
  {
   "cell_type": "code",
   "execution_count": 683,
   "metadata": {},
   "outputs": [],
   "source": [
    "# scrap data for laptop rating.\n",
    "Rating_laptop = driver.find_elements_by_xpath('//div[@class=\"a-row a-size-small\"]')"
   ]
  },
  {
   "cell_type": "code",
   "execution_count": 684,
   "metadata": {},
   "outputs": [],
   "source": [
    "#creating empty list\n",
    "Laptop_Ratings = []"
   ]
  },
  {
   "cell_type": "code",
   "execution_count": 685,
   "metadata": {},
   "outputs": [
    {
     "data": {
      "text/plain": [
       "['5',\n",
       " '10',\n",
       " '40',\n",
       " '855',\n",
       " '496',\n",
       " '10',\n",
       " '5',\n",
       " '4',\n",
       " '2',\n",
       " '37',\n",
       " '8',\n",
       " '20',\n",
       " '1',\n",
       " '855',\n",
       " '30',\n",
       " '23',\n",
       " '24',\n",
       " '53',\n",
       " '22',\n",
       " '4',\n",
       " '48',\n",
       " '4',\n",
       " '117',\n",
       " '31',\n",
       " '9',\n",
       " '69',\n",
       " '56',\n",
       " '20']"
      ]
     },
     "execution_count": 685,
     "metadata": {},
     "output_type": "execute_result"
    }
   ],
   "source": [
    "# loop\n",
    "for i in Rating_laptop:\n",
    "    text = i.text\n",
    "    Laptop_Ratings.append(text)\n",
    "Laptop_Ratings"
   ]
  },
  {
   "cell_type": "code",
   "execution_count": null,
   "metadata": {},
   "outputs": [],
   "source": []
  },
  {
   "cell_type": "code",
   "execution_count": 686,
   "metadata": {},
   "outputs": [],
   "source": [
    "# scraping data for Laptop price\n",
    "Price_laptop = driver.find_elements_by_xpath('//*[@class=\"a-price-whole\"]')"
   ]
  },
  {
   "cell_type": "code",
   "execution_count": 687,
   "metadata": {},
   "outputs": [],
   "source": [
    "#creating empty list\n",
    "Laptop_prices = []"
   ]
  },
  {
   "cell_type": "code",
   "execution_count": 688,
   "metadata": {},
   "outputs": [
    {
     "data": {
      "text/plain": [
       "['84,990',\n",
       " '89,990',\n",
       " '24,990',\n",
       " '53,999',\n",
       " '84,990',\n",
       " '89,990',\n",
       " '84,990',\n",
       " '82,990',\n",
       " '37,990',\n",
       " '94,990',\n",
       " '89,990',\n",
       " '91,990',\n",
       " '89,990',\n",
       " '91,990',\n",
       " '53,999',\n",
       " '92,290',\n",
       " '81,990',\n",
       " '1,19,990',\n",
       " '99,990',\n",
       " '1,02,990',\n",
       " '99,990',\n",
       " '80,990',\n",
       " '86,990',\n",
       " '65,990',\n",
       " '74,990',\n",
       " '72,990',\n",
       " '94,993',\n",
       " '95,490',\n",
       " '89,990']"
      ]
     },
     "execution_count": 688,
     "metadata": {},
     "output_type": "execute_result"
    }
   ],
   "source": [
    "#loop\n",
    "for i in Price_laptop:\n",
    "    text = i.text\n",
    "    Laptop_prices.append(text)\n",
    "Laptop_prices"
   ]
  },
  {
   "cell_type": "code",
   "execution_count": 689,
   "metadata": {},
   "outputs": [
    {
     "data": {
      "text/plain": [
       "29"
      ]
     },
     "execution_count": 689,
     "metadata": {},
     "output_type": "execute_result"
    }
   ],
   "source": [
    "len(Laptop_prices)"
   ]
  },
  {
   "cell_type": "code",
   "execution_count": 690,
   "metadata": {},
   "outputs": [
    {
     "data": {
      "text/html": [
       "<div>\n",
       "<style scoped>\n",
       "    .dataframe tbody tr th:only-of-type {\n",
       "        vertical-align: middle;\n",
       "    }\n",
       "\n",
       "    .dataframe tbody tr th {\n",
       "        vertical-align: top;\n",
       "    }\n",
       "\n",
       "    .dataframe thead th {\n",
       "        text-align: right;\n",
       "    }\n",
       "</style>\n",
       "<table border=\"1\" class=\"dataframe\">\n",
       "  <thead>\n",
       "    <tr style=\"text-align: right;\">\n",
       "      <th></th>\n",
       "      <th>Title</th>\n",
       "      <th>Rating</th>\n",
       "      <th>Price</th>\n",
       "    </tr>\n",
       "  </thead>\n",
       "  <tbody>\n",
       "    <tr>\n",
       "      <th>0</th>\n",
       "      <td>Lenovo ThinkBook 15 Intel 11th Gen Core i7 15....</td>\n",
       "      <td>5</td>\n",
       "      <td>84,990</td>\n",
       "    </tr>\n",
       "    <tr>\n",
       "      <th>1</th>\n",
       "      <td>Acer Nitro 5 11th Gen Intel Core i7-11800H 15....</td>\n",
       "      <td>10</td>\n",
       "      <td>89,990</td>\n",
       "    </tr>\n",
       "    <tr>\n",
       "      <th>2</th>\n",
       "      <td>Life Digital Laptop 15.6-inch (39.62 cms) (Int...</td>\n",
       "      <td>40</td>\n",
       "      <td>24,990</td>\n",
       "    </tr>\n",
       "    <tr>\n",
       "      <th>3</th>\n",
       "      <td>Mi Notebook Horizon Edition 14 Intel Core i7-1...</td>\n",
       "      <td>855</td>\n",
       "      <td>53,999</td>\n",
       "    </tr>\n",
       "    <tr>\n",
       "      <th>4</th>\n",
       "      <td>HP Pavilion (2021) Intel 11th Gen Core i7 14 i...</td>\n",
       "      <td>496</td>\n",
       "      <td>84,990</td>\n",
       "    </tr>\n",
       "    <tr>\n",
       "      <th>5</th>\n",
       "      <td>Acer Nitro 5 11th Gen Intel Core i7-11800H 15....</td>\n",
       "      <td>10</td>\n",
       "      <td>89,990</td>\n",
       "    </tr>\n",
       "    <tr>\n",
       "      <th>6</th>\n",
       "      <td>Lenovo ThinkBook 15 Intel 11th Gen Core i7 15....</td>\n",
       "      <td>5</td>\n",
       "      <td>84,990</td>\n",
       "    </tr>\n",
       "    <tr>\n",
       "      <th>7</th>\n",
       "      <td>ASUS TUF Dash F15 (2021), 15.6-inch (39.62 cms...</td>\n",
       "      <td>4</td>\n",
       "      <td>82,990</td>\n",
       "    </tr>\n",
       "    <tr>\n",
       "      <th>8</th>\n",
       "      <td>(Renewed) Lenovo Thinkpad Hybrid Laptop T450s ...</td>\n",
       "      <td>2</td>\n",
       "      <td>37,990</td>\n",
       "    </tr>\n",
       "    <tr>\n",
       "      <th>9</th>\n",
       "      <td>Dell 15 (2021) i7-10870H Gaming Laptop, 16GB D...</td>\n",
       "      <td>37</td>\n",
       "      <td>94,990</td>\n",
       "    </tr>\n",
       "  </tbody>\n",
       "</table>\n",
       "</div>"
      ],
      "text/plain": [
       "                                               Title Rating   Price\n",
       "0  Lenovo ThinkBook 15 Intel 11th Gen Core i7 15....      5  84,990\n",
       "1  Acer Nitro 5 11th Gen Intel Core i7-11800H 15....     10  89,990\n",
       "2  Life Digital Laptop 15.6-inch (39.62 cms) (Int...     40  24,990\n",
       "3  Mi Notebook Horizon Edition 14 Intel Core i7-1...    855  53,999\n",
       "4  HP Pavilion (2021) Intel 11th Gen Core i7 14 i...    496  84,990\n",
       "5  Acer Nitro 5 11th Gen Intel Core i7-11800H 15....     10  89,990\n",
       "6  Lenovo ThinkBook 15 Intel 11th Gen Core i7 15....      5  84,990\n",
       "7  ASUS TUF Dash F15 (2021), 15.6-inch (39.62 cms...      4  82,990\n",
       "8  (Renewed) Lenovo Thinkpad Hybrid Laptop T450s ...      2  37,990\n",
       "9  Dell 15 (2021) i7-10870H Gaming Laptop, 16GB D...     37  94,990"
      ]
     },
     "execution_count": 690,
     "metadata": {},
     "output_type": "execute_result"
    }
   ],
   "source": [
    "# Creating data frame\n",
    "Amazon_laptop = pd.DataFrame()\n",
    "Amazon_laptop ['Title'] = Laptop_titles[:10]\n",
    "Amazon_laptop ['Rating'] = Laptop_Ratings[:10]\n",
    "Amazon_laptop ['Price'] = Laptop_prices[:10]\n",
    "Amazon_laptop"
   ]
  },
  {
   "cell_type": "code",
   "execution_count": null,
   "metadata": {},
   "outputs": [],
   "source": []
  },
  {
   "cell_type": "code",
   "execution_count": 691,
   "metadata": {},
   "outputs": [],
   "source": [
    "#close driver\n",
    "driver.close()"
   ]
  },
  {
   "cell_type": "code",
   "execution_count": null,
   "metadata": {},
   "outputs": [],
   "source": []
  }
 ],
 "metadata": {
  "kernelspec": {
   "display_name": "Python 3",
   "language": "python",
   "name": "python3"
  },
  "language_info": {
   "codemirror_mode": {
    "name": "ipython",
    "version": 3
   },
   "file_extension": ".py",
   "mimetype": "text/x-python",
   "name": "python",
   "nbconvert_exporter": "python",
   "pygments_lexer": "ipython3",
   "version": "3.8.5"
  }
 },
 "nbformat": 4,
 "nbformat_minor": 4
}
